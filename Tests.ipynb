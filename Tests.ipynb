{
 "cells": [
  {
   "cell_type": "code",
   "execution_count": 2,
   "metadata": {},
   "outputs": [],
   "source": [
    "%load_ext autoreload\n",
    "%autoreload 2\n",
    "%matplotlib notebook"
   ]
  },
  {
   "cell_type": "code",
   "execution_count": 3,
   "metadata": {},
   "outputs": [],
   "source": [
    "import numpy as np\n",
    "import pandas as pd\n",
    "import matplotlib.pyplot as plt\n",
    "import torch"
   ]
  },
  {
   "cell_type": "code",
   "execution_count": 4,
   "metadata": {},
   "outputs": [],
   "source": [
    "seed = 42\n",
    "torch.manual_seed(seed)\n",
    "torch.backends.cudnn.deterministic = True\n",
    "torch.backends.cudnn.benchmark = False\n",
    "np.random.seed(seed)"
   ]
  },
  {
   "cell_type": "code",
   "execution_count": 5,
   "metadata": {},
   "outputs": [],
   "source": [
    "from src.nettack.GCN import *\n",
    "from src.nettack.utils import *\n",
    "from src.nettack.nettack import *"
   ]
  },
  {
   "cell_type": "markdown",
   "metadata": {},
   "source": [
    "# Tests"
   ]
  },
  {
   "cell_type": "markdown",
   "metadata": {
    "heading_collapsed": true
   },
   "source": [
    "## Layers"
   ]
  },
  {
   "cell_type": "code",
   "execution_count": 26,
   "metadata": {
    "hidden": true
   },
   "outputs": [],
   "source": [
    "layer = GraphConvolution(in_features=8, out_features=5)"
   ]
  },
  {
   "cell_type": "code",
   "execution_count": 27,
   "metadata": {
    "hidden": true,
    "scrolled": true
   },
   "outputs": [],
   "source": [
    "N = 30\n",
    "Adjacency_matrix = torch.tensor((np.random.rand(N, N) > 0.7).astype(np.float32)).to_sparse()\n",
    "input = torch.rand(N, 8).to_sparse()"
   ]
  },
  {
   "cell_type": "code",
   "execution_count": 28,
   "metadata": {
    "hidden": true
   },
   "outputs": [
    {
     "data": {
      "text/plain": [
       "torch.Size([30, 5])"
      ]
     },
     "execution_count": 28,
     "metadata": {},
     "output_type": "execute_result"
    }
   ],
   "source": [
    "layer(input, Adjacency_matrix).shape"
   ]
  },
  {
   "cell_type": "markdown",
   "metadata": {
    "heading_collapsed": true
   },
   "source": [
    "## GCN"
   ]
  },
  {
   "cell_type": "code",
   "execution_count": 29,
   "metadata": {
    "hidden": true
   },
   "outputs": [],
   "source": [
    "N = 30\n",
    "C = 5\n",
    "D = 20\n",
    "Adjacency_matrix = torch.tensor((np.random.rand(N, N) > 0.7).astype(np.float32)).to_sparse()\n",
    "\n",
    "X_observed = torch.rand(N, D)\n",
    "Y_observed = torch.randint(low=0, high=C, size=(N,))\n",
    "\n",
    "H = 10"
   ]
  },
  {
   "cell_type": "code",
   "execution_count": 30,
   "metadata": {
    "hidden": true
   },
   "outputs": [],
   "source": [
    "gcn = GCN(sizes=[H, C],\n",
    "          An=Adjacency_matrix,\n",
    "          X_obs=X_observed,\n",
    "          name='test', with_relu=True, params_dict={})"
   ]
  },
  {
   "cell_type": "code",
   "execution_count": 31,
   "metadata": {
    "hidden": true
   },
   "outputs": [],
   "source": [
    "gcn_model = GCN_Model(gcn, lr=1e-3)"
   ]
  },
  {
   "cell_type": "code",
   "execution_count": 32,
   "metadata": {
    "hidden": true
   },
   "outputs": [],
   "source": [
    "node_ids = torch.tensor([1, 3, 7])\n",
    "node_labels = torch.tensor([2, 0, 3])"
   ]
  },
  {
   "cell_type": "code",
   "execution_count": 33,
   "metadata": {
    "hidden": true
   },
   "outputs": [],
   "source": [
    "train_nodes = [1, 2, 5, 6, 7, 9, 15]\n",
    "val_nodes = [17, 18, 19, 20, 22]"
   ]
  },
  {
   "cell_type": "code",
   "execution_count": 34,
   "metadata": {
    "hidden": true
   },
   "outputs": [
    {
     "data": {
      "application/vnd.jupyter.widget-view+json": {
       "model_id": "b416f9bdea604f1589b62fbf4092ad49",
       "version_major": 2,
       "version_minor": 0
      },
      "text/plain": [
       "HBox(children=(IntProgress(value=1, bar_style='info', max=1), HTML(value='')))"
      ]
     },
     "metadata": {},
     "output_type": "display_data"
    },
    {
     "name": "stdout",
     "output_type": "stream",
     "text": [
      "Iteration 0 : \n",
      "Training loss : 17.686004638671875\n",
      "Validation loss : 17.04974937438965\n",
      "Training metric : 0.43386243386243384\n",
      "Validation metric : 0.0\n",
      "Iteration 1 : \n",
      "Training loss : 16.561416625976562\n",
      "Validation loss : 15.877942085266113\n",
      "Training metric : 0.43386243386243384\n",
      "Validation metric : 0.0\n",
      "Iteration 2 : \n",
      "Training loss : 15.435795783996582\n",
      "Validation loss : 14.719581604003906\n",
      "Training metric : 0.43386243386243384\n",
      "Validation metric : 0.0\n",
      "Iteration 3 : \n",
      "Training loss : 14.317334175109863\n",
      "Validation loss : 13.57121467590332\n",
      "Training metric : 0.43386243386243384\n",
      "Validation metric : 0.0\n",
      "Iteration 4 : \n",
      "Training loss : 13.211156845092773\n",
      "Validation loss : 12.431061744689941\n",
      "Training metric : 0.43386243386243384\n",
      "Validation metric : 0.0\n",
      "Iteration 5 : \n",
      "Training loss : 12.116142272949219\n",
      "Validation loss : 11.31371021270752\n",
      "Training metric : 0.43386243386243384\n",
      "Validation metric : 0.0\n",
      "Iteration 6 : \n",
      "Training loss : 11.031316757202148\n",
      "Validation loss : 10.21229076385498\n",
      "Training metric : 0.43386243386243384\n",
      "Validation metric : 0.0\n",
      "Iteration 7 : \n",
      "Training loss : 9.966484069824219\n",
      "Validation loss : 9.135068893432617\n",
      "Training metric : 0.43386243386243384\n",
      "Validation metric : 0.0\n",
      "Iteration 8 : \n",
      "Training loss : 8.925085067749023\n",
      "Validation loss : 8.093438148498535\n",
      "Training metric : 0.43386243386243384\n",
      "Validation metric : 0.0\n",
      "Iteration 9 : \n",
      "Training loss : 7.911620140075684\n",
      "Validation loss : 7.07401180267334\n",
      "Training metric : 0.43386243386243384\n",
      "Validation metric : 0.0\n",
      "Iteration 10 : \n",
      "Training loss : 6.911800861358643\n",
      "Validation loss : 6.098413467407227\n",
      "Training metric : 0.43386243386243384\n",
      "Validation metric : 0.0\n",
      "Iteration 11 : \n",
      "Training loss : 5.9435601234436035\n",
      "Validation loss : 5.192446708679199\n",
      "Training metric : 0.43386243386243384\n",
      "Validation metric : 0.0\n",
      "Iteration 12 : \n",
      "Training loss : 5.0088629722595215\n",
      "Validation loss : 4.41172456741333\n",
      "Training metric : 0.43386243386243384\n",
      "Validation metric : 0.32500000000000007\n",
      "New best performance : 0.325\n",
      "Iteration 13 : \n",
      "Training loss : 4.164031505584717\n",
      "Validation loss : 3.798078775405884\n",
      "Training metric : 0.7523809523809524\n",
      "Validation metric : 0.6000000000000001\n",
      "New best performance : 0.600\n",
      "Iteration 14 : \n",
      "Training loss : 3.469937562942505\n",
      "Validation loss : 3.3770084381103516\n",
      "Training metric : 0.7523809523809524\n",
      "Validation metric : 0.5666666666666668\n",
      "Iteration 15 : \n",
      "Training loss : 2.9957313537597656\n",
      "Validation loss : 3.1413888931274414\n",
      "Training metric : 1.2976190476190477\n",
      "Validation metric : 0.8142857142857143\n",
      "New best performance : 0.814\n",
      "Iteration 16 : \n",
      "Training loss : 2.789658784866333\n",
      "Validation loss : 3.029423236846924\n",
      "Training metric : 0.6285714285714286\n",
      "Validation metric : 0.8142857142857143\n",
      "Iteration 17 : \n",
      "Training loss : 2.815887689590454\n",
      "Validation loss : 2.981050729751587\n",
      "Training metric : 0.6285714285714286\n",
      "Validation metric : 0.8142857142857143\n",
      "Iteration 18 : \n",
      "Training loss : 2.9464290142059326\n",
      "Validation loss : 2.950087070465088\n",
      "Training metric : 0.6285714285714286\n",
      "Validation metric : 0.85\n",
      "New best performance : 0.850\n",
      "Iteration 19 : \n",
      "Training loss : 3.0842409133911133\n",
      "Validation loss : 2.9220540523529053\n",
      "Training metric : 0.6285714285714286\n",
      "Validation metric : 0.85\n",
      "Iteration 20 : \n",
      "Training loss : 3.1919450759887695\n",
      "Validation loss : 2.886596441268921\n",
      "Training metric : 0.6285714285714286\n",
      "Validation metric : 0.85\n",
      "Iteration 21 : \n",
      "Training loss : 3.2590386867523193\n",
      "Validation loss : 2.841035842895508\n",
      "Training metric : 0.6285714285714286\n",
      "Validation metric : 0.85\n",
      "Iteration 22 : \n",
      "Training loss : 3.285048246383667\n",
      "Validation loss : 2.784950017929077\n",
      "Training metric : 0.6285714285714286\n",
      "Validation metric : 0.85\n",
      "Iteration 23 : \n",
      "Training loss : 3.271641731262207\n",
      "Validation loss : 2.7277352809906006\n",
      "Training metric : 0.6285714285714286\n",
      "Validation metric : 0.85\n",
      "Iteration 24 : \n",
      "Training loss : 3.2286629676818848\n",
      "Validation loss : 2.665618658065796\n",
      "Training metric : 0.6285714285714286\n",
      "Validation metric : 0.85\n",
      "Iteration 25 : \n",
      "Training loss : 3.155691146850586\n",
      "Validation loss : 2.597017526626587\n",
      "Training metric : 0.6285714285714286\n",
      "Validation metric : 0.85\n",
      "Iteration 26 : \n",
      "Training loss : 3.0553627014160156\n",
      "Validation loss : 2.524482488632202\n",
      "Training metric : 0.6285714285714286\n",
      "Validation metric : 0.85\n",
      "Iteration 27 : \n",
      "Training loss : 2.9319405555725098\n",
      "Validation loss : 2.4521474838256836\n",
      "Training metric : 0.6285714285714286\n",
      "Validation metric : 0.85\n",
      "Iteration 28 : \n",
      "Training loss : 2.790027379989624\n",
      "Validation loss : 2.3790838718414307\n",
      "Training metric : 0.6285714285714286\n",
      "Validation metric : 0.85\n",
      "Iteration 29 : \n",
      "Training loss : 2.6346004009246826\n",
      "Validation loss : 2.307863473892212\n",
      "Training metric : 0.6285714285714286\n",
      "Validation metric : 0.8142857142857143\n",
      "Iteration 30 : \n",
      "Training loss : 2.4711639881134033\n",
      "Validation loss : 2.2412643432617188\n",
      "Training metric : 0.6285714285714286\n",
      "Validation metric : 0.8142857142857143\n",
      "Iteration 31 : \n",
      "Training loss : 2.3069729804992676\n",
      "Validation loss : 2.1823885440826416\n",
      "Training metric : 0.6285714285714286\n",
      "Validation metric : 0.8142857142857143\n",
      "Iteration 32 : \n",
      "Training loss : 2.1520144939422607\n",
      "Validation loss : 2.134242534637451\n",
      "Training metric : 0.6285714285714286\n",
      "Validation metric : 0.8142857142857143\n",
      "Iteration 33 : \n",
      "Training loss : 2.015533685684204\n",
      "Validation loss : 2.099534273147583\n",
      "Training metric : 0.6285714285714286\n",
      "Validation metric : 0.8142857142857143\n",
      "Iteration 34 : \n",
      "Training loss : 1.9082039594650269\n",
      "Validation loss : 2.079904794692993\n",
      "Training metric : 1.0158730158730158\n",
      "Validation metric : 0.8142857142857143\n",
      "Iteration 35 : \n",
      "Training loss : 1.8371608257293701\n",
      "Validation loss : 2.0776941776275635\n",
      "Training metric : 1.0158730158730158\n",
      "Validation metric : 0.8142857142857143\n",
      "Iteration 36 : \n",
      "Training loss : 1.802155613899231\n",
      "Validation loss : 2.087266445159912\n",
      "Training metric : 1.0158730158730158\n",
      "Validation metric : 0.8142857142857143\n",
      "Iteration 37 : \n",
      "Training loss : 1.7955048084259033\n",
      "Validation loss : 2.10201358795166\n",
      "Training metric : 0.7523809523809524\n",
      "Validation metric : 0.8142857142857143\n",
      "Iteration 38 : \n",
      "Training loss : 1.8048635721206665\n",
      "Validation loss : 2.1157379150390625\n",
      "Training metric : 0.7523809523809524\n",
      "Validation metric : 0.6000000000000001\n",
      "Iteration 39 : \n",
      "Training loss : 1.8180410861968994\n",
      "Validation loss : 2.1227660179138184\n",
      "Training metric : 0.7523809523809524\n",
      "Validation metric : 0.6000000000000001\n",
      "Iteration 40 : \n",
      "Training loss : 1.8255066871643066\n",
      "Validation loss : 2.117950439453125\n",
      "Training metric : 0.7523809523809524\n",
      "Validation metric : 0.6000000000000001\n",
      "Iteration 41 : \n",
      "Training loss : 1.8205446004867554\n",
      "Validation loss : 2.099910020828247\n",
      "Training metric : 0.7523809523809524\n",
      "Validation metric : 0.6000000000000001\n",
      "Iteration 42 : \n",
      "Training loss : 1.8010646104812622\n",
      "Validation loss : 2.0683560371398926\n",
      "Training metric : 0.7523809523809524\n",
      "Validation metric : 0.6000000000000001\n",
      "Iteration 43 : \n",
      "Training loss : 1.766257405281067\n",
      "Validation loss : 2.025540590286255\n",
      "Training metric : 0.7523809523809524\n",
      "Validation metric : 0.6000000000000001\n",
      "Iteration 44 : \n",
      "Training loss : 1.719372272491455\n",
      "Validation loss : 1.9749764204025269\n",
      "Training metric : 0.7523809523809524\n",
      "Validation metric : 0.6000000000000001\n",
      "Iteration 45 : \n",
      "Training loss : 1.6650550365447998\n",
      "Validation loss : 1.9206299781799316\n",
      "Training metric : 0.7523809523809524\n",
      "Validation metric : 0.8142857142857143\n",
      "Iteration 46 : \n",
      "Training loss : 1.6079105138778687\n",
      "Validation loss : 1.8675081729888916\n",
      "Training metric : 1.0158730158730158\n",
      "Validation metric : 0.8142857142857143\n",
      "Iteration 47 : \n",
      "Training loss : 1.554542064666748\n",
      "Validation loss : 1.8214417695999146\n",
      "Training metric : 1.0158730158730158\n",
      "Validation metric : 0.8142857142857143\n",
      "Iteration 48 : \n",
      "Training loss : 1.50993812084198\n",
      "Validation loss : 1.781670331954956\n",
      "Training metric : 1.0158730158730158\n",
      "Validation metric : 0.8142857142857143\n",
      "\n",
      "converged after 18 iterations\n"
     ]
    }
   ],
   "source": [
    "gcn_model.train(split_train=train_nodes, split_val=val_nodes, Z_obs=Y_observed)"
   ]
  },
  {
   "cell_type": "markdown",
   "metadata": {
    "heading_collapsed": true
   },
   "source": [
    "## Random"
   ]
  },
  {
   "cell_type": "code",
   "execution_count": 36,
   "metadata": {
    "hidden": true
   },
   "outputs": [],
   "source": [
    "node_labels = pd.read_csv('datasets/citeseer/citeseer.node_labels', header=None, names=['id', 'label'])"
   ]
  },
  {
   "cell_type": "code",
   "execution_count": 37,
   "metadata": {
    "hidden": true
   },
   "outputs": [],
   "source": [
    "edges = pd.read_csv('datasets/citeseer/citeseer.edges', header=None, names=['e1', 'e2', 'weight'])"
   ]
  },
  {
   "cell_type": "code",
   "execution_count": 38,
   "metadata": {
    "hidden": true
   },
   "outputs": [],
   "source": [
    "G = nx.Graph()\n",
    "for _, row in node_labels.iterrows():\n",
    "    G.add_node(row.id, label=row.label)\n",
    "G.add_edges_from(edges.loc[:, ['e1', 'e2']])"
   ]
  },
  {
   "cell_type": "markdown",
   "metadata": {},
   "source": [
    "## Nettack"
   ]
  },
  {
   "cell_type": "markdown",
   "metadata": {},
   "source": [
    "### Data preprocessing"
   ]
  },
  {
   "cell_type": "code",
   "execution_count": 6,
   "metadata": {},
   "outputs": [],
   "source": [
    "_A_obs, _X_obs, _z_obs = load_npz('src/data/citeseer.npz')"
   ]
  },
  {
   "cell_type": "code",
   "execution_count": 7,
   "metadata": {},
   "outputs": [
    {
     "data": {
      "text/plain": [
       "<3312x3312 sparse matrix of type '<class 'numpy.float32'>'\n",
       "\twith 4715 stored elements in Compressed Sparse Row format>"
      ]
     },
     "execution_count": 7,
     "metadata": {},
     "output_type": "execute_result"
    }
   ],
   "source": [
    "# Adjacency matrix\n",
    "_A_obs"
   ]
  },
  {
   "cell_type": "code",
   "execution_count": 8,
   "metadata": {},
   "outputs": [
    {
     "data": {
      "text/plain": [
       "<3312x3703 sparse matrix of type '<class 'numpy.int64'>'\n",
       "\twith 105165 stored elements in Compressed Sparse Row format>"
      ]
     },
     "execution_count": 8,
     "metadata": {},
     "output_type": "execute_result"
    }
   ],
   "source": [
    "# Feature matrix\n",
    "_X_obs"
   ]
  },
  {
   "cell_type": "code",
   "execution_count": 21,
   "metadata": {},
   "outputs": [
    {
     "data": {
      "text/plain": [
       "(3703,)"
      ]
     },
     "execution_count": 21,
     "metadata": {},
     "output_type": "execute_result"
    }
   ],
   "source": [
    "np.array(_X_obs[0].todense())[0].shape"
   ]
  },
  {
   "cell_type": "code",
   "execution_count": 8,
   "metadata": {},
   "outputs": [
    {
     "data": {
      "text/plain": [
       "2    701\n",
       "4    668\n",
       "1    596\n",
       "5    590\n",
       "3    508\n",
       "0    249\n",
       "dtype: int64"
      ]
     },
     "execution_count": 8,
     "metadata": {},
     "output_type": "execute_result"
    }
   ],
   "source": [
    "# Labels\n",
    "_z_obs\n",
    "pd.value_counts(_z_obs)"
   ]
  },
  {
   "cell_type": "code",
   "execution_count": 9,
   "metadata": {},
   "outputs": [],
   "source": [
    "# Normalizing Adjacency matrix\n",
    "_A_obs = _A_obs + _A_obs.T\n",
    "_A_obs[_A_obs > 1] = 1"
   ]
  },
  {
   "cell_type": "code",
   "execution_count": 10,
   "metadata": {},
   "outputs": [
    {
     "name": "stdout",
     "output_type": "stream",
     "text": [
      "Selecting 1 largest connected components\n"
     ]
    }
   ],
   "source": [
    "# For the algorithm to work, we have to consider a connected graph.\n",
    "lcc = largest_connected_components(_A_obs)"
   ]
  },
  {
   "cell_type": "code",
   "execution_count": 11,
   "metadata": {},
   "outputs": [
    {
     "name": "stdout",
     "output_type": "stream",
     "text": [
      "Largest connected component has 2110 nodes\n"
     ]
    }
   ],
   "source": [
    "print(f'Largest connected component has {len(lcc)} nodes')\n",
    "# keeping the largest connected component of the graph\n",
    "_A_obs = _A_obs[lcc][:,lcc]\n",
    "_X_obs = _X_obs[lcc].astype('float32')\n",
    "_z_obs = _z_obs[lcc]"
   ]
  },
  {
   "cell_type": "code",
   "execution_count": 12,
   "metadata": {},
   "outputs": [],
   "source": [
    "assert np.abs(_A_obs - _A_obs.T).sum() == 0, \"Input graph is not symmetric\"\n",
    "assert _A_obs.max() == 1 and len(np.unique(_A_obs[_A_obs.nonzero()].A1)) == 1, \"Graph must be unweighted\"\n",
    "assert _A_obs.sum(0).A1.min() > 0, \"Graph contains singleton nodes\""
   ]
  },
  {
   "cell_type": "code",
   "execution_count": 13,
   "metadata": {},
   "outputs": [],
   "source": [
    "_N = _A_obs.shape[0]\n",
    "_K = _z_obs.max()+1\n",
    "\n",
    "# In our pytorch implementation, labels are not one hot encoded\n",
    "# _Z_obs = np.eye(_K)[_z_obs]\n",
    "_Z_obs = _z_obs\n",
    "# Normalizing adjacency matrix\n",
    "_An = preprocess_graph(_A_obs)\n",
    "sizes = [16, _K]\n",
    "degrees = _A_obs.sum(0).A1\n",
    "\n",
    "\n",
    "np.random.seed(seed)"
   ]
  },
  {
   "cell_type": "code",
   "execution_count": 14,
   "metadata": {},
   "outputs": [],
   "source": [
    "unlabeled_share = 0.8\n",
    "val_share = 0.1\n",
    "train_share = 1 - unlabeled_share - val_share\n",
    "splits = train_val_test_split_tabular(np.arange(_N), train_size=train_share,\n",
    "                                      val_size=val_share, test_size=unlabeled_share,\n",
    "                                      stratify=_z_obs)\n",
    "split_train, split_val, split_unlabeled = splits"
   ]
  },
  {
   "cell_type": "code",
   "execution_count": 15,
   "metadata": {},
   "outputs": [
    {
     "name": "stdout",
     "output_type": "stream",
     "text": [
      "Number of training node : 210\n",
      "Number of validation nodes : 211\n",
      "Number of unlabeled (unknown) nodes : 1688\n"
     ]
    }
   ],
   "source": [
    "print(f'Number of training node : {len(split_train)}')\n",
    "print(f'Number of validation nodes : {len(split_val)}')\n",
    "print(f'Number of unlabeled (unknown) nodes : {len(split_unlabeled)}')"
   ]
  },
  {
   "cell_type": "markdown",
   "metadata": {},
   "source": [
    "### Choosing the node to attack"
   ]
  },
  {
   "cell_type": "code",
   "execution_count": 16,
   "metadata": {},
   "outputs": [],
   "source": [
    "u = 0 # node to attack\n",
    "assert u in split_unlabeled"
   ]
  },
  {
   "cell_type": "markdown",
   "metadata": {},
   "source": [
    "### Train surrogate model"
   ]
  },
  {
   "cell_type": "markdown",
   "metadata": {},
   "source": [
    "Initialization of Nettack : train on a simple model (with no ReLU) the weights of the GCN."
   ]
  },
  {
   "cell_type": "code",
   "execution_count": 17,
   "metadata": {},
   "outputs": [],
   "source": [
    "def sparse_numpy2sparse_torch(x):\n",
    "    x = x.tocoo()\n",
    "    values = x.data\n",
    "    indices = np.vstack((x.row, x.col)).astype(float)\n",
    "    i = torch.LongTensor(indices)\n",
    "    v = torch.FloatTensor(values)\n",
    "    shape = x.shape\n",
    "    return torch.sparse.FloatTensor(i, v, torch.Size(shape))"
   ]
  },
  {
   "cell_type": "code",
   "execution_count": 18,
   "metadata": {},
   "outputs": [],
   "source": [
    "An = sparse_numpy2sparse_torch(_An)\n",
    "X_obs = sparse_numpy2sparse_torch(_X_obs)"
   ]
  },
  {
   "cell_type": "code",
   "execution_count": 19,
   "metadata": {},
   "outputs": [],
   "source": [
    "surrogate_nn = GCN(sizes, An, X_obs, with_relu=False, name=\"surrogate\")"
   ]
  },
  {
   "cell_type": "code",
   "execution_count": 20,
   "metadata": {},
   "outputs": [],
   "source": [
    "surrogate_model = GCN_Model(surrogate_nn, lr=1e-2)"
   ]
  },
  {
   "cell_type": "code",
   "execution_count": 21,
   "metadata": {},
   "outputs": [],
   "source": [
    "split_train = np.array(split_train).astype(np.int64)\n",
    "split_val = np.array(split_val).astype(np.int64)"
   ]
  },
  {
   "cell_type": "code",
   "execution_count": 23,
   "metadata": {
    "scrolled": true
   },
   "outputs": [
    {
     "name": "stderr",
     "output_type": "stream",
     "text": [
      "c:\\python37\\lib\\site-packages\\sklearn\\metrics\\classification.py:1143: UndefinedMetricWarning: F-score is ill-defined and being set to 0.0 in labels with no predicted samples.\n",
      "  'precision', 'predicted', average, warn_for)\n"
     ]
    },
    {
     "name": "stdout",
     "output_type": "stream",
     "text": [
      "converged after 11 iterations\n"
     ]
    }
   ],
   "source": [
    "surrogate_model.train(split_train, split_val, torch.tensor(_Z_obs.astype(np.int64)), print_info=False)"
   ]
  },
  {
   "cell_type": "code",
   "execution_count": 24,
   "metadata": {},
   "outputs": [
    {
     "data": {
      "text/plain": [
       "0.6208530805687204"
      ]
     },
     "execution_count": 24,
     "metadata": {},
     "output_type": "execute_result"
    }
   ],
   "source": [
    "preds = surrogate_model.predictions.detach().cpu().numpy().argmax(axis=1)\n",
    "truth = _Z_obs[split_val]\n",
    "(truth == preds).mean()"
   ]
  },
  {
   "cell_type": "code",
   "execution_count": 25,
   "metadata": {},
   "outputs": [],
   "source": [
    "W1 = surrogate_model.gcn.gc1.weight\n",
    "W2 = surrogate_model.gcn.gc2.weight"
   ]
  },
  {
   "cell_type": "markdown",
   "metadata": {},
   "source": [
    "### Setup attack"
   ]
  },
  {
   "cell_type": "code",
   "execution_count": 26,
   "metadata": {
    "scrolled": true
   },
   "outputs": [],
   "source": [
    "nettack = Nettack(_A_obs, _X_obs, _z_obs, W1, W2, u, verbose=True)"
   ]
  },
  {
   "cell_type": "code",
   "execution_count": 28,
   "metadata": {},
   "outputs": [],
   "source": [
    "direct_attack = True\n",
    "n_influencers = 1 if direct_attack else 5\n",
    "n_perturbations = int(degrees[u]) # How many perturbations to perform. Default: Degree of the node\n",
    "perturb_features = True\n",
    "perturb_structure = True"
   ]
  },
  {
   "cell_type": "markdown",
   "metadata": {},
   "source": [
    "### Poison the data"
   ]
  },
  {
   "cell_type": "code",
   "execution_count": 29,
   "metadata": {},
   "outputs": [],
   "source": [
    "nettack.reset()"
   ]
  },
  {
   "cell_type": "code",
   "execution_count": 35,
   "metadata": {},
   "outputs": [],
   "source": [
    "direct_attack = True\n",
    "n_influencers = 1 if direct_attack else 5\n",
    "n_perturbations = int(degrees[u]) # How many perturbations to perform. Default: Degree of the node\n",
    "perturb_features = True\n",
    "perturb_structure = True"
   ]
  },
  {
   "cell_type": "markdown",
   "metadata": {},
   "source": [
    "### Poison the data"
   ]
  },
  {
   "cell_type": "code",
   "execution_count": 36,
   "metadata": {},
   "outputs": [],
   "source": [
    "nettack.reset()"
   ]
  },
  {
   "cell_type": "code",
   "execution_count": 37,
   "metadata": {},
   "outputs": [
    {
     "name": "stdout",
     "output_type": "stream",
     "text": [
      "##### Starting attack #####\n",
      "##### Attack node with ID 0 using structure and feature perturbations #####\n",
      "##### Attacking the node directly #####\n",
      "##### Performing 12 perturbations #####\n",
      "##### ...1/12 perturbations ... #####\n",
      "Edge perturbation: [  0 526]\n",
      "##### ...2/12 perturbations ... #####\n",
      "Edge perturbation: [  0 597]\n",
      "##### ...3/12 perturbations ... #####\n",
      "Edge perturbation: [  0 885]\n",
      "##### ...4/12 perturbations ... #####\n",
      "Edge perturbation: [ 0 55]\n",
      "##### ...5/12 perturbations ... #####\n",
      "Edge perturbation: [   0 2012]\n",
      "##### ...6/12 perturbations ... #####\n",
      "Edge perturbation: [  0 594]\n",
      "##### ...7/12 perturbations ... #####\n",
      "Edge perturbation: [  0 781]\n",
      "##### ...8/12 perturbations ... #####\n",
      "Edge perturbation: [   0 1051]\n",
      "##### ...9/12 perturbations ... #####\n",
      "Edge perturbation: [  0 260]\n",
      "##### ...10/12 perturbations ... #####\n",
      "Edge perturbation: [   0 1797]\n",
      "##### ...11/12 perturbations ... #####\n",
      "Edge perturbation: [  0 939]\n",
      "##### ...12/12 perturbations ... #####\n",
      "Edge perturbation: [ 0 76]\n"
     ]
    }
   ],
   "source": [
    "nettack.attack_surrogate(n_perturbations,\n",
    "                         perturb_structure=perturb_structure,\n",
    "                         perturb_features=perturb_features,\n",
    "                         direct=direct_attack,\n",
    "                         n_influencers=n_influencers)"
   ]
  },
  {
   "cell_type": "code",
   "execution_count": 38,
   "metadata": {},
   "outputs": [
    {
     "name": "stdout",
     "output_type": "stream",
     "text": [
      "[(0, 526), (0, 597), (0, 885), (0, 55), (0, 2012), (0, 594), (0, 781), (0, 1051), (0, 260), (0, 1797), (0, 939), (0, 76)]\n"
     ]
    }
   ],
   "source": [
    "print(nettack.structure_perturbations)"
   ]
  },
  {
   "cell_type": "code",
   "execution_count": 39,
   "metadata": {},
   "outputs": [
    {
     "name": "stdout",
     "output_type": "stream",
     "text": [
      "[(), (), (), (), (), (), (), (), (), (), (), ()]\n"
     ]
    }
   ],
   "source": [
    "print(nettack.feature_perturbations)"
   ]
  },
  {
   "cell_type": "markdown",
   "metadata": {},
   "source": [
    "### Train GCN without perturbations"
   ]
  },
  {
   "cell_type": "code",
   "execution_count": 40,
   "metadata": {},
   "outputs": [],
   "source": [
    "retrain_iters=5"
   ]
  },
  {
   "cell_type": "code",
   "execution_count": 42,
   "metadata": {},
   "outputs": [
    {
     "name": "stdout",
     "output_type": "stream",
     "text": [
      "... 1/5 \n"
     ]
    },
    {
     "name": "stderr",
     "output_type": "stream",
     "text": [
      "c:\\python37\\lib\\site-packages\\sklearn\\metrics\\classification.py:1143: UndefinedMetricWarning: F-score is ill-defined and being set to 0.0 in labels with no predicted samples.\n",
      "  'precision', 'predicted', average, warn_for)\n"
     ]
    },
    {
     "name": "stdout",
     "output_type": "stream",
     "text": [
      "converged after 50 iterations\n",
      "Validation accuracy : 0.678\n",
      "... 2/5 \n",
      "converged after 19 iterations\n",
      "Validation accuracy : 0.668\n",
      "... 3/5 \n",
      "converged after 58 iterations\n",
      "Validation accuracy : 0.673\n",
      "... 4/5 \n",
      "converged after 24 iterations\n",
      "Validation accuracy : 0.664\n",
      "... 5/5 \n",
      "converged after 11 iterations\n",
      "Validation accuracy : 0.673\n"
     ]
    }
   ],
   "source": [
    "classification_margins_clean = []\n",
    "class_distrs_clean = []\n",
    "\n",
    "u_nodes = torch.tensor([nettack.u])\n",
    "u_labels = torch.tensor(_Z_obs.astype(np.int64))[u_nodes]\n",
    "one_hot_encod_u = np.zeros(np.max(_Z_obs)+1)\n",
    "one_hot_encod_u[_Z_obs[nettack.u]] = 1\n",
    "\n",
    "\n",
    "for _ in range(retrain_iters):\n",
    "    print(\"... {}/{} \".format(_+1, retrain_iters))\n",
    "    gcn_before_nn = GCN(sizes, An, X_obs, with_relu=True,\n",
    "                   name=\"gcn_orig\")\n",
    "    gcn_before = GCN_Model(gcn_before_nn, lr=1e-2)\n",
    "    gcn_before.train(split_train, split_val, torch.tensor(_Z_obs.astype(np.int64)), print_info=False)\n",
    "    preds = gcn_before.predictions.detach().cpu().numpy().argmax(axis=1)\n",
    "    truth = _Z_obs[split_val]\n",
    "    print(f'Validation accuracy : {(truth == preds).mean():.3f}')\n",
    "    gcn_before._compute_loss_and_backprop(u_nodes, u_labels, False)\n",
    "    probs_before_attack = gcn_before.predictions.detach().cpu().numpy()[0]\n",
    "\n",
    "    class_distrs_clean.append(probs_before_attack)\n",
    "    best_second_class_before = (probs_before_attack - 1000*one_hot_encod_u).argmax()\n",
    "    margin_before = probs_before_attack[_z_obs[nettack.u]] - probs_before_attack[best_second_class_before]\n",
    "    classification_margins_clean.append(margin_before)\n",
    "class_distrs_clean = np.array(class_distrs_clean)"
   ]
  },
  {
   "cell_type": "markdown",
   "metadata": {},
   "source": [
    "### Train GCN with perturbations"
   ]
  },
  {
   "cell_type": "code",
   "execution_count": 44,
   "metadata": {},
   "outputs": [
    {
     "name": "stdout",
     "output_type": "stream",
     "text": [
      "... 1/5 \n",
      "converged after 10 iterations\n",
      "... 2/5 \n",
      "converged after 24 iterations\n",
      "... 3/5 \n",
      "converged after 19 iterations\n",
      "... 4/5 \n",
      "converged after 14 iterations\n",
      "... 5/5 \n",
      "converged after 92 iterations\n"
     ]
    }
   ],
   "source": [
    "classification_margins_corrupted = []\n",
    "class_distrs_retrain = []\n",
    "\n",
    "nettack_adj_torch = sparse_numpy2sparse_torch(nettack.adj_preprocessed)\n",
    "nettack_X_torch = sparse_numpy2sparse_torch(nettack.X_obs.tocsr())\n",
    "\n",
    "for _ in range(retrain_iters):\n",
    "    print(\"... {}/{} \".format(_+1, retrain_iters))\n",
    "    gcn_retrain_nn = GCN(sizes, nettack_adj_torch, nettack_X_torch, with_relu=True,\n",
    "                   name=\"gcn_retrain\")\n",
    "    gcn_retrain = GCN_Model(gcn_retrain_nn, lr=1e-2)\n",
    "\n",
    "    gcn_retrain.train(split_train, split_val, torch.tensor(_Z_obs.astype(np.int64)), print_info=False)\n",
    "    gcn_retrain._compute_loss_and_backprop(u_nodes, u_labels, False)\n",
    "    probs_after_attack = gcn_retrain.predictions.detach().cpu().numpy()[0]\n",
    "    class_distrs_retrain.append(probs_after_attack)\n",
    "    best_second_class_after = (probs_after_attack - 1000*one_hot_encod_u).argmax()\n",
    "    margin_after = probs_after_attack[_z_obs[nettack.u]] - probs_after_attack[best_second_class_after]\n",
    "    classification_margins_corrupted.append(margin_after)\n",
    "class_distrs_retrain = np.array(class_distrs_retrain)"
   ]
  },
  {
   "cell_type": "markdown",
   "metadata": {},
   "source": [
    "### Visualize results"
   ]
  },
  {
   "cell_type": "code",
   "execution_count": 45,
   "metadata": {},
   "outputs": [
    {
     "data": {
      "text/plain": [
       "([-0.99947315, -0.99796355, -0.99963593, -0.99908423, -0.9982646],\n",
       " [0.988104, 0.9429521, 0.98562205, 0.98493934, 0.93839175])"
      ]
     },
     "execution_count": 45,
     "metadata": {},
     "output_type": "execute_result"
    }
   ],
   "source": [
    "classification_margins_corrupted, classification_margins_clean"
   ]
  },
  {
   "cell_type": "code",
   "execution_count": 46,
   "metadata": {},
   "outputs": [
    {
     "data": {
      "application/javascript": [
       "/* Put everything inside the global mpl namespace */\n",
       "window.mpl = {};\n",
       "\n",
       "\n",
       "mpl.get_websocket_type = function() {\n",
       "    if (typeof(WebSocket) !== 'undefined') {\n",
       "        return WebSocket;\n",
       "    } else if (typeof(MozWebSocket) !== 'undefined') {\n",
       "        return MozWebSocket;\n",
       "    } else {\n",
       "        alert('Your browser does not have WebSocket support.' +\n",
       "              'Please try Chrome, Safari or Firefox ≥ 6. ' +\n",
       "              'Firefox 4 and 5 are also supported but you ' +\n",
       "              'have to enable WebSockets in about:config.');\n",
       "    };\n",
       "}\n",
       "\n",
       "mpl.figure = function(figure_id, websocket, ondownload, parent_element) {\n",
       "    this.id = figure_id;\n",
       "\n",
       "    this.ws = websocket;\n",
       "\n",
       "    this.supports_binary = (this.ws.binaryType != undefined);\n",
       "\n",
       "    if (!this.supports_binary) {\n",
       "        var warnings = document.getElementById(\"mpl-warnings\");\n",
       "        if (warnings) {\n",
       "            warnings.style.display = 'block';\n",
       "            warnings.textContent = (\n",
       "                \"This browser does not support binary websocket messages. \" +\n",
       "                    \"Performance may be slow.\");\n",
       "        }\n",
       "    }\n",
       "\n",
       "    this.imageObj = new Image();\n",
       "\n",
       "    this.context = undefined;\n",
       "    this.message = undefined;\n",
       "    this.canvas = undefined;\n",
       "    this.rubberband_canvas = undefined;\n",
       "    this.rubberband_context = undefined;\n",
       "    this.format_dropdown = undefined;\n",
       "\n",
       "    this.image_mode = 'full';\n",
       "\n",
       "    this.root = $('<div/>');\n",
       "    this._root_extra_style(this.root)\n",
       "    this.root.attr('style', 'display: inline-block');\n",
       "\n",
       "    $(parent_element).append(this.root);\n",
       "\n",
       "    this._init_header(this);\n",
       "    this._init_canvas(this);\n",
       "    this._init_toolbar(this);\n",
       "\n",
       "    var fig = this;\n",
       "\n",
       "    this.waiting = false;\n",
       "\n",
       "    this.ws.onopen =  function () {\n",
       "            fig.send_message(\"supports_binary\", {value: fig.supports_binary});\n",
       "            fig.send_message(\"send_image_mode\", {});\n",
       "            if (mpl.ratio != 1) {\n",
       "                fig.send_message(\"set_dpi_ratio\", {'dpi_ratio': mpl.ratio});\n",
       "            }\n",
       "            fig.send_message(\"refresh\", {});\n",
       "        }\n",
       "\n",
       "    this.imageObj.onload = function() {\n",
       "            if (fig.image_mode == 'full') {\n",
       "                // Full images could contain transparency (where diff images\n",
       "                // almost always do), so we need to clear the canvas so that\n",
       "                // there is no ghosting.\n",
       "                fig.context.clearRect(0, 0, fig.canvas.width, fig.canvas.height);\n",
       "            }\n",
       "            fig.context.drawImage(fig.imageObj, 0, 0);\n",
       "        };\n",
       "\n",
       "    this.imageObj.onunload = function() {\n",
       "        fig.ws.close();\n",
       "    }\n",
       "\n",
       "    this.ws.onmessage = this._make_on_message_function(this);\n",
       "\n",
       "    this.ondownload = ondownload;\n",
       "}\n",
       "\n",
       "mpl.figure.prototype._init_header = function() {\n",
       "    var titlebar = $(\n",
       "        '<div class=\"ui-dialog-titlebar ui-widget-header ui-corner-all ' +\n",
       "        'ui-helper-clearfix\"/>');\n",
       "    var titletext = $(\n",
       "        '<div class=\"ui-dialog-title\" style=\"width: 100%; ' +\n",
       "        'text-align: center; padding: 3px;\"/>');\n",
       "    titlebar.append(titletext)\n",
       "    this.root.append(titlebar);\n",
       "    this.header = titletext[0];\n",
       "}\n",
       "\n",
       "\n",
       "\n",
       "mpl.figure.prototype._canvas_extra_style = function(canvas_div) {\n",
       "\n",
       "}\n",
       "\n",
       "\n",
       "mpl.figure.prototype._root_extra_style = function(canvas_div) {\n",
       "\n",
       "}\n",
       "\n",
       "mpl.figure.prototype._init_canvas = function() {\n",
       "    var fig = this;\n",
       "\n",
       "    var canvas_div = $('<div/>');\n",
       "\n",
       "    canvas_div.attr('style', 'position: relative; clear: both; outline: 0');\n",
       "\n",
       "    function canvas_keyboard_event(event) {\n",
       "        return fig.key_event(event, event['data']);\n",
       "    }\n",
       "\n",
       "    canvas_div.keydown('key_press', canvas_keyboard_event);\n",
       "    canvas_div.keyup('key_release', canvas_keyboard_event);\n",
       "    this.canvas_div = canvas_div\n",
       "    this._canvas_extra_style(canvas_div)\n",
       "    this.root.append(canvas_div);\n",
       "\n",
       "    var canvas = $('<canvas/>');\n",
       "    canvas.addClass('mpl-canvas');\n",
       "    canvas.attr('style', \"left: 0; top: 0; z-index: 0; outline: 0\")\n",
       "\n",
       "    this.canvas = canvas[0];\n",
       "    this.context = canvas[0].getContext(\"2d\");\n",
       "\n",
       "    var backingStore = this.context.backingStorePixelRatio ||\n",
       "\tthis.context.webkitBackingStorePixelRatio ||\n",
       "\tthis.context.mozBackingStorePixelRatio ||\n",
       "\tthis.context.msBackingStorePixelRatio ||\n",
       "\tthis.context.oBackingStorePixelRatio ||\n",
       "\tthis.context.backingStorePixelRatio || 1;\n",
       "\n",
       "    mpl.ratio = (window.devicePixelRatio || 1) / backingStore;\n",
       "\n",
       "    var rubberband = $('<canvas/>');\n",
       "    rubberband.attr('style', \"position: absolute; left: 0; top: 0; z-index: 1;\")\n",
       "\n",
       "    var pass_mouse_events = true;\n",
       "\n",
       "    canvas_div.resizable({\n",
       "        start: function(event, ui) {\n",
       "            pass_mouse_events = false;\n",
       "        },\n",
       "        resize: function(event, ui) {\n",
       "            fig.request_resize(ui.size.width, ui.size.height);\n",
       "        },\n",
       "        stop: function(event, ui) {\n",
       "            pass_mouse_events = true;\n",
       "            fig.request_resize(ui.size.width, ui.size.height);\n",
       "        },\n",
       "    });\n",
       "\n",
       "    function mouse_event_fn(event) {\n",
       "        if (pass_mouse_events)\n",
       "            return fig.mouse_event(event, event['data']);\n",
       "    }\n",
       "\n",
       "    rubberband.mousedown('button_press', mouse_event_fn);\n",
       "    rubberband.mouseup('button_release', mouse_event_fn);\n",
       "    // Throttle sequential mouse events to 1 every 20ms.\n",
       "    rubberband.mousemove('motion_notify', mouse_event_fn);\n",
       "\n",
       "    rubberband.mouseenter('figure_enter', mouse_event_fn);\n",
       "    rubberband.mouseleave('figure_leave', mouse_event_fn);\n",
       "\n",
       "    canvas_div.on(\"wheel\", function (event) {\n",
       "        event = event.originalEvent;\n",
       "        event['data'] = 'scroll'\n",
       "        if (event.deltaY < 0) {\n",
       "            event.step = 1;\n",
       "        } else {\n",
       "            event.step = -1;\n",
       "        }\n",
       "        mouse_event_fn(event);\n",
       "    });\n",
       "\n",
       "    canvas_div.append(canvas);\n",
       "    canvas_div.append(rubberband);\n",
       "\n",
       "    this.rubberband = rubberband;\n",
       "    this.rubberband_canvas = rubberband[0];\n",
       "    this.rubberband_context = rubberband[0].getContext(\"2d\");\n",
       "    this.rubberband_context.strokeStyle = \"#000000\";\n",
       "\n",
       "    this._resize_canvas = function(width, height) {\n",
       "        // Keep the size of the canvas, canvas container, and rubber band\n",
       "        // canvas in synch.\n",
       "        canvas_div.css('width', width)\n",
       "        canvas_div.css('height', height)\n",
       "\n",
       "        canvas.attr('width', width * mpl.ratio);\n",
       "        canvas.attr('height', height * mpl.ratio);\n",
       "        canvas.attr('style', 'width: ' + width + 'px; height: ' + height + 'px;');\n",
       "\n",
       "        rubberband.attr('width', width);\n",
       "        rubberband.attr('height', height);\n",
       "    }\n",
       "\n",
       "    // Set the figure to an initial 600x600px, this will subsequently be updated\n",
       "    // upon first draw.\n",
       "    this._resize_canvas(600, 600);\n",
       "\n",
       "    // Disable right mouse context menu.\n",
       "    $(this.rubberband_canvas).bind(\"contextmenu\",function(e){\n",
       "        return false;\n",
       "    });\n",
       "\n",
       "    function set_focus () {\n",
       "        canvas.focus();\n",
       "        canvas_div.focus();\n",
       "    }\n",
       "\n",
       "    window.setTimeout(set_focus, 100);\n",
       "}\n",
       "\n",
       "mpl.figure.prototype._init_toolbar = function() {\n",
       "    var fig = this;\n",
       "\n",
       "    var nav_element = $('<div/>')\n",
       "    nav_element.attr('style', 'width: 100%');\n",
       "    this.root.append(nav_element);\n",
       "\n",
       "    // Define a callback function for later on.\n",
       "    function toolbar_event(event) {\n",
       "        return fig.toolbar_button_onclick(event['data']);\n",
       "    }\n",
       "    function toolbar_mouse_event(event) {\n",
       "        return fig.toolbar_button_onmouseover(event['data']);\n",
       "    }\n",
       "\n",
       "    for(var toolbar_ind in mpl.toolbar_items) {\n",
       "        var name = mpl.toolbar_items[toolbar_ind][0];\n",
       "        var tooltip = mpl.toolbar_items[toolbar_ind][1];\n",
       "        var image = mpl.toolbar_items[toolbar_ind][2];\n",
       "        var method_name = mpl.toolbar_items[toolbar_ind][3];\n",
       "\n",
       "        if (!name) {\n",
       "            // put a spacer in here.\n",
       "            continue;\n",
       "        }\n",
       "        var button = $('<button/>');\n",
       "        button.addClass('ui-button ui-widget ui-state-default ui-corner-all ' +\n",
       "                        'ui-button-icon-only');\n",
       "        button.attr('role', 'button');\n",
       "        button.attr('aria-disabled', 'false');\n",
       "        button.click(method_name, toolbar_event);\n",
       "        button.mouseover(tooltip, toolbar_mouse_event);\n",
       "\n",
       "        var icon_img = $('<span/>');\n",
       "        icon_img.addClass('ui-button-icon-primary ui-icon');\n",
       "        icon_img.addClass(image);\n",
       "        icon_img.addClass('ui-corner-all');\n",
       "\n",
       "        var tooltip_span = $('<span/>');\n",
       "        tooltip_span.addClass('ui-button-text');\n",
       "        tooltip_span.html(tooltip);\n",
       "\n",
       "        button.append(icon_img);\n",
       "        button.append(tooltip_span);\n",
       "\n",
       "        nav_element.append(button);\n",
       "    }\n",
       "\n",
       "    var fmt_picker_span = $('<span/>');\n",
       "\n",
       "    var fmt_picker = $('<select/>');\n",
       "    fmt_picker.addClass('mpl-toolbar-option ui-widget ui-widget-content');\n",
       "    fmt_picker_span.append(fmt_picker);\n",
       "    nav_element.append(fmt_picker_span);\n",
       "    this.format_dropdown = fmt_picker[0];\n",
       "\n",
       "    for (var ind in mpl.extensions) {\n",
       "        var fmt = mpl.extensions[ind];\n",
       "        var option = $(\n",
       "            '<option/>', {selected: fmt === mpl.default_extension}).html(fmt);\n",
       "        fmt_picker.append(option)\n",
       "    }\n",
       "\n",
       "    // Add hover states to the ui-buttons\n",
       "    $( \".ui-button\" ).hover(\n",
       "        function() { $(this).addClass(\"ui-state-hover\");},\n",
       "        function() { $(this).removeClass(\"ui-state-hover\");}\n",
       "    );\n",
       "\n",
       "    var status_bar = $('<span class=\"mpl-message\"/>');\n",
       "    nav_element.append(status_bar);\n",
       "    this.message = status_bar[0];\n",
       "}\n",
       "\n",
       "mpl.figure.prototype.request_resize = function(x_pixels, y_pixels) {\n",
       "    // Request matplotlib to resize the figure. Matplotlib will then trigger a resize in the client,\n",
       "    // which will in turn request a refresh of the image.\n",
       "    this.send_message('resize', {'width': x_pixels, 'height': y_pixels});\n",
       "}\n",
       "\n",
       "mpl.figure.prototype.send_message = function(type, properties) {\n",
       "    properties['type'] = type;\n",
       "    properties['figure_id'] = this.id;\n",
       "    this.ws.send(JSON.stringify(properties));\n",
       "}\n",
       "\n",
       "mpl.figure.prototype.send_draw_message = function() {\n",
       "    if (!this.waiting) {\n",
       "        this.waiting = true;\n",
       "        this.ws.send(JSON.stringify({type: \"draw\", figure_id: this.id}));\n",
       "    }\n",
       "}\n",
       "\n",
       "\n",
       "mpl.figure.prototype.handle_save = function(fig, msg) {\n",
       "    var format_dropdown = fig.format_dropdown;\n",
       "    var format = format_dropdown.options[format_dropdown.selectedIndex].value;\n",
       "    fig.ondownload(fig, format);\n",
       "}\n",
       "\n",
       "\n",
       "mpl.figure.prototype.handle_resize = function(fig, msg) {\n",
       "    var size = msg['size'];\n",
       "    if (size[0] != fig.canvas.width || size[1] != fig.canvas.height) {\n",
       "        fig._resize_canvas(size[0], size[1]);\n",
       "        fig.send_message(\"refresh\", {});\n",
       "    };\n",
       "}\n",
       "\n",
       "mpl.figure.prototype.handle_rubberband = function(fig, msg) {\n",
       "    var x0 = msg['x0'] / mpl.ratio;\n",
       "    var y0 = (fig.canvas.height - msg['y0']) / mpl.ratio;\n",
       "    var x1 = msg['x1'] / mpl.ratio;\n",
       "    var y1 = (fig.canvas.height - msg['y1']) / mpl.ratio;\n",
       "    x0 = Math.floor(x0) + 0.5;\n",
       "    y0 = Math.floor(y0) + 0.5;\n",
       "    x1 = Math.floor(x1) + 0.5;\n",
       "    y1 = Math.floor(y1) + 0.5;\n",
       "    var min_x = Math.min(x0, x1);\n",
       "    var min_y = Math.min(y0, y1);\n",
       "    var width = Math.abs(x1 - x0);\n",
       "    var height = Math.abs(y1 - y0);\n",
       "\n",
       "    fig.rubberband_context.clearRect(\n",
       "        0, 0, fig.canvas.width, fig.canvas.height);\n",
       "\n",
       "    fig.rubberband_context.strokeRect(min_x, min_y, width, height);\n",
       "}\n",
       "\n",
       "mpl.figure.prototype.handle_figure_label = function(fig, msg) {\n",
       "    // Updates the figure title.\n",
       "    fig.header.textContent = msg['label'];\n",
       "}\n",
       "\n",
       "mpl.figure.prototype.handle_cursor = function(fig, msg) {\n",
       "    var cursor = msg['cursor'];\n",
       "    switch(cursor)\n",
       "    {\n",
       "    case 0:\n",
       "        cursor = 'pointer';\n",
       "        break;\n",
       "    case 1:\n",
       "        cursor = 'default';\n",
       "        break;\n",
       "    case 2:\n",
       "        cursor = 'crosshair';\n",
       "        break;\n",
       "    case 3:\n",
       "        cursor = 'move';\n",
       "        break;\n",
       "    }\n",
       "    fig.rubberband_canvas.style.cursor = cursor;\n",
       "}\n",
       "\n",
       "mpl.figure.prototype.handle_message = function(fig, msg) {\n",
       "    fig.message.textContent = msg['message'];\n",
       "}\n",
       "\n",
       "mpl.figure.prototype.handle_draw = function(fig, msg) {\n",
       "    // Request the server to send over a new figure.\n",
       "    fig.send_draw_message();\n",
       "}\n",
       "\n",
       "mpl.figure.prototype.handle_image_mode = function(fig, msg) {\n",
       "    fig.image_mode = msg['mode'];\n",
       "}\n",
       "\n",
       "mpl.figure.prototype.updated_canvas_event = function() {\n",
       "    // Called whenever the canvas gets updated.\n",
       "    this.send_message(\"ack\", {});\n",
       "}\n",
       "\n",
       "// A function to construct a web socket function for onmessage handling.\n",
       "// Called in the figure constructor.\n",
       "mpl.figure.prototype._make_on_message_function = function(fig) {\n",
       "    return function socket_on_message(evt) {\n",
       "        if (evt.data instanceof Blob) {\n",
       "            /* FIXME: We get \"Resource interpreted as Image but\n",
       "             * transferred with MIME type text/plain:\" errors on\n",
       "             * Chrome.  But how to set the MIME type?  It doesn't seem\n",
       "             * to be part of the websocket stream */\n",
       "            evt.data.type = \"image/png\";\n",
       "\n",
       "            /* Free the memory for the previous frames */\n",
       "            if (fig.imageObj.src) {\n",
       "                (window.URL || window.webkitURL).revokeObjectURL(\n",
       "                    fig.imageObj.src);\n",
       "            }\n",
       "\n",
       "            fig.imageObj.src = (window.URL || window.webkitURL).createObjectURL(\n",
       "                evt.data);\n",
       "            fig.updated_canvas_event();\n",
       "            fig.waiting = false;\n",
       "            return;\n",
       "        }\n",
       "        else if (typeof evt.data === 'string' && evt.data.slice(0, 21) == \"data:image/png;base64\") {\n",
       "            fig.imageObj.src = evt.data;\n",
       "            fig.updated_canvas_event();\n",
       "            fig.waiting = false;\n",
       "            return;\n",
       "        }\n",
       "\n",
       "        var msg = JSON.parse(evt.data);\n",
       "        var msg_type = msg['type'];\n",
       "\n",
       "        // Call the  \"handle_{type}\" callback, which takes\n",
       "        // the figure and JSON message as its only arguments.\n",
       "        try {\n",
       "            var callback = fig[\"handle_\" + msg_type];\n",
       "        } catch (e) {\n",
       "            console.log(\"No handler for the '\" + msg_type + \"' message type: \", msg);\n",
       "            return;\n",
       "        }\n",
       "\n",
       "        if (callback) {\n",
       "            try {\n",
       "                // console.log(\"Handling '\" + msg_type + \"' message: \", msg);\n",
       "                callback(fig, msg);\n",
       "            } catch (e) {\n",
       "                console.log(\"Exception inside the 'handler_\" + msg_type + \"' callback:\", e, e.stack, msg);\n",
       "            }\n",
       "        }\n",
       "    };\n",
       "}\n",
       "\n",
       "// from http://stackoverflow.com/questions/1114465/getting-mouse-location-in-canvas\n",
       "mpl.findpos = function(e) {\n",
       "    //this section is from http://www.quirksmode.org/js/events_properties.html\n",
       "    var targ;\n",
       "    if (!e)\n",
       "        e = window.event;\n",
       "    if (e.target)\n",
       "        targ = e.target;\n",
       "    else if (e.srcElement)\n",
       "        targ = e.srcElement;\n",
       "    if (targ.nodeType == 3) // defeat Safari bug\n",
       "        targ = targ.parentNode;\n",
       "\n",
       "    // jQuery normalizes the pageX and pageY\n",
       "    // pageX,Y are the mouse positions relative to the document\n",
       "    // offset() returns the position of the element relative to the document\n",
       "    var x = e.pageX - $(targ).offset().left;\n",
       "    var y = e.pageY - $(targ).offset().top;\n",
       "\n",
       "    return {\"x\": x, \"y\": y};\n",
       "};\n",
       "\n",
       "/*\n",
       " * return a copy of an object with only non-object keys\n",
       " * we need this to avoid circular references\n",
       " * http://stackoverflow.com/a/24161582/3208463\n",
       " */\n",
       "function simpleKeys (original) {\n",
       "  return Object.keys(original).reduce(function (obj, key) {\n",
       "    if (typeof original[key] !== 'object')\n",
       "        obj[key] = original[key]\n",
       "    return obj;\n",
       "  }, {});\n",
       "}\n",
       "\n",
       "mpl.figure.prototype.mouse_event = function(event, name) {\n",
       "    var canvas_pos = mpl.findpos(event)\n",
       "\n",
       "    if (name === 'button_press')\n",
       "    {\n",
       "        this.canvas.focus();\n",
       "        this.canvas_div.focus();\n",
       "    }\n",
       "\n",
       "    var x = canvas_pos.x * mpl.ratio;\n",
       "    var y = canvas_pos.y * mpl.ratio;\n",
       "\n",
       "    this.send_message(name, {x: x, y: y, button: event.button,\n",
       "                             step: event.step,\n",
       "                             guiEvent: simpleKeys(event)});\n",
       "\n",
       "    /* This prevents the web browser from automatically changing to\n",
       "     * the text insertion cursor when the button is pressed.  We want\n",
       "     * to control all of the cursor setting manually through the\n",
       "     * 'cursor' event from matplotlib */\n",
       "    event.preventDefault();\n",
       "    return false;\n",
       "}\n",
       "\n",
       "mpl.figure.prototype._key_event_extra = function(event, name) {\n",
       "    // Handle any extra behaviour associated with a key event\n",
       "}\n",
       "\n",
       "mpl.figure.prototype.key_event = function(event, name) {\n",
       "\n",
       "    // Prevent repeat events\n",
       "    if (name == 'key_press')\n",
       "    {\n",
       "        if (event.which === this._key)\n",
       "            return;\n",
       "        else\n",
       "            this._key = event.which;\n",
       "    }\n",
       "    if (name == 'key_release')\n",
       "        this._key = null;\n",
       "\n",
       "    var value = '';\n",
       "    if (event.ctrlKey && event.which != 17)\n",
       "        value += \"ctrl+\";\n",
       "    if (event.altKey && event.which != 18)\n",
       "        value += \"alt+\";\n",
       "    if (event.shiftKey && event.which != 16)\n",
       "        value += \"shift+\";\n",
       "\n",
       "    value += 'k';\n",
       "    value += event.which.toString();\n",
       "\n",
       "    this._key_event_extra(event, name);\n",
       "\n",
       "    this.send_message(name, {key: value,\n",
       "                             guiEvent: simpleKeys(event)});\n",
       "    return false;\n",
       "}\n",
       "\n",
       "mpl.figure.prototype.toolbar_button_onclick = function(name) {\n",
       "    if (name == 'download') {\n",
       "        this.handle_save(this, null);\n",
       "    } else {\n",
       "        this.send_message(\"toolbar_button\", {name: name});\n",
       "    }\n",
       "};\n",
       "\n",
       "mpl.figure.prototype.toolbar_button_onmouseover = function(tooltip) {\n",
       "    this.message.textContent = tooltip;\n",
       "};\n",
       "mpl.toolbar_items = [[\"Home\", \"Reset original view\", \"fa fa-home icon-home\", \"home\"], [\"Back\", \"Back to previous view\", \"fa fa-arrow-left icon-arrow-left\", \"back\"], [\"Forward\", \"Forward to next view\", \"fa fa-arrow-right icon-arrow-right\", \"forward\"], [\"\", \"\", \"\", \"\"], [\"Pan\", \"Pan axes with left mouse, zoom with right\", \"fa fa-arrows icon-move\", \"pan\"], [\"Zoom\", \"Zoom to rectangle\", \"fa fa-square-o icon-check-empty\", \"zoom\"], [\"\", \"\", \"\", \"\"], [\"Download\", \"Download plot\", \"fa fa-floppy-o icon-save\", \"download\"]];\n",
       "\n",
       "mpl.extensions = [\"eps\", \"jpeg\", \"pdf\", \"png\", \"ps\", \"raw\", \"svg\", \"tif\"];\n",
       "\n",
       "mpl.default_extension = \"png\";var comm_websocket_adapter = function(comm) {\n",
       "    // Create a \"websocket\"-like object which calls the given IPython comm\n",
       "    // object with the appropriate methods. Currently this is a non binary\n",
       "    // socket, so there is still some room for performance tuning.\n",
       "    var ws = {};\n",
       "\n",
       "    ws.close = function() {\n",
       "        comm.close()\n",
       "    };\n",
       "    ws.send = function(m) {\n",
       "        //console.log('sending', m);\n",
       "        comm.send(m);\n",
       "    };\n",
       "    // Register the callback with on_msg.\n",
       "    comm.on_msg(function(msg) {\n",
       "        //console.log('receiving', msg['content']['data'], msg);\n",
       "        // Pass the mpl event to the overridden (by mpl) onmessage function.\n",
       "        ws.onmessage(msg['content']['data'])\n",
       "    });\n",
       "    return ws;\n",
       "}\n",
       "\n",
       "mpl.mpl_figure_comm = function(comm, msg) {\n",
       "    // This is the function which gets called when the mpl process\n",
       "    // starts-up an IPython Comm through the \"matplotlib\" channel.\n",
       "\n",
       "    var id = msg.content.data.id;\n",
       "    // Get hold of the div created by the display call when the Comm\n",
       "    // socket was opened in Python.\n",
       "    var element = $(\"#\" + id);\n",
       "    var ws_proxy = comm_websocket_adapter(comm)\n",
       "\n",
       "    function ondownload(figure, format) {\n",
       "        window.open(figure.imageObj.src);\n",
       "    }\n",
       "\n",
       "    var fig = new mpl.figure(id, ws_proxy,\n",
       "                           ondownload,\n",
       "                           element.get(0));\n",
       "\n",
       "    // Call onopen now - mpl needs it, as it is assuming we've passed it a real\n",
       "    // web socket which is closed, not our websocket->open comm proxy.\n",
       "    ws_proxy.onopen();\n",
       "\n",
       "    fig.parent_element = element.get(0);\n",
       "    fig.cell_info = mpl.find_output_cell(\"<div id='\" + id + \"'></div>\");\n",
       "    if (!fig.cell_info) {\n",
       "        console.error(\"Failed to find cell for figure\", id, fig);\n",
       "        return;\n",
       "    }\n",
       "\n",
       "    var output_index = fig.cell_info[2]\n",
       "    var cell = fig.cell_info[0];\n",
       "\n",
       "};\n",
       "\n",
       "mpl.figure.prototype.handle_close = function(fig, msg) {\n",
       "    var width = fig.canvas.width/mpl.ratio\n",
       "    fig.root.unbind('remove')\n",
       "\n",
       "    // Update the output cell to use the data from the current canvas.\n",
       "    fig.push_to_output();\n",
       "    var dataURL = fig.canvas.toDataURL();\n",
       "    // Re-enable the keyboard manager in IPython - without this line, in FF,\n",
       "    // the notebook keyboard shortcuts fail.\n",
       "    IPython.keyboard_manager.enable()\n",
       "    $(fig.parent_element).html('<img src=\"' + dataURL + '\" width=\"' + width + '\">');\n",
       "    fig.close_ws(fig, msg);\n",
       "}\n",
       "\n",
       "mpl.figure.prototype.close_ws = function(fig, msg){\n",
       "    fig.send_message('closing', msg);\n",
       "    // fig.ws.close()\n",
       "}\n",
       "\n",
       "mpl.figure.prototype.push_to_output = function(remove_interactive) {\n",
       "    // Turn the data on the canvas into data in the output cell.\n",
       "    var width = this.canvas.width/mpl.ratio\n",
       "    var dataURL = this.canvas.toDataURL();\n",
       "    this.cell_info[1]['text/html'] = '<img src=\"' + dataURL + '\" width=\"' + width + '\">';\n",
       "}\n",
       "\n",
       "mpl.figure.prototype.updated_canvas_event = function() {\n",
       "    // Tell IPython that the notebook contents must change.\n",
       "    IPython.notebook.set_dirty(true);\n",
       "    this.send_message(\"ack\", {});\n",
       "    var fig = this;\n",
       "    // Wait a second, then push the new image to the DOM so\n",
       "    // that it is saved nicely (might be nice to debounce this).\n",
       "    setTimeout(function () { fig.push_to_output() }, 1000);\n",
       "}\n",
       "\n",
       "mpl.figure.prototype._init_toolbar = function() {\n",
       "    var fig = this;\n",
       "\n",
       "    var nav_element = $('<div/>')\n",
       "    nav_element.attr('style', 'width: 100%');\n",
       "    this.root.append(nav_element);\n",
       "\n",
       "    // Define a callback function for later on.\n",
       "    function toolbar_event(event) {\n",
       "        return fig.toolbar_button_onclick(event['data']);\n",
       "    }\n",
       "    function toolbar_mouse_event(event) {\n",
       "        return fig.toolbar_button_onmouseover(event['data']);\n",
       "    }\n",
       "\n",
       "    for(var toolbar_ind in mpl.toolbar_items){\n",
       "        var name = mpl.toolbar_items[toolbar_ind][0];\n",
       "        var tooltip = mpl.toolbar_items[toolbar_ind][1];\n",
       "        var image = mpl.toolbar_items[toolbar_ind][2];\n",
       "        var method_name = mpl.toolbar_items[toolbar_ind][3];\n",
       "\n",
       "        if (!name) { continue; };\n",
       "\n",
       "        var button = $('<button class=\"btn btn-default\" href=\"#\" title=\"' + name + '\"><i class=\"fa ' + image + ' fa-lg\"></i></button>');\n",
       "        button.click(method_name, toolbar_event);\n",
       "        button.mouseover(tooltip, toolbar_mouse_event);\n",
       "        nav_element.append(button);\n",
       "    }\n",
       "\n",
       "    // Add the status bar.\n",
       "    var status_bar = $('<span class=\"mpl-message\" style=\"text-align:right; float: right;\"/>');\n",
       "    nav_element.append(status_bar);\n",
       "    this.message = status_bar[0];\n",
       "\n",
       "    // Add the close button to the window.\n",
       "    var buttongrp = $('<div class=\"btn-group inline pull-right\"></div>');\n",
       "    var button = $('<button class=\"btn btn-mini btn-primary\" href=\"#\" title=\"Stop Interaction\"><i class=\"fa fa-power-off icon-remove icon-large\"></i></button>');\n",
       "    button.click(function (evt) { fig.handle_close(fig, {}); } );\n",
       "    button.mouseover('Stop Interaction', toolbar_mouse_event);\n",
       "    buttongrp.append(button);\n",
       "    var titlebar = this.root.find($('.ui-dialog-titlebar'));\n",
       "    titlebar.prepend(buttongrp);\n",
       "}\n",
       "\n",
       "mpl.figure.prototype._root_extra_style = function(el){\n",
       "    var fig = this\n",
       "    el.on(\"remove\", function(){\n",
       "\tfig.close_ws(fig, {});\n",
       "    });\n",
       "}\n",
       "\n",
       "mpl.figure.prototype._canvas_extra_style = function(el){\n",
       "    // this is important to make the div 'focusable\n",
       "    el.attr('tabindex', 0)\n",
       "    // reach out to IPython and tell the keyboard manager to turn it's self\n",
       "    // off when our div gets focus\n",
       "\n",
       "    // location in version 3\n",
       "    if (IPython.notebook.keyboard_manager) {\n",
       "        IPython.notebook.keyboard_manager.register_events(el);\n",
       "    }\n",
       "    else {\n",
       "        // location in version 2\n",
       "        IPython.keyboard_manager.register_events(el);\n",
       "    }\n",
       "\n",
       "}\n",
       "\n",
       "mpl.figure.prototype._key_event_extra = function(event, name) {\n",
       "    var manager = IPython.notebook.keyboard_manager;\n",
       "    if (!manager)\n",
       "        manager = IPython.keyboard_manager;\n",
       "\n",
       "    // Check for shift+enter\n",
       "    if (event.shiftKey && event.which == 13) {\n",
       "        this.canvas_div.blur();\n",
       "        event.shiftKey = false;\n",
       "        // Send a \"J\" for go to next cell\n",
       "        event.which = 74;\n",
       "        event.keyCode = 74;\n",
       "        manager.command_mode();\n",
       "        manager.handle_keydown(event);\n",
       "    }\n",
       "}\n",
       "\n",
       "mpl.figure.prototype.handle_save = function(fig, msg) {\n",
       "    fig.ondownload(fig, null);\n",
       "}\n",
       "\n",
       "\n",
       "mpl.find_output_cell = function(html_output) {\n",
       "    // Return the cell and output element which can be found *uniquely* in the notebook.\n",
       "    // Note - this is a bit hacky, but it is done because the \"notebook_saving.Notebook\"\n",
       "    // IPython event is triggered only after the cells have been serialised, which for\n",
       "    // our purposes (turning an active figure into a static one), is too late.\n",
       "    var cells = IPython.notebook.get_cells();\n",
       "    var ncells = cells.length;\n",
       "    for (var i=0; i<ncells; i++) {\n",
       "        var cell = cells[i];\n",
       "        if (cell.cell_type === 'code'){\n",
       "            for (var j=0; j<cell.output_area.outputs.length; j++) {\n",
       "                var data = cell.output_area.outputs[j];\n",
       "                if (data.data) {\n",
       "                    // IPython >= 3 moved mimebundle to data attribute of output\n",
       "                    data = data.data;\n",
       "                }\n",
       "                if (data['text/html'] == html_output) {\n",
       "                    return [cell, data, j];\n",
       "                }\n",
       "            }\n",
       "        }\n",
       "    }\n",
       "}\n",
       "\n",
       "// Register the function which deals with the matplotlib target/channel.\n",
       "// The kernel may be null if the page has been refreshed.\n",
       "if (IPython.notebook.kernel != null) {\n",
       "    IPython.notebook.kernel.comm_manager.register_target('matplotlib', mpl.mpl_figure_comm);\n",
       "}\n"
      ],
      "text/plain": [
       "<IPython.core.display.Javascript object>"
      ]
     },
     "metadata": {},
     "output_type": "display_data"
    },
    {
     "data": {
      "text/html": [
       "<img src=\"data:image/png;base64,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\" width=\"1199.999973990701\">"
      ],
      "text/plain": [
       "<IPython.core.display.HTML object>"
      ]
     },
     "metadata": {},
     "output_type": "display_data"
    }
   ],
   "source": [
    "def make_xlabel(ix, correct):\n",
    "    if ix==correct:\n",
    "        return \"Class {}\\n(correct)\".format(ix)\n",
    "    return \"Class {}\".format(ix)\n",
    "\n",
    "figure = plt.figure(figsize=(12,4))\n",
    "plt.subplot(1, 2, 1)\n",
    "center_ixs_clean = []\n",
    "for ix, block in enumerate(class_distrs_clean.T):\n",
    "    x_ixs= np.arange(len(block)) + ix*(len(block)+2)\n",
    "    center_ixs_clean.append(np.mean(x_ixs))\n",
    "    color = '#555555'\n",
    "    if ix == nettack.label_u:\n",
    "        color = 'darkgreen'\n",
    "    plt.bar(x_ixs, block, color=color)\n",
    "\n",
    "ax=plt.gca()\n",
    "plt.ylim((-.05, 1.05))\n",
    "plt.ylabel(\"Predicted probability\")\n",
    "ax.set_xticks(center_ixs_clean)\n",
    "ax.set_xticklabels([make_xlabel(k, nettack.label_u) for k in range(_K)])\n",
    "ax.set_title(\"Predicted class probabilities for node {} on clean data\\n({} re-trainings)\".format(nettack.u, retrain_iters))\n",
    "\n",
    "fig = plt.subplot(1, 2, 2)\n",
    "center_ixs_retrain = []\n",
    "for ix, block in enumerate(class_distrs_retrain.T):\n",
    "    x_ixs= np.arange(len(block)) + ix*(len(block)+2)\n",
    "    center_ixs_retrain.append(np.mean(x_ixs))\n",
    "    color = '#555555'\n",
    "    if ix == nettack.label_u:\n",
    "        color = 'darkgreen'\n",
    "    plt.bar(x_ixs, block, color=color)\n",
    "\n",
    "\n",
    "ax=plt.gca()\n",
    "plt.ylim((-.05, 1.05))\n",
    "ax.set_xticks(center_ixs_retrain)\n",
    "ax.set_xticklabels([make_xlabel(k, nettack.label_u) for k in range(_K)])\n",
    "ax.set_title(\"Predicted class probabilities for node {} after {} perturbations\\n({} re-trainings)\".format(nettack.u, n_perturbations, retrain_iters))\n",
    "plt.tight_layout()\n",
    "plt.show()"
   ]
  }
 ],
 "metadata": {
  "kernelspec": {
   "display_name": "Python 3",
   "language": "python",
   "name": "python3"
  },
  "language_info": {
   "codemirror_mode": {
    "name": "ipython",
    "version": 3
   },
   "file_extension": ".py",
   "mimetype": "text/x-python",
   "name": "python",
   "nbconvert_exporter": "python",
   "pygments_lexer": "ipython3",
   "version": "3.7.0"
  }
 },
 "nbformat": 4,
 "nbformat_minor": 2
}
