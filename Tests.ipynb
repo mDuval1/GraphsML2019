{
 "cells": [
  {
   "cell_type": "code",
   "execution_count": 1,
   "metadata": {},
   "outputs": [],
   "source": [
    "%load_ext autoreload\n",
    "%autoreload 2\n",
    "%matplotlib notebook"
   ]
  },
  {
   "cell_type": "code",
   "execution_count": 2,
   "metadata": {},
   "outputs": [],
   "source": [
    "import numpy as np\n",
    "import pandas as pd\n",
    "import matplotlib.pyplot as plt\n",
    "import networkx as nx\n",
    "import tqdm"
   ]
  },
  {
   "cell_type": "code",
   "execution_count": 3,
   "metadata": {},
   "outputs": [],
   "source": [
    "import torch\n",
    "import torch.nn as nn"
   ]
  },
  {
   "cell_type": "code",
   "execution_count": 4,
   "metadata": {},
   "outputs": [],
   "source": [
    "seed = 42\n",
    "torch.manual_seed(seed)\n",
    "torch.backends.cudnn.deterministic = True\n",
    "torch.backends.cudnn.benchmark = False\n",
    "np.random.seed(seed)"
   ]
  },
  {
   "cell_type": "code",
   "execution_count": 5,
   "metadata": {},
   "outputs": [],
   "source": [
    "from src.nettack.GCN import *"
   ]
  },
  {
   "cell_type": "markdown",
   "metadata": {},
   "source": [
    "# Tests"
   ]
  },
  {
   "cell_type": "markdown",
   "metadata": {
    "heading_collapsed": true
   },
   "source": [
    "## Layers"
   ]
  },
  {
   "cell_type": "code",
   "execution_count": 5,
   "metadata": {
    "hidden": true
   },
   "outputs": [],
   "source": [
    "layer = GraphConvolution(in_features=8, out_features=5)"
   ]
  },
  {
   "cell_type": "code",
   "execution_count": 6,
   "metadata": {
    "hidden": true,
    "scrolled": true
   },
   "outputs": [],
   "source": [
    "N = 30\n",
    "Adjacency_matrix = torch.tensor((np.random.rand(N, N) > 0.7).astype(np.float32)).to_sparse()\n",
    "input = torch.rand(N, 8).to_sparse()"
   ]
  },
  {
   "cell_type": "code",
   "execution_count": 7,
   "metadata": {
    "hidden": true
   },
   "outputs": [
    {
     "data": {
      "text/plain": [
       "torch.Size([30, 5])"
      ]
     },
     "execution_count": 7,
     "metadata": {},
     "output_type": "execute_result"
    }
   ],
   "source": [
    "layer(input, Adjacency_matrix).shape"
   ]
  },
  {
   "cell_type": "markdown",
   "metadata": {},
   "source": [
    "## GCN"
   ]
  },
  {
   "cell_type": "code",
   "execution_count": 8,
   "metadata": {},
   "outputs": [],
   "source": [
    "N = 30\n",
    "C = 5\n",
    "D = 20\n",
    "Adjacency_matrix = torch.tensor((np.random.rand(N, N) > 0.7).astype(np.float32)).to_sparse()\n",
    "\n",
    "X_observed = torch.rand(N, D)\n",
    "Y_observed = torch.randint(low=0, high=C, size=(N,))\n",
    "\n",
    "H = 10"
   ]
  },
  {
   "cell_type": "code",
   "execution_count": 9,
   "metadata": {},
   "outputs": [],
   "source": [
    "gcn = GCN(sizes=[H, C],\n",
    "          An=Adjacency_matrix,\n",
    "          X_obs=X_observed,\n",
    "          name='test', with_relu=True, params_dict={})"
   ]
  },
  {
   "cell_type": "code",
   "execution_count": 10,
   "metadata": {},
   "outputs": [],
   "source": [
    "gcn_model = GCN_Model(gcn, lr=1e-3)"
   ]
  },
  {
   "cell_type": "code",
   "execution_count": 11,
   "metadata": {},
   "outputs": [],
   "source": [
    "node_ids = torch.tensor([1, 3, 7])\n",
    "node_labels = torch.tensor([2, 0, 3])"
   ]
  },
  {
   "cell_type": "code",
   "execution_count": 12,
   "metadata": {},
   "outputs": [],
   "source": [
    "train_nodes = [1, 2, 5, 6, 7, 9, 15]\n",
    "val_nodes = [17, 18, 19, 20, 22]"
   ]
  },
  {
   "cell_type": "code",
   "execution_count": 13,
   "metadata": {},
   "outputs": [
    {
     "data": {
      "application/vnd.jupyter.widget-view+json": {
       "model_id": "9d2bc8b9364b43a9a3476cbc2886ef53",
       "version_major": 2,
       "version_minor": 0
      },
      "text/plain": [
       "HBox(children=(IntProgress(value=1, bar_style='info', max=1), HTML(value='')))"
      ]
     },
     "metadata": {},
     "output_type": "display_data"
    },
    {
     "name": "stderr",
     "output_type": "stream",
     "text": [
      "c:\\python37\\lib\\site-packages\\sklearn\\metrics\\classification.py:1143: UndefinedMetricWarning: F-score is ill-defined and being set to 0.0 in labels with no predicted samples.\n",
      "  'precision', 'predicted', average, warn_for)\n"
     ]
    },
    {
     "name": "stdout",
     "output_type": "stream",
     "text": [
      "New best performance : 0.283\n",
      "New best performance : 0.300\n",
      "New best performance : 0.750\n",
      "converged after 59 iterations\n",
      "\n"
     ]
    }
   ],
   "source": [
    "gcn_model.train(split_train=train_nodes, split_val=val_nodes, Z_obs=Y_observed)"
   ]
  },
  {
   "cell_type": "markdown",
   "metadata": {
    "heading_collapsed": true
   },
   "source": [
    "## Random"
   ]
  },
  {
   "cell_type": "code",
   "execution_count": 28,
   "metadata": {
    "hidden": true
   },
   "outputs": [
    {
     "data": {
      "text/plain": [
       "True"
      ]
     },
     "execution_count": 28,
     "metadata": {},
     "output_type": "execute_result"
    }
   ],
   "source": [
    "a.is_sparse"
   ]
  },
  {
   "cell_type": "code",
   "execution_count": 12,
   "metadata": {
    "hidden": true
   },
   "outputs": [],
   "source": [
    "node_labels = pd.read_csv('datasets/citeseer/citeseer.node_labels', header=None, names=['id', 'label'])"
   ]
  },
  {
   "cell_type": "code",
   "execution_count": 13,
   "metadata": {
    "hidden": true
   },
   "outputs": [],
   "source": [
    "edges = pd.read_csv('datasets/citeseer/citeseer.edges', header=None, names=['e1', 'e2', 'weight'])"
   ]
  },
  {
   "cell_type": "code",
   "execution_count": 14,
   "metadata": {
    "hidden": true
   },
   "outputs": [],
   "source": [
    "G = nx.Graph()\n",
    "for _, row in node_labels.iterrows():\n",
    "    G.add_node(row.id, label=row.label)\n",
    "G.add_edges_from(edges.loc[:, ['e1', 'e2']])"
   ]
  },
  {
   "cell_type": "markdown",
   "metadata": {},
   "source": [
    "## Nettack"
   ]
  },
  {
   "cell_type": "markdown",
   "metadata": {},
   "source": [
    "### Data preprocessing"
   ]
  },
  {
   "cell_type": "code",
   "execution_count": 44,
   "metadata": {},
   "outputs": [],
   "source": [
    "from src.nettack.utils import *\n",
    "from src.nettack.nettack import *"
   ]
  },
  {
   "cell_type": "code",
   "execution_count": 7,
   "metadata": {},
   "outputs": [],
   "source": [
    "_A_obs, _X_obs, _z_obs = load_npz('src/data/citeseer.npz')"
   ]
  },
  {
   "cell_type": "code",
   "execution_count": 8,
   "metadata": {},
   "outputs": [
    {
     "data": {
      "text/plain": [
       "<3312x3312 sparse matrix of type '<class 'numpy.float32'>'\n",
       "\twith 4715 stored elements in Compressed Sparse Row format>"
      ]
     },
     "execution_count": 8,
     "metadata": {},
     "output_type": "execute_result"
    }
   ],
   "source": [
    "# Adjacency matrix\n",
    "_A_obs"
   ]
  },
  {
   "cell_type": "code",
   "execution_count": 9,
   "metadata": {},
   "outputs": [
    {
     "data": {
      "text/plain": [
       "<3312x3703 sparse matrix of type '<class 'numpy.int64'>'\n",
       "\twith 105165 stored elements in Compressed Sparse Row format>"
      ]
     },
     "execution_count": 9,
     "metadata": {},
     "output_type": "execute_result"
    }
   ],
   "source": [
    "# Feature matrix\n",
    "_X_obs"
   ]
  },
  {
   "cell_type": "code",
   "execution_count": 10,
   "metadata": {},
   "outputs": [
    {
     "data": {
      "text/plain": [
       "2    701\n",
       "4    668\n",
       "1    596\n",
       "5    590\n",
       "3    508\n",
       "0    249\n",
       "dtype: int64"
      ]
     },
     "execution_count": 10,
     "metadata": {},
     "output_type": "execute_result"
    }
   ],
   "source": [
    "# Labels\n",
    "_z_obs\n",
    "pd.value_counts(_z_obs)"
   ]
  },
  {
   "cell_type": "code",
   "execution_count": 11,
   "metadata": {},
   "outputs": [],
   "source": [
    "# Normalizing Adjacency matrix\n",
    "_A_obs = _A_obs + _A_obs.T\n",
    "_A_obs[_A_obs > 1] = 1"
   ]
  },
  {
   "cell_type": "code",
   "execution_count": 12,
   "metadata": {},
   "outputs": [
    {
     "name": "stdout",
     "output_type": "stream",
     "text": [
      "Selecting 1 largest connected components\n"
     ]
    }
   ],
   "source": [
    "# For the algorithm to work, we have to consider a connected graph.\n",
    "lcc = largest_connected_components(_A_obs)"
   ]
  },
  {
   "cell_type": "code",
   "execution_count": 13,
   "metadata": {},
   "outputs": [
    {
     "name": "stdout",
     "output_type": "stream",
     "text": [
      "Largest connected component has 2110 nodes\n"
     ]
    }
   ],
   "source": [
    "print(f'Largest connected component has {len(lcc)} nodes')\n",
    "# keeping the largest connected component of the graph\n",
    "_A_obs = _A_obs[lcc][:,lcc]\n",
    "_X_obs = _X_obs[lcc].astype('float32')\n",
    "_z_obs = _z_obs[lcc]"
   ]
  },
  {
   "cell_type": "code",
   "execution_count": 14,
   "metadata": {},
   "outputs": [],
   "source": [
    "assert np.abs(_A_obs - _A_obs.T).sum() == 0, \"Input graph is not symmetric\"\n",
    "assert _A_obs.max() == 1 and len(np.unique(_A_obs[_A_obs.nonzero()].A1)) == 1, \"Graph must be unweighted\"\n",
    "assert _A_obs.sum(0).A1.min() > 0, \"Graph contains singleton nodes\""
   ]
  },
  {
   "cell_type": "code",
   "execution_count": 15,
   "metadata": {},
   "outputs": [],
   "source": [
    "_N = _A_obs.shape[0]\n",
    "_K = _z_obs.max()+1\n",
    "\n",
    "# In our pytorch implementation, labels are not one hot encoded\n",
    "# _Z_obs = np.eye(_K)[_z_obs]\n",
    "_Z_obs = _z_obs\n",
    "# Normalizing adjacency matrix\n",
    "_An = preprocess_graph(_A_obs)\n",
    "sizes = [16, _K]\n",
    "degrees = _A_obs.sum(0).A1\n",
    "\n",
    "\n",
    "np.random.seed(seed)"
   ]
  },
  {
   "cell_type": "code",
   "execution_count": 16,
   "metadata": {},
   "outputs": [],
   "source": [
    "unlabeled_share = 0.8\n",
    "val_share = 0.1\n",
    "train_share = 1 - unlabeled_share - val_share\n",
    "splits = train_val_test_split_tabular(np.arange(_N), train_size=train_share,\n",
    "                                      val_size=val_share, test_size=unlabeled_share,\n",
    "                                      stratify=_z_obs)\n",
    "split_train, split_val, split_unlabeled = splits"
   ]
  },
  {
   "cell_type": "code",
   "execution_count": 17,
   "metadata": {},
   "outputs": [
    {
     "name": "stdout",
     "output_type": "stream",
     "text": [
      "Number of training node : 210\n",
      "Number of validation nodes : 211\n",
      "Number of unlabeled (unknown) nodes : 1688\n"
     ]
    }
   ],
   "source": [
    "print(f'Number of training node : {len(split_train)}')\n",
    "print(f'Number of validation nodes : {len(split_val)}')\n",
    "print(f'Number of unlabeled (unknown) nodes : {len(split_unlabeled)}')"
   ]
  },
  {
   "cell_type": "markdown",
   "metadata": {},
   "source": [
    "### Choosing the node to attack"
   ]
  },
  {
   "cell_type": "code",
   "execution_count": 18,
   "metadata": {},
   "outputs": [],
   "source": [
    "u = 0 # node to attack\n",
    "assert u in split_unlabeled"
   ]
  },
  {
   "cell_type": "markdown",
   "metadata": {},
   "source": [
    "### Train surrogate model"
   ]
  },
  {
   "cell_type": "markdown",
   "metadata": {},
   "source": [
    "Initialization of Nettack : train on a simple model (with no ReLU) the weights of the GCN."
   ]
  },
  {
   "cell_type": "code",
   "execution_count": 19,
   "metadata": {},
   "outputs": [],
   "source": [
    "def sparse_numpy2sparse_torch(x):\n",
    "    x = x.tocoo()\n",
    "    values = x.data\n",
    "    indices = np.vstack((x.row, x.col)).astype(float)\n",
    "    i = torch.LongTensor(indices)\n",
    "    v = torch.FloatTensor(values)\n",
    "    shape = x.shape\n",
    "    return torch.sparse.FloatTensor(i, v, torch.Size(shape))"
   ]
  },
  {
   "cell_type": "code",
   "execution_count": 20,
   "metadata": {},
   "outputs": [],
   "source": [
    "An = sparse_numpy2sparse_torch(_An)\n",
    "X_obs = sparse_numpy2sparse_torch(_X_obs)"
   ]
  },
  {
   "cell_type": "code",
   "execution_count": 21,
   "metadata": {},
   "outputs": [],
   "source": [
    "surrogate_nn = GCN(sizes, An, X_obs, with_relu=False, name=\"surrogate\", gpu_id=None)"
   ]
  },
  {
   "cell_type": "code",
   "execution_count": 22,
   "metadata": {},
   "outputs": [],
   "source": [
    "surrogate_model = GCN_Model(surrogate_nn, lr=1e-3)"
   ]
  },
  {
   "cell_type": "code",
   "execution_count": 31,
   "metadata": {},
   "outputs": [],
   "source": [
    "split_train = np.array(split_train).astype(np.int64)\n",
    "split_val = np.array(split_val).astype(np.int64)"
   ]
  },
  {
   "cell_type": "code",
   "execution_count": 39,
   "metadata": {
    "scrolled": true
   },
   "outputs": [
    {
     "data": {
      "application/vnd.jupyter.widget-view+json": {
       "model_id": "61fed915d34544f5a4ade77c83e4398a",
       "version_major": 2,
       "version_minor": 0
      },
      "text/plain": [
       "HBox(children=(IntProgress(value=1, bar_style='info', max=1), HTML(value='')))"
      ]
     },
     "metadata": {},
     "output_type": "display_data"
    },
    {
     "name": "stdout",
     "output_type": "stream",
     "text": [
      "New best performance : 0.332\n",
      "New best performance : 0.385\n",
      "New best performance : 0.427\n",
      "New best performance : 0.435\n",
      "New best performance : 0.494\n",
      "New best performance : 0.523\n",
      "New best performance : 0.540\n",
      "New best performance : 0.591\n",
      "New best performance : 0.615\n",
      "New best performance : 0.683\n",
      "New best performance : 0.691\n"
     ]
    },
    {
     "name": "stderr",
     "output_type": "stream",
     "text": [
      "c:\\python37\\lib\\site-packages\\sklearn\\metrics\\classification.py:1143: UndefinedMetricWarning: F-score is ill-defined and being set to 0.0 in labels with no predicted samples.\n",
      "  'precision', 'predicted', average, warn_for)\n"
     ]
    },
    {
     "name": "stdout",
     "output_type": "stream",
     "text": [
      "New best performance : 0.709\n",
      "New best performance : 0.725\n",
      "New best performance : 0.738\n",
      "New best performance : 0.750\n",
      "New best performance : 0.762\n",
      "New best performance : 0.787\n",
      "New best performance : 0.809\n",
      "New best performance : 0.840\n",
      "New best performance : 0.852\n",
      "New best performance : 0.871\n",
      "New best performance : 0.882\n",
      "New best performance : 0.902\n",
      "New best performance : 0.920\n",
      "New best performance : 0.931\n",
      "New best performance : 0.940\n",
      "New best performance : 0.961\n",
      "New best performance : 0.972\n",
      "New best performance : 0.980\n",
      "New best performance : 0.991\n",
      "New best performance : 1.000\n",
      "New best performance : 1.022\n",
      "New best performance : 1.031\n",
      "New best performance : 1.039\n",
      "New best performance : 1.039\n",
      "New best performance : 1.048\n",
      "New best performance : 1.092\n",
      "New best performance : 1.102\n",
      "New best performance : 1.105\n",
      "New best performance : 1.113\n",
      "New best performance : 1.135\n",
      "New best performance : 1.145\n",
      "New best performance : 1.153\n",
      "New best performance : 1.162\n",
      "New best performance : 1.170\n",
      "New best performance : 1.191\n",
      "New best performance : 1.201\n",
      "New best performance : 1.209\n",
      "New best performance : 1.216\n",
      "converged after 119 iterations\n"
     ]
    }
   ],
   "source": [
    "surrogate_model.train(split_train, split_val, torch.tensor(_Z_obs.astype(np.int64)))"
   ]
  },
  {
   "cell_type": "code",
   "execution_count": 47,
   "metadata": {},
   "outputs": [],
   "source": [
    "W1 = surrogate_model.gcn.gc1.weight\n",
    "W2 = surrogate_model.gcn.gc2.weight"
   ]
  },
  {
   "cell_type": "code",
   "execution_count": null,
   "metadata": {},
   "outputs": [],
   "source": [
    "# surrogate_model = GCN(sizes, _An, _X_obs, with_relu=False, name=\"surrogate\", gpu_id=gpu_id)\n",
    "# surrogate_model.train(split_train, split_val, _Z_obs)\n",
    "# W1 =surrogate_model.W1.eval(session=surrogate_model.session)\n",
    "# W2 =surrogate_model.W2.eval(session=surrogate_model.session)"
   ]
  },
  {
   "cell_type": "markdown",
   "metadata": {},
   "source": [
    "### Setup attack"
   ]
  },
  {
   "cell_type": "code",
   "execution_count": 55,
   "metadata": {
    "scrolled": true
   },
   "outputs": [],
   "source": [
    "nettack = Nettack(_A_obs, _X_obs, _z_obs, W1, W2, u, verbose=True)"
   ]
  },
  {
   "cell_type": "code",
   "execution_count": 56,
   "metadata": {},
   "outputs": [],
   "source": [
    "direct_attack = True\n",
    "n_influencers = 1 if direct_attack else 5\n",
    "n_perturbations = int(degrees[u]) # How many perturbations to perform. Default: Degree of the node\n",
    "perturb_features = True\n",
    "perturb_structure = True"
   ]
  },
  {
   "cell_type": "markdown",
   "metadata": {},
   "source": [
    "### Poison the data"
   ]
  },
  {
   "cell_type": "code",
   "execution_count": 57,
   "metadata": {},
   "outputs": [],
   "source": [
    "nettack.reset()"
   ]
  },
  {
   "cell_type": "code",
   "execution_count": 58,
   "metadata": {},
   "outputs": [
    {
     "name": "stdout",
     "output_type": "stream",
     "text": [
      "##### Starting attack #####\n",
      "##### Attack node with ID 0 using structure and feature perturbations #####\n",
      "##### Attacking the node directly #####\n",
      "##### Performing 12 perturbations #####\n",
      "##### ...1/12 perturbations ... #####\n",
      "Edge perturbation: [  0 526]\n",
      "##### ...2/12 perturbations ... #####\n",
      "Edge perturbation: [ 0 55]\n",
      "##### ...3/12 perturbations ... #####\n",
      "Edge perturbation: [  0 594]\n",
      "##### ...4/12 perturbations ... #####\n",
      "Edge perturbation: [  0 260]\n",
      "##### ...5/12 perturbations ... #####\n",
      "Edge perturbation: [   0 1797]\n",
      "##### ...6/12 perturbations ... #####\n",
      "Edge perturbation: [   0 2012]\n",
      "##### ...7/12 perturbations ... #####\n",
      "Edge perturbation: [  0 597]\n",
      "##### ...8/12 perturbations ... #####\n",
      "Edge perturbation: [   0 1051]\n",
      "##### ...9/12 perturbations ... #####\n",
      "Edge perturbation: [   0 1309]\n",
      "##### ...10/12 perturbations ... #####\n",
      "Edge perturbation: [  0 939]\n",
      "##### ...11/12 perturbations ... #####\n",
      "Edge perturbation: [  0 781]\n",
      "##### ...12/12 perturbations ... #####\n",
      "Edge perturbation: [  0 254]\n"
     ]
    }
   ],
   "source": [
    "nettack.attack_surrogate(n_perturbations,\n",
    "                         perturb_structure=perturb_structure,\n",
    "                         perturb_features=perturb_features,\n",
    "                         direct=direct_attack,\n",
    "                         n_influencers=n_influencers)"
   ]
  },
  {
   "cell_type": "code",
   "execution_count": 59,
   "metadata": {},
   "outputs": [
    {
     "name": "stdout",
     "output_type": "stream",
     "text": [
      "[(0, 526), (0, 55), (0, 594), (0, 260), (0, 1797), (0, 2012), (0, 597), (0, 1051), (0, 1309), (0, 939), (0, 781), (0, 254)]\n"
     ]
    }
   ],
   "source": [
    "print(nettack.structure_perturbations)"
   ]
  },
  {
   "cell_type": "code",
   "execution_count": 60,
   "metadata": {},
   "outputs": [
    {
     "name": "stdout",
     "output_type": "stream",
     "text": [
      "[(), (), (), (), (), (), (), (), (), (), (), ()]\n"
     ]
    }
   ],
   "source": [
    "print(nettack.feature_perturbations)"
   ]
  },
  {
   "cell_type": "markdown",
   "metadata": {},
   "source": [
    "### Train GCN without perturbations"
   ]
  },
  {
   "cell_type": "code",
   "execution_count": 61,
   "metadata": {},
   "outputs": [],
   "source": [
    "retrain_iters=5"
   ]
  },
  {
   "cell_type": "code",
   "execution_count": 20,
   "metadata": {},
   "outputs": [],
   "source": [
    "An = sparse_numpy2sparse_torch(_An)\n",
    "X_obs = sparse_numpy2sparse_torch(_X_obs)"
   ]
  },
  {
   "cell_type": "code",
   "execution_count": 21,
   "metadata": {},
   "outputs": [],
   "source": [
    "surrogate_nn = GCN(sizes, An, X_obs, with_relu=False, name=\"surrogate\", gpu_id=None)"
   ]
  },
  {
   "cell_type": "code",
   "execution_count": 22,
   "metadata": {},
   "outputs": [],
   "source": [
    "surrogate_model = GCN_Model(surrogate_nn, lr=1e-3)"
   ]
  },
  {
   "cell_type": "code",
   "execution_count": 66,
   "metadata": {},
   "outputs": [
    {
     "data": {
      "text/plain": [
       "torch.Size([210, 6])"
      ]
     },
     "execution_count": 66,
     "metadata": {},
     "output_type": "execute_result"
    }
   ],
   "source": [
    "gcn_before.predictions.shape"
   ]
  },
  {
   "cell_type": "code",
   "execution_count": 67,
   "metadata": {},
   "outputs": [
    {
     "name": "stdout",
     "output_type": "stream",
     "text": [
      "... 1/5 \n"
     ]
    },
    {
     "ename": "TypeError",
     "evalue": "super(type, obj): obj must be an instance or subtype of type",
     "output_type": "error",
     "traceback": [
      "\u001b[1;31m---------------------------------------------------------------------------\u001b[0m",
      "\u001b[1;31mTypeError\u001b[0m                                 Traceback (most recent call last)",
      "\u001b[1;32m<ipython-input-67-b7a0378ca557>\u001b[0m in \u001b[0;36m<module>\u001b[1;34m\u001b[0m\n\u001b[0;32m      8\u001b[0m     \u001b[0mprint\u001b[0m\u001b[1;33m(\u001b[0m\u001b[1;34m\"... {}/{} \"\u001b[0m\u001b[1;33m.\u001b[0m\u001b[0mformat\u001b[0m\u001b[1;33m(\u001b[0m\u001b[0m_\u001b[0m\u001b[1;33m+\u001b[0m\u001b[1;36m1\u001b[0m\u001b[1;33m,\u001b[0m \u001b[0mretrain_iters\u001b[0m\u001b[1;33m)\u001b[0m\u001b[1;33m)\u001b[0m\u001b[1;33m\u001b[0m\u001b[0m\n\u001b[0;32m      9\u001b[0m     gcn_before_nn = GCN(sizes, An, X_obs, with_relu=True,\n\u001b[1;32m---> 10\u001b[1;33m                    name=\"gcn_orig\", gpu_id=None)\n\u001b[0m\u001b[0;32m     11\u001b[0m     \u001b[0mgcn_before\u001b[0m \u001b[1;33m=\u001b[0m \u001b[0mGCN_Model\u001b[0m\u001b[1;33m(\u001b[0m\u001b[0mgcn_before_nn\u001b[0m\u001b[1;33m,\u001b[0m \u001b[0mlr\u001b[0m\u001b[1;33m=\u001b[0m\u001b[1;36m1e-2\u001b[0m\u001b[1;33m)\u001b[0m\u001b[1;33m\u001b[0m\u001b[0m\n\u001b[0;32m     12\u001b[0m     \u001b[0mgcn_before\u001b[0m\u001b[1;33m.\u001b[0m\u001b[0mtrain\u001b[0m\u001b[1;33m(\u001b[0m\u001b[0msplit_train\u001b[0m\u001b[1;33m,\u001b[0m \u001b[0msplit_val\u001b[0m\u001b[1;33m,\u001b[0m \u001b[0mtorch\u001b[0m\u001b[1;33m.\u001b[0m\u001b[0mtensor\u001b[0m\u001b[1;33m(\u001b[0m\u001b[0m_Z_obs\u001b[0m\u001b[1;33m.\u001b[0m\u001b[0mastype\u001b[0m\u001b[1;33m(\u001b[0m\u001b[0mnp\u001b[0m\u001b[1;33m.\u001b[0m\u001b[0mint64\u001b[0m\u001b[1;33m)\u001b[0m\u001b[1;33m)\u001b[0m\u001b[1;33m)\u001b[0m\u001b[1;33m\u001b[0m\u001b[0m\n",
      "\u001b[1;32m~\\Documents\\Cours_3A\\Graphs_in_ML\\GraphsML2019\\src\\nettack\\GCN.py\u001b[0m in \u001b[0;36m__init__\u001b[1;34m(self, sizes, An, X_obs, name, with_relu, params_dict, gpu_id, seed, bias)\u001b[0m\n\u001b[0;32m     89\u001b[0m             \u001b[0mRandom\u001b[0m \u001b[0minitialization\u001b[0m \u001b[1;32mfor\u001b[0m \u001b[0mreproducibility\u001b[0m\u001b[1;33m.\u001b[0m \u001b[0mWill\u001b[0m \u001b[0mbe\u001b[0m \u001b[0mignored\u001b[0m \u001b[1;32mif\u001b[0m \u001b[0mit\u001b[0m \u001b[1;32mis\u001b[0m \u001b[1;33m-\u001b[0m\u001b[1;36m1.\u001b[0m\u001b[1;33m\u001b[0m\u001b[0m\n\u001b[0;32m     90\u001b[0m         \"\"\"\n\u001b[1;32m---> 91\u001b[1;33m         \u001b[0msuper\u001b[0m\u001b[1;33m(\u001b[0m\u001b[0mGCN\u001b[0m\u001b[1;33m,\u001b[0m \u001b[0mself\u001b[0m\u001b[1;33m)\u001b[0m\u001b[1;33m.\u001b[0m\u001b[0m__init__\u001b[0m\u001b[1;33m(\u001b[0m\u001b[1;33m)\u001b[0m\u001b[1;33m\u001b[0m\u001b[0m\n\u001b[0m\u001b[0;32m     92\u001b[0m         \u001b[1;32mif\u001b[0m \u001b[0mseed\u001b[0m \u001b[1;33m>\u001b[0m \u001b[1;33m-\u001b[0m\u001b[1;36m1\u001b[0m\u001b[1;33m:\u001b[0m\u001b[1;33m\u001b[0m\u001b[0m\n\u001b[0;32m     93\u001b[0m             \u001b[0mtorch\u001b[0m\u001b[1;33m.\u001b[0m\u001b[0mmanual_seed\u001b[0m\u001b[1;33m(\u001b[0m\u001b[0mseed\u001b[0m\u001b[1;33m)\u001b[0m\u001b[1;33m\u001b[0m\u001b[0m\n",
      "\u001b[1;31mTypeError\u001b[0m: super(type, obj): obj must be an instance or subtype of type"
     ]
    }
   ],
   "source": [
    "classification_margins_clean = []\n",
    "class_distrs_clean = []\n",
    "\n",
    "\n",
    "# gcn_before = GCN.GCN(sizes, _An, _X_obs, \"gcn_orig\", gpu_id=gpu_id)\n",
    "\n",
    "for _ in range(retrain_iters):\n",
    "    print(\"... {}/{} \".format(_+1, retrain_iters))\n",
    "    gcn_before_nn = GCN(sizes, An, X_obs, with_relu=True,\n",
    "                   name=\"gcn_orig\", gpu_id=None)\n",
    "    gcn_before = GCN_Model(gcn_before_nn, lr=1e-2)\n",
    "    gcn_before.train(split_train, split_val, torch.tensor(_Z_obs.astype(np.int64)))\n",
    "#     probs_before_attack = gcn_before.predictions.eval(session=gcn_before.session,\n",
    "#                                                       feed_dict={gcn_before.node_ids: [nettack.u]})[0]\n",
    "#     class_distrs_clean.append(probs_before_attack)\n",
    "#     best_second_class_before = (probs_before_attack - 1000*_Z_obs[nettack.u]).argmax()\n",
    "#     margin_before = probs_before_attack[_z_obs[nettack.u]] - probs_before_attack[best_second_class_before]\n",
    "#     classification_margins_clean.append(margin_before)\n",
    "# class_distrs_clean = np.array(class_distrs_clean)"
   ]
  }
 ],
 "metadata": {
  "kernelspec": {
   "display_name": "Python 3",
   "language": "python",
   "name": "python3"
  },
  "language_info": {
   "codemirror_mode": {
    "name": "ipython",
    "version": 3
   },
   "file_extension": ".py",
   "mimetype": "text/x-python",
   "name": "python",
   "nbconvert_exporter": "python",
   "pygments_lexer": "ipython3",
   "version": "3.7.0"
  }
 },
 "nbformat": 4,
 "nbformat_minor": 2
}
