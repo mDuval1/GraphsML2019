{
 "cells": [
  {
   "cell_type": "code",
   "execution_count": 1,
   "metadata": {},
   "outputs": [],
   "source": [
    "%load_ext autoreload\n",
    "%autoreload 2\n",
    "%matplotlib notebook"
   ]
  },
  {
   "cell_type": "code",
   "execution_count": 2,
   "metadata": {},
   "outputs": [],
   "source": [
    "import numpy as np\n",
    "import pandas as pd\n",
    "import matplotlib.pyplot as plt\n",
    "import torch\n",
    "import networkx as nx"
   ]
  },
  {
   "cell_type": "code",
   "execution_count": 3,
   "metadata": {},
   "outputs": [],
   "source": [
    "seed = 42\n",
    "torch.manual_seed(seed)\n",
    "torch.backends.cudnn.deterministic = True\n",
    "torch.backends.cudnn.benchmark = False\n",
    "np.random.seed(seed)"
   ]
  },
  {
   "cell_type": "code",
   "execution_count": 56,
   "metadata": {},
   "outputs": [
    {
     "name": "stderr",
     "output_type": "stream",
     "text": [
      "[autoreload of src.nettack.nettack failed: Traceback (most recent call last):\n",
      "  File \"/home/raphaelg/anaconda3/lib/python3.7/site-packages/IPython/extensions/autoreload.py\", line 245, in check\n",
      "    superreload(m, reload, self.old_objects)\n",
      "  File \"/home/raphaelg/anaconda3/lib/python3.7/site-packages/IPython/extensions/autoreload.py\", line 450, in superreload\n",
      "    update_generic(old_obj, new_obj)\n",
      "  File \"/home/raphaelg/anaconda3/lib/python3.7/site-packages/IPython/extensions/autoreload.py\", line 387, in update_generic\n",
      "    update(a, b)\n",
      "  File \"/home/raphaelg/anaconda3/lib/python3.7/site-packages/IPython/extensions/autoreload.py\", line 357, in update_class\n",
      "    update_instances(old, new)\n",
      "  File \"/home/raphaelg/anaconda3/lib/python3.7/site-packages/IPython/extensions/autoreload.py\", line 312, in update_instances\n",
      "    update_instances(old, new, obj.__dict__, visited)\n",
      "  File \"/home/raphaelg/anaconda3/lib/python3.7/site-packages/IPython/extensions/autoreload.py\", line 312, in update_instances\n",
      "    update_instances(old, new, obj.__dict__, visited)\n",
      "  File \"/home/raphaelg/anaconda3/lib/python3.7/site-packages/IPython/extensions/autoreload.py\", line 317, in update_instances\n",
      "    update_instances(old, new, obj, visited)\n",
      "  File \"/home/raphaelg/anaconda3/lib/python3.7/site-packages/IPython/extensions/autoreload.py\", line 317, in update_instances\n",
      "    update_instances(old, new, obj, visited)\n",
      "  File \"/home/raphaelg/anaconda3/lib/python3.7/site-packages/IPython/extensions/autoreload.py\", line 312, in update_instances\n",
      "    update_instances(old, new, obj.__dict__, visited)\n",
      "  File \"/home/raphaelg/anaconda3/lib/python3.7/site-packages/IPython/extensions/autoreload.py\", line 317, in update_instances\n",
      "    update_instances(old, new, obj, visited)\n",
      "AttributeError: 'dict' object has no attribute 'iterkeys'\n",
      "]\n"
     ]
    }
   ],
   "source": [
    "from src.nettack.GCN import *\n",
    "from src.nettack.utils import *\n",
    "from src.nettack.nettack import *"
   ]
  },
  {
   "cell_type": "markdown",
   "metadata": {},
   "source": [
    "# Tests"
   ]
  },
  {
   "cell_type": "markdown",
   "metadata": {
    "heading_collapsed": true
   },
   "source": [
    "## Layers"
   ]
  },
  {
   "cell_type": "code",
   "execution_count": 5,
   "metadata": {
    "hidden": true
   },
   "outputs": [],
   "source": [
    "layer = GraphConvolution(in_features=8, out_features=5)"
   ]
  },
  {
   "cell_type": "code",
   "execution_count": 6,
   "metadata": {
    "hidden": true,
    "scrolled": true
   },
   "outputs": [],
   "source": [
    "N = 30\n",
    "Adjacency_matrix = torch.tensor((np.random.rand(N, N) > 0.7).astype(np.float32)).to_sparse()\n",
    "input = torch.rand(N, 8).to_sparse()"
   ]
  },
  {
   "cell_type": "code",
   "execution_count": 7,
   "metadata": {
    "hidden": true
   },
   "outputs": [
    {
     "data": {
      "text/plain": [
       "torch.Size([30, 5])"
      ]
     },
     "execution_count": 7,
     "metadata": {},
     "output_type": "execute_result"
    }
   ],
   "source": [
    "layer(input, Adjacency_matrix).shape"
   ]
  },
  {
   "cell_type": "markdown",
   "metadata": {
    "heading_collapsed": true
   },
   "source": [
    "## GCN"
   ]
  },
  {
   "cell_type": "code",
   "execution_count": 8,
   "metadata": {
    "hidden": true
   },
   "outputs": [],
   "source": [
    "N = 30\n",
    "C = 5\n",
    "D = 20\n",
    "Adjacency_matrix = torch.tensor((np.random.rand(N, N) > 0.7).astype(np.float32)).to_sparse()\n",
    "\n",
    "X_observed = torch.rand(N, D)\n",
    "Y_observed = torch.randint(low=0, high=C, size=(N,))\n",
    "\n",
    "H = 10"
   ]
  },
  {
   "cell_type": "code",
   "execution_count": 9,
   "metadata": {
    "hidden": true
   },
   "outputs": [],
   "source": [
    "gcn = GCN(sizes=[H, C],\n",
    "          An=Adjacency_matrix,\n",
    "          X_obs=X_observed,\n",
    "          name='test', with_relu=True, params_dict={})"
   ]
  },
  {
   "cell_type": "code",
   "execution_count": 10,
   "metadata": {
    "hidden": true
   },
   "outputs": [],
   "source": [
    "gcn_model = GCN_Model(gcn, lr=1e-3)"
   ]
  },
  {
   "cell_type": "code",
   "execution_count": 11,
   "metadata": {
    "hidden": true
   },
   "outputs": [],
   "source": [
    "node_ids = torch.tensor([1, 3, 7])\n",
    "node_labels = torch.tensor([2, 0, 3])"
   ]
  },
  {
   "cell_type": "code",
   "execution_count": 12,
   "metadata": {
    "hidden": true
   },
   "outputs": [],
   "source": [
    "train_nodes = [1, 2, 5, 6, 7, 9, 15]\n",
    "val_nodes = [17, 18, 19, 20, 22]"
   ]
  },
  {
   "cell_type": "code",
   "execution_count": 13,
   "metadata": {
    "hidden": true
   },
   "outputs": [
    {
     "name": "stderr",
     "output_type": "stream",
     "text": [
      "/home/raphaelg/anaconda3/lib/python3.7/site-packages/sklearn/metrics/classification.py:1437: UndefinedMetricWarning: F-score is ill-defined and being set to 0.0 in labels with no predicted samples.\n",
      "  'precision', 'predicted', average, warn_for)\n",
      "/home/raphaelg/anaconda3/lib/python3.7/site-packages/sklearn/metrics/classification.py:1439: UndefinedMetricWarning: F-score is ill-defined and being set to 0.0 in labels with no true samples.\n",
      "  'recall', 'true', average, warn_for)\n"
     ]
    },
    {
     "name": "stdout",
     "output_type": "stream",
     "text": [
      "converged after 18 iterations\n"
     ]
    }
   ],
   "source": [
    "gcn_model.train(split_train=train_nodes, split_val=val_nodes, Z_obs=Y_observed)"
   ]
  },
  {
   "cell_type": "markdown",
   "metadata": {
    "heading_collapsed": true
   },
   "source": [
    "## Random"
   ]
  },
  {
   "cell_type": "code",
   "execution_count": 14,
   "metadata": {
    "hidden": true
   },
   "outputs": [],
   "source": [
    "node_labels = pd.read_csv('datasets/citeseer/citeseer.node_labels', header=None, names=['id', 'label'])"
   ]
  },
  {
   "cell_type": "code",
   "execution_count": 15,
   "metadata": {
    "hidden": true
   },
   "outputs": [],
   "source": [
    "edges = pd.read_csv('datasets/citeseer/citeseer.edges', header=None, names=['e1', 'e2', 'weight'])"
   ]
  },
  {
   "cell_type": "code",
   "execution_count": 16,
   "metadata": {
    "hidden": true
   },
   "outputs": [],
   "source": [
    "G = nx.Graph()\n",
    "for _, row in node_labels.iterrows():\n",
    "    G.add_node(row.id, label=row.label)\n",
    "G.add_edges_from(edges.loc[:, ['e1', 'e2']])"
   ]
  },
  {
   "cell_type": "markdown",
   "metadata": {},
   "source": [
    "## Nettack"
   ]
  },
  {
   "cell_type": "markdown",
   "metadata": {},
   "source": [
    "### Data preprocessing"
   ]
  },
  {
   "cell_type": "code",
   "execution_count": 17,
   "metadata": {},
   "outputs": [],
   "source": [
    "_A_obs, _X_obs, _z_obs = load_npz('src/data/citeseer.npz')"
   ]
  },
  {
   "cell_type": "code",
   "execution_count": 18,
   "metadata": {},
   "outputs": [
    {
     "data": {
      "text/plain": [
       "<3312x3312 sparse matrix of type '<class 'numpy.float32'>'\n",
       "\twith 4715 stored elements in Compressed Sparse Row format>"
      ]
     },
     "execution_count": 18,
     "metadata": {},
     "output_type": "execute_result"
    }
   ],
   "source": [
    "# Adjacency matrix\n",
    "_A_obs"
   ]
  },
  {
   "cell_type": "code",
   "execution_count": 19,
   "metadata": {},
   "outputs": [
    {
     "data": {
      "text/plain": [
       "<3312x3703 sparse matrix of type '<class 'numpy.int64'>'\n",
       "\twith 105165 stored elements in Compressed Sparse Row format>"
      ]
     },
     "execution_count": 19,
     "metadata": {},
     "output_type": "execute_result"
    }
   ],
   "source": [
    "# Feature matrix\n",
    "_X_obs"
   ]
  },
  {
   "cell_type": "code",
   "execution_count": 20,
   "metadata": {},
   "outputs": [
    {
     "data": {
      "text/plain": [
       "(3703,)"
      ]
     },
     "execution_count": 20,
     "metadata": {},
     "output_type": "execute_result"
    }
   ],
   "source": [
    "np.array(_X_obs[0].todense())[0].shape"
   ]
  },
  {
   "cell_type": "code",
   "execution_count": 21,
   "metadata": {},
   "outputs": [
    {
     "data": {
      "text/plain": [
       "2    701\n",
       "4    668\n",
       "1    596\n",
       "5    590\n",
       "3    508\n",
       "0    249\n",
       "dtype: int64"
      ]
     },
     "execution_count": 21,
     "metadata": {},
     "output_type": "execute_result"
    }
   ],
   "source": [
    "# Labels\n",
    "_z_obs\n",
    "pd.value_counts(_z_obs)"
   ]
  },
  {
   "cell_type": "code",
   "execution_count": 22,
   "metadata": {},
   "outputs": [],
   "source": [
    "# Normalizing Adjacency matrix\n",
    "_A_obs = _A_obs + _A_obs.T\n",
    "_A_obs[_A_obs > 1] = 1"
   ]
  },
  {
   "cell_type": "code",
   "execution_count": 23,
   "metadata": {},
   "outputs": [
    {
     "name": "stdout",
     "output_type": "stream",
     "text": [
      "Selecting 1 largest connected components\n"
     ]
    }
   ],
   "source": [
    "# For the algorithm to work, we have to consider a connected graph.\n",
    "lcc = largest_connected_components(_A_obs)"
   ]
  },
  {
   "cell_type": "code",
   "execution_count": 24,
   "metadata": {},
   "outputs": [
    {
     "name": "stdout",
     "output_type": "stream",
     "text": [
      "Largest connected component has 2110 nodes\n"
     ]
    }
   ],
   "source": [
    "print(f'Largest connected component has {len(lcc)} nodes')\n",
    "# keeping the largest connected component of the graph\n",
    "_A_obs = _A_obs[lcc][:,lcc]\n",
    "_X_obs = _X_obs[lcc].astype('float32')\n",
    "_z_obs = _z_obs[lcc]"
   ]
  },
  {
   "cell_type": "code",
   "execution_count": 25,
   "metadata": {},
   "outputs": [],
   "source": [
    "assert np.abs(_A_obs - _A_obs.T).sum() == 0, \"Input graph is not symmetric\"\n",
    "assert _A_obs.max() == 1 and len(np.unique(_A_obs[_A_obs.nonzero()].A1)) == 1, \"Graph must be unweighted\"\n",
    "assert _A_obs.sum(0).A1.min() > 0, \"Graph contains singleton nodes\""
   ]
  },
  {
   "cell_type": "code",
   "execution_count": 26,
   "metadata": {},
   "outputs": [],
   "source": [
    "_N = _A_obs.shape[0]\n",
    "_K = _z_obs.max()+1\n",
    "\n",
    "# In our pytorch implementation, labels are not one hot encoded\n",
    "# _Z_obs = np.eye(_K)[_z_obs]\n",
    "_Z_obs = _z_obs\n",
    "# Normalizing adjacency matrix\n",
    "_An = preprocess_graph(_A_obs)\n",
    "sizes = [16, _K]\n",
    "degrees = _A_obs.sum(0).A1\n",
    "\n",
    "\n",
    "np.random.seed(seed)"
   ]
  },
  {
   "cell_type": "code",
   "execution_count": 27,
   "metadata": {},
   "outputs": [],
   "source": [
    "unlabeled_share = 0.8\n",
    "val_share = 0.1\n",
    "train_share = 1 - unlabeled_share - val_share\n",
    "splits = train_val_test_split_tabular(np.arange(_N), train_size=train_share,\n",
    "                                      val_size=val_share, test_size=unlabeled_share,\n",
    "                                      stratify=_z_obs)\n",
    "split_train, split_val, split_unlabeled = splits"
   ]
  },
  {
   "cell_type": "code",
   "execution_count": 28,
   "metadata": {},
   "outputs": [
    {
     "name": "stdout",
     "output_type": "stream",
     "text": [
      "Number of training node : 210\n",
      "Number of validation nodes : 211\n",
      "Number of unlabeled (unknown) nodes : 1688\n"
     ]
    }
   ],
   "source": [
    "print(f'Number of training node : {len(split_train)}')\n",
    "print(f'Number of validation nodes : {len(split_val)}')\n",
    "print(f'Number of unlabeled (unknown) nodes : {len(split_unlabeled)}')"
   ]
  },
  {
   "cell_type": "markdown",
   "metadata": {},
   "source": [
    "### Choosing the node to attack"
   ]
  },
  {
   "cell_type": "code",
   "execution_count": 29,
   "metadata": {},
   "outputs": [],
   "source": [
    "u = 0 # node to attack\n",
    "assert u in split_unlabeled"
   ]
  },
  {
   "cell_type": "markdown",
   "metadata": {},
   "source": [
    "### Train surrogate model"
   ]
  },
  {
   "cell_type": "markdown",
   "metadata": {},
   "source": [
    "Initialization of Nettack : train on a simple model (with no ReLU) the weights of the GCN."
   ]
  },
  {
   "cell_type": "code",
   "execution_count": 30,
   "metadata": {},
   "outputs": [],
   "source": [
    "def sparse_numpy2sparse_torch(x):\n",
    "    x = x.tocoo()\n",
    "    values = x.data\n",
    "    indices = np.vstack((x.row, x.col)).astype(float)\n",
    "    i = torch.LongTensor(indices)\n",
    "    v = torch.FloatTensor(values)\n",
    "    shape = x.shape\n",
    "    return torch.sparse.FloatTensor(i, v, torch.Size(shape))"
   ]
  },
  {
   "cell_type": "code",
   "execution_count": 31,
   "metadata": {},
   "outputs": [],
   "source": [
    "An = sparse_numpy2sparse_torch(_An)\n",
    "X_obs = sparse_numpy2sparse_torch(_X_obs)"
   ]
  },
  {
   "cell_type": "code",
   "execution_count": 32,
   "metadata": {},
   "outputs": [],
   "source": [
    "surrogate_nn = GCN(sizes, An, X_obs, with_relu=False, name=\"surrogate\")"
   ]
  },
  {
   "cell_type": "code",
   "execution_count": 33,
   "metadata": {},
   "outputs": [],
   "source": [
    "surrogate_model = GCN_Model(surrogate_nn, lr=1e-2)"
   ]
  },
  {
   "cell_type": "code",
   "execution_count": 34,
   "metadata": {},
   "outputs": [],
   "source": [
    "split_train = np.array(split_train).astype(np.int64)\n",
    "split_val = np.array(split_val).astype(np.int64)"
   ]
  },
  {
   "cell_type": "code",
   "execution_count": 35,
   "metadata": {
    "scrolled": true
   },
   "outputs": [
    {
     "name": "stderr",
     "output_type": "stream",
     "text": [
      "/home/raphaelg/anaconda3/lib/python3.7/site-packages/sklearn/metrics/classification.py:1437: UndefinedMetricWarning: F-score is ill-defined and being set to 0.0 in labels with no predicted samples.\n",
      "  'precision', 'predicted', average, warn_for)\n"
     ]
    }
   ],
   "source": [
    "surrogate_model.train(split_train, split_val, torch.tensor(_Z_obs.astype(np.int64)), print_info=False)"
   ]
  },
  {
   "cell_type": "code",
   "execution_count": 36,
   "metadata": {},
   "outputs": [
    {
     "data": {
      "text/plain": [
       "0.6255924170616114"
      ]
     },
     "execution_count": 36,
     "metadata": {},
     "output_type": "execute_result"
    }
   ],
   "source": [
    "preds = surrogate_model.predictions.detach().cpu().numpy().argmax(axis=1)\n",
    "truth = _Z_obs[split_val]\n",
    "(truth == preds).mean()"
   ]
  },
  {
   "cell_type": "code",
   "execution_count": 37,
   "metadata": {},
   "outputs": [],
   "source": [
    "W1 = surrogate_model.gcn.gc1.weight\n",
    "W2 = surrogate_model.gcn.gc2.weight"
   ]
  },
  {
   "cell_type": "markdown",
   "metadata": {},
   "source": [
    "### Setup attack"
   ]
  },
  {
   "cell_type": "code",
   "execution_count": 38,
   "metadata": {
    "scrolled": true
   },
   "outputs": [],
   "source": [
    "nettack = Nettack(_A_obs, _X_obs, _z_obs, W1, W2, u, verbose=True)"
   ]
  },
  {
   "cell_type": "code",
   "execution_count": 39,
   "metadata": {},
   "outputs": [],
   "source": [
    "direct_attack = True\n",
    "n_influencers = 1 if direct_attack else 5\n",
    "n_perturbations = int(degrees[u]) # How many perturbations to perform. Default: Degree of the node\n",
    "perturb_features = True\n",
    "perturb_structure = True"
   ]
  },
  {
   "cell_type": "markdown",
   "metadata": {},
   "source": [
    "### Poison the data"
   ]
  },
  {
   "cell_type": "code",
   "execution_count": 40,
   "metadata": {},
   "outputs": [],
   "source": [
    "nettack.reset()"
   ]
  },
  {
   "cell_type": "code",
   "execution_count": 41,
   "metadata": {},
   "outputs": [],
   "source": [
    "direct_attack = True\n",
    "n_influencers = 1 if direct_attack else 5\n",
    "n_perturbations = int(degrees[u]) # How many perturbations to perform. Default: Degree of the node\n",
    "perturb_features = False\n",
    "perturb_structure = True"
   ]
  },
  {
   "cell_type": "markdown",
   "metadata": {},
   "source": [
    "### Poison the data"
   ]
  },
  {
   "cell_type": "code",
   "execution_count": 111,
   "metadata": {},
   "outputs": [],
   "source": [
    "nettack.reset()"
   ]
  },
  {
   "cell_type": "markdown",
   "metadata": {},
   "source": [
    "For M=25, the first two perturbations are done in a different order, the rest stays the same. For M=5, the modifications are the same. This proves that the look ahead algorithm is correct and can only improve the performance "
   ]
  },
  {
   "cell_type": "code",
   "execution_count": 112,
   "metadata": {},
   "outputs": [
    {
     "name": "stdout",
     "output_type": "stream",
     "text": [
      "##### Starting attack #####\n",
      "##### Attack only using structure perturbations #####\n",
      "##### Attacking the node directly #####\n",
      "##### Performing 12 perturbations #####\n",
      "Using the greedy look ahead algorithm\n",
      "##### ...1/12 perturbations ... #####\n",
      "##### ...3/12 perturbations ... #####\n",
      "##### ...5/12 perturbations ... #####\n",
      "##### ...7/12 perturbations ... #####\n",
      "##### ...9/12 perturbations ... #####\n",
      "##### ...11/12 perturbations ... #####\n"
     ]
    }
   ],
   "source": [
    "nettack.attack_surrogate(n_perturbations,\n",
    "                         perturb_structure=perturb_structure,\n",
    "                         perturb_features=perturb_features,\n",
    "                         direct=direct_attack,\n",
    "                         n_influencers=n_influencers,\n",
    "                        look_ahead=True,\n",
    "                         M=25)"
   ]
  },
  {
   "cell_type": "code",
   "execution_count": 113,
   "metadata": {},
   "outputs": [
    {
     "name": "stdout",
     "output_type": "stream",
     "text": [
      "[(0, 2012), (0, 1582), (0, 129), (0, 374), (0, 2095), (0, 751), (0, 1108), (0, 42), (0, 1677), (0, 1901), (0, 330), (0, 209)]\n"
     ]
    }
   ],
   "source": [
    "print(nettack.structure_perturbations)"
   ]
  },
  {
   "cell_type": "code",
   "execution_count": 114,
   "metadata": {},
   "outputs": [
    {
     "name": "stdout",
     "output_type": "stream",
     "text": [
      "[(), (), (), (), (), (), (), (), (), (), (), ()]\n"
     ]
    }
   ],
   "source": [
    "print(nettack.feature_perturbations)"
   ]
  },
  {
   "cell_type": "markdown",
   "metadata": {},
   "source": [
    "### Train GCN without perturbations"
   ]
  },
  {
   "cell_type": "code",
   "execution_count": 115,
   "metadata": {},
   "outputs": [],
   "source": [
    "retrain_iters=5"
   ]
  },
  {
   "cell_type": "code",
   "execution_count": 116,
   "metadata": {},
   "outputs": [
    {
     "name": "stdout",
     "output_type": "stream",
     "text": [
      "... 1/5 \n"
     ]
    },
    {
     "name": "stderr",
     "output_type": "stream",
     "text": [
      "/home/raphaelg/anaconda3/lib/python3.7/site-packages/sklearn/metrics/classification.py:1437: UndefinedMetricWarning: F-score is ill-defined and being set to 0.0 in labels with no predicted samples.\n",
      "  'precision', 'predicted', average, warn_for)\n"
     ]
    },
    {
     "name": "stdout",
     "output_type": "stream",
     "text": [
      "Validation accuracy : 0.668\n",
      "... 2/5 \n",
      "Validation accuracy : 0.664\n",
      "... 3/5 \n",
      "Validation accuracy : 0.664\n",
      "... 4/5 \n",
      "Validation accuracy : 0.649\n",
      "... 5/5 \n",
      "Validation accuracy : 0.678\n"
     ]
    }
   ],
   "source": [
    "classification_margins_clean = []\n",
    "class_distrs_clean = []\n",
    "\n",
    "u_nodes = torch.tensor([nettack.u])\n",
    "u_labels = torch.tensor(_Z_obs.astype(np.int64))[u_nodes]\n",
    "one_hot_encod_u = np.zeros(np.max(_Z_obs)+1)\n",
    "one_hot_encod_u[_Z_obs[nettack.u]] = 1\n",
    "\n",
    "\n",
    "for _ in range(retrain_iters):\n",
    "    print(\"... {}/{} \".format(_+1, retrain_iters))\n",
    "    gcn_before_nn = GCN(sizes, An, X_obs, with_relu=True,\n",
    "                   name=\"gcn_orig\")\n",
    "    gcn_before = GCN_Model(gcn_before_nn, lr=1e-2)\n",
    "    gcn_before.train(split_train, split_val, torch.tensor(_Z_obs.astype(np.int64)), print_info=False)\n",
    "    preds = gcn_before.predictions.detach().cpu().numpy().argmax(axis=1)\n",
    "    truth = _Z_obs[split_val]\n",
    "    print(f'Validation accuracy : {(truth == preds).mean():.3f}')\n",
    "    gcn_before._compute_loss_and_backprop(u_nodes, u_labels, False)\n",
    "    probs_before_attack = gcn_before.predictions.detach().cpu().numpy()[0]\n",
    "\n",
    "    class_distrs_clean.append(probs_before_attack)\n",
    "    best_second_class_before = (probs_before_attack - 1000*one_hot_encod_u).argmax()\n",
    "    margin_before = probs_before_attack[_z_obs[nettack.u]] - probs_before_attack[best_second_class_before]\n",
    "    classification_margins_clean.append(margin_before)\n",
    "class_distrs_clean = np.array(class_distrs_clean)"
   ]
  },
  {
   "cell_type": "markdown",
   "metadata": {},
   "source": [
    "### Train GCN with perturbations"
   ]
  },
  {
   "cell_type": "code",
   "execution_count": 117,
   "metadata": {},
   "outputs": [
    {
     "name": "stdout",
     "output_type": "stream",
     "text": [
      "... 1/5 \n",
      "... 2/5 \n",
      "... 3/5 \n",
      "... 4/5 \n",
      "... 5/5 \n"
     ]
    }
   ],
   "source": [
    "classification_margins_corrupted = []\n",
    "class_distrs_retrain = []\n",
    "\n",
    "nettack_adj_torch = sparse_numpy2sparse_torch(nettack.adj_preprocessed)\n",
    "nettack_X_torch = sparse_numpy2sparse_torch(nettack.X_obs.tocsr())\n",
    "\n",
    "for _ in range(retrain_iters):\n",
    "    print(\"... {}/{} \".format(_+1, retrain_iters))\n",
    "    gcn_retrain_nn = GCN(sizes, nettack_adj_torch, nettack_X_torch, with_relu=True,\n",
    "                   name=\"gcn_retrain\")\n",
    "    gcn_retrain = GCN_Model(gcn_retrain_nn, lr=1e-2)\n",
    "\n",
    "    gcn_retrain.train(split_train, split_val, torch.tensor(_Z_obs.astype(np.int64)), print_info=False)\n",
    "    gcn_retrain._compute_loss_and_backprop(u_nodes, u_labels, False)\n",
    "    probs_after_attack = gcn_retrain.predictions.detach().cpu().numpy()[0]\n",
    "    class_distrs_retrain.append(probs_after_attack)\n",
    "    best_second_class_after = (probs_after_attack - 1000*one_hot_encod_u).argmax()\n",
    "    margin_after = probs_after_attack[_z_obs[nettack.u]] - probs_after_attack[best_second_class_after]\n",
    "    classification_margins_corrupted.append(margin_after)\n",
    "class_distrs_retrain = np.array(class_distrs_retrain)"
   ]
  },
  {
   "cell_type": "markdown",
   "metadata": {},
   "source": [
    "### Visualize results"
   ]
  },
  {
   "cell_type": "code",
   "execution_count": 118,
   "metadata": {},
   "outputs": [
    {
     "data": {
      "text/plain": [
       "([-0.99973446, -0.9958911, -0.99816126, -0.9948137, -0.9995308],\n",
       " [0.95503354, 0.9742912, 0.9695786, 0.9715423, 0.9720526])"
      ]
     },
     "execution_count": 118,
     "metadata": {},
     "output_type": "execute_result"
    }
   ],
   "source": [
    "classification_margins_corrupted, classification_margins_clean"
   ]
  },
  {
   "cell_type": "code",
   "execution_count": 119,
   "metadata": {},
   "outputs": [
    {
     "data": {
      "application/javascript": [
       "/* Put everything inside the global mpl namespace */\n",
       "window.mpl = {};\n",
       "\n",
       "\n",
       "mpl.get_websocket_type = function() {\n",
       "    if (typeof(WebSocket) !== 'undefined') {\n",
       "        return WebSocket;\n",
       "    } else if (typeof(MozWebSocket) !== 'undefined') {\n",
       "        return MozWebSocket;\n",
       "    } else {\n",
       "        alert('Your browser does not have WebSocket support. ' +\n",
       "              'Please try Chrome, Safari or Firefox ≥ 6. ' +\n",
       "              'Firefox 4 and 5 are also supported but you ' +\n",
       "              'have to enable WebSockets in about:config.');\n",
       "    };\n",
       "}\n",
       "\n",
       "mpl.figure = function(figure_id, websocket, ondownload, parent_element) {\n",
       "    this.id = figure_id;\n",
       "\n",
       "    this.ws = websocket;\n",
       "\n",
       "    this.supports_binary = (this.ws.binaryType != undefined);\n",
       "\n",
       "    if (!this.supports_binary) {\n",
       "        var warnings = document.getElementById(\"mpl-warnings\");\n",
       "        if (warnings) {\n",
       "            warnings.style.display = 'block';\n",
       "            warnings.textContent = (\n",
       "                \"This browser does not support binary websocket messages. \" +\n",
       "                    \"Performance may be slow.\");\n",
       "        }\n",
       "    }\n",
       "\n",
       "    this.imageObj = new Image();\n",
       "\n",
       "    this.context = undefined;\n",
       "    this.message = undefined;\n",
       "    this.canvas = undefined;\n",
       "    this.rubberband_canvas = undefined;\n",
       "    this.rubberband_context = undefined;\n",
       "    this.format_dropdown = undefined;\n",
       "\n",
       "    this.image_mode = 'full';\n",
       "\n",
       "    this.root = $('<div/>');\n",
       "    this._root_extra_style(this.root)\n",
       "    this.root.attr('style', 'display: inline-block');\n",
       "\n",
       "    $(parent_element).append(this.root);\n",
       "\n",
       "    this._init_header(this);\n",
       "    this._init_canvas(this);\n",
       "    this._init_toolbar(this);\n",
       "\n",
       "    var fig = this;\n",
       "\n",
       "    this.waiting = false;\n",
       "\n",
       "    this.ws.onopen =  function () {\n",
       "            fig.send_message(\"supports_binary\", {value: fig.supports_binary});\n",
       "            fig.send_message(\"send_image_mode\", {});\n",
       "            if (mpl.ratio != 1) {\n",
       "                fig.send_message(\"set_dpi_ratio\", {'dpi_ratio': mpl.ratio});\n",
       "            }\n",
       "            fig.send_message(\"refresh\", {});\n",
       "        }\n",
       "\n",
       "    this.imageObj.onload = function() {\n",
       "            if (fig.image_mode == 'full') {\n",
       "                // Full images could contain transparency (where diff images\n",
       "                // almost always do), so we need to clear the canvas so that\n",
       "                // there is no ghosting.\n",
       "                fig.context.clearRect(0, 0, fig.canvas.width, fig.canvas.height);\n",
       "            }\n",
       "            fig.context.drawImage(fig.imageObj, 0, 0);\n",
       "        };\n",
       "\n",
       "    this.imageObj.onunload = function() {\n",
       "        fig.ws.close();\n",
       "    }\n",
       "\n",
       "    this.ws.onmessage = this._make_on_message_function(this);\n",
       "\n",
       "    this.ondownload = ondownload;\n",
       "}\n",
       "\n",
       "mpl.figure.prototype._init_header = function() {\n",
       "    var titlebar = $(\n",
       "        '<div class=\"ui-dialog-titlebar ui-widget-header ui-corner-all ' +\n",
       "        'ui-helper-clearfix\"/>');\n",
       "    var titletext = $(\n",
       "        '<div class=\"ui-dialog-title\" style=\"width: 100%; ' +\n",
       "        'text-align: center; padding: 3px;\"/>');\n",
       "    titlebar.append(titletext)\n",
       "    this.root.append(titlebar);\n",
       "    this.header = titletext[0];\n",
       "}\n",
       "\n",
       "\n",
       "\n",
       "mpl.figure.prototype._canvas_extra_style = function(canvas_div) {\n",
       "\n",
       "}\n",
       "\n",
       "\n",
       "mpl.figure.prototype._root_extra_style = function(canvas_div) {\n",
       "\n",
       "}\n",
       "\n",
       "mpl.figure.prototype._init_canvas = function() {\n",
       "    var fig = this;\n",
       "\n",
       "    var canvas_div = $('<div/>');\n",
       "\n",
       "    canvas_div.attr('style', 'position: relative; clear: both; outline: 0');\n",
       "\n",
       "    function canvas_keyboard_event(event) {\n",
       "        return fig.key_event(event, event['data']);\n",
       "    }\n",
       "\n",
       "    canvas_div.keydown('key_press', canvas_keyboard_event);\n",
       "    canvas_div.keyup('key_release', canvas_keyboard_event);\n",
       "    this.canvas_div = canvas_div\n",
       "    this._canvas_extra_style(canvas_div)\n",
       "    this.root.append(canvas_div);\n",
       "\n",
       "    var canvas = $('<canvas/>');\n",
       "    canvas.addClass('mpl-canvas');\n",
       "    canvas.attr('style', \"left: 0; top: 0; z-index: 0; outline: 0\")\n",
       "\n",
       "    this.canvas = canvas[0];\n",
       "    this.context = canvas[0].getContext(\"2d\");\n",
       "\n",
       "    var backingStore = this.context.backingStorePixelRatio ||\n",
       "\tthis.context.webkitBackingStorePixelRatio ||\n",
       "\tthis.context.mozBackingStorePixelRatio ||\n",
       "\tthis.context.msBackingStorePixelRatio ||\n",
       "\tthis.context.oBackingStorePixelRatio ||\n",
       "\tthis.context.backingStorePixelRatio || 1;\n",
       "\n",
       "    mpl.ratio = (window.devicePixelRatio || 1) / backingStore;\n",
       "\n",
       "    var rubberband = $('<canvas/>');\n",
       "    rubberband.attr('style', \"position: absolute; left: 0; top: 0; z-index: 1;\")\n",
       "\n",
       "    var pass_mouse_events = true;\n",
       "\n",
       "    canvas_div.resizable({\n",
       "        start: function(event, ui) {\n",
       "            pass_mouse_events = false;\n",
       "        },\n",
       "        resize: function(event, ui) {\n",
       "            fig.request_resize(ui.size.width, ui.size.height);\n",
       "        },\n",
       "        stop: function(event, ui) {\n",
       "            pass_mouse_events = true;\n",
       "            fig.request_resize(ui.size.width, ui.size.height);\n",
       "        },\n",
       "    });\n",
       "\n",
       "    function mouse_event_fn(event) {\n",
       "        if (pass_mouse_events)\n",
       "            return fig.mouse_event(event, event['data']);\n",
       "    }\n",
       "\n",
       "    rubberband.mousedown('button_press', mouse_event_fn);\n",
       "    rubberband.mouseup('button_release', mouse_event_fn);\n",
       "    // Throttle sequential mouse events to 1 every 20ms.\n",
       "    rubberband.mousemove('motion_notify', mouse_event_fn);\n",
       "\n",
       "    rubberband.mouseenter('figure_enter', mouse_event_fn);\n",
       "    rubberband.mouseleave('figure_leave', mouse_event_fn);\n",
       "\n",
       "    canvas_div.on(\"wheel\", function (event) {\n",
       "        event = event.originalEvent;\n",
       "        event['data'] = 'scroll'\n",
       "        if (event.deltaY < 0) {\n",
       "            event.step = 1;\n",
       "        } else {\n",
       "            event.step = -1;\n",
       "        }\n",
       "        mouse_event_fn(event);\n",
       "    });\n",
       "\n",
       "    canvas_div.append(canvas);\n",
       "    canvas_div.append(rubberband);\n",
       "\n",
       "    this.rubberband = rubberband;\n",
       "    this.rubberband_canvas = rubberband[0];\n",
       "    this.rubberband_context = rubberband[0].getContext(\"2d\");\n",
       "    this.rubberband_context.strokeStyle = \"#000000\";\n",
       "\n",
       "    this._resize_canvas = function(width, height) {\n",
       "        // Keep the size of the canvas, canvas container, and rubber band\n",
       "        // canvas in synch.\n",
       "        canvas_div.css('width', width)\n",
       "        canvas_div.css('height', height)\n",
       "\n",
       "        canvas.attr('width', width * mpl.ratio);\n",
       "        canvas.attr('height', height * mpl.ratio);\n",
       "        canvas.attr('style', 'width: ' + width + 'px; height: ' + height + 'px;');\n",
       "\n",
       "        rubberband.attr('width', width);\n",
       "        rubberband.attr('height', height);\n",
       "    }\n",
       "\n",
       "    // Set the figure to an initial 600x600px, this will subsequently be updated\n",
       "    // upon first draw.\n",
       "    this._resize_canvas(600, 600);\n",
       "\n",
       "    // Disable right mouse context menu.\n",
       "    $(this.rubberband_canvas).bind(\"contextmenu\",function(e){\n",
       "        return false;\n",
       "    });\n",
       "\n",
       "    function set_focus () {\n",
       "        canvas.focus();\n",
       "        canvas_div.focus();\n",
       "    }\n",
       "\n",
       "    window.setTimeout(set_focus, 100);\n",
       "}\n",
       "\n",
       "mpl.figure.prototype._init_toolbar = function() {\n",
       "    var fig = this;\n",
       "\n",
       "    var nav_element = $('<div/>');\n",
       "    nav_element.attr('style', 'width: 100%');\n",
       "    this.root.append(nav_element);\n",
       "\n",
       "    // Define a callback function for later on.\n",
       "    function toolbar_event(event) {\n",
       "        return fig.toolbar_button_onclick(event['data']);\n",
       "    }\n",
       "    function toolbar_mouse_event(event) {\n",
       "        return fig.toolbar_button_onmouseover(event['data']);\n",
       "    }\n",
       "\n",
       "    for(var toolbar_ind in mpl.toolbar_items) {\n",
       "        var name = mpl.toolbar_items[toolbar_ind][0];\n",
       "        var tooltip = mpl.toolbar_items[toolbar_ind][1];\n",
       "        var image = mpl.toolbar_items[toolbar_ind][2];\n",
       "        var method_name = mpl.toolbar_items[toolbar_ind][3];\n",
       "\n",
       "        if (!name) {\n",
       "            // put a spacer in here.\n",
       "            continue;\n",
       "        }\n",
       "        var button = $('<button/>');\n",
       "        button.addClass('ui-button ui-widget ui-state-default ui-corner-all ' +\n",
       "                        'ui-button-icon-only');\n",
       "        button.attr('role', 'button');\n",
       "        button.attr('aria-disabled', 'false');\n",
       "        button.click(method_name, toolbar_event);\n",
       "        button.mouseover(tooltip, toolbar_mouse_event);\n",
       "\n",
       "        var icon_img = $('<span/>');\n",
       "        icon_img.addClass('ui-button-icon-primary ui-icon');\n",
       "        icon_img.addClass(image);\n",
       "        icon_img.addClass('ui-corner-all');\n",
       "\n",
       "        var tooltip_span = $('<span/>');\n",
       "        tooltip_span.addClass('ui-button-text');\n",
       "        tooltip_span.html(tooltip);\n",
       "\n",
       "        button.append(icon_img);\n",
       "        button.append(tooltip_span);\n",
       "\n",
       "        nav_element.append(button);\n",
       "    }\n",
       "\n",
       "    var fmt_picker_span = $('<span/>');\n",
       "\n",
       "    var fmt_picker = $('<select/>');\n",
       "    fmt_picker.addClass('mpl-toolbar-option ui-widget ui-widget-content');\n",
       "    fmt_picker_span.append(fmt_picker);\n",
       "    nav_element.append(fmt_picker_span);\n",
       "    this.format_dropdown = fmt_picker[0];\n",
       "\n",
       "    for (var ind in mpl.extensions) {\n",
       "        var fmt = mpl.extensions[ind];\n",
       "        var option = $(\n",
       "            '<option/>', {selected: fmt === mpl.default_extension}).html(fmt);\n",
       "        fmt_picker.append(option);\n",
       "    }\n",
       "\n",
       "    // Add hover states to the ui-buttons\n",
       "    $( \".ui-button\" ).hover(\n",
       "        function() { $(this).addClass(\"ui-state-hover\");},\n",
       "        function() { $(this).removeClass(\"ui-state-hover\");}\n",
       "    );\n",
       "\n",
       "    var status_bar = $('<span class=\"mpl-message\"/>');\n",
       "    nav_element.append(status_bar);\n",
       "    this.message = status_bar[0];\n",
       "}\n",
       "\n",
       "mpl.figure.prototype.request_resize = function(x_pixels, y_pixels) {\n",
       "    // Request matplotlib to resize the figure. Matplotlib will then trigger a resize in the client,\n",
       "    // which will in turn request a refresh of the image.\n",
       "    this.send_message('resize', {'width': x_pixels, 'height': y_pixels});\n",
       "}\n",
       "\n",
       "mpl.figure.prototype.send_message = function(type, properties) {\n",
       "    properties['type'] = type;\n",
       "    properties['figure_id'] = this.id;\n",
       "    this.ws.send(JSON.stringify(properties));\n",
       "}\n",
       "\n",
       "mpl.figure.prototype.send_draw_message = function() {\n",
       "    if (!this.waiting) {\n",
       "        this.waiting = true;\n",
       "        this.ws.send(JSON.stringify({type: \"draw\", figure_id: this.id}));\n",
       "    }\n",
       "}\n",
       "\n",
       "\n",
       "mpl.figure.prototype.handle_save = function(fig, msg) {\n",
       "    var format_dropdown = fig.format_dropdown;\n",
       "    var format = format_dropdown.options[format_dropdown.selectedIndex].value;\n",
       "    fig.ondownload(fig, format);\n",
       "}\n",
       "\n",
       "\n",
       "mpl.figure.prototype.handle_resize = function(fig, msg) {\n",
       "    var size = msg['size'];\n",
       "    if (size[0] != fig.canvas.width || size[1] != fig.canvas.height) {\n",
       "        fig._resize_canvas(size[0], size[1]);\n",
       "        fig.send_message(\"refresh\", {});\n",
       "    };\n",
       "}\n",
       "\n",
       "mpl.figure.prototype.handle_rubberband = function(fig, msg) {\n",
       "    var x0 = msg['x0'] / mpl.ratio;\n",
       "    var y0 = (fig.canvas.height - msg['y0']) / mpl.ratio;\n",
       "    var x1 = msg['x1'] / mpl.ratio;\n",
       "    var y1 = (fig.canvas.height - msg['y1']) / mpl.ratio;\n",
       "    x0 = Math.floor(x0) + 0.5;\n",
       "    y0 = Math.floor(y0) + 0.5;\n",
       "    x1 = Math.floor(x1) + 0.5;\n",
       "    y1 = Math.floor(y1) + 0.5;\n",
       "    var min_x = Math.min(x0, x1);\n",
       "    var min_y = Math.min(y0, y1);\n",
       "    var width = Math.abs(x1 - x0);\n",
       "    var height = Math.abs(y1 - y0);\n",
       "\n",
       "    fig.rubberband_context.clearRect(\n",
       "        0, 0, fig.canvas.width / mpl.ratio, fig.canvas.height / mpl.ratio);\n",
       "\n",
       "    fig.rubberband_context.strokeRect(min_x, min_y, width, height);\n",
       "}\n",
       "\n",
       "mpl.figure.prototype.handle_figure_label = function(fig, msg) {\n",
       "    // Updates the figure title.\n",
       "    fig.header.textContent = msg['label'];\n",
       "}\n",
       "\n",
       "mpl.figure.prototype.handle_cursor = function(fig, msg) {\n",
       "    var cursor = msg['cursor'];\n",
       "    switch(cursor)\n",
       "    {\n",
       "    case 0:\n",
       "        cursor = 'pointer';\n",
       "        break;\n",
       "    case 1:\n",
       "        cursor = 'default';\n",
       "        break;\n",
       "    case 2:\n",
       "        cursor = 'crosshair';\n",
       "        break;\n",
       "    case 3:\n",
       "        cursor = 'move';\n",
       "        break;\n",
       "    }\n",
       "    fig.rubberband_canvas.style.cursor = cursor;\n",
       "}\n",
       "\n",
       "mpl.figure.prototype.handle_message = function(fig, msg) {\n",
       "    fig.message.textContent = msg['message'];\n",
       "}\n",
       "\n",
       "mpl.figure.prototype.handle_draw = function(fig, msg) {\n",
       "    // Request the server to send over a new figure.\n",
       "    fig.send_draw_message();\n",
       "}\n",
       "\n",
       "mpl.figure.prototype.handle_image_mode = function(fig, msg) {\n",
       "    fig.image_mode = msg['mode'];\n",
       "}\n",
       "\n",
       "mpl.figure.prototype.updated_canvas_event = function() {\n",
       "    // Called whenever the canvas gets updated.\n",
       "    this.send_message(\"ack\", {});\n",
       "}\n",
       "\n",
       "// A function to construct a web socket function for onmessage handling.\n",
       "// Called in the figure constructor.\n",
       "mpl.figure.prototype._make_on_message_function = function(fig) {\n",
       "    return function socket_on_message(evt) {\n",
       "        if (evt.data instanceof Blob) {\n",
       "            /* FIXME: We get \"Resource interpreted as Image but\n",
       "             * transferred with MIME type text/plain:\" errors on\n",
       "             * Chrome.  But how to set the MIME type?  It doesn't seem\n",
       "             * to be part of the websocket stream */\n",
       "            evt.data.type = \"image/png\";\n",
       "\n",
       "            /* Free the memory for the previous frames */\n",
       "            if (fig.imageObj.src) {\n",
       "                (window.URL || window.webkitURL).revokeObjectURL(\n",
       "                    fig.imageObj.src);\n",
       "            }\n",
       "\n",
       "            fig.imageObj.src = (window.URL || window.webkitURL).createObjectURL(\n",
       "                evt.data);\n",
       "            fig.updated_canvas_event();\n",
       "            fig.waiting = false;\n",
       "            return;\n",
       "        }\n",
       "        else if (typeof evt.data === 'string' && evt.data.slice(0, 21) == \"data:image/png;base64\") {\n",
       "            fig.imageObj.src = evt.data;\n",
       "            fig.updated_canvas_event();\n",
       "            fig.waiting = false;\n",
       "            return;\n",
       "        }\n",
       "\n",
       "        var msg = JSON.parse(evt.data);\n",
       "        var msg_type = msg['type'];\n",
       "\n",
       "        // Call the  \"handle_{type}\" callback, which takes\n",
       "        // the figure and JSON message as its only arguments.\n",
       "        try {\n",
       "            var callback = fig[\"handle_\" + msg_type];\n",
       "        } catch (e) {\n",
       "            console.log(\"No handler for the '\" + msg_type + \"' message type: \", msg);\n",
       "            return;\n",
       "        }\n",
       "\n",
       "        if (callback) {\n",
       "            try {\n",
       "                // console.log(\"Handling '\" + msg_type + \"' message: \", msg);\n",
       "                callback(fig, msg);\n",
       "            } catch (e) {\n",
       "                console.log(\"Exception inside the 'handler_\" + msg_type + \"' callback:\", e, e.stack, msg);\n",
       "            }\n",
       "        }\n",
       "    };\n",
       "}\n",
       "\n",
       "// from http://stackoverflow.com/questions/1114465/getting-mouse-location-in-canvas\n",
       "mpl.findpos = function(e) {\n",
       "    //this section is from http://www.quirksmode.org/js/events_properties.html\n",
       "    var targ;\n",
       "    if (!e)\n",
       "        e = window.event;\n",
       "    if (e.target)\n",
       "        targ = e.target;\n",
       "    else if (e.srcElement)\n",
       "        targ = e.srcElement;\n",
       "    if (targ.nodeType == 3) // defeat Safari bug\n",
       "        targ = targ.parentNode;\n",
       "\n",
       "    // jQuery normalizes the pageX and pageY\n",
       "    // pageX,Y are the mouse positions relative to the document\n",
       "    // offset() returns the position of the element relative to the document\n",
       "    var x = e.pageX - $(targ).offset().left;\n",
       "    var y = e.pageY - $(targ).offset().top;\n",
       "\n",
       "    return {\"x\": x, \"y\": y};\n",
       "};\n",
       "\n",
       "/*\n",
       " * return a copy of an object with only non-object keys\n",
       " * we need this to avoid circular references\n",
       " * http://stackoverflow.com/a/24161582/3208463\n",
       " */\n",
       "function simpleKeys (original) {\n",
       "  return Object.keys(original).reduce(function (obj, key) {\n",
       "    if (typeof original[key] !== 'object')\n",
       "        obj[key] = original[key]\n",
       "    return obj;\n",
       "  }, {});\n",
       "}\n",
       "\n",
       "mpl.figure.prototype.mouse_event = function(event, name) {\n",
       "    var canvas_pos = mpl.findpos(event)\n",
       "\n",
       "    if (name === 'button_press')\n",
       "    {\n",
       "        this.canvas.focus();\n",
       "        this.canvas_div.focus();\n",
       "    }\n",
       "\n",
       "    var x = canvas_pos.x * mpl.ratio;\n",
       "    var y = canvas_pos.y * mpl.ratio;\n",
       "\n",
       "    this.send_message(name, {x: x, y: y, button: event.button,\n",
       "                             step: event.step,\n",
       "                             guiEvent: simpleKeys(event)});\n",
       "\n",
       "    /* This prevents the web browser from automatically changing to\n",
       "     * the text insertion cursor when the button is pressed.  We want\n",
       "     * to control all of the cursor setting manually through the\n",
       "     * 'cursor' event from matplotlib */\n",
       "    event.preventDefault();\n",
       "    return false;\n",
       "}\n",
       "\n",
       "mpl.figure.prototype._key_event_extra = function(event, name) {\n",
       "    // Handle any extra behaviour associated with a key event\n",
       "}\n",
       "\n",
       "mpl.figure.prototype.key_event = function(event, name) {\n",
       "\n",
       "    // Prevent repeat events\n",
       "    if (name == 'key_press')\n",
       "    {\n",
       "        if (event.which === this._key)\n",
       "            return;\n",
       "        else\n",
       "            this._key = event.which;\n",
       "    }\n",
       "    if (name == 'key_release')\n",
       "        this._key = null;\n",
       "\n",
       "    var value = '';\n",
       "    if (event.ctrlKey && event.which != 17)\n",
       "        value += \"ctrl+\";\n",
       "    if (event.altKey && event.which != 18)\n",
       "        value += \"alt+\";\n",
       "    if (event.shiftKey && event.which != 16)\n",
       "        value += \"shift+\";\n",
       "\n",
       "    value += 'k';\n",
       "    value += event.which.toString();\n",
       "\n",
       "    this._key_event_extra(event, name);\n",
       "\n",
       "    this.send_message(name, {key: value,\n",
       "                             guiEvent: simpleKeys(event)});\n",
       "    return false;\n",
       "}\n",
       "\n",
       "mpl.figure.prototype.toolbar_button_onclick = function(name) {\n",
       "    if (name == 'download') {\n",
       "        this.handle_save(this, null);\n",
       "    } else {\n",
       "        this.send_message(\"toolbar_button\", {name: name});\n",
       "    }\n",
       "};\n",
       "\n",
       "mpl.figure.prototype.toolbar_button_onmouseover = function(tooltip) {\n",
       "    this.message.textContent = tooltip;\n",
       "};\n",
       "mpl.toolbar_items = [[\"Home\", \"Reset original view\", \"fa fa-home icon-home\", \"home\"], [\"Back\", \"Back to previous view\", \"fa fa-arrow-left icon-arrow-left\", \"back\"], [\"Forward\", \"Forward to next view\", \"fa fa-arrow-right icon-arrow-right\", \"forward\"], [\"\", \"\", \"\", \"\"], [\"Pan\", \"Pan axes with left mouse, zoom with right\", \"fa fa-arrows icon-move\", \"pan\"], [\"Zoom\", \"Zoom to rectangle\", \"fa fa-square-o icon-check-empty\", \"zoom\"], [\"\", \"\", \"\", \"\"], [\"Download\", \"Download plot\", \"fa fa-floppy-o icon-save\", \"download\"]];\n",
       "\n",
       "mpl.extensions = [\"eps\", \"jpeg\", \"pdf\", \"png\", \"ps\", \"raw\", \"svg\", \"tif\"];\n",
       "\n",
       "mpl.default_extension = \"png\";var comm_websocket_adapter = function(comm) {\n",
       "    // Create a \"websocket\"-like object which calls the given IPython comm\n",
       "    // object with the appropriate methods. Currently this is a non binary\n",
       "    // socket, so there is still some room for performance tuning.\n",
       "    var ws = {};\n",
       "\n",
       "    ws.close = function() {\n",
       "        comm.close()\n",
       "    };\n",
       "    ws.send = function(m) {\n",
       "        //console.log('sending', m);\n",
       "        comm.send(m);\n",
       "    };\n",
       "    // Register the callback with on_msg.\n",
       "    comm.on_msg(function(msg) {\n",
       "        //console.log('receiving', msg['content']['data'], msg);\n",
       "        // Pass the mpl event to the overridden (by mpl) onmessage function.\n",
       "        ws.onmessage(msg['content']['data'])\n",
       "    });\n",
       "    return ws;\n",
       "}\n",
       "\n",
       "mpl.mpl_figure_comm = function(comm, msg) {\n",
       "    // This is the function which gets called when the mpl process\n",
       "    // starts-up an IPython Comm through the \"matplotlib\" channel.\n",
       "\n",
       "    var id = msg.content.data.id;\n",
       "    // Get hold of the div created by the display call when the Comm\n",
       "    // socket was opened in Python.\n",
       "    var element = $(\"#\" + id);\n",
       "    var ws_proxy = comm_websocket_adapter(comm)\n",
       "\n",
       "    function ondownload(figure, format) {\n",
       "        window.open(figure.imageObj.src);\n",
       "    }\n",
       "\n",
       "    var fig = new mpl.figure(id, ws_proxy,\n",
       "                           ondownload,\n",
       "                           element.get(0));\n",
       "\n",
       "    // Call onopen now - mpl needs it, as it is assuming we've passed it a real\n",
       "    // web socket which is closed, not our websocket->open comm proxy.\n",
       "    ws_proxy.onopen();\n",
       "\n",
       "    fig.parent_element = element.get(0);\n",
       "    fig.cell_info = mpl.find_output_cell(\"<div id='\" + id + \"'></div>\");\n",
       "    if (!fig.cell_info) {\n",
       "        console.error(\"Failed to find cell for figure\", id, fig);\n",
       "        return;\n",
       "    }\n",
       "\n",
       "    var output_index = fig.cell_info[2]\n",
       "    var cell = fig.cell_info[0];\n",
       "\n",
       "};\n",
       "\n",
       "mpl.figure.prototype.handle_close = function(fig, msg) {\n",
       "    var width = fig.canvas.width/mpl.ratio\n",
       "    fig.root.unbind('remove')\n",
       "\n",
       "    // Update the output cell to use the data from the current canvas.\n",
       "    fig.push_to_output();\n",
       "    var dataURL = fig.canvas.toDataURL();\n",
       "    // Re-enable the keyboard manager in IPython - without this line, in FF,\n",
       "    // the notebook keyboard shortcuts fail.\n",
       "    IPython.keyboard_manager.enable()\n",
       "    $(fig.parent_element).html('<img src=\"' + dataURL + '\" width=\"' + width + '\">');\n",
       "    fig.close_ws(fig, msg);\n",
       "}\n",
       "\n",
       "mpl.figure.prototype.close_ws = function(fig, msg){\n",
       "    fig.send_message('closing', msg);\n",
       "    // fig.ws.close()\n",
       "}\n",
       "\n",
       "mpl.figure.prototype.push_to_output = function(remove_interactive) {\n",
       "    // Turn the data on the canvas into data in the output cell.\n",
       "    var width = this.canvas.width/mpl.ratio\n",
       "    var dataURL = this.canvas.toDataURL();\n",
       "    this.cell_info[1]['text/html'] = '<img src=\"' + dataURL + '\" width=\"' + width + '\">';\n",
       "}\n",
       "\n",
       "mpl.figure.prototype.updated_canvas_event = function() {\n",
       "    // Tell IPython that the notebook contents must change.\n",
       "    IPython.notebook.set_dirty(true);\n",
       "    this.send_message(\"ack\", {});\n",
       "    var fig = this;\n",
       "    // Wait a second, then push the new image to the DOM so\n",
       "    // that it is saved nicely (might be nice to debounce this).\n",
       "    setTimeout(function () { fig.push_to_output() }, 1000);\n",
       "}\n",
       "\n",
       "mpl.figure.prototype._init_toolbar = function() {\n",
       "    var fig = this;\n",
       "\n",
       "    var nav_element = $('<div/>');\n",
       "    nav_element.attr('style', 'width: 100%');\n",
       "    this.root.append(nav_element);\n",
       "\n",
       "    // Define a callback function for later on.\n",
       "    function toolbar_event(event) {\n",
       "        return fig.toolbar_button_onclick(event['data']);\n",
       "    }\n",
       "    function toolbar_mouse_event(event) {\n",
       "        return fig.toolbar_button_onmouseover(event['data']);\n",
       "    }\n",
       "\n",
       "    for(var toolbar_ind in mpl.toolbar_items){\n",
       "        var name = mpl.toolbar_items[toolbar_ind][0];\n",
       "        var tooltip = mpl.toolbar_items[toolbar_ind][1];\n",
       "        var image = mpl.toolbar_items[toolbar_ind][2];\n",
       "        var method_name = mpl.toolbar_items[toolbar_ind][3];\n",
       "\n",
       "        if (!name) { continue; };\n",
       "\n",
       "        var button = $('<button class=\"btn btn-default\" href=\"#\" title=\"' + name + '\"><i class=\"fa ' + image + ' fa-lg\"></i></button>');\n",
       "        button.click(method_name, toolbar_event);\n",
       "        button.mouseover(tooltip, toolbar_mouse_event);\n",
       "        nav_element.append(button);\n",
       "    }\n",
       "\n",
       "    // Add the status bar.\n",
       "    var status_bar = $('<span class=\"mpl-message\" style=\"text-align:right; float: right;\"/>');\n",
       "    nav_element.append(status_bar);\n",
       "    this.message = status_bar[0];\n",
       "\n",
       "    // Add the close button to the window.\n",
       "    var buttongrp = $('<div class=\"btn-group inline pull-right\"></div>');\n",
       "    var button = $('<button class=\"btn btn-mini btn-primary\" href=\"#\" title=\"Stop Interaction\"><i class=\"fa fa-power-off icon-remove icon-large\"></i></button>');\n",
       "    button.click(function (evt) { fig.handle_close(fig, {}); } );\n",
       "    button.mouseover('Stop Interaction', toolbar_mouse_event);\n",
       "    buttongrp.append(button);\n",
       "    var titlebar = this.root.find($('.ui-dialog-titlebar'));\n",
       "    titlebar.prepend(buttongrp);\n",
       "}\n",
       "\n",
       "mpl.figure.prototype._root_extra_style = function(el){\n",
       "    var fig = this\n",
       "    el.on(\"remove\", function(){\n",
       "\tfig.close_ws(fig, {});\n",
       "    });\n",
       "}\n",
       "\n",
       "mpl.figure.prototype._canvas_extra_style = function(el){\n",
       "    // this is important to make the div 'focusable\n",
       "    el.attr('tabindex', 0)\n",
       "    // reach out to IPython and tell the keyboard manager to turn it's self\n",
       "    // off when our div gets focus\n",
       "\n",
       "    // location in version 3\n",
       "    if (IPython.notebook.keyboard_manager) {\n",
       "        IPython.notebook.keyboard_manager.register_events(el);\n",
       "    }\n",
       "    else {\n",
       "        // location in version 2\n",
       "        IPython.keyboard_manager.register_events(el);\n",
       "    }\n",
       "\n",
       "}\n",
       "\n",
       "mpl.figure.prototype._key_event_extra = function(event, name) {\n",
       "    var manager = IPython.notebook.keyboard_manager;\n",
       "    if (!manager)\n",
       "        manager = IPython.keyboard_manager;\n",
       "\n",
       "    // Check for shift+enter\n",
       "    if (event.shiftKey && event.which == 13) {\n",
       "        this.canvas_div.blur();\n",
       "        event.shiftKey = false;\n",
       "        // Send a \"J\" for go to next cell\n",
       "        event.which = 74;\n",
       "        event.keyCode = 74;\n",
       "        manager.command_mode();\n",
       "        manager.handle_keydown(event);\n",
       "    }\n",
       "}\n",
       "\n",
       "mpl.figure.prototype.handle_save = function(fig, msg) {\n",
       "    fig.ondownload(fig, null);\n",
       "}\n",
       "\n",
       "\n",
       "mpl.find_output_cell = function(html_output) {\n",
       "    // Return the cell and output element which can be found *uniquely* in the notebook.\n",
       "    // Note - this is a bit hacky, but it is done because the \"notebook_saving.Notebook\"\n",
       "    // IPython event is triggered only after the cells have been serialised, which for\n",
       "    // our purposes (turning an active figure into a static one), is too late.\n",
       "    var cells = IPython.notebook.get_cells();\n",
       "    var ncells = cells.length;\n",
       "    for (var i=0; i<ncells; i++) {\n",
       "        var cell = cells[i];\n",
       "        if (cell.cell_type === 'code'){\n",
       "            for (var j=0; j<cell.output_area.outputs.length; j++) {\n",
       "                var data = cell.output_area.outputs[j];\n",
       "                if (data.data) {\n",
       "                    // IPython >= 3 moved mimebundle to data attribute of output\n",
       "                    data = data.data;\n",
       "                }\n",
       "                if (data['text/html'] == html_output) {\n",
       "                    return [cell, data, j];\n",
       "                }\n",
       "            }\n",
       "        }\n",
       "    }\n",
       "}\n",
       "\n",
       "// Register the function which deals with the matplotlib target/channel.\n",
       "// The kernel may be null if the page has been refreshed.\n",
       "if (IPython.notebook.kernel != null) {\n",
       "    IPython.notebook.kernel.comm_manager.register_target('matplotlib', mpl.mpl_figure_comm);\n",
       "}\n"
      ],
      "text/plain": [
       "<IPython.core.display.Javascript object>"
      ]
     },
     "metadata": {},
     "output_type": "display_data"
    },
    {
     "data": {
      "text/html": [
       "<img src=\"data:image/png;base64,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\" width=\"1200\">"
      ],
      "text/plain": [
       "<IPython.core.display.HTML object>"
      ]
     },
     "metadata": {},
     "output_type": "display_data"
    }
   ],
   "source": [
    "def make_xlabel(ix, correct):\n",
    "    if ix==correct:\n",
    "        return \"Class {}\\n(correct)\".format(ix)\n",
    "    return \"Class {}\".format(ix)\n",
    "\n",
    "figure = plt.figure(figsize=(12,4))\n",
    "plt.subplot(1, 2, 1)\n",
    "center_ixs_clean = []\n",
    "for ix, block in enumerate(class_distrs_clean.T):\n",
    "    x_ixs= np.arange(len(block)) + ix*(len(block)+2)\n",
    "    center_ixs_clean.append(np.mean(x_ixs))\n",
    "    color = '#555555'\n",
    "    if ix == nettack.label_u:\n",
    "        color = 'darkgreen'\n",
    "    plt.bar(x_ixs, block, color=color)\n",
    "\n",
    "ax=plt.gca()\n",
    "plt.ylim((-.05, 1.05))\n",
    "plt.ylabel(\"Predicted probability\")\n",
    "ax.set_xticks(center_ixs_clean)\n",
    "ax.set_xticklabels([make_xlabel(k, nettack.label_u) for k in range(_K)])\n",
    "ax.set_title(\"Predicted class probabilities for node {} on clean data\\n({} re-trainings)\".format(nettack.u, retrain_iters))\n",
    "\n",
    "fig = plt.subplot(1, 2, 2)\n",
    "center_ixs_retrain = []\n",
    "for ix, block in enumerate(class_distrs_retrain.T):\n",
    "    x_ixs= np.arange(len(block)) + ix*(len(block)+2)\n",
    "    center_ixs_retrain.append(np.mean(x_ixs))\n",
    "    color = '#555555'\n",
    "    if ix == nettack.label_u:\n",
    "        color = 'darkgreen'\n",
    "    plt.bar(x_ixs, block, color=color)\n",
    "\n",
    "\n",
    "ax=plt.gca()\n",
    "plt.ylim((-.05, 1.05))\n",
    "ax.set_xticks(center_ixs_retrain)\n",
    "ax.set_xticklabels([make_xlabel(k, nettack.label_u) for k in range(_K)])\n",
    "ax.set_title(\"Predicted class probabilities for node {} after {} perturbations\\n({} re-trainings)\".format(nettack.u, n_perturbations, retrain_iters))\n",
    "plt.tight_layout()\n",
    "plt.show()"
   ]
  }
 ],
 "metadata": {
  "kernelspec": {
   "display_name": "Python 3",
   "language": "python",
   "name": "python3"
  },
  "language_info": {
   "codemirror_mode": {
    "name": "ipython",
    "version": 3
   },
   "file_extension": ".py",
   "mimetype": "text/x-python",
   "name": "python",
   "nbconvert_exporter": "python",
   "pygments_lexer": "ipython3",
   "version": "3.7.4"
  }
 },
 "nbformat": 4,
 "nbformat_minor": 2
}
