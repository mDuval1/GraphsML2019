{
 "cells": [
  {
   "cell_type": "code",
   "execution_count": 1,
   "metadata": {},
   "outputs": [],
   "source": [
    "%load_ext autoreload\n",
    "%autoreload 2\n",
    "%matplotlib notebook"
   ]
  },
  {
   "cell_type": "code",
   "execution_count": 2,
   "metadata": {},
   "outputs": [],
   "source": [
    "import numpy as np\n",
    "import pandas as pd\n",
    "import matplotlib.pyplot as plt\n",
    "import networkx as nx\n",
    "import tqdm"
   ]
  },
  {
   "cell_type": "code",
   "execution_count": 3,
   "metadata": {},
   "outputs": [],
   "source": [
    "import torch\n",
    "import torch.nn as nn"
   ]
  },
  {
   "cell_type": "code",
   "execution_count": 4,
   "metadata": {},
   "outputs": [],
   "source": [
    "seed = 42\n",
    "torch.manual_seed(seed)\n",
    "torch.backends.cudnn.deterministic = True\n",
    "torch.backends.cudnn.benchmark = False\n",
    "np.random.seed(seed)"
   ]
  },
  {
   "cell_type": "code",
   "execution_count": 5,
   "metadata": {},
   "outputs": [],
   "source": [
    "from src.nettack.GCN import *\n",
    "from src.nettack.utils import *\n",
    "from src.nettack.nettack import *"
   ]
  },
  {
   "cell_type": "markdown",
   "metadata": {},
   "source": [
    "# Tests"
   ]
  },
  {
   "cell_type": "markdown",
   "metadata": {
    "heading_collapsed": true
   },
   "source": [
    "## Layers"
   ]
  },
  {
   "cell_type": "code",
   "execution_count": 5,
   "metadata": {
    "hidden": true
   },
   "outputs": [],
   "source": [
    "layer = GraphConvolution(in_features=8, out_features=5)"
   ]
  },
  {
   "cell_type": "code",
   "execution_count": 6,
   "metadata": {
    "hidden": true,
    "scrolled": true
   },
   "outputs": [],
   "source": [
    "N = 30\n",
    "Adjacency_matrix = torch.tensor((np.random.rand(N, N) > 0.7).astype(np.float32)).to_sparse()\n",
    "input = torch.rand(N, 8).to_sparse()"
   ]
  },
  {
   "cell_type": "code",
   "execution_count": 7,
   "metadata": {
    "hidden": true
   },
   "outputs": [
    {
     "data": {
      "text/plain": [
       "torch.Size([30, 5])"
      ]
     },
     "execution_count": 7,
     "metadata": {},
     "output_type": "execute_result"
    }
   ],
   "source": [
    "layer(input, Adjacency_matrix).shape"
   ]
  },
  {
   "cell_type": "markdown",
   "metadata": {
    "heading_collapsed": true
   },
   "source": [
    "## GCN"
   ]
  },
  {
   "cell_type": "code",
   "execution_count": 8,
   "metadata": {
    "hidden": true
   },
   "outputs": [],
   "source": [
    "N = 30\n",
    "C = 5\n",
    "D = 20\n",
    "Adjacency_matrix = torch.tensor((np.random.rand(N, N) > 0.7).astype(np.float32)).to_sparse()\n",
    "\n",
    "X_observed = torch.rand(N, D)\n",
    "Y_observed = torch.randint(low=0, high=C, size=(N,))\n",
    "\n",
    "H = 10"
   ]
  },
  {
   "cell_type": "code",
   "execution_count": 9,
   "metadata": {
    "hidden": true
   },
   "outputs": [],
   "source": [
    "gcn = GCN(sizes=[H, C],\n",
    "          An=Adjacency_matrix,\n",
    "          X_obs=X_observed,\n",
    "          name='test', with_relu=True, params_dict={})"
   ]
  },
  {
   "cell_type": "code",
   "execution_count": 10,
   "metadata": {
    "hidden": true
   },
   "outputs": [],
   "source": [
    "gcn_model = GCN_Model(gcn, lr=1e-3)"
   ]
  },
  {
   "cell_type": "code",
   "execution_count": 11,
   "metadata": {
    "hidden": true
   },
   "outputs": [],
   "source": [
    "node_ids = torch.tensor([1, 3, 7])\n",
    "node_labels = torch.tensor([2, 0, 3])"
   ]
  },
  {
   "cell_type": "code",
   "execution_count": 12,
   "metadata": {
    "hidden": true
   },
   "outputs": [],
   "source": [
    "train_nodes = [1, 2, 5, 6, 7, 9, 15]\n",
    "val_nodes = [17, 18, 19, 20, 22]"
   ]
  },
  {
   "cell_type": "code",
   "execution_count": 13,
   "metadata": {
    "hidden": true
   },
   "outputs": [
    {
     "data": {
      "application/vnd.jupyter.widget-view+json": {
       "model_id": "9d2bc8b9364b43a9a3476cbc2886ef53",
       "version_major": 2,
       "version_minor": 0
      },
      "text/plain": [
       "HBox(children=(IntProgress(value=1, bar_style='info', max=1), HTML(value='')))"
      ]
     },
     "metadata": {},
     "output_type": "display_data"
    },
    {
     "name": "stderr",
     "output_type": "stream",
     "text": [
      "c:\\python37\\lib\\site-packages\\sklearn\\metrics\\classification.py:1143: UndefinedMetricWarning: F-score is ill-defined and being set to 0.0 in labels with no predicted samples.\n",
      "  'precision', 'predicted', average, warn_for)\n"
     ]
    },
    {
     "name": "stdout",
     "output_type": "stream",
     "text": [
      "New best performance : 0.283\n",
      "New best performance : 0.300\n",
      "New best performance : 0.750\n",
      "converged after 59 iterations\n",
      "\n"
     ]
    }
   ],
   "source": [
    "gcn_model.train(split_train=train_nodes, split_val=val_nodes, Z_obs=Y_observed)"
   ]
  },
  {
   "cell_type": "markdown",
   "metadata": {
    "heading_collapsed": true
   },
   "source": [
    "## Random"
   ]
  },
  {
   "cell_type": "code",
   "execution_count": 28,
   "metadata": {
    "hidden": true
   },
   "outputs": [
    {
     "data": {
      "text/plain": [
       "True"
      ]
     },
     "execution_count": 28,
     "metadata": {},
     "output_type": "execute_result"
    }
   ],
   "source": [
    "a.is_sparse"
   ]
  },
  {
   "cell_type": "code",
   "execution_count": 12,
   "metadata": {
    "hidden": true
   },
   "outputs": [],
   "source": [
    "node_labels = pd.read_csv('datasets/citeseer/citeseer.node_labels', header=None, names=['id', 'label'])"
   ]
  },
  {
   "cell_type": "code",
   "execution_count": 13,
   "metadata": {
    "hidden": true
   },
   "outputs": [],
   "source": [
    "edges = pd.read_csv('datasets/citeseer/citeseer.edges', header=None, names=['e1', 'e2', 'weight'])"
   ]
  },
  {
   "cell_type": "code",
   "execution_count": 14,
   "metadata": {
    "hidden": true
   },
   "outputs": [],
   "source": [
    "G = nx.Graph()\n",
    "for _, row in node_labels.iterrows():\n",
    "    G.add_node(row.id, label=row.label)\n",
    "G.add_edges_from(edges.loc[:, ['e1', 'e2']])"
   ]
  },
  {
   "cell_type": "markdown",
   "metadata": {},
   "source": [
    "## Nettack"
   ]
  },
  {
   "cell_type": "markdown",
   "metadata": {},
   "source": [
    "### Data preprocessing"
   ]
  },
  {
   "cell_type": "code",
   "execution_count": 6,
   "metadata": {},
   "outputs": [],
   "source": [
    "_A_obs, _X_obs, _z_obs = load_npz('src/data/citeseer.npz')"
   ]
  },
  {
   "cell_type": "code",
   "execution_count": 7,
   "metadata": {},
   "outputs": [
    {
     "data": {
      "text/plain": [
       "<3312x3312 sparse matrix of type '<class 'numpy.float32'>'\n",
       "\twith 4715 stored elements in Compressed Sparse Row format>"
      ]
     },
     "execution_count": 7,
     "metadata": {},
     "output_type": "execute_result"
    }
   ],
   "source": [
    "# Adjacency matrix\n",
    "_A_obs"
   ]
  },
  {
   "cell_type": "code",
   "execution_count": 8,
   "metadata": {},
   "outputs": [
    {
     "data": {
      "text/plain": [
       "<3312x3703 sparse matrix of type '<class 'numpy.int64'>'\n",
       "\twith 105165 stored elements in Compressed Sparse Row format>"
      ]
     },
     "execution_count": 8,
     "metadata": {},
     "output_type": "execute_result"
    }
   ],
   "source": [
    "# Feature matrix\n",
    "_X_obs"
   ]
  },
  {
   "cell_type": "code",
   "execution_count": 9,
   "metadata": {},
   "outputs": [
    {
     "data": {
      "text/plain": [
       "2    701\n",
       "4    668\n",
       "1    596\n",
       "5    590\n",
       "3    508\n",
       "0    249\n",
       "dtype: int64"
      ]
     },
     "execution_count": 9,
     "metadata": {},
     "output_type": "execute_result"
    }
   ],
   "source": [
    "# Labels\n",
    "_z_obs\n",
    "pd.value_counts(_z_obs)"
   ]
  },
  {
   "cell_type": "code",
   "execution_count": 10,
   "metadata": {},
   "outputs": [],
   "source": [
    "# Normalizing Adjacency matrix\n",
    "_A_obs = _A_obs + _A_obs.T\n",
    "_A_obs[_A_obs > 1] = 1"
   ]
  },
  {
   "cell_type": "code",
   "execution_count": 11,
   "metadata": {},
   "outputs": [
    {
     "name": "stdout",
     "output_type": "stream",
     "text": [
      "Selecting 1 largest connected components\n"
     ]
    }
   ],
   "source": [
    "# For the algorithm to work, we have to consider a connected graph.\n",
    "lcc = largest_connected_components(_A_obs)"
   ]
  },
  {
   "cell_type": "code",
   "execution_count": 12,
   "metadata": {},
   "outputs": [
    {
     "name": "stdout",
     "output_type": "stream",
     "text": [
      "Largest connected component has 2110 nodes\n"
     ]
    }
   ],
   "source": [
    "print(f'Largest connected component has {len(lcc)} nodes')\n",
    "# keeping the largest connected component of the graph\n",
    "_A_obs = _A_obs[lcc][:,lcc]\n",
    "_X_obs = _X_obs[lcc].astype('float32')\n",
    "_z_obs = _z_obs[lcc]"
   ]
  },
  {
   "cell_type": "code",
   "execution_count": 13,
   "metadata": {},
   "outputs": [],
   "source": [
    "assert np.abs(_A_obs - _A_obs.T).sum() == 0, \"Input graph is not symmetric\"\n",
    "assert _A_obs.max() == 1 and len(np.unique(_A_obs[_A_obs.nonzero()].A1)) == 1, \"Graph must be unweighted\"\n",
    "assert _A_obs.sum(0).A1.min() > 0, \"Graph contains singleton nodes\""
   ]
  },
  {
   "cell_type": "code",
   "execution_count": 14,
   "metadata": {},
   "outputs": [],
   "source": [
    "_N = _A_obs.shape[0]\n",
    "_K = _z_obs.max()+1\n",
    "\n",
    "# In our pytorch implementation, labels are not one hot encoded\n",
    "# _Z_obs = np.eye(_K)[_z_obs]\n",
    "_Z_obs = _z_obs\n",
    "# Normalizing adjacency matrix\n",
    "_An = preprocess_graph(_A_obs)\n",
    "sizes = [16, _K]\n",
    "degrees = _A_obs.sum(0).A1\n",
    "\n",
    "\n",
    "np.random.seed(seed)"
   ]
  },
  {
   "cell_type": "code",
   "execution_count": 15,
   "metadata": {},
   "outputs": [],
   "source": [
    "unlabeled_share = 0.8\n",
    "val_share = 0.1\n",
    "train_share = 1 - unlabeled_share - val_share\n",
    "splits = train_val_test_split_tabular(np.arange(_N), train_size=train_share,\n",
    "                                      val_size=val_share, test_size=unlabeled_share,\n",
    "                                      stratify=_z_obs)\n",
    "split_train, split_val, split_unlabeled = splits"
   ]
  },
  {
   "cell_type": "code",
   "execution_count": 16,
   "metadata": {},
   "outputs": [
    {
     "name": "stdout",
     "output_type": "stream",
     "text": [
      "Number of training node : 210\n",
      "Number of validation nodes : 211\n",
      "Number of unlabeled (unknown) nodes : 1688\n"
     ]
    }
   ],
   "source": [
    "print(f'Number of training node : {len(split_train)}')\n",
    "print(f'Number of validation nodes : {len(split_val)}')\n",
    "print(f'Number of unlabeled (unknown) nodes : {len(split_unlabeled)}')"
   ]
  },
  {
   "cell_type": "markdown",
   "metadata": {},
   "source": [
    "### Choosing the node to attack"
   ]
  },
  {
   "cell_type": "code",
   "execution_count": 17,
   "metadata": {},
   "outputs": [],
   "source": [
    "u = 0 # node to attack\n",
    "assert u in split_unlabeled"
   ]
  },
  {
   "cell_type": "markdown",
   "metadata": {},
   "source": [
    "### Train surrogate model"
   ]
  },
  {
   "cell_type": "markdown",
   "metadata": {},
   "source": [
    "Initialization of Nettack : train on a simple model (with no ReLU) the weights of the GCN."
   ]
  },
  {
   "cell_type": "code",
   "execution_count": 18,
   "metadata": {},
   "outputs": [],
   "source": [
    "def sparse_numpy2sparse_torch(x):\n",
    "    x = x.tocoo()\n",
    "    values = x.data\n",
    "    indices = np.vstack((x.row, x.col)).astype(float)\n",
    "    i = torch.LongTensor(indices)\n",
    "    v = torch.FloatTensor(values)\n",
    "    shape = x.shape\n",
    "    return torch.sparse.FloatTensor(i, v, torch.Size(shape))"
   ]
  },
  {
   "cell_type": "code",
   "execution_count": 19,
   "metadata": {},
   "outputs": [],
   "source": [
    "An = sparse_numpy2sparse_torch(_An)\n",
    "X_obs = sparse_numpy2sparse_torch(_X_obs)"
   ]
  },
  {
   "cell_type": "code",
   "execution_count": 20,
   "metadata": {},
   "outputs": [],
   "source": [
    "surrogate_nn = GCN(sizes, An, X_obs, with_relu=False, name=\"surrogate\", gpu_id=None)"
   ]
  },
  {
   "cell_type": "code",
   "execution_count": 21,
   "metadata": {},
   "outputs": [],
   "source": [
    "surrogate_model = GCN_Model(surrogate_nn, lr=1e-2)"
   ]
  },
  {
   "cell_type": "code",
   "execution_count": 22,
   "metadata": {},
   "outputs": [],
   "source": [
    "split_train = np.array(split_train).astype(np.int64)\n",
    "split_val = np.array(split_val).astype(np.int64)"
   ]
  },
  {
   "cell_type": "code",
   "execution_count": 23,
   "metadata": {
    "scrolled": true
   },
   "outputs": [
    {
     "name": "stderr",
     "output_type": "stream",
     "text": [
      "c:\\python37\\lib\\site-packages\\sklearn\\metrics\\classification.py:1143: UndefinedMetricWarning: F-score is ill-defined and being set to 0.0 in labels with no predicted samples.\n",
      "  'precision', 'predicted', average, warn_for)\n"
     ]
    },
    {
     "name": "stdout",
     "output_type": "stream",
     "text": [
      "converged after 42 iterations\n"
     ]
    }
   ],
   "source": [
    "surrogate_model.train(split_train, split_val, torch.tensor(_Z_obs.astype(np.int64)), print_info=False)"
   ]
  },
  {
   "cell_type": "code",
   "execution_count": 24,
   "metadata": {},
   "outputs": [
    {
     "data": {
      "text/plain": [
       "0.6208530805687204"
      ]
     },
     "execution_count": 24,
     "metadata": {},
     "output_type": "execute_result"
    }
   ],
   "source": [
    "preds = surrogate_model.predictions.detach().cpu().numpy().argmax(axis=1)\n",
    "truth = _Z_obs[split_val]\n",
    "(truth == preds).mean()"
   ]
  },
  {
   "cell_type": "code",
   "execution_count": 25,
   "metadata": {},
   "outputs": [],
   "source": [
    "W1 = surrogate_model.gcn.gc1.weight\n",
    "W2 = surrogate_model.gcn.gc2.weight"
   ]
  },
  {
   "cell_type": "code",
   "execution_count": 26,
   "metadata": {},
   "outputs": [],
   "source": [
    "# surrogate_model = GCN(sizes, _An, _X_obs, with_relu=False, name=\"surrogate\", gpu_id=gpu_id)\n",
    "# surrogate_model.train(split_train, split_val, _Z_obs)\n",
    "# W1 =surrogate_model.W1.eval(session=surrogate_model.session)\n",
    "# W2 =surrogate_model.W2.eval(session=surrogate_model.session)"
   ]
  },
  {
   "cell_type": "markdown",
   "metadata": {},
   "source": [
    "### Setup attack"
   ]
  },
  {
   "cell_type": "code",
   "execution_count": 27,
   "metadata": {
    "scrolled": true
   },
   "outputs": [],
   "source": [
    "nettack = Nettack(_A_obs, _X_obs, _z_obs, W1, W2, u, verbose=True)"
   ]
  },
  {
   "cell_type": "code",
   "execution_count": 28,
   "metadata": {},
   "outputs": [],
   "source": [
    "direct_attack = True\n",
    "n_influencers = 1 if direct_attack else 5\n",
    "n_perturbations = int(degrees[u]) # How many perturbations to perform. Default: Degree of the node\n",
    "perturb_features = True\n",
    "perturb_structure = True"
   ]
  },
  {
   "cell_type": "markdown",
   "metadata": {},
   "source": [
    "### Poison the data"
   ]
  },
  {
   "cell_type": "code",
   "execution_count": 29,
   "metadata": {},
   "outputs": [],
   "source": [
    "nettack.reset()"
   ]
  },
  {
   "cell_type": "code",
   "execution_count": 30,
   "metadata": {},
   "outputs": [
    {
     "name": "stdout",
     "output_type": "stream",
     "text": [
      "##### Starting attack #####\n",
      "##### Attack node with ID 0 using structure and feature perturbations #####\n",
      "##### Attacking the node directly #####\n",
      "##### Performing 12 perturbations #####\n",
      "##### ...1/12 perturbations ... #####\n",
      "Edge perturbation: [  0 526]\n",
      "##### ...2/12 perturbations ... #####\n",
      "Edge perturbation: [  0 597]\n",
      "##### ...3/12 perturbations ... #####\n",
      "Edge perturbation: [  0 885]\n",
      "##### ...4/12 perturbations ... #####\n",
      "Edge perturbation: [ 0 55]\n",
      "##### ...5/12 perturbations ... #####\n",
      "Edge perturbation: [   0 2012]\n",
      "##### ...6/12 perturbations ... #####\n",
      "Edge perturbation: [  0 594]\n",
      "##### ...7/12 perturbations ... #####\n",
      "Edge perturbation: [  0 781]\n",
      "##### ...8/12 perturbations ... #####\n",
      "Edge perturbation: [   0 1051]\n",
      "##### ...9/12 perturbations ... #####\n",
      "Edge perturbation: [  0 260]\n",
      "##### ...10/12 perturbations ... #####\n",
      "Edge perturbation: [   0 1797]\n",
      "##### ...11/12 perturbations ... #####\n",
      "Edge perturbation: [  0 939]\n",
      "##### ...12/12 perturbations ... #####\n",
      "Edge perturbation: [ 0 76]\n"
     ]
    }
   ],
   "source": [
    "nettack.attack_surrogate(n_perturbations,\n",
    "                         perturb_structure=perturb_structure,\n",
    "                         perturb_features=perturb_features,\n",
    "                         direct=direct_attack,\n",
    "                         n_influencers=n_influencers)"
   ]
  },
  {
   "cell_type": "code",
   "execution_count": 31,
   "metadata": {},
   "outputs": [
    {
     "name": "stdout",
     "output_type": "stream",
     "text": [
      "[(0, 526), (0, 597), (0, 885), (0, 55), (0, 2012), (0, 594), (0, 781), (0, 1051), (0, 260), (0, 1797), (0, 939), (0, 76)]\n"
     ]
    }
   ],
   "source": [
    "print(nettack.structure_perturbations)"
   ]
  },
  {
   "cell_type": "code",
   "execution_count": 32,
   "metadata": {},
   "outputs": [
    {
     "name": "stdout",
     "output_type": "stream",
     "text": [
      "[(), (), (), (), (), (), (), (), (), (), (), ()]\n"
     ]
    }
   ],
   "source": [
    "print(nettack.feature_perturbations)"
   ]
  },
  {
   "cell_type": "markdown",
   "metadata": {},
   "source": [
    "### Train GCN without perturbations"
   ]
  },
  {
   "cell_type": "code",
   "execution_count": 33,
   "metadata": {},
   "outputs": [],
   "source": [
    "retrain_iters=5"
   ]
  },
  {
   "cell_type": "code",
   "execution_count": 36,
   "metadata": {},
   "outputs": [
    {
     "data": {
      "text/plain": [
       "True"
      ]
     },
     "execution_count": 36,
     "metadata": {},
     "output_type": "execute_result"
    }
   ],
   "source": [
    "gcn_before.gcn.with_relu"
   ]
  },
  {
   "cell_type": "code",
   "execution_count": 37,
   "metadata": {},
   "outputs": [
    {
     "name": "stdout",
     "output_type": "stream",
     "text": [
      "... 1/5 \n"
     ]
    },
    {
     "name": "stderr",
     "output_type": "stream",
     "text": [
      "c:\\python37\\lib\\site-packages\\sklearn\\metrics\\classification.py:1143: UndefinedMetricWarning: F-score is ill-defined and being set to 0.0 in labels with no predicted samples.\n",
      "  'precision', 'predicted', average, warn_for)\n"
     ]
    },
    {
     "name": "stdout",
     "output_type": "stream",
     "text": [
      "converged after 54 iterations\n",
      "Validation accuracy : 0.664\n",
      "... 2/5 \n",
      "converged after 41 iterations\n",
      "Validation accuracy : 0.673\n",
      "... 3/5 \n",
      "converged after 39 iterations\n",
      "Validation accuracy : 0.640\n",
      "... 4/5 \n",
      "converged after 111 iterations\n",
      "Validation accuracy : 0.678\n",
      "... 5/5 \n",
      "converged after 50 iterations\n",
      "Validation accuracy : 0.673\n"
     ]
    }
   ],
   "source": [
    "classification_margins_clean = []\n",
    "class_distrs_clean = []\n",
    "\n",
    "u_nodes = torch.tensor([nettack.u])\n",
    "u_labels = torch.tensor(_Z_obs.astype(np.int64))[u_nodes]\n",
    "one_hot_encod_u = np.zeros(np.max(_Z_obs)+1)\n",
    "one_hot_encod_u[_Z_obs[nettack.u]] = 1\n",
    "\n",
    "# gcn_before = GCN.GCN(sizes, _An, _X_obs, \"gcn_orig\", gpu_id=gpu_id)\n",
    "\n",
    "for _ in range(retrain_iters):\n",
    "    print(\"... {}/{} \".format(_+1, retrain_iters))\n",
    "    gcn_before_nn = GCN(sizes, An, X_obs, with_relu=True,\n",
    "                   name=\"gcn_orig\", gpu_id=None)\n",
    "    gcn_before = GCN_Model(gcn_before_nn, lr=1e-2)\n",
    "    gcn_before.train(split_train, split_val, torch.tensor(_Z_obs.astype(np.int64)), print_info=False)\n",
    "    preds = gcn_before.predictions.detach().cpu().numpy().argmax(axis=1)\n",
    "    truth = _Z_obs[split_val]\n",
    "    print(f'Validation accuracy : {(truth == preds).mean():.3f}')\n",
    "    gcn_before._compute_loss_and_backprop(u_nodes, u_labels, False)\n",
    "    probs_before_attack = gcn_before.predictions.detach().cpu().numpy()[0]\n",
    "#     probs_before_attack = gcn_before.predictions.eval(session=gcn_before.session,\n",
    "#                                                       feed_dict={gcn_before.node_ids: [nettack.u]})[0]\n",
    "    class_distrs_clean.append(probs_before_attack)\n",
    "#     best_second_class_before = (probs_before_attack - 1000*_Z_obs[nettack.u]).argmax()\n",
    "    best_second_class_before = (probs_before_attack - 1000*one_hot_encod_u).argmax()\n",
    "    margin_before = probs_before_attack[_z_obs[nettack.u]] - probs_before_attack[best_second_class_before]\n",
    "    classification_margins_clean.append(margin_before)\n",
    "class_distrs_clean = np.array(class_distrs_clean)"
   ]
  },
  {
   "cell_type": "markdown",
   "metadata": {},
   "source": [
    "### Train GCN with perturbations"
   ]
  },
  {
   "cell_type": "code",
   "execution_count": 38,
   "metadata": {},
   "outputs": [
    {
     "name": "stdout",
     "output_type": "stream",
     "text": [
      "... 1/5 \n",
      "converged after 44 iterations\n",
      "... 2/5 \n",
      "converged after 122 iterations\n",
      "... 3/5 \n",
      "converged after 49 iterations\n",
      "... 4/5 \n",
      "converged after 42 iterations\n",
      "... 5/5 \n",
      "converged after 51 iterations\n"
     ]
    }
   ],
   "source": [
    "classification_margins_corrupted = []\n",
    "class_distrs_retrain = []\n",
    "\n",
    "# gcn_retrain = GCN.GCN(sizes, nettack.adj_preprocessed, nettack.X_obs.tocsr(), \"gcn_retrain\", gpu_id=gpu_id)\n",
    "\n",
    "nettack_adj_torch = sparse_numpy2sparse_torch(nettack.adj_preprocessed)\n",
    "nettack_X_torch = sparse_numpy2sparse_torch(nettack.X_obs.tocsr())\n",
    "\n",
    "for _ in range(retrain_iters):\n",
    "    print(\"... {}/{} \".format(_+1, retrain_iters))\n",
    "    gcn_retrain_nn = GCN(sizes, nettack_adj_torch, nettack_X_torch, with_relu=True,\n",
    "                   name=\"gcn_retrain\", gpu_id=None)\n",
    "    gcn_retrain = GCN_Model(gcn_retrain_nn, lr=1e-2)\n",
    "#     gcn_retrain.train(split_train, split_val, _Z_obs)\n",
    "    gcn_retrain.train(split_train, split_val, torch.tensor(_Z_obs.astype(np.int64)), print_info=False)\n",
    "#     probs_after_attack = gcn_retrain.predictions.eval(session=gcn_retrain.session,feed_dict={gcn_retrain.node_ids: [nettack.u]})[0]\n",
    "    gcn_retrain._compute_loss_and_backprop(u_nodes, u_labels, False)\n",
    "    probs_after_attack = gcn_retrain.predictions.detach().cpu().numpy()[0]\n",
    "    class_distrs_retrain.append(probs_after_attack)\n",
    "#     best_second_class_after = (probs_after_attack - 1000*_Z_obs[nettack.u]).argmax()\n",
    "    best_second_class_after = (probs_after_attack - 1000*one_hot_encod_u).argmax()\n",
    "    margin_after = probs_after_attack[_z_obs[nettack.u]] - probs_after_attack[best_second_class_after]\n",
    "    classification_margins_corrupted.append(margin_after)\n",
    "class_distrs_retrain = np.array(class_distrs_retrain)"
   ]
  },
  {
   "cell_type": "markdown",
   "metadata": {},
   "source": [
    "### Visualize results"
   ]
  },
  {
   "cell_type": "code",
   "execution_count": 39,
   "metadata": {},
   "outputs": [
    {
     "data": {
      "application/javascript": [
       "/* Put everything inside the global mpl namespace */\n",
       "window.mpl = {};\n",
       "\n",
       "\n",
       "mpl.get_websocket_type = function() {\n",
       "    if (typeof(WebSocket) !== 'undefined') {\n",
       "        return WebSocket;\n",
       "    } else if (typeof(MozWebSocket) !== 'undefined') {\n",
       "        return MozWebSocket;\n",
       "    } else {\n",
       "        alert('Your browser does not have WebSocket support.' +\n",
       "              'Please try Chrome, Safari or Firefox ≥ 6. ' +\n",
       "              'Firefox 4 and 5 are also supported but you ' +\n",
       "              'have to enable WebSockets in about:config.');\n",
       "    };\n",
       "}\n",
       "\n",
       "mpl.figure = function(figure_id, websocket, ondownload, parent_element) {\n",
       "    this.id = figure_id;\n",
       "\n",
       "    this.ws = websocket;\n",
       "\n",
       "    this.supports_binary = (this.ws.binaryType != undefined);\n",
       "\n",
       "    if (!this.supports_binary) {\n",
       "        var warnings = document.getElementById(\"mpl-warnings\");\n",
       "        if (warnings) {\n",
       "            warnings.style.display = 'block';\n",
       "            warnings.textContent = (\n",
       "                \"This browser does not support binary websocket messages. \" +\n",
       "                    \"Performance may be slow.\");\n",
       "        }\n",
       "    }\n",
       "\n",
       "    this.imageObj = new Image();\n",
       "\n",
       "    this.context = undefined;\n",
       "    this.message = undefined;\n",
       "    this.canvas = undefined;\n",
       "    this.rubberband_canvas = undefined;\n",
       "    this.rubberband_context = undefined;\n",
       "    this.format_dropdown = undefined;\n",
       "\n",
       "    this.image_mode = 'full';\n",
       "\n",
       "    this.root = $('<div/>');\n",
       "    this._root_extra_style(this.root)\n",
       "    this.root.attr('style', 'display: inline-block');\n",
       "\n",
       "    $(parent_element).append(this.root);\n",
       "\n",
       "    this._init_header(this);\n",
       "    this._init_canvas(this);\n",
       "    this._init_toolbar(this);\n",
       "\n",
       "    var fig = this;\n",
       "\n",
       "    this.waiting = false;\n",
       "\n",
       "    this.ws.onopen =  function () {\n",
       "            fig.send_message(\"supports_binary\", {value: fig.supports_binary});\n",
       "            fig.send_message(\"send_image_mode\", {});\n",
       "            if (mpl.ratio != 1) {\n",
       "                fig.send_message(\"set_dpi_ratio\", {'dpi_ratio': mpl.ratio});\n",
       "            }\n",
       "            fig.send_message(\"refresh\", {});\n",
       "        }\n",
       "\n",
       "    this.imageObj.onload = function() {\n",
       "            if (fig.image_mode == 'full') {\n",
       "                // Full images could contain transparency (where diff images\n",
       "                // almost always do), so we need to clear the canvas so that\n",
       "                // there is no ghosting.\n",
       "                fig.context.clearRect(0, 0, fig.canvas.width, fig.canvas.height);\n",
       "            }\n",
       "            fig.context.drawImage(fig.imageObj, 0, 0);\n",
       "        };\n",
       "\n",
       "    this.imageObj.onunload = function() {\n",
       "        fig.ws.close();\n",
       "    }\n",
       "\n",
       "    this.ws.onmessage = this._make_on_message_function(this);\n",
       "\n",
       "    this.ondownload = ondownload;\n",
       "}\n",
       "\n",
       "mpl.figure.prototype._init_header = function() {\n",
       "    var titlebar = $(\n",
       "        '<div class=\"ui-dialog-titlebar ui-widget-header ui-corner-all ' +\n",
       "        'ui-helper-clearfix\"/>');\n",
       "    var titletext = $(\n",
       "        '<div class=\"ui-dialog-title\" style=\"width: 100%; ' +\n",
       "        'text-align: center; padding: 3px;\"/>');\n",
       "    titlebar.append(titletext)\n",
       "    this.root.append(titlebar);\n",
       "    this.header = titletext[0];\n",
       "}\n",
       "\n",
       "\n",
       "\n",
       "mpl.figure.prototype._canvas_extra_style = function(canvas_div) {\n",
       "\n",
       "}\n",
       "\n",
       "\n",
       "mpl.figure.prototype._root_extra_style = function(canvas_div) {\n",
       "\n",
       "}\n",
       "\n",
       "mpl.figure.prototype._init_canvas = function() {\n",
       "    var fig = this;\n",
       "\n",
       "    var canvas_div = $('<div/>');\n",
       "\n",
       "    canvas_div.attr('style', 'position: relative; clear: both; outline: 0');\n",
       "\n",
       "    function canvas_keyboard_event(event) {\n",
       "        return fig.key_event(event, event['data']);\n",
       "    }\n",
       "\n",
       "    canvas_div.keydown('key_press', canvas_keyboard_event);\n",
       "    canvas_div.keyup('key_release', canvas_keyboard_event);\n",
       "    this.canvas_div = canvas_div\n",
       "    this._canvas_extra_style(canvas_div)\n",
       "    this.root.append(canvas_div);\n",
       "\n",
       "    var canvas = $('<canvas/>');\n",
       "    canvas.addClass('mpl-canvas');\n",
       "    canvas.attr('style', \"left: 0; top: 0; z-index: 0; outline: 0\")\n",
       "\n",
       "    this.canvas = canvas[0];\n",
       "    this.context = canvas[0].getContext(\"2d\");\n",
       "\n",
       "    var backingStore = this.context.backingStorePixelRatio ||\n",
       "\tthis.context.webkitBackingStorePixelRatio ||\n",
       "\tthis.context.mozBackingStorePixelRatio ||\n",
       "\tthis.context.msBackingStorePixelRatio ||\n",
       "\tthis.context.oBackingStorePixelRatio ||\n",
       "\tthis.context.backingStorePixelRatio || 1;\n",
       "\n",
       "    mpl.ratio = (window.devicePixelRatio || 1) / backingStore;\n",
       "\n",
       "    var rubberband = $('<canvas/>');\n",
       "    rubberband.attr('style', \"position: absolute; left: 0; top: 0; z-index: 1;\")\n",
       "\n",
       "    var pass_mouse_events = true;\n",
       "\n",
       "    canvas_div.resizable({\n",
       "        start: function(event, ui) {\n",
       "            pass_mouse_events = false;\n",
       "        },\n",
       "        resize: function(event, ui) {\n",
       "            fig.request_resize(ui.size.width, ui.size.height);\n",
       "        },\n",
       "        stop: function(event, ui) {\n",
       "            pass_mouse_events = true;\n",
       "            fig.request_resize(ui.size.width, ui.size.height);\n",
       "        },\n",
       "    });\n",
       "\n",
       "    function mouse_event_fn(event) {\n",
       "        if (pass_mouse_events)\n",
       "            return fig.mouse_event(event, event['data']);\n",
       "    }\n",
       "\n",
       "    rubberband.mousedown('button_press', mouse_event_fn);\n",
       "    rubberband.mouseup('button_release', mouse_event_fn);\n",
       "    // Throttle sequential mouse events to 1 every 20ms.\n",
       "    rubberband.mousemove('motion_notify', mouse_event_fn);\n",
       "\n",
       "    rubberband.mouseenter('figure_enter', mouse_event_fn);\n",
       "    rubberband.mouseleave('figure_leave', mouse_event_fn);\n",
       "\n",
       "    canvas_div.on(\"wheel\", function (event) {\n",
       "        event = event.originalEvent;\n",
       "        event['data'] = 'scroll'\n",
       "        if (event.deltaY < 0) {\n",
       "            event.step = 1;\n",
       "        } else {\n",
       "            event.step = -1;\n",
       "        }\n",
       "        mouse_event_fn(event);\n",
       "    });\n",
       "\n",
       "    canvas_div.append(canvas);\n",
       "    canvas_div.append(rubberband);\n",
       "\n",
       "    this.rubberband = rubberband;\n",
       "    this.rubberband_canvas = rubberband[0];\n",
       "    this.rubberband_context = rubberband[0].getContext(\"2d\");\n",
       "    this.rubberband_context.strokeStyle = \"#000000\";\n",
       "\n",
       "    this._resize_canvas = function(width, height) {\n",
       "        // Keep the size of the canvas, canvas container, and rubber band\n",
       "        // canvas in synch.\n",
       "        canvas_div.css('width', width)\n",
       "        canvas_div.css('height', height)\n",
       "\n",
       "        canvas.attr('width', width * mpl.ratio);\n",
       "        canvas.attr('height', height * mpl.ratio);\n",
       "        canvas.attr('style', 'width: ' + width + 'px; height: ' + height + 'px;');\n",
       "\n",
       "        rubberband.attr('width', width);\n",
       "        rubberband.attr('height', height);\n",
       "    }\n",
       "\n",
       "    // Set the figure to an initial 600x600px, this will subsequently be updated\n",
       "    // upon first draw.\n",
       "    this._resize_canvas(600, 600);\n",
       "\n",
       "    // Disable right mouse context menu.\n",
       "    $(this.rubberband_canvas).bind(\"contextmenu\",function(e){\n",
       "        return false;\n",
       "    });\n",
       "\n",
       "    function set_focus () {\n",
       "        canvas.focus();\n",
       "        canvas_div.focus();\n",
       "    }\n",
       "\n",
       "    window.setTimeout(set_focus, 100);\n",
       "}\n",
       "\n",
       "mpl.figure.prototype._init_toolbar = function() {\n",
       "    var fig = this;\n",
       "\n",
       "    var nav_element = $('<div/>')\n",
       "    nav_element.attr('style', 'width: 100%');\n",
       "    this.root.append(nav_element);\n",
       "\n",
       "    // Define a callback function for later on.\n",
       "    function toolbar_event(event) {\n",
       "        return fig.toolbar_button_onclick(event['data']);\n",
       "    }\n",
       "    function toolbar_mouse_event(event) {\n",
       "        return fig.toolbar_button_onmouseover(event['data']);\n",
       "    }\n",
       "\n",
       "    for(var toolbar_ind in mpl.toolbar_items) {\n",
       "        var name = mpl.toolbar_items[toolbar_ind][0];\n",
       "        var tooltip = mpl.toolbar_items[toolbar_ind][1];\n",
       "        var image = mpl.toolbar_items[toolbar_ind][2];\n",
       "        var method_name = mpl.toolbar_items[toolbar_ind][3];\n",
       "\n",
       "        if (!name) {\n",
       "            // put a spacer in here.\n",
       "            continue;\n",
       "        }\n",
       "        var button = $('<button/>');\n",
       "        button.addClass('ui-button ui-widget ui-state-default ui-corner-all ' +\n",
       "                        'ui-button-icon-only');\n",
       "        button.attr('role', 'button');\n",
       "        button.attr('aria-disabled', 'false');\n",
       "        button.click(method_name, toolbar_event);\n",
       "        button.mouseover(tooltip, toolbar_mouse_event);\n",
       "\n",
       "        var icon_img = $('<span/>');\n",
       "        icon_img.addClass('ui-button-icon-primary ui-icon');\n",
       "        icon_img.addClass(image);\n",
       "        icon_img.addClass('ui-corner-all');\n",
       "\n",
       "        var tooltip_span = $('<span/>');\n",
       "        tooltip_span.addClass('ui-button-text');\n",
       "        tooltip_span.html(tooltip);\n",
       "\n",
       "        button.append(icon_img);\n",
       "        button.append(tooltip_span);\n",
       "\n",
       "        nav_element.append(button);\n",
       "    }\n",
       "\n",
       "    var fmt_picker_span = $('<span/>');\n",
       "\n",
       "    var fmt_picker = $('<select/>');\n",
       "    fmt_picker.addClass('mpl-toolbar-option ui-widget ui-widget-content');\n",
       "    fmt_picker_span.append(fmt_picker);\n",
       "    nav_element.append(fmt_picker_span);\n",
       "    this.format_dropdown = fmt_picker[0];\n",
       "\n",
       "    for (var ind in mpl.extensions) {\n",
       "        var fmt = mpl.extensions[ind];\n",
       "        var option = $(\n",
       "            '<option/>', {selected: fmt === mpl.default_extension}).html(fmt);\n",
       "        fmt_picker.append(option)\n",
       "    }\n",
       "\n",
       "    // Add hover states to the ui-buttons\n",
       "    $( \".ui-button\" ).hover(\n",
       "        function() { $(this).addClass(\"ui-state-hover\");},\n",
       "        function() { $(this).removeClass(\"ui-state-hover\");}\n",
       "    );\n",
       "\n",
       "    var status_bar = $('<span class=\"mpl-message\"/>');\n",
       "    nav_element.append(status_bar);\n",
       "    this.message = status_bar[0];\n",
       "}\n",
       "\n",
       "mpl.figure.prototype.request_resize = function(x_pixels, y_pixels) {\n",
       "    // Request matplotlib to resize the figure. Matplotlib will then trigger a resize in the client,\n",
       "    // which will in turn request a refresh of the image.\n",
       "    this.send_message('resize', {'width': x_pixels, 'height': y_pixels});\n",
       "}\n",
       "\n",
       "mpl.figure.prototype.send_message = function(type, properties) {\n",
       "    properties['type'] = type;\n",
       "    properties['figure_id'] = this.id;\n",
       "    this.ws.send(JSON.stringify(properties));\n",
       "}\n",
       "\n",
       "mpl.figure.prototype.send_draw_message = function() {\n",
       "    if (!this.waiting) {\n",
       "        this.waiting = true;\n",
       "        this.ws.send(JSON.stringify({type: \"draw\", figure_id: this.id}));\n",
       "    }\n",
       "}\n",
       "\n",
       "\n",
       "mpl.figure.prototype.handle_save = function(fig, msg) {\n",
       "    var format_dropdown = fig.format_dropdown;\n",
       "    var format = format_dropdown.options[format_dropdown.selectedIndex].value;\n",
       "    fig.ondownload(fig, format);\n",
       "}\n",
       "\n",
       "\n",
       "mpl.figure.prototype.handle_resize = function(fig, msg) {\n",
       "    var size = msg['size'];\n",
       "    if (size[0] != fig.canvas.width || size[1] != fig.canvas.height) {\n",
       "        fig._resize_canvas(size[0], size[1]);\n",
       "        fig.send_message(\"refresh\", {});\n",
       "    };\n",
       "}\n",
       "\n",
       "mpl.figure.prototype.handle_rubberband = function(fig, msg) {\n",
       "    var x0 = msg['x0'] / mpl.ratio;\n",
       "    var y0 = (fig.canvas.height - msg['y0']) / mpl.ratio;\n",
       "    var x1 = msg['x1'] / mpl.ratio;\n",
       "    var y1 = (fig.canvas.height - msg['y1']) / mpl.ratio;\n",
       "    x0 = Math.floor(x0) + 0.5;\n",
       "    y0 = Math.floor(y0) + 0.5;\n",
       "    x1 = Math.floor(x1) + 0.5;\n",
       "    y1 = Math.floor(y1) + 0.5;\n",
       "    var min_x = Math.min(x0, x1);\n",
       "    var min_y = Math.min(y0, y1);\n",
       "    var width = Math.abs(x1 - x0);\n",
       "    var height = Math.abs(y1 - y0);\n",
       "\n",
       "    fig.rubberband_context.clearRect(\n",
       "        0, 0, fig.canvas.width, fig.canvas.height);\n",
       "\n",
       "    fig.rubberband_context.strokeRect(min_x, min_y, width, height);\n",
       "}\n",
       "\n",
       "mpl.figure.prototype.handle_figure_label = function(fig, msg) {\n",
       "    // Updates the figure title.\n",
       "    fig.header.textContent = msg['label'];\n",
       "}\n",
       "\n",
       "mpl.figure.prototype.handle_cursor = function(fig, msg) {\n",
       "    var cursor = msg['cursor'];\n",
       "    switch(cursor)\n",
       "    {\n",
       "    case 0:\n",
       "        cursor = 'pointer';\n",
       "        break;\n",
       "    case 1:\n",
       "        cursor = 'default';\n",
       "        break;\n",
       "    case 2:\n",
       "        cursor = 'crosshair';\n",
       "        break;\n",
       "    case 3:\n",
       "        cursor = 'move';\n",
       "        break;\n",
       "    }\n",
       "    fig.rubberband_canvas.style.cursor = cursor;\n",
       "}\n",
       "\n",
       "mpl.figure.prototype.handle_message = function(fig, msg) {\n",
       "    fig.message.textContent = msg['message'];\n",
       "}\n",
       "\n",
       "mpl.figure.prototype.handle_draw = function(fig, msg) {\n",
       "    // Request the server to send over a new figure.\n",
       "    fig.send_draw_message();\n",
       "}\n",
       "\n",
       "mpl.figure.prototype.handle_image_mode = function(fig, msg) {\n",
       "    fig.image_mode = msg['mode'];\n",
       "}\n",
       "\n",
       "mpl.figure.prototype.updated_canvas_event = function() {\n",
       "    // Called whenever the canvas gets updated.\n",
       "    this.send_message(\"ack\", {});\n",
       "}\n",
       "\n",
       "// A function to construct a web socket function for onmessage handling.\n",
       "// Called in the figure constructor.\n",
       "mpl.figure.prototype._make_on_message_function = function(fig) {\n",
       "    return function socket_on_message(evt) {\n",
       "        if (evt.data instanceof Blob) {\n",
       "            /* FIXME: We get \"Resource interpreted as Image but\n",
       "             * transferred with MIME type text/plain:\" errors on\n",
       "             * Chrome.  But how to set the MIME type?  It doesn't seem\n",
       "             * to be part of the websocket stream */\n",
       "            evt.data.type = \"image/png\";\n",
       "\n",
       "            /* Free the memory for the previous frames */\n",
       "            if (fig.imageObj.src) {\n",
       "                (window.URL || window.webkitURL).revokeObjectURL(\n",
       "                    fig.imageObj.src);\n",
       "            }\n",
       "\n",
       "            fig.imageObj.src = (window.URL || window.webkitURL).createObjectURL(\n",
       "                evt.data);\n",
       "            fig.updated_canvas_event();\n",
       "            fig.waiting = false;\n",
       "            return;\n",
       "        }\n",
       "        else if (typeof evt.data === 'string' && evt.data.slice(0, 21) == \"data:image/png;base64\") {\n",
       "            fig.imageObj.src = evt.data;\n",
       "            fig.updated_canvas_event();\n",
       "            fig.waiting = false;\n",
       "            return;\n",
       "        }\n",
       "\n",
       "        var msg = JSON.parse(evt.data);\n",
       "        var msg_type = msg['type'];\n",
       "\n",
       "        // Call the  \"handle_{type}\" callback, which takes\n",
       "        // the figure and JSON message as its only arguments.\n",
       "        try {\n",
       "            var callback = fig[\"handle_\" + msg_type];\n",
       "        } catch (e) {\n",
       "            console.log(\"No handler for the '\" + msg_type + \"' message type: \", msg);\n",
       "            return;\n",
       "        }\n",
       "\n",
       "        if (callback) {\n",
       "            try {\n",
       "                // console.log(\"Handling '\" + msg_type + \"' message: \", msg);\n",
       "                callback(fig, msg);\n",
       "            } catch (e) {\n",
       "                console.log(\"Exception inside the 'handler_\" + msg_type + \"' callback:\", e, e.stack, msg);\n",
       "            }\n",
       "        }\n",
       "    };\n",
       "}\n",
       "\n",
       "// from http://stackoverflow.com/questions/1114465/getting-mouse-location-in-canvas\n",
       "mpl.findpos = function(e) {\n",
       "    //this section is from http://www.quirksmode.org/js/events_properties.html\n",
       "    var targ;\n",
       "    if (!e)\n",
       "        e = window.event;\n",
       "    if (e.target)\n",
       "        targ = e.target;\n",
       "    else if (e.srcElement)\n",
       "        targ = e.srcElement;\n",
       "    if (targ.nodeType == 3) // defeat Safari bug\n",
       "        targ = targ.parentNode;\n",
       "\n",
       "    // jQuery normalizes the pageX and pageY\n",
       "    // pageX,Y are the mouse positions relative to the document\n",
       "    // offset() returns the position of the element relative to the document\n",
       "    var x = e.pageX - $(targ).offset().left;\n",
       "    var y = e.pageY - $(targ).offset().top;\n",
       "\n",
       "    return {\"x\": x, \"y\": y};\n",
       "};\n",
       "\n",
       "/*\n",
       " * return a copy of an object with only non-object keys\n",
       " * we need this to avoid circular references\n",
       " * http://stackoverflow.com/a/24161582/3208463\n",
       " */\n",
       "function simpleKeys (original) {\n",
       "  return Object.keys(original).reduce(function (obj, key) {\n",
       "    if (typeof original[key] !== 'object')\n",
       "        obj[key] = original[key]\n",
       "    return obj;\n",
       "  }, {});\n",
       "}\n",
       "\n",
       "mpl.figure.prototype.mouse_event = function(event, name) {\n",
       "    var canvas_pos = mpl.findpos(event)\n",
       "\n",
       "    if (name === 'button_press')\n",
       "    {\n",
       "        this.canvas.focus();\n",
       "        this.canvas_div.focus();\n",
       "    }\n",
       "\n",
       "    var x = canvas_pos.x * mpl.ratio;\n",
       "    var y = canvas_pos.y * mpl.ratio;\n",
       "\n",
       "    this.send_message(name, {x: x, y: y, button: event.button,\n",
       "                             step: event.step,\n",
       "                             guiEvent: simpleKeys(event)});\n",
       "\n",
       "    /* This prevents the web browser from automatically changing to\n",
       "     * the text insertion cursor when the button is pressed.  We want\n",
       "     * to control all of the cursor setting manually through the\n",
       "     * 'cursor' event from matplotlib */\n",
       "    event.preventDefault();\n",
       "    return false;\n",
       "}\n",
       "\n",
       "mpl.figure.prototype._key_event_extra = function(event, name) {\n",
       "    // Handle any extra behaviour associated with a key event\n",
       "}\n",
       "\n",
       "mpl.figure.prototype.key_event = function(event, name) {\n",
       "\n",
       "    // Prevent repeat events\n",
       "    if (name == 'key_press')\n",
       "    {\n",
       "        if (event.which === this._key)\n",
       "            return;\n",
       "        else\n",
       "            this._key = event.which;\n",
       "    }\n",
       "    if (name == 'key_release')\n",
       "        this._key = null;\n",
       "\n",
       "    var value = '';\n",
       "    if (event.ctrlKey && event.which != 17)\n",
       "        value += \"ctrl+\";\n",
       "    if (event.altKey && event.which != 18)\n",
       "        value += \"alt+\";\n",
       "    if (event.shiftKey && event.which != 16)\n",
       "        value += \"shift+\";\n",
       "\n",
       "    value += 'k';\n",
       "    value += event.which.toString();\n",
       "\n",
       "    this._key_event_extra(event, name);\n",
       "\n",
       "    this.send_message(name, {key: value,\n",
       "                             guiEvent: simpleKeys(event)});\n",
       "    return false;\n",
       "}\n",
       "\n",
       "mpl.figure.prototype.toolbar_button_onclick = function(name) {\n",
       "    if (name == 'download') {\n",
       "        this.handle_save(this, null);\n",
       "    } else {\n",
       "        this.send_message(\"toolbar_button\", {name: name});\n",
       "    }\n",
       "};\n",
       "\n",
       "mpl.figure.prototype.toolbar_button_onmouseover = function(tooltip) {\n",
       "    this.message.textContent = tooltip;\n",
       "};\n",
       "mpl.toolbar_items = [[\"Home\", \"Reset original view\", \"fa fa-home icon-home\", \"home\"], [\"Back\", \"Back to previous view\", \"fa fa-arrow-left icon-arrow-left\", \"back\"], [\"Forward\", \"Forward to next view\", \"fa fa-arrow-right icon-arrow-right\", \"forward\"], [\"\", \"\", \"\", \"\"], [\"Pan\", \"Pan axes with left mouse, zoom with right\", \"fa fa-arrows icon-move\", \"pan\"], [\"Zoom\", \"Zoom to rectangle\", \"fa fa-square-o icon-check-empty\", \"zoom\"], [\"\", \"\", \"\", \"\"], [\"Download\", \"Download plot\", \"fa fa-floppy-o icon-save\", \"download\"]];\n",
       "\n",
       "mpl.extensions = [\"eps\", \"jpeg\", \"pdf\", \"png\", \"ps\", \"raw\", \"svg\", \"tif\"];\n",
       "\n",
       "mpl.default_extension = \"png\";var comm_websocket_adapter = function(comm) {\n",
       "    // Create a \"websocket\"-like object which calls the given IPython comm\n",
       "    // object with the appropriate methods. Currently this is a non binary\n",
       "    // socket, so there is still some room for performance tuning.\n",
       "    var ws = {};\n",
       "\n",
       "    ws.close = function() {\n",
       "        comm.close()\n",
       "    };\n",
       "    ws.send = function(m) {\n",
       "        //console.log('sending', m);\n",
       "        comm.send(m);\n",
       "    };\n",
       "    // Register the callback with on_msg.\n",
       "    comm.on_msg(function(msg) {\n",
       "        //console.log('receiving', msg['content']['data'], msg);\n",
       "        // Pass the mpl event to the overridden (by mpl) onmessage function.\n",
       "        ws.onmessage(msg['content']['data'])\n",
       "    });\n",
       "    return ws;\n",
       "}\n",
       "\n",
       "mpl.mpl_figure_comm = function(comm, msg) {\n",
       "    // This is the function which gets called when the mpl process\n",
       "    // starts-up an IPython Comm through the \"matplotlib\" channel.\n",
       "\n",
       "    var id = msg.content.data.id;\n",
       "    // Get hold of the div created by the display call when the Comm\n",
       "    // socket was opened in Python.\n",
       "    var element = $(\"#\" + id);\n",
       "    var ws_proxy = comm_websocket_adapter(comm)\n",
       "\n",
       "    function ondownload(figure, format) {\n",
       "        window.open(figure.imageObj.src);\n",
       "    }\n",
       "\n",
       "    var fig = new mpl.figure(id, ws_proxy,\n",
       "                           ondownload,\n",
       "                           element.get(0));\n",
       "\n",
       "    // Call onopen now - mpl needs it, as it is assuming we've passed it a real\n",
       "    // web socket which is closed, not our websocket->open comm proxy.\n",
       "    ws_proxy.onopen();\n",
       "\n",
       "    fig.parent_element = element.get(0);\n",
       "    fig.cell_info = mpl.find_output_cell(\"<div id='\" + id + \"'></div>\");\n",
       "    if (!fig.cell_info) {\n",
       "        console.error(\"Failed to find cell for figure\", id, fig);\n",
       "        return;\n",
       "    }\n",
       "\n",
       "    var output_index = fig.cell_info[2]\n",
       "    var cell = fig.cell_info[0];\n",
       "\n",
       "};\n",
       "\n",
       "mpl.figure.prototype.handle_close = function(fig, msg) {\n",
       "    var width = fig.canvas.width/mpl.ratio\n",
       "    fig.root.unbind('remove')\n",
       "\n",
       "    // Update the output cell to use the data from the current canvas.\n",
       "    fig.push_to_output();\n",
       "    var dataURL = fig.canvas.toDataURL();\n",
       "    // Re-enable the keyboard manager in IPython - without this line, in FF,\n",
       "    // the notebook keyboard shortcuts fail.\n",
       "    IPython.keyboard_manager.enable()\n",
       "    $(fig.parent_element).html('<img src=\"' + dataURL + '\" width=\"' + width + '\">');\n",
       "    fig.close_ws(fig, msg);\n",
       "}\n",
       "\n",
       "mpl.figure.prototype.close_ws = function(fig, msg){\n",
       "    fig.send_message('closing', msg);\n",
       "    // fig.ws.close()\n",
       "}\n",
       "\n",
       "mpl.figure.prototype.push_to_output = function(remove_interactive) {\n",
       "    // Turn the data on the canvas into data in the output cell.\n",
       "    var width = this.canvas.width/mpl.ratio\n",
       "    var dataURL = this.canvas.toDataURL();\n",
       "    this.cell_info[1]['text/html'] = '<img src=\"' + dataURL + '\" width=\"' + width + '\">';\n",
       "}\n",
       "\n",
       "mpl.figure.prototype.updated_canvas_event = function() {\n",
       "    // Tell IPython that the notebook contents must change.\n",
       "    IPython.notebook.set_dirty(true);\n",
       "    this.send_message(\"ack\", {});\n",
       "    var fig = this;\n",
       "    // Wait a second, then push the new image to the DOM so\n",
       "    // that it is saved nicely (might be nice to debounce this).\n",
       "    setTimeout(function () { fig.push_to_output() }, 1000);\n",
       "}\n",
       "\n",
       "mpl.figure.prototype._init_toolbar = function() {\n",
       "    var fig = this;\n",
       "\n",
       "    var nav_element = $('<div/>')\n",
       "    nav_element.attr('style', 'width: 100%');\n",
       "    this.root.append(nav_element);\n",
       "\n",
       "    // Define a callback function for later on.\n",
       "    function toolbar_event(event) {\n",
       "        return fig.toolbar_button_onclick(event['data']);\n",
       "    }\n",
       "    function toolbar_mouse_event(event) {\n",
       "        return fig.toolbar_button_onmouseover(event['data']);\n",
       "    }\n",
       "\n",
       "    for(var toolbar_ind in mpl.toolbar_items){\n",
       "        var name = mpl.toolbar_items[toolbar_ind][0];\n",
       "        var tooltip = mpl.toolbar_items[toolbar_ind][1];\n",
       "        var image = mpl.toolbar_items[toolbar_ind][2];\n",
       "        var method_name = mpl.toolbar_items[toolbar_ind][3];\n",
       "\n",
       "        if (!name) { continue; };\n",
       "\n",
       "        var button = $('<button class=\"btn btn-default\" href=\"#\" title=\"' + name + '\"><i class=\"fa ' + image + ' fa-lg\"></i></button>');\n",
       "        button.click(method_name, toolbar_event);\n",
       "        button.mouseover(tooltip, toolbar_mouse_event);\n",
       "        nav_element.append(button);\n",
       "    }\n",
       "\n",
       "    // Add the status bar.\n",
       "    var status_bar = $('<span class=\"mpl-message\" style=\"text-align:right; float: right;\"/>');\n",
       "    nav_element.append(status_bar);\n",
       "    this.message = status_bar[0];\n",
       "\n",
       "    // Add the close button to the window.\n",
       "    var buttongrp = $('<div class=\"btn-group inline pull-right\"></div>');\n",
       "    var button = $('<button class=\"btn btn-mini btn-primary\" href=\"#\" title=\"Stop Interaction\"><i class=\"fa fa-power-off icon-remove icon-large\"></i></button>');\n",
       "    button.click(function (evt) { fig.handle_close(fig, {}); } );\n",
       "    button.mouseover('Stop Interaction', toolbar_mouse_event);\n",
       "    buttongrp.append(button);\n",
       "    var titlebar = this.root.find($('.ui-dialog-titlebar'));\n",
       "    titlebar.prepend(buttongrp);\n",
       "}\n",
       "\n",
       "mpl.figure.prototype._root_extra_style = function(el){\n",
       "    var fig = this\n",
       "    el.on(\"remove\", function(){\n",
       "\tfig.close_ws(fig, {});\n",
       "    });\n",
       "}\n",
       "\n",
       "mpl.figure.prototype._canvas_extra_style = function(el){\n",
       "    // this is important to make the div 'focusable\n",
       "    el.attr('tabindex', 0)\n",
       "    // reach out to IPython and tell the keyboard manager to turn it's self\n",
       "    // off when our div gets focus\n",
       "\n",
       "    // location in version 3\n",
       "    if (IPython.notebook.keyboard_manager) {\n",
       "        IPython.notebook.keyboard_manager.register_events(el);\n",
       "    }\n",
       "    else {\n",
       "        // location in version 2\n",
       "        IPython.keyboard_manager.register_events(el);\n",
       "    }\n",
       "\n",
       "}\n",
       "\n",
       "mpl.figure.prototype._key_event_extra = function(event, name) {\n",
       "    var manager = IPython.notebook.keyboard_manager;\n",
       "    if (!manager)\n",
       "        manager = IPython.keyboard_manager;\n",
       "\n",
       "    // Check for shift+enter\n",
       "    if (event.shiftKey && event.which == 13) {\n",
       "        this.canvas_div.blur();\n",
       "        event.shiftKey = false;\n",
       "        // Send a \"J\" for go to next cell\n",
       "        event.which = 74;\n",
       "        event.keyCode = 74;\n",
       "        manager.command_mode();\n",
       "        manager.handle_keydown(event);\n",
       "    }\n",
       "}\n",
       "\n",
       "mpl.figure.prototype.handle_save = function(fig, msg) {\n",
       "    fig.ondownload(fig, null);\n",
       "}\n",
       "\n",
       "\n",
       "mpl.find_output_cell = function(html_output) {\n",
       "    // Return the cell and output element which can be found *uniquely* in the notebook.\n",
       "    // Note - this is a bit hacky, but it is done because the \"notebook_saving.Notebook\"\n",
       "    // IPython event is triggered only after the cells have been serialised, which for\n",
       "    // our purposes (turning an active figure into a static one), is too late.\n",
       "    var cells = IPython.notebook.get_cells();\n",
       "    var ncells = cells.length;\n",
       "    for (var i=0; i<ncells; i++) {\n",
       "        var cell = cells[i];\n",
       "        if (cell.cell_type === 'code'){\n",
       "            for (var j=0; j<cell.output_area.outputs.length; j++) {\n",
       "                var data = cell.output_area.outputs[j];\n",
       "                if (data.data) {\n",
       "                    // IPython >= 3 moved mimebundle to data attribute of output\n",
       "                    data = data.data;\n",
       "                }\n",
       "                if (data['text/html'] == html_output) {\n",
       "                    return [cell, data, j];\n",
       "                }\n",
       "            }\n",
       "        }\n",
       "    }\n",
       "}\n",
       "\n",
       "// Register the function which deals with the matplotlib target/channel.\n",
       "// The kernel may be null if the page has been refreshed.\n",
       "if (IPython.notebook.kernel != null) {\n",
       "    IPython.notebook.kernel.comm_manager.register_target('matplotlib', mpl.mpl_figure_comm);\n",
       "}\n"
      ],
      "text/plain": [
       "<IPython.core.display.Javascript object>"
      ]
     },
     "metadata": {},
     "output_type": "display_data"
    },
    {
     "data": {
      "text/html": [
       "<img src=\"data:image/png;base64,iVBORw0KGgoAAAANSUhEUgAABSgAAAG4CAYAAABGuAnYAAAgAElEQVR4XuydB7QdVfX/d0JNIIAEAkG6CAQCStRQNRTRgIgIogIK/ENRaVKkt9A7CCKg1AgiAqH/VIogooChiIBRglECQgAFAggkQMh/fcc1z5tbZ59377vnzPuctd4ivLfPzJ7P3jOz5zvnnBkwZ86cOUaDAAQgAAEIQAACEIAABCAAAQhAAAIQgAAEINAFAgMQKLtAnV1CAAIQgAAEIAABCEAAAhCAAAQgAAEIQAACGQEEShIBAhCAAAQgAAEIQAACEIAABCAAAQhAAAIQ6BoBBMquoWfHEIAABCAAAQhAAAIQgAAEIAABCEAAAhCAAAIlOQABCEAAAhCAAAQgAAEIQAACEIAABCAAAQh0jQACZdfQs2MIQAACEIAABCAAAQhAAAIQgAAEIAABCEAAgZIcgAAEIAABCEAAAhCAAAQgAAEIQAACEIAABLpGAIGya+jZMQQgAAEIQAACEIAABCAAAQhAAAIQgAAEIIBASQ5AAAIQgAAEIAABCEAAAhCAAAQgAAEIQAACXSOAQNk19OwYAhCAAAQgAAEIQAACEIAABCAAAQhAAAIQQKAkByAAAQhAAAIQgAAEIAABCEAAAhCAAAQgAIGuEUCg7Bp6dgwBCEAAAhCAAAQgAAEIQAACEIAABCAAAQggUJIDEIAABCAAAQhAAAIQgAAEIAABCEAAAhCAQNcIIFB2DT07hgAEIAABCEAAAhCAAAQgAAEIQAACEIAABBAoyQE3gY033tieeeaZ7Cdv9X7n3nAHO1xxxRX2//7f/7N77rnH5Gs7Wie22Q6/YtlGJ3NixRVXNP385je/aXm4ytOVVlrJjj32WBs/fnyP/YABA2yXXXYxxTFvnu2qj7Z33HHH2T/+8Y/Mn26066+/3k444QSbMmWKzZw5s6053o3jabZPxXuTTTaxyy+/3HbdddfY3Ivan06ej3194I3O6b72g/1BwEOA2um/tKidmmdNJ6/VnhqH2slzdsdtW7ba6d///rcdeOCBdtddd9n06dNtzJgxhZ4H4o4S3jUi0MlrYjPqMTzj9desQKCMPPL5TaXSzcGDB9sqq6xiX/va1+yggw6yBRZYoE+Pot1Fto5RP/vvv78ttthiHTmWThTEndhmRw6+Sxvt5A2lL4tsxXnGjBlZfla3bt+8JEquueaatv7662diq64Fm2++uS211FJdinpnd9vpIvu3v/1tJjo//PDDNmfOHPvUpz6V/f9nPvOZzh5YH2y9k+djH7g/1y7aIVB+//vfz+43CN19Hb2+2R+1U3s4d6LO6cQ223O0cWylk9dqaqf/xpjaqb253te1k+rda665xo488khbeeWVs5pXtW+37+t33nmn3XDDDfbHP/7RHn/8cXvnnXfsyiuvtG984xs1wJ9//nm76qqr7Pbbb7ennnrKXn31VVtuueVsww03zI5Lz/mxN9XHH//4x22bbbbpqKudvCbG/IzXUaiRbxyBMvIA5UX2V77yFfvSl76UefvSSy9lF2Y9RG+55Zb2f//3f316FPUuFO+++272QB8ilvaFyNOJgrgT2+zTQHZ4Z528oXiKbOXlrFmzbN55581+8lZvBKXs9Pv555+/x67Zcbz//vumH+W9+vV1+/GPf2zf+ta37JFHHrFRo0b19e77fH+dFChVJG611Vb24Q9/2PbZZx9bcMEFTXz/8pe/2G233Waf//zn+/x427nDTp6P7fSzyLbaIVB6riFFfMImLgLUTu2JRyfqnE5ssz1HG8dWOnmt9lz3qJ3iyId2eFG22mmZZZaxT37yk3bLLbfMhceT3+3gWr0NvfD86U9/amussUZWQ06aNKmhQHnRRRfZvvvua5/73OeyEaCLL754JmpefPHF2WZVk8b+crzec1QnuHbymhjzM14nWKayTQTKyCOV31Q0hfOoo47q8fa9996z0aNH22OPPWYPPfRQdqGu11Rg6A2ORl22q7X7QoFA2a7IdGY7EuBmz57tFp/bnSeVR9eOIqTojbWTx9HbiB1//PHZ1PVOTDF/6623bKGFFuqti23t36kiW/mtt9X/+te/bPLkybb88stnfr/55ps2cuRIGzhwoP3tb3+zeeaZp63H05cbizmPvRwQKL3E+p89tVN7Yt4JMbET22zP0bZ3K9ROtctBtZdw+NaoncLZVfbsVu2kmmznnXeea4km+dWOZ4NGZD744INssMOgQYMawtOoyKFDh2biZH6dazSC8s9//nM2i0MvxSvbHXfckb0Q1wweCZyxNTFQLawBH0Wfo0KOoVK/6GT92slthxw3ff5LAIEy8kxoVGTL7e9973t21lln2dVXX2077LBDz8VQQ8wlWmqdNj3IHXHEET1r702dOjVbr04XQK3hMWzYMNt6661NN+slllhiLhp6ID/44IPt7rvvNl2YNY30jDPOsO9+97uF16CUcHLyySdn+3vxxRezi/HHPvaxbLsajq8Lw7333lsThcr1AjU6U8P2NRT+6aeftvnmmy8TZ4855piat0sSbk888USbMGFCtj+tPbjffvtlNxTPGpQSKk455RS79dZb7dlnn7UhQ4bYiBEjbO+997avf/3rmb/1imwJGqeffropBmL9+uuvm9705Yyrp7DrTdv555+fDe+XkKx4SGw+6aSTbPXVV8/2889//jOLj7aptVYWXnhhW2GFFeyrX/2qHXrooU0zuFLQ0fbPO++8TMxaeumlbdy4cVluVI4q1Ns/sVNuHH744dnxv/zyy/brX/+6Z+1O+azt6OaqG8haa62VTX/OueQO5Rd9xVdrxSiPFMsNNtggyyNNC6hsF154od10003ZdrVPsdLbQx273kZWtrwIOffcc7NceuCBBzIR6bOf/aydeeaZWdzz1pt1lBqNiszXMm0krisPTj31VNP6kNq/hL78WNZee+0e38RP8b/sssvs73//eyYEa6rKeuutZ2effXbDqdr5MVUHX3mRrw2rQknn0S9/+ctMeFNuacS11swcPnx4T9fKHFHh8cMf/jCb/qR4Vq7PWb2vPL4PPvhgFoNf/OIX9vbbb2fnpnz/xCc+MVcXrY952mmn2c9+9rPMR7000VQW+VjvBYtyTL7IVueQ8lXXIF03qteg9Fwj6p0wOQPlv7Zd2XQ9Ofroowuv7fnXv/41u94qR7Q0gIrPbbfdNrteLbLIIj2bzq8fOi/+9Kc/2QUXXGDTpk3L7PVW/YADDih8d7rvvvuyvL///vvtjTfeyPJmo402yq71H/nIR7LtNCrCit4TXnjhhSyu8lcxkYCt81DXIU1HUkGet8qcUiGr8105pcJdjHVOFxV7lS86l3SNVH8tbbL77rtnSxtU3id0j5Kd7jWyfeWVV2zJJZfMRieIw7LLLpu51+jc0d9yoV8PBRrd8Pvf/z67/qppf7r+a2oZLX4C1E6W3W+pnaidqJ3+R4Daae71uz3XiE7WTqqbfvCDH2TPg88991x27dJLYz236flC9b1a/oxS7YvqNtnWa5Uv8IvWO3ltr+cR1Wo///nPTTX1JZdcUnhZmFYCZbO7qEZTqp5W3dyqVT63qRbXc9t//vMfW2eddbLn4U033bRmE6pP9ayq+l370TR5bUe6QmVtVvkcp+dNrfmp2qoZbz3XqDUSL+sNNMhZNdIvOvU8GfqMF/J8VaQW1owt1ce/+93vsufgRRdd1D760Y9mNW+j/G6VH6n+HYEy8sg1K7IleulCpBNawkx+gkv4kRj1zW9+M3tA05oWW2yxRTbaUie5hAE97EvMkOAnYUgCgB7KdDKo6QYhgUEP2N/+9rczcU4ikPanh0S9GW71kZxHH33UNttss+zipxNLwqSEG10QdcJJrJDv2v+NN95o55xzTo9IKhFHP9rP2LFjs5uWRFgJN9qexMonn3wyE7Q0LTNvstH0d12QNSVeF1JtXyOiNA22yEdyJEhKONEFaMcdd8z2qZul1hTRhVf7VqsnUOomq6H6EiRWXXXVniH+6iMh7w9/+EMmsKpJ6NO6JNrX9ttvnwmP2qcEAK0t+sUvfjE7fvVTPL7zne9koqUY6gFcgpamADRref4olnrQVix14xNv/a36IzH5jU45JMFabPXgr/zRviWy6GFfsREbtTwWElUleOZNuaabu8Q53SiVozoOiU5qyieNTsubRMV11103yxPtW7mpYkCindjrBpo3CSMSVrVmi84D9dPItx/96EdZX8U6F+F6I1Dq2HRcEmyVn3nL13msJ1BKIJI4JIFffHU8r732WjZtQ8szSEzKp2Nr2xoZ/YUvfCFjrKnlyr9f/epX2bGrb70mcUgx1Fo3leeOckhrwSiP9PZVN7g99tgji5dEMPkgAUwvMPJ1KvMcUczl35577pnZSJSvFp0rfcnjKyFZ+SUBVv3FSVPelZ/ahppiKGY6/5RTejusFwg6N3UsElH18Zu8HXbYYdn1QcKlzmldzyTifuhDH8piWylQeq8R9XhqX9qnpnSLV2XT+ajrmGwOOeSQpuebrrHioOPV+aqcVaEhkU2xlICYj2bPrx+6vihndC1Q/H7yk59ky3eoTzP+uSPKE03z17Ve11ntUy8ylEMqKPOlQeoJlJ57gran64fyKxc9lTvKPwnfmgaftzyndGzKRRVX8k/5qgJXL3/Eu1WTSCiOupbq2qRrp66bKvSUB5UCpQp55bSuvXqhoXuZpkspb3RNUP4rf/JzRwKwfi9xNW9f/vKXs+uVXs7opYxyVvdJvWi69tprs7hIbFURT4ubALUTtRO1E7VT9VWK2ul/AmVMtZPu9XoprfpQzwK6n+ult+oFvRjUi/z8uUEio55vP/3pT2f1qpqeMfSc0Oy+7ql38tpedbHqDj2j5c8yelFepIUKlKo3VC9pIImeB1q1/LlNdbhegqtG07ORmOoZWPW1nr/ypppINZmY6QWzani9jNXzjv5fz9B5U92oZ23VrRp8oDpdz6CqNfX8Xh0H9cvX2wwRKBvpF516ngx5xgt5vipSCytWehGuZ27V9DoP9Oz4xBNPZOFoNmCkVY6k+HcEysijlhfZemDSKDQ1iQ56iNUDsxJYirsEgfxiKPFPF+rq6Zm6GOnCp4csiVR5k2imUW0Sn/TAp6ah8xqWrofPysVvNUJFvlSO1JJ99cOvhDyJIhLsdOHTha2y6QTM34g1m+KtEXJ6e6YHWz085k0jJSVKSUCVEKKWCwmymzhxYs+agHp7ppNeIkcRgVI3SK3rqW3oYbeR3/UESgmZuijnImTeVyKChI/rrrvOtJ6omradv42qts/76QFbwoa4txotWS+V8/zRzUUCnuKmJv6KqwRnCWYS1NTyG91OO+3UI8Tm25VgKJFSNxCJLvk0BxV8uvgqDyXK5V+zzkfHVhYX2paEcNlLRNbx563elGL5rLwVu7xAkb32odFm1WKB+OoGu9tuu2UCn1pvBMp6uV3JuV7uqkCSCCuuytG8KVf1wKS3wspDNQmVKsR0nCGt0bmTn7966yseedN1Q6JpJZ88RyTe6HzVSMsiLY+vRkjrmpA3FTcSFSUW58WjCiLtU2KTRgrmTaPqdJ3QCwTtO59Kvdpqq2XipBZez9e1VcElQVviW6VA6blGNDoujVhUfqkgllBc2eSj/JGNCuhmTeKkzg0JkcrxvOXTySqX6sivHzp+nRP5ceo80HkqUU7badZUKEkszF8wVY+Cr7zO1hMoPfcEXT/lY37dzv2SwC6hvXKpkTynVGArt5VbavJHMdS5oBGZzZruVRr1mK/LlL88kx+6X+lho1KgbLScia4xEhqrrxXNpoLVuxbJdxXnuibrHtzoml3k3MGm8wSonaidqJ2onRpdaaidzGKqnRotKSSxSzWlBlionshbI/Gr2X3dU+/k+aGaTi8rK2eaFb17hQqUGqCi2SqV9U2zfebPbRrUokE7eY2mZyS9rNWAAw1qEbN8ZqEG/ui5unIEoWbhaASm7p0aaKOW1/kafKI6r7o1m+IdIlA20i86+TzZbIp3vetEyPNVkVpY66lqQIHyXTOF+ntDoIw8A+p9iTJ3WQ9LGvGTf+krvxhqBFP1F4f1BkTiSKXQWXnoEqj0IKgHYj2I6Y2KRl5qBFxlk5iiNzsaRdlsBKUeHnUzqB6hVw93M4FSIoXeKujht7pJUNB0VV149TAvIUzihx72NXqsskngkmDVSqCUCKLj05s5sW/WWq2jpLeTGmav/+qNk0Y26cajm4CaRrFKMNLIHImq9Yaa6wajG65GnGnqtffrzHn+SCiSYFTZFGuN3lSu5KMD8xudBO7qKdh6wNcIsnoXz1z40nQyLQFQeWOTiCIBpbJp2mUuzubiRf53CQ3iJbFXTUKmRhZKWM+bmChWmrpc/WEmiUn6vfJGTPtSoJTvEvhUFEjgrm4SmRVHHZ8EXh2bRoJJKA5ZDLveuZOfvypKJBpXNvmnAkDscj55jihuil/Rppu6RFgVlpXTe7VdCWWVua4RohL/JC5WFpn5eSDBUdcMPVDmeabzQm+tK1s+4rRSoPRcIxodm8RTiagqRKunw+gNtgTDSlG33nbyafQq/PTGurJp1LfyIi++9Lf8+lFv1KYKTY0w1sjdZk3xkiBePeW9Xp/qIsxzT6jenl4QKYeVa7pHaNuanqWPC6nlOVWvqM3FYPXXiNFGLX/ZoGlIKporWz76vFEBL780KlXXXjVx1yhYLblQeQ3RdaTVdV6CqOKnc0ex0ohLvdGuHP1d9JzBru8IUDtRO1E7UTs1uuJQO1n2Erjo81Una6fqbWupIdWVuo9r5oZG6alGrpwt5xUovfVOnh/Vg3Q8d7AQgTKvbTSop/IFfbP95s9teqarHt2pZz/NnMrraz03qwbTjJfKARTavnJBg1CkE2jggVouDGokX/USZfp7uwXKevpFpR+deJ70CJShz1dFamHFW8KwBFANhshfyntyrky2CJSRR7NybTSNatPFQMKGHrgkpFW2/GKo0X+aclfZ8oe9ZocrAU1D5/WGRdNjNdJP/aqbhCuNgGkmUEpc0BsAvaHTGpDNWjOBUqNA9XDYrOmklqAoYUBTniUKVo8ezR/kWwmUEjd10dZDv95gNWuNBErdDCSU6oaYPyDn29GweAkhamItnzXqUIKvRgVJdNbU6UohUnw08kpNAo5uQHrLIpGvVcvzp1I4zPsohhIHddPXzV8tv9GpOKj+sJJGv2nKQL2HcwmaGg1YOcpMF31Nq9SNrbpJFFVuSHTM1ypUHDXSTDdZiQKVTSOF85Gy+r0ePOS79lvdNDL05ptvzsSdXEhX/2oxo96Ntd7bV8/NKxepWsVFopdeAGj0svzVOScRV4KxBDKNQCxyc6p37miatUTA7bbbbi5BJvdJuaM3dSpG9FIizxGN+txrr71aud7zd3FRDmvafnUT28r1HLVEhNjUE9xUkGh0eD5iWdOIJabr/NHI58qmt8MS8ysFOc81otHBtWMEpWKpUZOVwmzl/nTuajS3hDO1/PohoV7iWWXLz8N8LZ9Gfitemiav86xybdN69tV57LknaHuatq6XK/Jbo0pVqFU2vSzSKHy1PKf0UkjCbmXLc1b3j3xEdz1/89H6KqQlcFe2/AVY9Tmt/JCgKdE/f8GR99O1VaPs89ZspIXyVMei7UlUr25aciTkhULhkwvDXhOgdqJ2onaybJYVtVPt5YTaybLnpKLPV52snbRt+aHnHA2AqHy2zPerF/sSbvLmFSi99U7lGpTVa+AXvTl5BUrVwFrWRyKhapXqZ/xG+83rRT3TVT835M++ejmrZ4J8IE+zY9DgmUsvvTQzUd2oWTCaNVKvtVugrKdf5H506nnS84wX+nxVtBbOB0toho6ejaULSIspuqxA0dxMwQ6BMvIoNVtHqdr1ZiP6NNVTFz49iGvNvnpNwqcEklYCpR60Nf2umUCZ76+3AqV80kNs5fTeat91EkusaiZQ5iJIK4EyFxlCBcp8yoQEBwm0Ep00wk8P9/KvekSpRiLJJ92MNBpN63PqmDUCS6Jr3jSSUiPQNH1UgoZuFhKa9Hav0SK/6ttMoFQM9UZMo7UkWKk1E0aaCUehAqWEBAmb+q/EHYnk2o/+K4FUx6aRfRJMK/OtiECZC3B9OYIyv3lJvNCHVRo1jVjORx2qMNNaLsoDCR8SX1SYKB80GrRZq1dktzp/GwmURUbhVfrS7KZeXbSo4FI8JFJWN49AqXzX0giVvnquEY1YtmMNSp27KiK0PqFGgVa3RgJlvWtSUYEyf2kQIlB67gk6Fl0TVeyqWJJgqBGhGtmsN9ryt1IsrLcIes6j2QupSmbNBMr8elO5z1y81qgQ+aNlA/JlKHTv04jHytGSjQRKicLahl7E6H6p0fi6v2jdS12Dla+t7iORlxX9wj1qJ2onJTq1E7VTvQsetZNl98eiz1edrJ20bb141sACrY2o+lmzcDStWs8GWq+6uj71CpTeeqdondLsZuoRKDWoR4OQJIbqGa+oOFn53NZMoMwHAOQ1owSzRi+I9dyai7KtvnAdIlDmy+5UxrTVjMQiA15Cnyc9AmU7n68a5ZiWu5IGoOd9zerSs7oGeklf6E8NgTLyaLeryK4nIDU69HZO8a73Vdzq/WrkjU7Uyi+t5TZ6qNcILQlyrdYAaecUb90g83UCG3Gqd0GV2KYRgxpZVrlWm6ba6oLfasq74qSh/RrmXbk+Y6UPGpWpdVl0w61cP7Ken6FTvOuN3Go2xVvrlertZuXw/HxqQJEh+RpBp77iVvkxHB2TRgNKzKsWKPtqirdGXik3673Vrb7B6NzRqE2NjtRadSFNI8YkGreaUqxtt3OaUicFynyKt27u1csU5G8M82UFvFO8PdeIRvHQua6Rq5UjnHPbol/xbjbFWyOCJehpvUgJ0GrNCrKiAmX+dlzbavV16eoizHNPkL8abSuRTyOdK5sKKY3Yb7dA6Z3iLeFavkgIrxz9rZcbWji+etkOjSxSgV49xTtf91cvGDSiu7JpiQaN0ESgDLmy9W0faidqp+qMo3b67+wTaidqJ50bsdROEtZUX+i5RstFVTbNENFMkaICZaP7urfe6UuB8uqrr86enxQPDVao/EZEkbumZ4p39YCAVtvvjUCpZyENesoHwOT70lI5+giMV6DUAI5OPE96n/E0sMe7hFa956siOaYBLBrcpGf9fOZdq5iV5e8IlJFHsl1FtgQnXfwkAGlaraZcVjb9XdPa8rc2WvNDX7dqx0dytJaaRqRUtsqPN5x11lnZqKP87UelXf43ncj5B3wq/64Ra7ngoTcN+lJZuz6SoxE5+Rdw831W+l1PYJC4KKFCH5TJBVWx1bRtTV2oFChlV/2WTNMS9eZQQoZuqHpzooft6g8y6Cu4WtOino+VfIp8JCefIq9+zYSR/CM5EmF1sawcAajRj5oG4PlIjm4Kipma1raUMKX++ReC9fv8K77VH2Vq9ZGcyikKvR1BKbFQjFREVY9WrXeDyacLNxKNKnO2Xg5oSqneYGrqt86/Zq3RDS4/fys/yqTt6JzW3yr5NBvt1mzfnhGUmi6iN+PVH0xSvLU2rj6GorVkJeorzzRyVCPXlGcapafW6CM5nmtEo+PRCGflna6BepkggVlN6yRKlFPcde3UKLpmTSKYPgqm0ZSVHwbLRU4JXvnI2nYIlPlHcsRPy1NUF7bNPpLjvSdIYNVI2EqBUiPANVpccWq3QKlrn4pAFbkSDfOpS1oHWSNVqz+So49BSdzXy6zKtS3zL8LrpU+lGKm8U1yrXyToOqalBfTxn3xpDcVcH/VRH+UhAmXkhVPF7IHKD1M18rrZueg9T6id/q9uXULttHo2W4Ta6b9nIbXTM3VfelePSOsPtZOW5dJLRI0g1GCHvKn+0jmjOrGoQNnovu69jhcRj1rdBYuMoFRNrucuzQTUEmX11nlstZ9WH8nR84SW5VFuqWbUdyu0TJyW06peB1wv0/UiZ8iQIdluWwmUstOzXLUIqb6anqx6XqPY85fGqt9U22sJpxCBstFHV3vzPOl9xmvX81V1jqm2VPyrP0QpMVeibr6OaKt8KMvfESgjj2S7BEodph7ENEpII0p0QdOFXA+YGh0moUu/0wmjpguKREWtl6Ypt3ow1UO3LkJ6YNQFrNkUb21DgqP2pwuSBBEJpNq3plHrLZemVarpgV5TXiUu6gYl4UuigH60H01J18gYbUvrLuohXKMq1U++V66vo4dUiTJ6aJa4qNE0Wg9S0/3kT5EHSx27Lqwa7SV/tCal/JBgqP/qhqJW76FGo2s0yka+aiqk3n5IZNKizxKGKwVK3Xh1cdeDs/zTTVoipvjka0YqLvrAj0YHSbTRQ7o+SiHhTkKm/p3fSOqlcp4/uvnpK3ga3i9+8kks9MaysiBoNXJL67LpgU+xFBvd9MVD0yH1AROJpnnTjU3+aZ0bfTBJX9LVGyCtdah+ip+2oyYRW+KORk9qUWfdzDS8XTdsTa+szjcJlBKAdUFXnCUGSVgSFx3fo48+2vNhnt4KlPmHWfQWV3khkUrxlWBTr4jROaObpXyQyKjj0vHo2CXI6t/56FzFUPmlH4kxylfllYb46wt76t+sNSqiFOtcLBdPneuaBqz1UVWs6KNTubDfFwKl4qdzV8etYkAffdL5pbfjynud32KWN30UResd6hqk9Th1DVGhrlzQeVxZ2HivEY14avqurjUS+zSdQsKoigIJVrruVa/rW287KiA0+loP4zrXlM/KY70hV66rIMwLtXYIlPJBPuoarXhqBKj2KRFc547Ww8xfstQrND33hHy9S61jpFjq3NOC7pompnxqt0CpY9O1Qh/e0UfQdGx6UaPrjc5B5UHlPvN1j3Vd1XVM1xgxUPyUYxIdKwVKXVeVU/rojV7YqShUbur+o+uVBHMds/rpPqN1UcVWx1rkPhJ5aVF696idqJ2onaidGl3oqJ3M/XzVydpJ9ZU+iKNnRdXDelGv+0A1KQMAACAASURBVLPqGt1ziwqUje7reg7x1DuhAqX2kYt1emZUHa9nwfxZRzVmvl641v5Xja+aUM/DEmmrm57RWrX8uU3PedqGBumoPlN9rZfuWtdRNXfeNEpVnMVWz6Sqa2SvZyg9G+q5U/WiWiuBUs91epZTLabnWImgWlJHTc+zqt8lSGqEqOow7VvPsdITvAJlp54nvc947Xq+qs4xPffr2xfKCYnIqq2lG2g6vr79ofOgWrxslRsp/x2BMvLotbPI1qHqxNLaXhIE9G9dGDVaSIKLhIzKxYD1xkUj27Q+oh72NGpFApw+cCLRp5VAqf3pzZdGD91xxx3ZhVLikU40CRCVH4bQdiUuSXiU4FD54KnRTXoI1yLJukDp75r2qwdRrfMoUTJvGoEoAU22ekiXECqxQcepB9yiD5YST3TR0g1EI2d00deDqh6W8y8L1xMYJExIWNEFRYKUxFwJBNqWjr1SoJSNFi7WDU3ClC7a4q83RPk+9GAsNhq1pHhJUJaQpZu5hNDqr2NXp3Ol+CSxVF8G0zbFTzw0Sqhy6nwrgVLbl0CgL/ZKlFTTzVbrROpGVNnyG5t8kFAicU7+53mk+FU2sdYIMwkKWrdTorVyVSJBdb7l68dpTQ7lkgRO3RiVU+JfOQqztwKlRHXlkEZnKYcV4zyPGhUxegupm42m4edvLhUrFV66UecfONLxqShTYaClASRY6vwQr+oPp9S7VDUropQv+ruEt3z6saZaa0kFfQQrb30hUGpfEhl1vD/72c+yeOqcVIwlequAqWy63ii2Eqj0wkA5r4JKuaOCqLpY9Vwjml3yFVfloAoBNfkl/yrF01a3DMVS3HXd1ChAxV2inrZTuYB5uwRK+aN9aQSyXm4oX3V+SxjXseRLJjQqNIveE5TTyh0VnfkoX53zymcJfJ0QKHVsEkFVvEsw1PVUxa9G4+p6XP2RHH2ATFOYdN/Rixvlivoqz6q/2K2RlhKRFXONjlbO5cuM6Nqt66u46oWDXg7pGqDi0HMfaZUr/L1zBKid/vthK2onaqfq5XF0LaR2Gp/dz+otLUXtVP/5qpO1kwQyDXDI62zlqJb/0XOCBq8UFSib3dc9z8ChAmVe1zViVXkc+T6acW31oUT1zZ/b9Hyi2YhiqNGnepbQ87f4VTfVinpW0ohusdfzqWpFPVvqmSufjdNKoNQIST2zSnDUPtUqfVY9pudFnVMSMPUyXTHV841XoNR1rBPPkyHPeO24RlTnmAY46LoswVe6g5qY6flBz4Qho2s7V2F1fssIlJ1nzB4g0DUCoeJT1xxmxxCAAAQgAAEIQKCLBKidugifXUMAAoUJFBlYUnhjGEIgEgIIlJEEAjcg0AkCFNmdoMo2IQABCEAAAhAoKwFqp7JGluOCQLkIIFCWK54czX8JIFCSCRAoMQGK7BIHl0ODAAQgAAEIQKDtBKid2o6UDUIAAh0ggEDZAahssusEECi7HgIcgEDnCFBkd44tW4YABCAAAQhAoHwEqJ3KF1OOCAJlJIBAWcaockwIlOQABCAAAQhAAAIQgAAEIAABCEAAAhCAAAQg0DUCCJRdQ8+OIQABCEAAAhCAAAQgAAEIQAACEIAABCAAAQRKcgACEIAABCAAAQhAAAIQgAAEIAABCEAAAhDoGgEEyq6hZ8cQ6D8EXnvtNfvoRz9q3/ve9+ywww7rPwcecKQrrrii6UdrYIW0WNfOOvnkk+3cc8+1p59+2hZZZJGQQ6MPBCAAAQhAAAJdJkBNVzwA1HTFWWEJAQhAQAQQKMkDCECg4wT2339/+/nPf25Tp061wYMH9+xv4403tnvvvbfu/m+99VbbaqutOu5b0R2MHz/ePv7xj9s222xTtEuQXVmL2bfeestWWmkl22WXXeyMM84IYkMnCEAAAhCAAAS6S4Carjh/arrirLCEAAQggEBJDkAAAh0n8NJLL9nyyy9vRx55pB1zzDFz7U8C5Z///Gc755xzavzYZJNN7MMf/nDH/Su6gwEDBmTi2hVXXFG0S5DdrFmzTPuaf/75g/p/8MEH9u6779p8881n88wzT9A2OtXpqKOOsrPOOsuef/55W3zxxTu1G7YLAQhAAAIQgEAHCFDT+aBS0/l4YQ0BCECAEZTkAAQg0FECJ554YiZM/uMf/7AVVlihRqB85plnTD/tbO+//77Nnj3bFlhggbZt1itQasTgQgst1Lb9l2FDU6ZMsdVWWy0bQanp/jQIQAACEIAABNIhQE2XTqw67Sk1XacJs30I9E8CCJT9M+4cNQT6jMDIkSOzEYFPPPFEzT41glLi5N///nf7z3/+YwsvvLANHDjQ5duuu+5qEyZMsH//+992+OGHm6aGv/zyy/brX//atH21e+65x04//XR78MEH7e2337aVV17Z1E8iWatRhvmajvWcmjNnTvbrfArPeeedl/lw//3324wZM0x/14jGU0891e644w576qmn7JVXXrEll1zSPve5z9kJJ5xgyy677FybrjcdKP/dj3/8Yzv44IOz9SklwI4ZM8a0z4985CM926i3BmXl73S8EghVWA4dOjTjcPzxx9dw+NWvfmXHHnusPf744zZkyBD70pe+ZKeddlrWp3ok6U9/+lM7//zzs+N75513bNiwYfbJT37STjrpJFt99dXnOj6tRbrooovaww8/7IozxhCAAAQgAAEIdJcANR01XWUGUtN193xk7xAoIwEEyjJGlWOCQCQE/vWvf9lSSy1lu+22m1188cV1Bcrf//732XRkCVsLLrigbbrppplwN2rUqEJHkQuUWh9yiSWWyNatlCi4xRZbZOLYZZddZrvvvruts8469tWvftUWW2wx0z6vuuqq7P+vueaapvvRdKY777zTvvnNb9qnP/1p23PPPXvsv/GNb/QIlBL+tHC81qgcPXq0vfjii6Z1K2fOnJkx2HbbbW2NNdbIxDmJfvJL/v7pT3+yD33oQz3bbCRQitGbb75pW2+9dcZGH5v5wQ9+kH18SOJvLuw2EyjXW2+9bHq1eEgkveGGG+yuu+6yU045Za6PF91yyy325S9/2YYPH2577LFH5t/NN9+c7f+hhx6aS6CUOCkOG264oW2//faZyKx93H333XbQQQfZF7/4xbn4StwUewm1igUNAhCAAAQgAIH4CVDTUdNR08V/nuIhBFIngECZegTxHwIRE8jFMo0gPPTQQ2s8lbi4zDLL2Nprr52tuahRdRoRqCnat99+ezZCsFXLBcqddtopE74qm0RCfZhl7NixmRinkZx5O/PMM3tGIxbZT7Mp3hIVp02bZhrhKEGvsmkUpcTXyo8D6e8SBjfffPOa6c6NBEpt/+qrr7YddtihZ/PiqhGbYqURmWrNBMqll17aJk+e3COISsjVaAiN9nzhhRey/hqZqRGm+t1f//rXTKRUk61EVgmVlSMo9TsdiwRHiaitmqaHHX300fa73/0uEzVpEIAABCAAAQjET4CazrKZMdR0/8tVarr4z1s8hEBqBBAoU4sY/kIgIQLXXXddNkpRoyc1aq9Ie+yxx7IRiKusskomprVquUD5xz/+MfvKdmXTtON9993XbrvtNlt33XXn+psENY2wlMB38sknt9pNJm42+kiOREWNLtTU8mZTxiXyvfHGG5kAq6bRj5tttpldf/31PftvJFC+99572cjEyvbII49kU6k1knKfffbJ/tRMoDziiCOyadeVTXzESf5r9OOkSZMyVtqetlvZHnjgAdtggw3m4jBu3Dj7yU9+Ytdee2026rJSBK4H9cILL7S99torE4xlT4MABCAAAQhAIH4C1HRzx4iazoyaLv7zFg8hkBoBBMrUIoa/EEiIQF7M1htZ2OwwNFVYop3WptQIyGYtFyj1UZrqUYp77723XXDBBU37S2C79NJLszUw9VPZNB170KBB2a9aCZRad1HiXr120003ZWtgSlDUF7Yrm75WrunQeWskUC633HJ23333zdVX63eKj6aSa71ItWYC5SWXXJJNt69s6nvcccdla4HqI0aa8q5RmhItxa+yaVSlpntXCrVTp07NRqj+7W9/y9anlICpY9pxxx2zqe3VTfHQdm+88cZsOjwNAhCAAAQgAIH4CVDT/TdG1HT/y1VquvjPWzyEQGoEEChTixj+QiAhAq2mAzU6FH0IRlOw//CHP2SjKZu1XKDMP1hTafud73zHLrroIpMwV/0F8dxOU8y1NmQu1FX2v/zyy7OPyKi1EiglLOp4q5sKWY0U1EhHbWv55ZfvET2//vWvZ1OsK/s1+0hO9fZzgVLipPxXa/WRnPx4cj/z49ZX1rXvXKD84Q9/mI10rGyvv/56tm5k9UhSje7Uh4gktEpE1ceIJOz+8pe/zNbtrGxaX1Rfddc6oBIzaRCAAAQgAAEIxE+Amu6/4iQ13f9ylZou/vMWDyGQGgEEytQihr8QSIhAvqC6RilKJCzaNLJOax1q3UUJes1aM4HynHPOsQMPPNAmTpyYrZ/YrGm0pn4q25prrtmzBmOoQKn9SqjTlPLKEZ4a8bnIIotkAl5MAqV3inc9pppuL2FZa3tqfcrKtvPOO5s+rMNHcoqeDdhBAAIQgAAEuk+Ams6yWpKa7n+5SE3X/fMSDyBQNgIIlGWLKMcDgcgIaISg2pNPPjmXZxqNpzUPq9ds1Ag8TRFWP61H2ao1Eyi1ZqPWstRaj/fff3+2v8qmhc61HuSQIUNa7SazkV/6wnV1qzfqMbfRGpxaA1PrU1bu/7DDDrPTTjstE/FiEij1kRxNG9damX/5y196BFqNUFVhrtEDlSMo9cCiL4JXNk1j1xfKP/KRj5jEysqmWGjqvD6IRIMABCAAAQhAIB0C1HTUdNR06ZyveAqBFAkgUKYYNXyGQEIENP1DU5A1OlFCXt4kdGl041ZbbZUJWfqKt9Zo1AdXFlhgAfv1r3/dcnq3ttVMoNTftT2N4NR6iBLW9IXqV199NRPftA6i/Nh4441bEtUXtzUtWceiUZ0aUakp2mrNBEp9POZrX/uajRo1KvNVQp++uq0PAGnNS43SjEmg1PGIyXbbbZeJk3vuuWc2rVsjWuWvRljqODT9XU3HJfFWQqu4yEbTxDU9//vf/75997vf7WH71FNPZR8mkjB7yCGHtGSOAQQgAAEIQAAC8RCgpqOmy7ORmi6e8xJPIFAmAgiUZYomxwKBCAm8+OKLmXB15JFH9nzIRW5KIJTY9+ijj9pLL71ks2bNMq0H+dnPftY0ulAjH4u0VgKltiGxTGtaanSmxMnFF188Eyq33HLLbJ1F/X+r9vTTT2cfd9H6ivritVq+7mUzgVJ2l112mWm6uT4kIzFPYqdEuo022igTN2MTKOXzL37xi2xdy8cffzybiv6lL33JjjrqqMxfre2Zf3xIU/f1QSPZadq2RkdqTU+x0seOKpv6Kw7//Oc/sxGWNAhAAAIQgAAE0iFATUdNl2crNV065y2eQiAlAgiUKUULXyGQKAGNovv5z3+ejaKs/tJ2oofUL91+6KGHslGtp556qh166KEuBhpZKVFYo1jPOOMMV1+MIQABCEAAAhCIgwA1XRxx6K0X1HS9JUh/CECgEwQQKDtBlW1CAAJzEXjttdeydSAPOuggO/zww6ETOQF9lVtT2Oedd94eTz/44INs2remf2tdyY9//OOuozj55JOzKd8aiapRljQIQAACEIAABNIjQE2XVsyo6dKKF95CoL8TQKDs7xnA8UMAAhCoIqCp6PogkNbYlLCsqdsSJrX+pL7YOGHCBJhBAAIQgAAEIAABCEROgJou8gDhHgQgMBcBBEoSAgIQgAAE5iKg0RH77LNP9uVzrQ+qtTZXXXXVTJzcf//9a768Dj4IQAACEIAABCAAgfgIUNPFFxM8ggAEGhNAoCQ7IAABCEAAAhCAAAQgAAEIQAACEIAABCAAga4RQKDsGnp2DAEIQAACEIAABCAAAQhAAAIQgAAEIAABCCBQkgMQgAAEIAABCEAAAhCAAAQgAAEIQAACEIBA1wggUHYNPTuGAAQgAAEIQAACEIAABCAAAQhAAAIQgAAEEChb5MDMmTPtiSeesCWXXNLmnXdeMgYCEIAABCAAAQh0jcD7779v//rXv2yttdayBRdcsGt+pLhjaroUo4bPEIAABCAAgXISoKarjSsCZYtcf+ihh2z06NHlPCM4KghAAAIQgAAEkiQwadIk+9SnPpWk791ympquW+TZLwQgAAEIQAACjQhQ0/2PDAJli/PkmWeesZVWWsmUNMOHD+esggAEIAABCEAAAl0jMH369OzF6T/+8Q9bccUVu+ZHijumpksxavgMAQhAAAIQKCcBarrauCJQtsj1f/7zn7bccsvZc889Z8suu2w5zwyOCgIQgAAEIACBJAhQl4SHCXbh7OgJAQhAAAIQgEB7CVCXIFC6M4qkcSOjAwQgAAEIQAACHSJAXRIOFnbh7OgJAQhAAAIQgEB7CVCXIFC6M4qkcSOjAwQgAAEIQAACHSJAXRIOFnbh7OgJAQhAAAIQgEB7CVCXIFC6M4qkcSOjAwQgAAEIQAACHSJAXRIOFnbh7OgJAQhAAAIQgEB7CVCXIFC6M4qkcSOjAwQgAAEIQAACHSJAXRIOFnbh7OgJAQhAAAIQgEB7CVCXIFC6M4qkcSOjAwQgAAEIQAACHSJAXRIOFnbh7OgJAQhAAAIQgEB7CVCXIFC6M4qkcSOjAwQgAAEIQAACHSJAXRIOFnbh7OgJAQhAAAIQgEB7CVCXJChQ/u1vf7MzzzzTHnzwQXvyySdt9dVXz/5bpKnf+eefby+++KKttdZadsYZZ9jGG29cpGuPDUnjwoUxBCAAAQhAAAIdJJByXUJN18HEYNMQgAAEIAABCCRFIOWarlOgB8yZM2dOpzbeju3efPPNts8++9i6665rU6ZMsQ8++KCQQClx8ogjjrCTTz7ZRo0aZRdffLHddNNNNmnSpEysLNpImqKksIMABCAAAQhAoNMEUq5LqOk6nR1sHwIQgAAEIACBVAikXNN1inH0AqUEyYEDB2bHv+uuu9rDDz/cUqCcNWuWLbXUUrbnnnva6aefnvWdPXt2Jkyuvfbads011xTmSdIURoUhBCAAAQhAAAIdJpByXUJN1+HkYPMQgAAEIAABCCRDIOWarlOQoxcoKw+8qEB5zz332KabbmqPPvqorbPOOj2bOO644+yss86y119/3QYMGFCIKUlTCBNGEIAABCAAAQj0AYGy1CXUdH2QLOwCAhCAAAQgAIFoCZSlpmsn4FIKlBdccIHtvffe9vbbb9ugQYN6eF133XX21a9+1Z577jlbdtllC3EkaQphwggCEIAABCAAgT4gUJa6pKhASU3XB0nFLiAAAQhAAAIQ6HMCZanp2gmulALlSSedZCeccILNnDlzLlZ33XWXbb755vanP/0pm+pdr73xxhumn7xNnz7dRo8e7RI12xkgtgUBCEAAAhCAAARyAmUpZosKlNR05D4EIAABCEAAAmUkUJaarp2xKa1AeeKJJ9o777wzF6s777zTPve5z9njjz/e8EM548ePN00Fr26eUZftDBDbggAEIAABCEAAAv1ZoKSmI/8hAAEIQKAIAc2WLNKuvfbaHjNvH6+9duTt47UvcszYxEcAgbI2JqUUKPPpQBIoF1xwwZ6jLjLFmxGU8Z24ZfZowB7F1kKdc/GcMmPg2CAAAQhAoCCBshSzRUdQUtMVTAzMIAABCEDALQT2lXjoFRy99oQ+TQJlqenaSb+UAiUfyWlnipRjW7EKgbH6VY6ocxQQgAAEykegLMVsUYGSmq58OcwRQQACEOgUgRBhz9vHa99XIminmLLdzhEoS03XTkKlFChnzZplSy21lH3729+2U089NeM1e/bsbN3JtdZay6655prCDEmawqiiNoxVCIzVr6iDiXMQgAAE+jGBstQlRQVKarp+nOwcOgQgAAEngVjFQ69fXnsnJswjIVCWmq6dOKMXKPUl7l/84hfZMf/whz+0qVOn2tlnn539/5gxY2zJJZe0zTbbzKZNm2Z/+9vfeticeeaZdsQRR9gpp5xio0aNsksuucRuuOEGmzRpUsP1J+uBJWnamW7d21asQmCsfnUvUuwZAhCAAASaEUi5LqGmI7chAAEIQKCTBEKEPW8fr72O19vHa99Jpmy7cwRSruk6RSV6gfKZZ56xlVZaqe7xa9rPxhtvnP3ITj95mzNnjkmkPP/88+2ll17KRMnTTz/dNtlkExdLksaFK1rjWIXAWP2KNpA4BgEIQKCfE0i5LqGm6+fJy+FDAAIQ6DCBEGHP28drj0DZ4aAnvPmUa7pOYY9eoOzUgRfdLklTlFTcdrEKgbH6FXc08Q4CEIBA/yVAXRIee9iFs6MnBCAAgRQIxCoeev3y2qcQG3ysJUBdUssEgbLFmULSlONSEqsQGKtf5Yg6RwEBCECgfASoS8JjCrtwdvSEAAQgkAKBEGHP28drL27ePl77FGKDjwiURXIAgRKBskieJG8TqxDo9ctrn3zgOAAIQAACEJiLACJbeELALpwdPSEAAQikQCBE2PP28dojUKaQOd3xkbqkljsCJQJld87GPt5rrMKe1y+vfR9jZncQgAAEINBhAhSz4YBhF86OnhCAAARSIBCreOj1y2ufQmzwsZYAdQkCpfu8IGncyKLs4BX2vPY66L7oE7KPKAOCUxCAAAQgEESAuiQIW9YJduHs6AkBCEAgBQIhwp63j9de3Lx9vPYpxAYfESiL5AAjKFtQopgtkkbx23iFPa89AmX8OYCHEIAABMpAgLokPIqwC2dHTwhAAAIpEAgR9rx9vPYIlClkTnd8pC6p5Y5AiUDZnbOxj/fqFRy99giUfRxQdgcBCECgnxKgmA0PPOzC2dETAhCAQAoEYhUPvX557VOIDT7WEqAuQaB0nxckjRtZlB28gqPXHoEyyrDjFAQgAIHSEaAuCQ8p7MLZ0RMCEIBACgRChD1vH6+9uHn7eO1TiA0+IlAWyQFGULagRDFbJI3it/EKjl57BMr4cwAPIQABCJSBAHVJeBRhF86OnhCAAARSIBAi7Hn7eO0RKFPInO74SF1Syx2BEoGyO2djH+/VKzh67REo+zig7A4CEIBAPyVAMRseeNiFs6MnBCAAgRQIxCoeev3y2qcQG3ysJUBdgkDpPi9IGjeyKDt4BUevPQJllGHHKQhAAAKlI0BdEh5S2IWzoycEIACBFAiECHvePl57cfP28dqnEBt8RKAskgOMoGxBiWK2SBrFb+MVHL32CJTx5wAeQgACECgDAeqS8CjCLpwdPSEAAQikQCBE2PP28dojUKaQOd3xkbqkljsCJQJld87GPt6rV3D02iNQ9nFA2R0EIACBfkqAYjY88LALZ0dPCEAAAikQiFU89PrltU8hNvhYS4C6BIHSfV6QNG5kUXbwCo5eewTKKMOOUxCAAARKR4C6JDyksAtnR08IQAACKRAIEfa8fbz24ubt47VPITb4iEBZJAcYQdmCEsVskTSK38YrOHrtESjjzwE8hAAEIFAGAtQl4VGEXTg7ekIAAhBIgUCIsOft47VHoEwhc7rjI3VJLXcESgTK7pyNfbxXr+DotUeg7OOAsjsIQAAC/ZQAxWx44GEXzo6eEIAABFIgEKt46PXLa59CbPCxlgB1CQKl+7wgadzIouzgFRy99giUUYYdpyAAAQiUjgB1SXhIYRfOjp4QgAAEUiAQIux5+3jtxc3bx2ufQmzwEYGySA4wgrIFJYrZImkUv41XcPTaI1DGnwN4CAEIQKAMBKhLwqMIu3B29IQABCCQAoEQYc/bx2uPQJlC5nTHR+qSWu4IlAiU3Tkb+3ivXsHRa49A2ccBZXcQgAAE+ikBitnwwMMunB09IQABCKRAIFbx0OuX1z6F2OBjLQHqEgRK93lB0riRRdnBKzh67REooww7TkEAAhAoHQHqkvCQwi6cHT0hAAEIpEAgRNjz9vHai5u3j9c+hdjgIwJlkRxgBGULShSzRdIofhuv4Oi1R6CMPwfwEAIQgEAZCFCXhEcRduHs6AkBCEAgBQIhwp63j9cegTKFzOmOj9QltdwRKBEou3M29vFevYKj1x6Bso8Dyu4gAAEI9FMCFLPhgYddODt6QgACEEiBQKziodcvr30KscHHWgLUJQiU7vOCpHEji7KDV3D02iNQRhl2nIIABCBQOgLUJeEhhV04O3pCAAIQSIFAiLDn7eO1FzdvH699CrHBRwTKIjnACMoWlChmi6RR/DZewdFrj0AZfw7gIQQgAIEyEKAuCY8i7MLZ0RMCEIBACgRChD1vH689AmUKmdMdH6lLarkjUCJQduds7OO9egVHrz0CZR8HlN1BAAIQ6KcEKGbDAw+7cHb0hAAEIJACgVjFQ69fXvsUYoOPtQSoSxAo3ecFSeNGFmUHr+DotUegjDLsOAUBCECgdASoS8JDCrtwdvSEAAQgkAKBEGHP28drL27ePl77FGKDjwiURXKAEZQtKFHMFkmj+G28gqPXHoEy/hzAQwhAAAJlIEBdEh5F2IWzoycEIACBFAiECHvePl57BMoUMqc7PlKX1HJHoESg7M7Z2Md79QqOXnsEyj4OKLuDAAQg0E8JUMyGBx524ezoCQEIQCAFArGKh16/vPYpxAYfawlQlyBQus8LksaNLMoOXsHRa49AGWXYcQoCEIBA6QhQl4SHFHbh7OgJAQhAIAUCIcKet4/XXty8fbz2KcQGHxEoi+QAIyhbUKKYLZJG8dt4BUevPQJl/DmAhxCAAATKQIC6JDyKsAtnR08IQAACKRAIEfa8fbz2CJQpZE53fKQuqeWOQIlA2Z2zsY/36hUcvfYIlH0cUHYHAQhAoJ8SoJgNDzzswtnREwIQgEAKBGIVD71+ee1TiA0+1hKgLkGgdJ8XJI0bWZQdvIKj1x6BMsqw4xQEIACB0hGgLgkP6jVtZQAAIABJREFUKezC2dETAhCAQAoEQoQ9bx+vvbh5+3jtU4gNPiJQFskBRlC2oEQxWySN4rfxCo5eewTK+HMADyEAAQiUgQB1SXgUYRfOjp4QgAAEUiAQIux5+3jtEShTyJzu+EhdUssdgRKBsjtnYx/v1Ss4eu0RKPs4oOwOAhCAQD8lQDEbHnjYhbOjJwQgAIEUCMQqHnr98tqnEBt8rCVAXYJA6T4vSBo3sig7eAVHrz0CZZRhxykIQAACpSNAXRIeUtiFs6MnBCAAgRQIhAh73j5ee3Hz9vHapxAbfESgLJIDjKBsQYlitkgaxW/jFRy99giU8ecAHkIAAhAoAwHqkvAowi6cHT0hAAEIpEAgRNjz9vHaI1CmkDnd8ZG6pJY7AiUCZXfOxj7eq1dw9NojUPZxQNkdBCAAgX5KgGI2PPCwC2dHTwhAAAIpEIhVPPT65bVPITb4WEuAugSB0n1ekDRuZFF28AqOXnsEyijDjlMQgAAESkeAuiQ8pLALZ0dPCEAAAikQCBH2vH289uLm7eO1TyE2+IhAWSQHGEHZghLFbJE0it/GKzh67REo488BPIQABCBQBgLUJeFRhF04O3pCAAIQSIFAiLDn7eO1R6BMIXO64yN1SS13BEoEyu6cjX28V6/g6LVHoOzjgLI7CEAAAv2UAMVseOBhF86OnhCAAARSIBCreOj1y2ufQmzwsZYAdQkCpfu8IGncyKLs4BUcvfYIlFGGHacgAAEIlI4AdUl4SGEXzo6eEIAABFIgECLseft47cXN28drn0Js8BGBskgOMIKyBSWK2SJpFL+NV3D02iNQxp8DeAgBCECgDASoS8KjCLtwdvSEAAQgkAKBEGHP28drj0CZQuZ0x0fqklruCJQIlN05G/t4r17B0WuPQNnHAWV3EIAABPopAYrZ8MDDLpwdPSEAAQikQCBW8dDrl9c+hdjgYy0B6hIESvd5QdK4kUXZwSs4eu0RKKMMO05BAAIQKB0B6pLwkMIunB09IQABCKRAIETY8/bx2oubt4/XPoXY4CMCZZEcYARlC0oUs0XSKH4br+DotUegjD8H8BACEIBAGQhQl4RHEXbh7OgJAQhAIAUCIcKet4/XHoEyhczpjo/UJbXcESgRKLtzNvbxXr2Co9cegbKPA8ruIAABCPRTAhSz4YGHXTg7ekIAAhBIgUCs4qHXL699CrHBx1oC1CUJCpRTpkyx/fbbz+677z5baKGFbIcddrBTTz3VBg0a1DTH33rrLTvhhBPsuuuus+nTp9uHP/xh22mnnezwww+3BRZYoPD5QdIURhW1oVdw9NojUEYdfpyDAAQgUBoCKdcl1HSlSUMOBAIQgECUBEKEPW8fr71Aeft47aMMBk61JJByTdfy4AINoh5BOWPGDBs5cqStsMIKdvTRR9vLL79sBx54oI0dO9auuuqqpoe8884720033WQnnXRSto1JkyZl2/j2t79t5513XmFcJE1hVFEbegVHrz0CZdThxzkIQAACpSGQal1CTVeaFORAIAABCERLIETY8/bx2iNQRpsuXXcs1Zquk+CiFihPO+00O/74423atGm2xBJLZByuvvrqbCTk5MmTbcSIEXXZvP/++zZkyBA75JBD7Ljjjuux2WuvvWzixIn20ksvFWZK0hRGFbWhV3D02iNQRh1+nIMABCBQGgKp1iXUdKVJQQ4EAhCAQLQEYhUPvX557aMNCI41JZBqTdfJsEYtUI4ZM8YWW2wxu/nmm3sYzJo1yxZddNFsZORBBx1Ul817771ngwcPNhXDGnGZtyOOOMIuueSSbCRm0UbSFCUVt51XcPTaI1DGHX+8gwAEIFAWAqnWJdR0ZclAjgMCEIBAvARChD1vH6+9aHn7eO3jjQieNSOQak3XyahGLVAOGzbMxo0bl605WdnWXHNNW3/99TOxsVHbc8897c4777RrrrnGZP/QQw9lF4Z9993XjjnmmMJMSZrCqKI29AqOXnsEyqjDj3MQgAAESkMg1bqEmq40KciBQAACEIiWQIiw5+3jtUegjDZduu5YqjVdJ8FFLVDON9982YduDjvssLkYbLTRRqZC94YbbmjIZvbs2dl6k5UipsTJVutPvvHGG6afvOkDO6NHj7bnnnvOll122U7Ggm13kIBXcPTaI1B2MHhsGgIQgAAEegikWsxS05HEEIAABCDQaQKxiodev7z2nebK9jtDINWarjM0/rvV6AXKE0880Q499NC5GGy44Ya29NJLZ+tJNmoHH3xw9iEdrWG52mqr2SOPPGLHHnusHXDAAXOtS1ndf/z48XX/jkDZyTTs/La9gqPXHoGy8zFkDxCAAAQgYJZqMSuBkpqODIYABCAAgU4SCBH2vH289jpebx+vfSeZsu3OEUi1pusckcgFytDpQE8++aSttdZa2dqVW2+9dQ+/c8891773ve/Z888/n43ArNcYQdnJdOvetr2Co9cegbJ7sWXPEIAABPoTgVSLWWq6/pSlHCsEIACB7hAIEfa8fbz2CJTdyYUU9ppqTddJtlGPoAxdUP3aa6+1r33ta9nXv5dffvkefvfee69tvPHGNmnSJPvUpz5ViCtJUwhT9EZewdFrj0AZfQrgIAQgAIFSEEi1LqGmK0X6cRAQgAAEoiYQq3jo9ctrH3VQcK4hgVRruk6GNGqBUl/h1hqUEhqHDh2acdBHb3bYYQebPHmyjRgxoi6bP/zhD7beeutla1R++ctf7rE566yzshGU+or3kksuWYgrSVMIU/RGXsHRa49AGX0K4CAEIACBUhBItS6hpitF+nEQEIAABKImECLseft47QXM28drH3VQcA6B0pEDUQuUM2bMsJEjR9qKK65oRx99dCYsHnjggfb5z38+W18yb7vttptNmDDB3n///exX+kDOBhtsYM8880y2nqTWoNRXvLUe5VZbbZWJnEVbqg8CRY+vv9h5BUevPQJlf8kkjhMCEIBAdwmkWpdQ03U3b9g7BCAAgf5AIETY8/bx2iNQ9ofMCzvGVGu6sKMt1itqgVKHMGXKFNPXt3/3u9/Z4MGDs9GTegs/aNCgniPcddddM4Fyzpw5Pb+TmClR84477rAXX3zRlltuOdtuu+3syCOPtIUXXrgYHUt3MfrCB9hPDL2Co9cegbKfJBKHCQEIQKDLBFIuZqnpupw87B4CEIBAyQnEKh56/fLalzyspT28lGu6TgUleoGyUwdedLskTVFScdt5BUevPQJl3PHHOwhAAAJlIUBdEh5J2IWzoycEIACBFAiECHvePl57cfP28dqnEBt8rCVAXVLLBIGyxZlC0pTjUuIVHL32CJTlyBOOAgIQgEDsBKhLwiMEu3B29IQABCCQAoEQYc/bx2uPQJlC5nTHR+oSBEp35pE0bmRRdvAKjl57BMoow45TEIAABEpHgLokPKSwC2dHTwhAAAIpEIhVPPT65bVPITb4WEuAuqTDAuUnP/lJ23333bN1IhdddNFS5CBJU4owmldw9NojUJYjTzgKCEAAArEToC4JjxDswtnREwIQgEAKBEKEPW8fr724eft47VOIDT4iUBbJgbZO8d5xxx3tpptusgEDBmQfpNHXtceMGVPEj2htKGajDY3LMa/g6LVHoHSFA2MIQAACEAgkQF0SCI4PH4aDoycEIACBRAiECHvePl57BMpEkqcLblLT1UJvq0Cpzb/++uv205/+1C6//HJ75JFHbOWVV86Eyl122cWWWWaZLoS9d7skaXrHL5beXsHRa49AGUuk8QMCEIBAuQlQl4THF3bh7OgJAQhAIAUCsYqHXr+89inEBh9rCVCX9IFAWbmLxx9/3C677LJMsJwxY4aNHTs2Eyu33nprGzhwYBI5StIkEaaWTnoFR689AmXLEGAAAQhAAAJtIEBdEg4RduHs6AkBCEAgBQIhwp63j9de3Lx9vPYpxAYfESiL5EDbR1BW7vTVV1+1K6+80i6++GKbPHmyrbrqqvb000/biiuumImW6623XhEfu2pDMdtV/G3buVdw9NojULYtVGwIAhCAAASaEKAuCU8P2IWzoycEIACBFAiECHvePl57BMoUMqc7PlKX1HLviEB5++23ZyMnb7nlFhsyZIh94xvfsD322MNGjBhhU6dOtb333tueffbZTLSMvZE0sUeomH9ewdFrj0BZLA5YQQACEIBA7whQl4Tzg104O3pCAAIQSIFArOKh1y+vfQqxwcdaAtQlHRYojznmGLviiivs+eeft4033jgTJbfddlubf/7559rzAw88YBtttJHNnj07+jwlaaIPUSEHvYKj1x6BslAYMIIABCAAgV4SoC4JBwi7cHb0hAAEIJACgRBhz9vHay9u3j5e+xRig48IlEVyoK0jKIcPH2677rqr7b777vaRj3yk4f419fvWW2/NPpwTe6OYjT1CxfzzCo5eewTKYnHACgIQgAAEekeAuiScH+zC2dETAhCAQAoEQoQ9bx+vPQJlCpnTHR+pS2q5t1WgfP/9923eeeftTnQ7tFeSpkNg+3izXsHRa49A2ccBZXcQgAAE+ikB6pLwwMMunB09IQABCKRAIFbx0OuX1z6F2OBjLQHqkg4LlPPMM49p+vbo0aNr9vTII49kv09hWnel8yRNOS4lXsHRa49AWY484SggAAEIxE6AuiQ8QrALZ0dPCEAAAikQCBH2vH289uLm7eO1TyE2+IhAWSQH2jqCcuDAgfbggw/WFSj1+8985jP27rvvFvErGhuK2WhC0StHvIKj1x6BslfhoTMEIAABCBQkQF1SEFQdM9iFs6MnBCAAgRQIhAh73j5eewTKFDKnOz5Sl9Ry77VA+eKLL9oLL7yQbfmTn/ykTZgwwdZcc8259jRz5szsq9733nuvPf30092JfuBeSZpAcJF18wqOXnsEysgCjjsQgAAESkqAuiQ8sLALZ0dPCEAAAikQiFU89PrltU8hNvhYS4C6pAMC5XHHHWf6GTBgQMOcmzNnjmn69wUXXJB92TulRtKkFK3GvnoFR689AmU58oSjgAAEIBA7AeqS8AjBLpwdPSEAAQikQCBE2PP28dqLm7eP1z6F2OAjAmWRHOj1CMpp06bZM888YxIhN910U/vhD39oa6yxxlz7nn/++W3VVVe1oUOHFvEpKhuK2ajCEeyMV3D02iNQBoeGjhCAAAQg4CBAXeKAVWUKu3B29IQABCCQAoEQYc/bx2uPQJlC5nTHR+qSWu69FigrN6kp3KNGjbIhQ4Z0J8Id2CtJ0wGoXdikV3D02iNQdiGo7BICEIBAPyRAXRIedNiFs6MnBCAAgRQIxCoeev3y2qcQG3ysJUBd0mGBsoxJR9KUI6pewdFrj0BZjjzhKCAAAQjEToC6JDxCsAtnR08IQAACKRAIEfa8fbz24ubt47VPITb4iEBZJAd6PYJykUUWsXvuucc+8YlPZCMnm61Fqb+9/vrrRfyKxoZiNppQ9MoRr+DotUeg7FV46AwBCEAAAgUJUJcUBFXHDHbh7OgJAQhAIAUCIcKet4/XHoEyhczpjo/UJbXcey1Q6gM5+vDNMsssY+PHj28qUGr3xx57bHeiH7hXkiYQXGTdvIKj1x6BMrKA4w4EIACBkhKgLgkPLOzC2dETAhCAQAoEYhUPvX557VOIDT7WEqAu6YBAWfZEI2nKEWGv4Oi1R6AsR55wFBCAAARiJ0BdEh4h2IWzoycEIACBFAiECHvePl57cfP28dqnEBt8RKAskgO9HkFZZCcp21DMphy9//nuFRy99giU5cgTjgICEIBA7ASoS8IjBLtwdvSEAAQgkAKBEGHP28drj0CZQuZ0x0fqklruvRYo99tvv8LR1BqU5557bmH7GAxJmhii0HsfvIKj1x6BsvcxYgsQgAAEINCaAHVJa0aNLGAXzo6eEIAABFIgEKt46PXLa59CbPCxlgB1SQcEypVWWqlwrkmg/Pvf/17YPgZDkiaGKPTeB6/g6LVHoOx9jNgCBCAAAQi0JkBd0poRAmU4I3pCAAIQSJlAiLDn7eO1F09vH699yjHrz75T03VAoCx7QpE05YiwV3D02iNQliNPOAoIQAACsROgLgmPEOzC2dETAhCAQAoEQoQ9bx+vPQJlCpnTHR+pSxAo3ZlH0riRRdnBKzh67REooww7TkEAAhAoHQHqkvCQwi6cHT0hAAEIpEAgVvHQ65fXPoXY4GMtAeqSDgiUjz76qI0YMcIGDRpk+nerNmrUqFYmUf2dpIkqHMHOeAVHrz0CZXBo6AgBCEAAAg4C1CUOWFWmsAtnR08IQAACKRAIEfa8fbz24ubt47VPITb4iEBZJAd6/ZGcgQMH2oMPPmijR482/VvrTNZrc+bMyf42e/bsIn5FY0MxG00oeuWIV3D02iNQ9io8dIYABCAAgYIEqEsKgqpjBrtwdvSEAAQgkAKBEGHP28drj0CZQuZ0x0fqklruvRYo7733XvvEJz5hCy+8sOnfrdqYMWNamUT1d5ImqnAEO+MVHL32CJTBoaEjBCAAAQg4CFCXOGBVmcIunB09IQABCKRAIFbx0OuX1z6F2OBjLQHqkg4IlGVPNJKmHBH2Co5eewTKcuQJRwEBCEAgdgLUJeERgl04O3pCAAIQSIFAiLDn7eO1FzdvH699CrHBRwTKIjnQ6xGU9Xby+uuv2xNPPGHTp0+34cOH21prrWWLLrpoEX+is6GYjS4kQQ55BUevPQJlUFjoBAEIQAACTgLUJU5gFeawC2dHTwhAAAIpEAgR9rx9vPYIlClkTnd8pC6p5d5WgfKDDz6wo446yn7wgx/YW2+91bO3hRZayPbZZx878cQTbZ555ulO9AP3StIEgousm1dw9NojUEYWcNyBAAQgUFIC1CXhgYVdODt6QgACEEiBQKziodcvr30KscHHWgLUJR0WKA866KBMnDzssMNs2223tWHDhtnLL79sEydOtNNPPz0TKc8666ykcpOkSSpcDZ31Co5eewTKcuQJRwEBCEAgdgLUJeERgl04O3pCAAIQSIFAiLDn7eO1FzdvH699CrHBRwTKIjnQ1hGUQ4cOtUMOOcQOPfTQmn2fcsopduaZZ9orr7xSxK9obChmowlFrxzxCo5eewTKXoWHzhCAAAQgUJAAdUlBUHXMYBfOjp4QgAAEUiAQIux5+3jtEShTyJzu+EhdUsu9rQLlYostZtddd51tvvnmNXu64447sjcHM2bM6E70A/dK0gSCi6ybV3D02iNQRhZw3IEABCBQUgLUJeGBhV04O3pCAAIQSIFArOKh1y+vfQqxwcdaAtQlHRYod999d5szZ45deumlNXsaN25c9rvLLrssqdwkaZIKV0NnvYKj1x6Bshx5wlFAAAIQiJ0AdUl4hGAXzo6eEIAABFIgECLseft47cXN28drn0Js8BGBskgO9HoE5Q033NCzH30Y54gjjrBVVlnFttlmm541KG+88UabOnWqnXTSSbbzzjsX8SsaG4rZaELRK0e8gqPXHoGyV+GhMwQgAAEIFCRAXVIQVB0z2IWzoycEIACBFAiECHvePl57BMoUMqc7PlKX1HLvtUA5cODAwtEcMGCAzZ49u7B9DIYkTQxR6L0PXsHRa49A2fsYsQUIQAACEGhNgLqkNaNGFrALZ0dPCEAAAikQiFU89PrltU8hNvhYS4C6pAMC5bRp01y5tsIKK7jsu21M0nQ7Au3Zv1dw9NojULYnTmwFAhCAAASaE6AuCc8Q2IWzoycEIACBFAiECHvePl57cfP28dqnEBt8RKAskgO9HkFZZCcp21DMphy9//nuFRy99giU5cgTjgICEIBA7ASoS8IjBLtwdvSEAAQgkAKBEGHP28drj0CZQuZ0x0fqklruHRMo3377bZs5c2bNHhdffPHuRD9wryRNILjIunkFR689AmVkAccdCEAAAiUlQF0SHljYhbOjJwQgAIEUCMQqHnr98tqnEBt8rCVAXdJhgVJf8NaHcC666CKbPn163RxkDUpOzW4Q8AqOXnsEym5ElX1CAAIQ6H8EKGbDYw67cHb0hAAEIJACgRBhz9vHay9u3j5e+xRig48IlEVyoK0jKM8++2w74YQT7JBDDrEjjzzSjjrqKJtnnnnsmmuusXfffTf73bhx44r4FY0NxWw0oeiVI17B0WuPQNmr8NAZAhCAAAQKEqAuKQiqjhnswtnREwIQgEAKBEKEPW8frz0CZQqZ0x0fqUtqubdVoFxzzTXtW9/6lu29994233zz2cMPP2yjRo2yDz74wLbeemtbe+217eSTT+5O9AP3StIEgousm1dw9NojUEYWcNyBAAQgUFIC1CXhgYVdODt6QgACEEiBQKziodcvr30KscHHWgLUJR0WKBdaaCH75S9/aZ/5zGdsgQUWyP696aabZnvVv3fbbTd74YUXkspNkiapcDV01is4eu0RKMuRJxwFBCAAgdgJUJeERwh24ezoCQEIQCAFAiHCnreP117cvH289inEBh8RKIvkQFtHUC6//PLZ+pNbbrmlffSjH81GU37ve9/L/PjJT35i++23n82YMaOIX9HYUMxGE4peOeIVHL32CJS9Cg+dIQABCECgIAHqkoKg6pjBLpwdPSEAAQikQCBE2PP28dojUKaQOd3xkbqklntbBcoddtjBVl99dTv22GOzn7POOsu+/e1vZ9O9L774YhszZoxNnDjRFf0pU6ZkwuZ9991nGqGpfZx66qk2aNCgltt59dVXs3Uwb7zxRnvttddMAupBBx2UCadFG0lTlFTcdl7B0WuPQBl3/PEOAhCAQFkIpFyXUNOVJQs5DghAAAJxEohVPPT65bWPMxp41YpAyjVdq2ML/XtbBcqnnnrKnn/++Wxa96xZs7KP5Vx//fX2zjvv2Oabb24/+MEPbNiwYYV91WjLkSNH2gorrGBHH320vfzyy3bggQfa2LFj7aqrrmq6nf/85z+2/vrrZ0KmRnFqv08//bS99957ttdeexX2gaQpjCpqQ6/g6LVHoIw6/DgHAQhAoDQEUq1LqOlKk4IcCAQgAIFoCYQIe94+XnvB8vbx2kcbEBxrSiDVmq6TYW2rQNluR0877TQ7/vjjbdq0abbEEktkm7/66qttp512ssmTJ9uIESMa7vKII46wa6+91p544olCoy0bbYikaXdUu7M9r+DotUeg7E5c2SsEIACB/kYg1bqEmq6/ZSrHCwEIQKDvCYQIe94+XnsEyr7Pg1T2mGpN10m+HRMoBXv69Om2zDLL2Ic//OGgY9CU8MUWW8xuvvnmnv4ambnooovaSSedlE3XbtSWXnpp++53v2uHH3540L7zTiRNr/BF09krOHrtESijCTWOQAACECg1gVTrEmq6UqclBwcBCEAgCgKxiodev7z2UcDHCTeBVGs694E6OrRdoPzxj3+ciYeCnTeJlFoL0rP2o/pqWva4ceOyNScr25prrplN377kkkvqHuo//vEPW3nlle3CCy+02267ze68805beOGF7etf/7qdeeaZrhGVJI0jmyI29QqOXnsEyoiDj2sQgAAESkQg1bqEmq5EScihQAACEIiUQIiw5+3jtRcqbx+vfaThwK0WBFKt6ToZ2LYKlKeccoodeeSR9o1vfMO23XbbTGDUupH6MI6mZp944omuEY36uM4JJ5xghx122FwMNtpoo2zbN9xwQ102DzzwgG2wwQaZKLn99tv3TAnXaEp9ZEcf7GnU3njjDdNP3jQKdPTo0fbcc8/Zsssu28lYsO0OEvAKjl57BMoOBo9NQwACEIBAD4FUi1lqOpIYAhCAAAQ6TSBE2PP28dojUHY66uluP9WarpPE2ypQaqTkN7/5TdM6Q9Xt4IMPtp/+9Kf2wgsvFD4eFbMSNQ899NC5+my44YamKdyNvgj++9//3iRifupTn7JJkyb19D377LNNfuhDPupfr40fP96OO+64mj8hUBYOW5SGXsHRa49AGWXYcQoCEIBA6QikWsxS05UuFTkgCEAAAtERiFU89PrltY8uEDhUiECqNV2hgws0aqtAqRGLN954Y/bF7uqmadYaVfnmm28WdjV0OtBf/vIXW2ONNTJhs3J6+GOPPWbrrLOO3X333bbJJpvU9YMRlIXDk5ShV3D02iNQJpUOOAsBCEAgWQKpFrPUdMmmHI5DAAIQSIZAiLDn7eO1FzxvH699MgHC0bkIpFrTdTKMbRUot9tuO1tllVXqjqA85JBD7KmnnprrgzetDix0QfV3333XhgwZYgcccMBcAuUf//hHGzVqlP3mN78xbbtII2mKUIrfxis4eu0RKOPPATyEAAQgUAYCqdYl1HRlyD6OAQIQgEDcBEKEPW8frz0CZdw5003vUq3pOsms1wLlo48+2uPfSy+9lH0IZ7PNNrNtttmmZw1KjarUqMUf/ehHtsUWWxQ+Hk0V1xqU06ZNs6FDh2b9rrnmmmwdycmTJ9uIESMabmurrbYy+fPQQw/12OgDOVqHUtPMl1xyyUJ+kDSFMEVv5BUcvfYIlNGnAA5CAAIQKAWBVOsSarpSpB8HAQEIQCBqArGKh16/vPZRBwXnGhJItabrZEh7LVAOHDjQBgwY0OPjnDlzev6t31f//+zZswsfz4wZM2zkyJG24oor2tFHH519cOfAAw+0z3/+83bVVVf1bGe33XazCRMm2Pvvv9/zO609qXUo9eVufbRHgqY+4LPnnnvaOeecU9gHkqYwqqgNvYKj1x6BMurw4xwEIACB0hBItS6hpitNCnIgEIAABKIlECLseft47QXL28drH21AcKwpgVRruk6GtdcC5b333uvyr+jU6nyjU6ZMsX333dd+97vf2eDBg7PRk3oLP2jQoJ797rrrrplAWSmG6o9a91IjJp944olsBObOO++cjcjUQu1FG0lTlFTcdl7B0WuPQBl3/PEOAhCAQFkIpFyXUNOVJQs5DghAAAJxEggR9rx9vPYIlHHmSgxkVaVBAAAgAElEQVRepVzTdYpfrwXKTjkWy3ZJmlgi0Ts/vIKj1x6BsnfxoTcEIAABCBQjQF1SjFM9K9iFs6MnBCAAgRQIxCoeev3y2qcQG3ysJUBdUsukIwLlb3/7W7vvvvvs1VdftcUXX9w+85nP2Kc//ekkc5KkSTJsNU57BUevPQJlOfKEo4AABCAQOwHqkvAIwS6cHT0hAAEIpEAgRNjz9vHai5u3j9c+hdjgIwJlkRxoq0D51ltv2Ze//GW76667bN55582mVb/yyiumdSc/+9nPmj6Wo2naKTWK2ZSi1dhXr+DotUegLEeecBQQgAAEYidAXRIeIdiFs6MnBCAAgRQIhAh73j5eewTKFDKnOz5Sl9Ryb6tAuc8++9iVV16Zfa17++23t3nmmScTJ6+//vrs695aA/K8887rTvQD90rSBIKLrJtXcPTaI1BGFnDcgQAEIFBSAtQl4YGFXTg7ekIAAhBIgUCs4qHXL699CrHBx1oC1CUdFiiHDx9uxxxzjH3nO9+p2dMFF1yQfaBm+vTpSeUmSZNUuBo66xUcvfYIlOXIE44CAhCAQOwEqEvCIwS7cHb0hAAEIJACgRBhz9vHay9u3j5e+xRig48IlEVyoK0jKPVl7Ztuusk+//nP1+z79ttvt2222cbeeeedIn5FY0MxG00oeuWIV3D02iNQ9io8dIYABCAAgYIEqEsKgqpjBrtwdvSEAAQgkAKBEGHP28drj0CZQuZ0x0fqklrubRUoR40aZauvvrpdffXVNXvacccd7amnnrJHHnmkO9EP3CtJEwgusm5ewdFrj0AZWcBxBwIQgEBJCVCXhAcWduHs6AkBCEAgBQKxiodev7z2KcQGH2sJUJd0WKDU6MntttvO1l133WwNyqWXXtpeeuklu/baa23SpEk2ceJE+9KXvpRUbpI0SYWrobNewdFrj0BZjjzhKCAAAQjEToC6JDxCsAtnR08IQAACKRAIEfa8fbz24ubt47VPITb4iEBZJAfaOoJSO7zlllvsuOOOs8cee8zmzJljAwYMsI9//OM2fvx4++IXv1jEp6hsKGajCkewM17B0WuPQBkcGjpCAAIQgICDAHWJA1aVKezC2dETAhCAQAoEQoQ9bx+vPQJlCpnTHR+pS2q5t12gzHfx1ltv2YwZM2yxxRazhRZaqDsRb8NeSZo2QIxgE17B0WuPQBlBkHEBAhCAQD8gQF0SHmTYhbOjJwQgAIEUCMQqHnr98tqnEBt8rCVAXdJBgXLmzJk2bNgwu+qqq2zrrbcuTf6RNOUIpVdw9NojUJYjTzgKCEAAArEToC4JjxDswtnREwIQgEAKBEKEPW8fr724eft47VOIDT4iUBbJgbaOoBw+fLhdfvnlNnbs2CL7TsKGYjaJMLV00is4eu0RKFuGAAMIQAACEGgDAeqScIiwC2dHTwhAAAIpEAgR9rx9vPYIlClkTnd8pC6p5d5WgfKwww6zqVOn2nXXXdedCHdgryRNB6B2YZNewdFrj0DZhaCySwhAAAL9kAB1SXjQYRfOjp4QgAAEUiAQq3jo9ctrn0Js8LGWAHVJhwXK0047zc477zxbYoklslGUmvKtj+TkTf8+4IADkspNkiapcDV01is4eu0RKMuRJxwFBCAAgdgJUJeERwh24ezoCQEIQCAFAiHCnreP117cvH289inEBh8RKIvkQFtHUA4cOLDpPiVQzp49u4hf0dhQzEYTil454hUcvfYIlL0KD50hAAEIQKAgAeqSgqDqmMEunB09IQABCKRAIETY8/bx2iNQppA53fGRuqSWe1sFyu6EtbN7JWk6y7evtu4VHL32CJR9FUn2AwEIQKB/E6AuCY8/7MLZ0RMCEIBACgRiFQ+9fnntU4gNPtYSoC5BoHSfFySNG1mUHbyCo9cegTLKsOMUBCAAgdIRoC4JDynswtnREwIQgEAKBEKEPW8fr724eft47VOIDT4iUBbJgbaPoHzvvfdswoQJ9uCDD9r06dNNX/Zeb731bOedd7b555+/iE9R2VDMRhWOYGe8gqPXHoEyODR0hAAEIAABBwHqEgesKlPYhbOjJwQgAIEUCIQIe94+XnsEyhQypzs+UpfUcm+rQDllypTs4zjPPvusjRw5MvtIzssvv2xPPvmkLbfccvarX/3KVlttte5EP3CvJE0guMi6eQVHrz0CZWQBxx0IQAACJSVAXRIeWNiFs6MnBCAAgRQIxCoeev3y2qcQG3ysJUBd0mGBcpNNNslGTd522222yiqr9Ozt6aeftq233jobTXn33XcnlZskTVLhauisV3D02iNQliNPOAoIQAACsROgLgmPEOzC2dETAhCAQAoEQoQ9bx+vvbh5+3jtU4gNPiJQFsmBto6gHDx4sF155ZW23Xbb1ez7uuuus1122cXefvvtIn5FY0MxG00oeuWIV3D02iNQ9io8dIYABCAAgYIEqEsKgqpjBrtwdvSEAAQgkAKBEGHP28drj0CZQuZ0x0fqklrubRUoNWry9NNPt2233bZmTxMnTrSDDz7Y/v73v3cn+oF7JWkCwUXWzSs4eu0RKCMLOO5AAAIQKCkB6pLwwMIunB09IQABCKRAIFbx0OuX1z6F2OBjLQHqkg4LlBo9eeqpp9qtt95qK6+8cs/epk6dmk3xPuSQQ7JRlCk1kialaDX21Ss4eu0RKMuRJxwFBCAAgdgJUJeERwh24ezoCQEIQCAFAiHCnreP117cvH289inEBh8RKIvkQFtHUH7xi1+0Rx99NPswTvVHcpZaaikbNWpUj08DBgywm2++uYiPXbWhmO0q/rbt3Cs4eu0RKNsWKjYEAQhAAAJNCFCXhKcH7MLZ0RMCEIBACgRChD1vH689AmUKmdMdH6lLarm3VaDUR3I87Z577vGYd8WWpOkK9rbv1Cs4eu0RKNseMjYIAQhAAAJ1CFCXhKcF7MLZ0RMCEIBACgRiFQ+9fnntU4gNPtYSoC7psEBZxqQjacoRVa/g6LVHoCxHnnAUEIAABGInQF0SHiHYhbOjJwQgAIEUCIQIe94+Xntx8/bx2qcQG3xEoCySA20dQVlkh6nZUMymFrH6/noFR689AmU58oSjgAAEIBA7AeqS8AjBLpwdPSEAAQikQCBE2PP28dojUKaQOd3xkbqkljsCZYtcJGm6c7K2e69ewdFrj0DZ7oixPQhAAAIQqEeAuiQ8L2AXzo6eEIAABFIgEKt46PXLa59CbPCxlgB1CQKl+7wgadzIouzgFRy99giUUYYdpyAAAQiUjgB1SXhIYRfOjp4QgAAEUiAQIux5+3jtxc3bx2ufQmzwEYGySA4wgrIFJYrZImkUv41XcPTaI1DGnwN4CAEIQKAMBKhLwqMIu3B29IQABCCQAoEQYc/bx2uPQJlC5nTHR+qSWu4IlAiU3Tkb+3ivXsHRa49A2ccBZXcQgAAE+ikBitnwwMMunB09IQABCKRAIFbx0OuX1z6F2OBjLQHqEgRK93lB0riRRdnBKzh67REooww7TkEAAhAoHQHqkvCQwi6cHT0hAAEIpEAgRNjz9vHai5u3j9c+hdjgIwJlkRzo9QjKcePGFdlPj81ll13msu+2McVstyPQnv17BUevPQJle+LEViAAAQhAoDkB6pLwDIFdODt6QgACEEiBQIiw5+3jtUegTCFzuuMjdUkt914LlGuttdZcW33xxRftlVdesUUWWcSGDRtmL7/8sr3xxhs2dOhQGz58uD3++OPdiX7gXkmaQHCRdfMKjl57BMrIAo47EIAABEpKgLokPLCwC2dHTwhAAAIpEIhVPPT65bVPITb4WEuAuqQDAmXlJn/1q1/Zd77zHfvxj39sm2++ec+f7rjjDvvWt75lF1xwgW2xxRZJ5SZJk1S4GjrrFRy99giU5cgTjgICEIBA7ASoS8IjBLtwdvSEAAQgkAKBEGHP28drL27ePl77FGKDjwiURXKg1yMoK3ey9tpr28EHH2zf/OY3a/Y9YcIEO+OMM+zJJ58s4lc0NhSz0YSiV454BUevPQJlr8JDZwhAAAIQKEiAuqQgqDpmsAtnR08IQAACKRAIEfa8fbz2CJQpZE53fKQuqeXeVoFy0KBBdv3119sXvvCFmj3deuut2ZuDd955pzvRD9wrSRMILrJuXsHRa49AGVnAcQcCEIBASQlQl4QHFnbh7OgJAQhAIAUCsYqHXr+89inEBh9rCVCXdFig/MQnPmGDBw+2X/ziFzZkyJCevb355ps2duxYmzlzpj3yyCNJ5SZJk1S4GjrrFRy99giU5cgTjgICEIBA7ASoS8IjBLtwdvSEAAQgkAKBEGHP28drL27ePl77FGKDjwiURXKgrSMo77///kyIHDhwoG2yySY9H8m55557bPbs2aY1KjfccMMifkVjQzEbTSh65YhXcPTaI1D2Kjx0hgAEIACBggSoSwqCqmMGu3B29IQABCCQAoEQYc/bx2uPQJlC5nTHR+qSWu5tFSi1+ZdeesnOOeccmzRpkk2fPj37cvfo0aNt//33t6WXXro7ke/FXkmaXsCLqKtXcPTaI1BGFGxcgQAEIFBiAtQl4cGFXTg7ekIAAhBIgUCs4qHXL699CrHBx1oC1CV9IFCWLfFImnJE1Cs4eu0RKMuRJxwFBCAAgdgJUJeERwh24ezoCQEIQCAFAiHCnreP117cvH289inEBh8RKIvkQNtHUGqnr732Wva17ueee8622GIL+9CHPpStPzn//PNn079TahSzKUWrsa9ewdFrj0BZjjzhKCAAAQjEToC6JDxCsAtnR08IQAACKRAIEfa8fbz2CJQpZE53fKQuqeXeVoHygw8+sKOOOsrOO+88e/vtt23AgAH20EMP2ahRo2zLLbe0dddd14499tjuRD9wryRNILjIunkFR689AmVkAccdCEAAAiUlQF0SHljYhbOjJwQgAIEUCMQqHnr98tqnEBt8rCVAXdJhgTIXJ0877bTsIzlrrLGGPfzww5lAedFFF9kll1yS/X9KjaRJKVqNffUKjl57BMpy5AlHAQEIQCB2AtQl4RGCXTg7ekIAAhBIgUCIsOft47UXN28fr30KscFHBMoiOdDWEZTLLrusHXbYYbbPPvtkX+2eb775egTKO++8MzsxNf07pUYxm1K0EChzAnMunlOOwHEUEIAABCAwFwHqkvCEgF04O3pCAAIQSIFAiLDn7eO1R6BMIXO64yN1SS33tgqUgwYNsttuu80222yzGoHy9ttvt+22287+85//dCf6gXslaQLBRdbNOyLSa6/D7Ys+IfuILBS4AwEIQAACvSBAXRIOD3bh7OgJAQhAIAUCsYqHXr+89inEBh9rCVCXdFig/NjHPpZ9FOfUU0+tESg1svI3v/mNPfjgg67cnDJliu23335233332UILLWQ77LBDtn2JoUXbjTfeaNtuu62tueaa2cd7PI2k8dCK19Yr7HntESjjjT2eQQACECgTgZTrEmq6MmUixwIBCEAgPgIhwp63j9delLx9vPbxRQKPihBIuaYrcnwhNm0dQXnFFVfYHnvskU3z/spXvmLrrLOO3XTTTdnXvA8++GDT34uebDqYGTNm2MiRI22FFVawo48+2l5++WU78MADbezYsXbVVVcVOt533nknWwtT/11iiSUQKAtRK5+RV3D02iNQli9nOCIIQAACMRJItZilposxm/AJAhCAQLkIFNUarr322p4D9/bx2iNQlivH2nk0qdZ07WRQva22CpTa+Nlnn23jx4+3t956y+bM+e86eIMHD7bjjz8+Exc9TR/bUb9p06Zl4qLa1VdfbTvttJNNnjzZRowY0XJzxxxzjN1777220korZethMoKyJbJSGngFR689AmUp04aDggAEIBAdgVSLWWq66FIJhyAAAQiUjkCs4qHXL6996QLZTw4o1Zquk+Fpu0ApZ7XO5P3332///ve/bfHFF7cNNtjAFllkEfdxjBkzxhZbbDG7+eabe/rOmjXLFl10UTvppJPsoIMOarrNqVOn2tprr535cs455yBQuiNQng5ewdFrj0BZnlzhSCAAAQjETCDVYpaaLuaswjcIQAAC5SAQIux5+3jtRdbbx2tfjuj1v6NItabrZKTaKlD+5Cc/sS984Qs2dOjQGp9fffXV7AM6O++8c+HjGTZsmI0bNy5bc7KyaS3J9ddf3y655JKm29pqq61sueWWswsvvNB23XVXBMrC5Mtn6BUcvfYIlOXLGY4IAhCAQIwEUi1mqelizCZ8ggAEIFAuAiHCnreP1x6Bslw51s6jSbWmayeD6m21VaCcZ5557IEHHrDRo0fX+PzII49kv589e3bh45lvvvnshBNOyNa0rGwbbbSRqdC94YYbGm7r1ltvtV122cW0ILumhxcVKN944w3TT96mT5+e+a11NJdddtnCvmMYFwGv4Oi1R6CMK954AwEIQKCsBFItZqnpypqRHBcEIACBeAjEKh56/fLaxxMBPPEQSLWm8xyj17atAuXAgQOzr3TXEyjvuuuu7MM5WiS9aFMxe+KJJ9qhhx46V5cNN9zQll56aZs4cWLdTc2cOTP7Yvf+++9v++67b2ZTVKDU+pnHHXdczXYRKItGLU47r+DotUegjDPueAUBCECgbARSLWap6cqWiRwPBCAAgfgIhAh73j5ee1Hy9vHaxxcJPCpCINWarsixhdr0WqD85S9/afpRO//882377be3pZZaai5/JBjefffd2QjE3/zmN4V9DZ0OpCnhl156aTaac9555832t9dee9ljjz2WrUepj/bMP//8df1gBGXh8CRl6BUcvfYIlEmlA85CAAIQSJZAqsUsNV2yKYfjEIAABJIhECLseft47REok0mfPnc01Zquk6B6LVCee+659v3vfz/z8dlnn83EyQUWWGAunyUG6ovbJ598sq2xxhqFjyd0QXWNlpwwYcL/b+9OoKyqrvyPbwxEAWcQ5zA6EMGBCHEMDsiwnCKtMcQJpO24MIpCIpiIggKC0UQ0dMchQSK6HKJGiYR0jB0FleAUo6JiGiiJQnAIErVRUf5rn/yrUtSrsu7e9e5757z3fWtl9Wprn3vP/ZxTxa5f3Xdfk+fRZ1Kee+65mebBpsnEFH2RNXC01hNQRr8FmCACCCBQEQKp9iX0dBWx/bgIBBBAIGqBWMND67ys9VEvCpNrUiDVni7PJW1xQFl/cl27dpX7779f9t9//6LMefr06eEZlDU1NXUfvHPnnXfKsGHDZMmSJSH0bOz1yiuvyOrVqzf5kt5V+eqrr8qsWbNkzz33lF122SXTHNk0mZiiL7IGjtZ6AsrotwATRAABBCpCINW+hJ6uIrYfF4EAAghELeAJ9qxjrPUKZh1jrY96UZgcAaVhDxQ1oDScN1OpPq+yV69e0qVLF5kwYYKsWbNGxowZI4MGDZI5c+bUHWPkyJHhjskNGzY0edysz6BseIBUfxHIBFxFRdbA0VpPQFlFm4lLRQABBMookGpfQk9Xxk3DqRFAAIEqEfAEe9Yx1noCyirZfI7LTLWnc1xq5iFFDShvuOEGeeONN0TvVmz40k/i3n333eW8887LPDkt1E/h1g+6WbhwYXh2pN49qX+Fb9u2bd1xat/SvXHjRgJKk271FFsDR2s9AWX17CWuFAEEECinQMrNLD1dOXcO50YAAQQqXyDW8NA6L2t95a9sZV5hyj1dXitS1IBS33Ktdziec845BfP9+c9/Ltdee6289NJLeV1LLsdl0+TCWvKDWgNHaz0BZcmXlBMigAACVSlAX+Jfduz8doxEAAEEUhDwBHvWMdZ6dbOOsdansDbMsVCAvqTQpKgBpd7hOG/ePDniiCMKzqSf3n3sscfKBx98kNTeZNMktVxNTtYaOFrrCSgrY59wFQgggEDsAvQl/hXCzm/HSAQQQCAFAU+wZx1jrSegTGHnlGeO9CU5B5Q77bSTXHXVVTJixIiCM+kdlOPGjZO33nqrPKvvPCubxgkX2TBr4GitJ6CMbMGZDgIIIFChAvQl/oXFzm/HSAQQQCAFgVjDQ+u8rPUprA1zLBSgL8k5oDzzzDPlsccekwULFoTnTda+FP7www8P//vFL36R1N5k0yS1XE1O1ho4WusJKCtjn3AVCCCAQOwC9CX+FcLOb8dIBBBAIAUBT7BnHWOtVzfrGGt9CmvDHAkos+yBor7F+80335SDDjpI3n77bTnqqKNkl112Ef1vjzzyiOywww7yxBNPyK677pplXtHU0MxGsxQtmog1cLTWE1C2aHkYjAACCCCQUYC+JCNUI2XY+e0YiQACCKQg4An2rGOs9QSUKeyc8syRvqTQvagBpR7+3XffDR+Go6HkO++8Ix06dJABAwbIRRddJNtvv315Vr4FZ2XTtAAvoqHWwNFaT0AZ0WIzFQQQQKCCBehL/IuLnd+OkQgggEAKArGGh9Z5WetTWBvmWChAX1KCgLLSNh6bpjJW1Bo4WusJKCtjn3AVCCCAQOwC9CX+FcLOb8dIBBBAIAUBT7BnHWOtVzfrGGt9CmvDHAkos+yBot9BmeWkKdXQzKa0Wk3P1Ro4WusJKCtjn3AVCCCAQOwC9CX+FcLOb8dIBBBAIAUBT7BnHWOtJ6BMYeeUZ470JYXuLQ4o9913X7njjjukV69e0rt3b2nVqlWTq6tfe/7558uz+s6zsmmccJENswaO1noCysgWnOkggAACFSpAX+JfWOz8doxEAAEEUhCINTy0zstan8LaMMdCAfqSHALKESNGyGWXXSZdu3aV4cOHf25AqaefNWtWUnuTTZPUcjUdjp/TdHBef9DGmzeG/5eAsjLWnatAAAEEKk2AvsS/otj57RiJAAIIpCDgCfasY6z16mYdY61PYW2YIwFllj3Q4jsos5wk5Rqa2ZRX719ztwaO1vpShZqeeVXGCnIVCCCAAAIqQF/i3wfY+e0YiQACCKQg4An2rGOs9QSUKeyc8syRvqTQnYCymb3IpinPN2uxz2oN9qz1BJTFXjGOhwACCCDQmAB9iX9fYOe3YyQCCCCQgkCs4aF1Xtb6FNaGORYK0JfkEFBeccUVpr2mbwdP6cWmSWm1mp6rNXC01hNQVsY+4SoQQACB2AXoS/wrhJ3fjpEIIIBACgKeYM86xlqvbtYx1voU1oY5ElBm2QMtvoNyq6222uQ8GzZskI8++ij8t9atW4v+//rafPPNpU2bNrJu3bos84qmhmY2mqVo0USsgaO1noCyRcvDYAQQQACBjAL0JRmhGinDzm/HSAQQQCAFAU+wZx1jrSegTGHnlGeO9CWF7i0OKOsf8umnnw5/Hbjkkkvk5JNPlu22207+/ve/yz333CPTpk2Tu+66S/r27Vue1XeelU3jhItsmDVwtNYTUEa24EwHAQQQqFAB+hL/wmLnt2MkAgggkIJArOGhdV7W+hTWhjkWCtCX5BxQHnTQQXLmmWfKqFGjCs40c+ZMmT17tixevDipvcmmSWq5mpysNXC01hNQVsY+4SoQQACB2AXoS/wrhJ3fjpEIIIBACgKeYM86xlqvbtYx1voU1oY5ElBm2QNFvYOybdu2cv/998vgwYMLzj1//nwZOnSofPjhh1nmFU0NzWw0S9GiiVgDR2s9AWWLlofBCCCAAAIZBehLMkI1Uoad346RCCCAQAoCnmDPOsZaT0CZws4pzxzpSwrdixpQ9uzZU/baa68QUrZq1arubBs3bpQTTzxRXnvtNXn55ZfLs/rOs7JpnHCRDbMGjtZ6AsrIFpzpIIAAAhUqQF/iX1js/HaMRAABBFIQiDU8tM7LWp/C2jDHQgH6kpwDygceeCA8e7Jz585y/PHHS6dOnWTNmjUyd+5cqampkV/+8pchqEzpxaZJabWanqs1cLTWE1BWxj7hKhBAAIHYBehL/CuEnd+OkQgggEAKAp5gzzrGWq9u1jHW+hTWhjkSUGbZA0W9g1JP+Kc//Sl8II4+a3LVqlWy8847S79+/WT8+PGy//77Z5lTVDU0s1Eth3sy1sDRWk9A6V4aBiKAAAIIGAToSwxYDUqx89sxEgEEEEhBwBPsWcdY6wkoU9g55ZkjfUmhe9EDyvIsbX5nZdPkZ1vKI1sDR2s9AWUpV5NzIYAAAtUrQF/iX3vs/HaMRAABBFIQiDU8tM7LWp/C2jDHQgH6khIGlCtXrhT933777Sft27dPdj+yaZJduk0mbg0crfUElJWxT7gKBBBAIHYB+hL/CmHnt2MkAgggkIKAJ9izjrHWq5t1jLU+hbVhjgSUWfZA0e+gvOmmm2TSpEnh7d36QTlPPfWU9OnTR0466SQ54ogjZPTo0VnmFU0NzWw0S9GiiVgDR2s9AWWLlofBCCCAAAIZBehLMkI1Uoad346RCCCAQAoCnmDPOsZaT0CZws4pzxzpSwrdixpQXnfddTJu3Di58MIL5aijjpIhQ4bI008/HQLKGTNmyN133y2PP/54eVbfeVY2jRMusmHWwNFaT0AZ2YIzHQQQQKBCBehL/AuLnd+OkQgggEAKArGGh9Z5WetTWBvmWChAX5JzQNm9e3cZMWKEXHrppfLpp59KmzZt6gLK+fPny+mnny5vv/12UnuTTZPUcjU5WWvgaK0noKyMfcJVIIAAArEL0Jf4Vwg7vx0jEUAAgRQEPMGedYy1Xt2sY6z1KawNcySgzLIHinoH5RZbbCHz5s0Ld082DCh///vfy3HHHSf/93//l2Ve0dTQzEazFC2aiDVwtNYTULZoeRiMAAIIIJBRgL4kI1QjZdj57RiJAAIIpCDgCfasY6z1BJQp7JzyzJG+pNC9qAHlXnvtFe6gHD9+fEFAOXXqVLnrrrvk+eefL8/qO8/KpnHCRTbMGjha6wkoI1twpoMAAghUqAB9iX9hsfPbMRIBBBBIQSDW8NA6L2t9CmvDHAsF6EtyDiivueYamThxYnje5NChQ6VDhw7y5JNPhrd169u7p7YeTyQAACAASURBVEyZIqNGjUpqb7JpklquJidrDRyt9QSUlbFPuAoEEEAgdgH6Ev8KYee3YyQCCCCQgoAn2LOOsdarm3WMtT6FtWGOBJRZ9kBR76DUE15wwQUyc+bM8Anen332mWy22WZhHhpMXn/99VnmFFUNzWxUy+GejDVwtNYTULqXhoEIIIAAAgYB+hIDVoNS7Px2jEQAAQRSEPAEe9Yx1noCyhR2TnnmSF9S6F70gFJPsWzZMnn44YfDnZPbb7+9HH300bLHHnuUZ9VbeFY2TQsBIxluDRyt9QSUkSw000AAAQQqXIC+xL/A2PntGIkAAgikIBBreGidl7U+hbVhjoUC9CU5BpTr16+X733ve3LGGWdIv379Kmb/sWkqYymtgaO1noCyMvYJV4EAAgjELkBf4l8h7Px2jEQAAQRSEPAEe9Yx1np1s46x1qewNsyRgDLLHijqHZRbbrmlPPTQQ9K/f/8s506ihmY2iWVqdpLWwNFaT0DZ7BJQgAACCCBQBAH6Ej8idn47RiKAAAIpCHiCPesYaz0BZQo7pzxzpC8pdC9qQDlw4EAZMGCAXHzxxeVZ4RzOyqbJAbUMh7QGjtZ6AsoyLCqnRAABBKpQgL7Ev+jY+e0YiQACCKQgEGt4aJ2XtT6FtWGOhQL0JTkHlIsWLQqf1q0fiDNkyBDp1KlT+LCc+i99JmVKLzZNSqvV9FytgaO1noCyMvYJV4EAAgjELkBf4l8h7Px2jEQAAQRSEPAEe9Yx1np1s46x1qewNsyRgDLLHijqHZS1n9gdwpoGwWTtZD799NMs84qmhmY2mqVo0USsgaO1noCyRcvDYAQQQACBjAL0JRmhGinDzm/HSAQQQCAFAU+wZx1jrSegTGHnlGeO9CWF7kUNKG+99dYmg8naU5911lnlWX3nWdk0TrjIhlkDR2s9AWVkC850EEAAgQoVoC/xLyx2fjtGIoAAAikIxBoeWudlrU9hbZhjoQB9Sc4BZSVuOjZNZayqNXC01hNQVsY+4SoQQACB2AXoS/wrhJ3fjpEIIIBACgKeYM86xlqvbtYx1voU1oY5ElBm2QNFuYPypZdekhtvvFGWL18uu+66q5x88snhw3Iq4UUzWwmrKGINHK31BJSVsU+4CgQQQCB2AfoS/wph57djJAIIIJCCgCfYs46x1hNQprBzyjNH+pJC9xYHlAsXLpSjjz5aNmzYIB07dpR3331XPvvsM5k5c6ace+655VnpIp6VTVNEzDIeyho4WusJKMu4uJwaAQQQqCIB+hL/YmPnt2MkAgggkIJArOGhdV7W+hTWhjkWCtCX5BBQ6p2S77zzjjz44IOy++67y7p162TEiBHy6KOPyttvv538PmTTJL+E4QKsgaO13nMOzxjPvCpjBbkKBBBAAAEVoC/x7wPs/HaMRAABBFIQ8AR71jHWenWzjrHWp7A2zJGAMsseaPEdlJ06dZKf/vSnMnTo0LrzrVixQrp16yY1NTUhtEz5RTOb8ur9a+7WYM9a7wkbPWM886qMFeQqEEAAAQQIKFu2B+jpWubHaAQQQCB2AU+wZx1jrSegjH3XlG9+9CWF9i0OKDfbbDNZtGiR9OvXr+7on376qbRp00aeeeYZOeCAA8q34kU4M5umCIgRHMIa7FnrPWGjZ4xnXhHwMwUEEEAAgSIJ0Jf4IbHz2zESAQQQSEEg1vDQOi9rfQprwxwLBehLcgoo//jHP0rfvn0JKPmui1bAGuxZ6z1ho2eMZ17RLgoTQwABBBAwC9DMmsnqBmDnt2MkAgggkIKAJ9izjrHWq5t1jLU+hbVhjgSUWfZAUe6gbNeuneidlPVf77//vjT8761atZL33nsvy7yiqaGZjWYpWjQRa7BnrfeEjZ4xnnm1CI7BCCCAAAJRCdCX+JcDO78dIxFAAIEUBDzBnnWMtZ6AMoWdU5450pcUurc4oJw0aZJpNS+//HJTfbmL2TTlXoHinN8a7FnrPWGjZ4xnXsUR5CgIIIAAAjEI0Jf4VwE7vx0jEUAAgRQEYg0PrfOy1qewNsyxUIC+JIeAstI3GpumMlbYGuxZ6z1ho2eMZ16VsYJcBQIIIICACtCX+PcBdn47RiKAAAIpCHiCPesYa726WcdY61NYG+ZIQJllD7T4DsosJ2lJzdKlS+WCCy6QBQsWSPv27WXYsGEybdo0adu2bZOHXbdunfzoRz+S3/zmN/Lqq6+GD+z5yle+IlOnTpU+ffqYpkMza+KKttga7FnrPWGjZ4xnXtEuChNDAAEEEDALpNyX0NOZl5sBCCCAAAIGAU+wZx1jrSegNCxglZWm3NPltVRRB5Rr166VXr16SefOnWXChAmyZs0aGTNmjAwePFjmzJnTpMmLL74oxxxzjJx99tnyta99TT755BOZMWNGCDmfeOIJU0jJpslr65X2uNZgz1rvCRs9YzzzKq00Z0MAAQQQyFMg1b6Eni7PXcGxEUAAAQQ8QaBnDAEle61YAqn2dMW6/saOE3VAOX36dLniiiukpqZGOnbsGOZ/xx13yGmnnSZLliyRnj17NmrzwQcfiH4gj35IT+1r/fr10q1bNxk0aJDMmjUrsymbJjNV1IXWYM9a7wkbPWM884p6YZgcAggggIBJINW+hJ7OtMwUI4AAAgg4BGIND63zstY7qBgSgUCqPV2edFEHlP3795dtt91WHnjggTqDjz76SLbZZhuZMmWKjB071mRz9NFHS+vWreW3v/1t5nFsmsxUURdagz1rvSds9IzxzCvqhWFyCCCAAAImgVT7Eno60zJTjAACCCDgEPAEe9Yx1nq9DOsYa72DiiERCKTa0+VJF3VA2alTp/A2bX3mZP3XPvvsIwcffLDccsstmW30rsrdd99dzjzzTLnuuusyj2PTZKaKutAa7FnrPWGjZ4xnXlEvDJNDAAEEEDAJpNqX0NOZlpliBBBAAAGHgCfYs46x1hNQOhaySoak2tPluTxRB5T64TZXXnmljB8/fhODww47TLTRve+++zLbXHTRRfJf//Vfos+n7NGjR5Pj9AN29H+1r1WrVkm/fv1k5cqVsttuu2U+H4VxCViDPWu9J2z0jPHMK66VYDYIIIAAAi0RSLWZpadryaozFgEEEEAgi0Cs4aF1Xtb6LDbUxCeQak+Xp2T0AeXkyZNl3LhxmxgceuihstNOO8m9996byab2uZUzZ86UUaNGfe6YiRMnyqRJkwpqCCgzUUdbZA32rPWesNEzxjOvaBeFiSGAAAIImAVSbWY1oKSnMy83AxBAAAEEDAKeYM86xlqv07eOsdYbiCiNSCDVni5PwqgDymK8Heh3v/udHHfccTJ69Gi5+uqrm7XkDspmiZIssAZ71npP2OgZ45lXkgvGpBFAAAEEGhVItZmlp2NDI4AAAgjkLeAJ9qxjrPUElHmverrHT7Wny1M86oCypQ9UX7x4segH45x44oly2223hU/2tr7YNFaxOOutwZ613hM2esZ45hXnijArBBBAAAGPQKp9CT2dZ7UZgwACCCBgEYg1PLTOy1pvMaI2HoFUe7o8BaMOKKdPnx6eQVlTUyMdOnQIDnfeeacMGzZMlixZIj179mzS5uWXX5bDDz9cDjzwQJk7d67oW4s8LzaNRy2+MdZgz1rvCRs9Yzzzim81mBECCCCAgFcg1b6Ens674oxDAAEEEMgq4An2rGOs9Tp36xhrfVYf6uISSLWny1Mx6oBy7dq10qtXL+nSpYtMmDBB1qxZI2PGjJFBgwbJnDlz6lxGjhwps2fPlg0bNoT/pnUaTH7yySehrn379nW1m2++uRxwwAGZTdk0mamiLrQGe9Z6T9joGeOZV9QLw+QQQAABBEwCqfYl9HSmZaYYAQQQQMAh4An2rGOs9QSUjoWskiGp9nR5Lk/UAaVe+NKlS+X888+XhQsXSrt27cLdk/pX+LZt29a5DB8+PASUGzduDP/tD3/4gxx55JGNunXu3FlWrFiR2ZRNk5kq6kJrsGet94SNnjGeeUW9MEwOAQQQQMAkkHJfQk9nWmqKEUAAAQSMArGGh9Z5WeuNTJRHIpByT5cXYfQBZV4XnvW4bJqsUnHXWYM9a70nbPSM8cwr7pVhdggggAACFgH6EovWprXY+e0YiQACCKQg4An2rGOs9epmHWOtT2FtmGOhAH1JoQkBZTPfKWyayvhRYg32rPWesNEzxjOvylhBrgIBBBBAQAXoS/z7ADu/HSMRQACBFAQ8wZ51jLWegDKFnVOeOdKXEFCadx6bxkwW5QBrsGet94SNnjGeeUW5IEwKAQQQQMAlQF/iYguDsPPbMRIBBBBIQSDW8NA6L2t9CmvDHAsF6EsIKM3fF2waM1mUA6zBnrXeEzZ6xnjmFeWCMCkEEEAAAZcAfYmLjYDSz8ZIBBBAIBkBT7BnHWOtVzzrGGt9MgvERDcRoKcjoDR/S7BpzGRRDrAGe9Z6T9joGeOZV5QLwqQQQAABBFwC9CUuNgJKPxsjEUAAgWQEPMGedYy1noAyme1T8onS0xFQmjcdm8ZMFuUAa7BnrfeEjZ4xnnlFuSBMCgEEEEDAJUBf4mIjoPSzMRIBBBBIRiDW8NA6L2t9MgvERDcRoKcjoDR/S7BpzGRRDrAGe9Z6T9joGeOZV5QLwqQQQAABBFwC9CUuNgJKPxsjEUAAgWQEPMGedYy1XvGsY6z1ySwQEyWgbGYP8CnezQDxi0Bl/BSxBnvWek/Y6BnjmVdlrCBXgQACCCCgAvQl/n2And+OkQgggEAKAp5gzzrGWk9AmcLOKc8c6UsK3QkoCSjL891Y4rNagz1rvSds9IzxzKvE1JwOAQQQQCBHAZpZPy52fjtGIoAAAikIxBoeWudlrU9hbZhjoQB9CQGl+fuCTWMmi3KANdiz1nvCRs8Yz7yiXBAmhQACCCDgEqAvcbGFQdj57RiJAAIIpCDgCfasY6z16mYdY61PYW2YIwFllj3AHZTNKNHMZtlG8ddYgz1rvSds9IzxzCv+1WGGCCCAAAJZBehLskrxi4BfipEIIIBAmgKeYM86xlpPQJnmXirFrOnpCpUJKAkoS/G9V/ZzWIM9a70nbPSM8cyr7PhMAAEEEECgaAI0s35K7Px2jEQAAQRSEIg1PLTOy1qfwtowR/5wmmUPEFASUGbZJ8nXWIM9a70nbPSM8cwr+cXjAhBAAAEE6gQI2fybATu/HSMRQACBFAQ8wZ51jLVe3axjrPUprA1zJKDMsgcIKAkos+yT5GuswZ613hM2esZ45pX84nEBCCCAAAIElEXYAwSURUDkEAgggEDEAp5gzzrGWk9AGfGGKfPU6EsKF4CAkoCyzN+WpTm9Ndiz1nvCRs8Yz7xKI8xZEEAAAQRKIUAz61fGzm/HSAQQQCAFgVjDQ+u8rPUprA1zLBSgLyGgNH9fsGnMZFEOsAZ71npP2OgZ45lXlAvCpBBAAAEEXAL0JS62MAg7vx0jEUAAgRQEPMGedYy1Xt2sY6z1KawNcySgzLIHuIOyGSWa2SzbKP4aa7BnrfeEjZ4xnnnFvzrMEAEEEEAgqwB9SVYpfhHwSzESAQQQSFPAE+xZx1jrCSjT3EulmDU9XaEyASUBZSm+98p+DmuwZ633hI2eMZ55lR2fCSCAAAIIFE2AZtZPiZ3fjpEIIIBACgKxhofWeVnrU1gb5sgfTrPsAQJKAsos+yT5GmuwZ633hI2eMZ55Jb94XAACCCCAQJ0AIZt/M2Dnt2MkAgggkIKAJ9izjrHWq5t1jLU+hbVhjgSUWfYAASUBZZZ9knyNNdiz1nvCRs8Yz7ySXzwuAAEEEECAgLIIe4CAsgiIHAIBBBCIWMAT7FnHWOsJKCPeMGWeGn1J4QIQUBJQlvnbsjSntwZ71npP2OgZ45lXaYQ5CwIIIIBAKQRoZv3K2PntGIkAAgikIBBreGidl7U+hbVhjoUC9CUElObvCzaNmSzKAdZgz1rvCRs9YzzzinJBmBQCCCCAgEuAvsTFFgZh57djJAIIIJCCgCfYs46x1qubdYy1PoW1YY4ElFn2AHdQNqNEM5tlG8VfYw32rPWesNEzxjOv+FeHGSKAAAIIZBWgL8kqxS8CfilGIoAAAmkKeII96xhrPQFlmnupFLOmpytUJqAkoCzF917Zz2EN9qz1nrDRM8Yzr7LjMwEEEEAAgaIJ0Mz6KbHz2zESAQQQSEEg1vDQOi9rfQprwxz5w2mWPUBASUCZZZ8kX2MN9qz1nrDRM8Yzr+QXjwtAAAEEEKgTIGTzbwbs/HaMRAABBFIQ8AR71jHWenWzjrHWp7A2zJGAMsseIKAkoMyyT5KvsQZ71npP2OgZ45lX8ovHBSCAAAIIEFAWYQ8QUBYBkUMggAACEQt4gj3rGGs9AWXEG6bMU6MvKVwAAkoCyjJ/W5bm9NZgz1rvCRs9YzzzKo0wZ0EAAQQQKIUAzaxfGTu/HSMRQACBFARiDQ+t87LWp7A2zLFQgL6EgNL8fcGmMZNFOcAa7FnrPWGjZ4xnXlEuCJNCAAEEEHAJ0Je42MIg7Px2jEQAAQRSEPAEe9Yx1np1s46x1qewNsyRgDLLHuAOymaUaGazbKP4a6zBnrXeEzZ6xnjmFf/qMEMEEEAAgawC9CVZpfhFwC/FSAQQQCBNAU+wZx1jrSegTHMvlWLW9HSFygSUBJSl+N4r+zmswZ613hM2esZ45lV2fCaAAAIIIFA0AZpZPyV2fjtGIoAAAikIxBoeWudlrU9hbZgjfzjNsgcIKAkos+yT5GuswZ613hM2esZ45pX84nEBCCCAAAJ1AoRs/s2And+OkQgggEAKAp5gzzrGWq9u1jHW+hTWhjkSUGbZAwSUBJRZ9knyNdZgz1rvCRs9YzzzSn7xuAAEEEAAAQLKIuwBAsoiIHIIBBBAIGIBT7BnHWOtJ6CMeMOUeWr0JYULQEBJQFnmb8vSnN4a7FnrPWGjZ4xnXqUR5iwIIIAAAqUQoJn1K2Pnt2MkAgggkIJArOGhdV7W+hTWhjkWCtCXEFCavy/YNGayKAdYgz1rvSds9IzxzCvKBWFSCCCAAAIuAfoSF1sYhJ3fjpEIIIBACgKeYM86xlqvbtYx1voU1oY5ElBm2QPcQdmMEs1slm0Uf4012LPWe8JGzxjPvOJfHWaIAAIIIJBVgL4kqxS/CPilGIkAAgikKeAJ9qxjrPUElGnupVLMmp6uUJmAkoCyFN97ZT+HNdiz1nvCRs8Yz7zKjs8EEEAAAQSKJkAz66fEzm/HSAQQQCAFgVjDQ+u8rPUprA1z5A+nWfYAASUBZZZ9knyNNdiz1nvCRs8Yz7ySXzwuAAEEEECgToCQzb8ZsPPbMRIBBBBIQcAT7FnHWOvVzTrGWp/C2jBHAsose4CAkoAyyz5JvsYa7FnrPWGjZ4xnXskvHheAAAIIIEBAWYQ9QEBZBEQOgQACCEQs4An2rGOs9QSUEW+YMk+NvqRwAQgoCSjL/G1ZmtNbgz1rvSds9IzxzKs0wpwFAQQQQKAUAjSzfmXs/HaMRAABBFIQiDU8tM7LWp/C2jDHQgH6EgJK8/cFm8ZMFuUAa7BnrfeEjZ4xnnlFuSBMCgEEEEDAJUBf4mILg7Dz2zESAQQQSEHAE+xZx1jr1c06xlqfwtowRwLKLHuAOyibUaKZzbKN4q+xBnvWek/Y6BnjmVf8q8MMEUAAAQSyCtCXZJXiFwG/FCMRQACBNAU8wZ51jLWegDLNvVSKWdPTFSoTUBJQluJ7r+znsAZ71npP2OgZ45lX2fGZAAIIIIBA0QRoZv2U2PntGIkAAgikIBBreGidl7U+hbVhjvzhNMseIKAkoMyyT5KvsQZ71npP2OgZ45lX8ovHBSCAAAII1AkQsvk3A3Z+O0YigAACKQh4gj3rGGu9ulnHWOtTWBvmSECZZQ8QUBJQZtknyddYgz1rvSds9IzxzCv5xeMCEEAAAQQIKIuwBwgoi4DIIRBAAIGIBTzBnnWMtZ6AMuINU+ap0ZcULgABJQFlmb8tS3N6a7BnrfeEjZ4xnnmVRpizIIAAAgiUQoBm1q+Mnd+OkQgggEAKArGGh9Z5WetTWBvmWChAX0JAaf6+YNOYyaIcYA32rPWesNEzxjOvKBeESSGQsABNY8KLVwFTpy/xLyJ2fjtGIoAAAikIeHo06xhrvbpZx1jrU1gb5khAmWUPcAdlM0o0s1m2Ufw11mDPWu8JGz1jPPOKf3WYIQJpCdA0prVelTZb+hL/imLnt2MkAgggkIKAp0ezjrHWE1CmsHPKM0f6kkL36APKpUuXygUXXCALFiyQ9u3by7Bhw2TatGnStm3bZnfR7Nmz5aqrrpIVK1ZIjx495PLLL5dTTjml2XH1C9g0Jq5oi63BnrXeEzZ6xnjmFe2iGCfmaQaMp6AcgUwC7MVMTBTlJJByX0JPl9Om4LAIIIAAAkHA06NZx1jrPfPynIMtkJ5Ayj1dXtpRB5Rr166VXr16SefOnWXChAmyZs0aGTNmjAwePFjmzJnzuSa//OUvQxg5fvx4GThwoPzqV7+SG264QebPnx/+/6wvNk1WqbjrrMGetd4TNnrGeOYV98pknx3/UGe3ojJfgVj3Yqzzync1qu/oqfYl9HTVt1e5YgQQQKDUAp5eyDrGWk9AWepdkM75Uu3p8hSOOqCcPn26XHHFFVJTUyMdO3YMDnfccYecdtppsmTJEunZs2eTNvq13r17y913311XM2jQIHnvvfdk0aJFmU3ZNJmpoi60BnvWek/Y6BnjmVfUC2OYnKcZMByeUgQyC8S6F2OdV2ZYCjMJpNqX0NNlWl6KEEAAAQRaIODphaxjrPUElC1Y0AofmmpPl+eyRB1Q9u/fX7bddlt54IEH6gw++ugj2WabbWTKlCkyduzYRm2WL18u3bp1k/vuu09OOumkuhp9y/eIESPCnZi1gWdzuGya5oTS+Lo12LPWe8JGzxjPvNJYoeZn6WkGmj/qphWlOId1TtTHJ+DZJ54x1isvxTmsc6K++AKp9iX0dMXfCxwRAQQQQKDlvby1f7LWE1CyS5sSSLWny3NFow4oO3XqJGeffXZ45mT91z777CMHH3yw3HLLLY3azJs3T4499lh5+eWXZe+9966reeqpp6Rfv37heZaHHXZYJlc2TSam6IuswZ613hM2esZ45hX94mScoKcZyHjourJSnMM6J+rzF7Cuu7Xe05h6rtozL895GFNegVT7Enq68u4bzo4AAghUg4CnF7KOsdZ7+kDPOaphfSvtGlPt6fJch6gDyjZt2siVV14ZniNZ/6Xhoja6eodkY6/bb79dTj/9dFm1apXstNNOdSV/+ctfZI899gh3ZJ5wwgmNjl23bp3o/2pfegwNNVeuXCm77bZbnmthOnbWH1p60PpvczedpIKKrcGetV6pSjHGc45SLGPW/Vi7F631nn/YPdftmZfnPHmP8VyHZ0ze11Gq41uv3Vrv2b+lOEepfDlPcQVSbWbp6Yq7DzgaAggggEChQCn6p1jPwX5ITyDVni5P6egDysmTJ8u4ceM2MTj00END8Hjvvfc2alMbUK5evVp23HHHuprXXntN9txzT3nwwQfl+OOPb3TsxIkTZdKkSQVfiy2gzHNTcGwEEEAAAQQQiFMg1WZWA0p6ujj3FLNCAAEEEEAAgdILpNrT5SkVdUBZjrcDpXIHZZ6bgmMjgAACCCCAQJwCqTaz9HRx7idmhQACCCCAAALlEUi1p8tTK+qAkgeq57n0HBsBBBBAAAEEUhNItZmlp0ttpzFfBBBAAAEEEMhTINWeLk+TqAPK6dOnh2dQ1tTUSIcOHYLDnXfeKcOGDZMlS5ZIz549m7TRr+23336hvvY1ePBgWbt2rSxatCizKZsmMxWFCCCAAAIIIJCzQKp9CT1dzhuDwyOAAAIIIIBAUgKp9nR5IkcdUGqY2KtXL+nSpYtMmDBB1qxZI2PGjJFBgwbJnDlz6lxGjhwps2fPlg0bNtT9t3vuuUdOPfVUueSSS+SYY44JH4wzY8YMmT9/vgwcODCzKZsmMxWFCCCAAAIIIJCzQKp9CT1dzhuDwyOAAAIIIIBAUgKp9nR5IkcdUOqFL126VM4//3xZuHChtGvXLtw9qX+Fb9u2bZ3L8OHDQ0C5cePGTaz0v02dOlVWrFghPXr0EP0AnFNOOcXkyaYxcVGMAAIIIIAAAjkKpNyX0NPluDE4NAIIIIAAAggkJZByT5cXdPQBZV4XnvW4bJqsUtQhgAACCCCAQN4C9CV+Yez8doxEAAEEEEAAgeIK0JcUehJQNrPH2DTF/SbkaAgggAACCCDgF6Avwc4vwEgEEEAAAQQQiEWAno6A0rwX2TRmMgYggAACCCCAQE4C9CV+WOz8doxEAAEEEEAAgeIK0JcQUJp3FJvGTMYABBBAAAEEEMhJgL7ED4ud346RCCCAAAIIIFBcAfoSAkrzjmLTmMkYgAACCCCAAAI5CdCX+GGx89sxEgEEEEAAAQSKK0BfQkBp3lFsGjMZAxBAAAEEEEAgJwH6Ej8sdn47RiKAAAIIIIBAcQXoSwgozTuKTWMmYwACCCCAAAII5CRAX+KHxc5vx0gEEEAAAQQQKK4AfQkBpXlHsWnMZAxAAAEEEEAAgZwE6Ev8sNj57RiJAAIIIIAAAsUVoC8hoDTvqBUrVkjXrl1l8eLFsvPOO5vHMwABBBBAAAEEECiWwKpVq6Rfv36yfPly6dKlS7EOWxXHoaerimXmIhFAAAEEEEhCgJ6OgNK8UZ966qnwiwAvBBBAAAEEEEAgFgH9w2nfvn1jmU4S86CnS2KZmCQCCCCAAAJVJUBP96/lbrVx48aNVbX6xotdv369vPDCC7LDDjtI69atjaPjLq9N7Lk7NJ91wjcf19qj4otvvgL5Hp39i69XYMOGDfLWW29J7969ZYsttvAepirHVXJPpwvKz5X8tjW2+dmyd/O1xRff/AXyPUMl//ylewqS7QAAF49JREFUpyvcOwSU+X4/RX10nnmQ7/Lgi2++Avkenf2Lb74C+R6d/ZuvL0ePU4B9n9+6YJufrR4ZX3zzFcj36OxffPMVqK6jE1BW13pvcrX8MM138fHFN1+BfI/O/sU3X4F8j87+zdeXo8cpwL7Pb12wzc+WgDJfW3zxzV8g3zPw8zdf39iOTkAZ24qUcD58s+eLjS+++Qrke3T2L775CuR7dPZvvr4cPU4B9n1+64JtfrYEaPna4otv/gL5noGfv/n6xnZ0AsrYVqSE81m3bp386Ec/kjFjxsjWW29dwjNXx6nwzXed8cU3X4F8j87+xTdfAY5ejQL8XMlv1bHNz1aPjC+++Qrke3T2L775ClTX0Qkoq2u9uVoEEEAAAQQQQAABBBBAAAEEEEAAAQSiEiCgjGo5mAwCCCCAAAIIIIAAAggggAACCCCAAALVJUBAWV3rzdUigAACCCCAAAIIIIAAAggggAACCCAQlQABZVTLwWQQQAABBBBAAAEEEEAAAQQQQAABBBCoLgECyojXe968eXL99dfLU089Jf/4xz9k5513lmOPPVbGjh0r3bt3DzM/4ogjZMstt5Rf//rXZb+STz75RC677DK59dZb5b333pOvfvWrMmPGDNl3333LPrfGJpCa75VXXimPPfaYLF68ODxMXPfFgQceGKWtTiol36VLl8oNN9wgv//976WmpkY6duwoAwYMkClTpshOO+0UpXFKvvrza8SIEfLMM8/I6tWrw88s3btXXHGF9O3bF98iC4wePTr823HeeefJT37ykyIfvTiHS2n/6hW3atWq4MJ33HHHsJ95IZBVILV9T1+XdWV9dfR1Prcso+jrsij5a+jr/HaekfR1HrXPH0NfV3zTYh2RgLJYkkU+zqWXXhrCkZNOOkm+9a1vSadOnWTFihUye/ZsWbZsmSxfvjy6gPI73/mO/OIXv5Brr71WunTpIldffbX86U9/khdeeCG6kCdF39122y0E0zvssIPce++9UQeUqflqiHPTTTfJ2WefLfvvv7/89a9/lYkTJ8qnn34a9q8GajG9UvN955135MILLwyh75e+9CVZu3atXHfddfLss8+G0HLPPfeMiVdS862Pp/v1kEMOkc0220zOOOOMKAPKFH21kT3//PPDv8e1ry9+8YvSp0+fqPYuk4lXIMV9T1+X736ir8vPl74uP1s9Mn1dvr70dfn70tflb+w9AwGlVy7HcfPnz5chQ4bIJZdcIlOnTi0409y5c+X444+PKqB84403pHPnzuGunVGjRoW56V/XunbtKv/+7/8u06ZNy1HMdugUffUKP/vssxA6/OEPf5Ajjzwy2oAyRd+3335bOnTosMldUn/+859lv/32C3cEn3XWWbZNlmN1ir6Ncbz//vvB/PLLL5fvf//7OYrZDp26b//+/cOd9frHrOOOOy66gDJVX21kf/jDH8p3v/td24aiGgERSXHf09flv3Xp6/Izpq/Lz7apI9PX5WNOX5ePK31dPq7FOCoBZTEUi3wMvcvoxRdflJUrV0qbNm0+9+gN3+L9yiuvhDu/Hn/88fDXLb2TceTIkXLRRReFcKv2pYHhLbfcEu4U23rrrcPbsG+++eYQKOqrua83nNSsWbPC3Wd6zu23377uy/q2zqeffjrchRbLK0Xf+naxB5Sp+9Zab9y4MXz/6Vuw9I8FsbwqyXfbbbeVMWPGhJAyllfKvrfffnvYq/rvwJe//OUoA8pUfWlkY/kOTXMeKe57+rp8+2b6utL50tc1/3ud9fe+xn4Sa99MX1ec36trfenr/inR3P5s7uuN7Vf6unj7KQLKyNZmw4YNstVWW8m//du/yZw5c5qdXcOAUp+hp88p1Oe76XH0Ldb6y78+t1KfD6kvfRu2hpb6/LeDDz44PC9ywYIF4e2AesdYc19vbFIXX3xxGNfweVx6x8kPfvADWb9+/SYBabMXllNBqr6pNLKV4Ftr/cQTT8ihhx4q999/v3z961/PaUfaDpu6r94tov976623wt1o+guwvsW7W7duNoicqlP21TvW99prL/nxj38sp556avjjVGx3UKbsq42s3vGr/162b99eBg0aFPawPrKAFwKfJ5Dqvqevy7dvpq8rnS99XfF/76s1pa/L5/dq9aWvyy+3UF/6unh7NwLKyNbmb3/7W3he4/jx4+Wqq65qdnaf9yE5+pcsfYaePgtSn8Xy5ptvhuPpM4WefPLJEAw09mru642NOeecc0LIqXfu1H/pXZr6Nf2lTu/ULPcrVd9UGtlK8FVr/WAADSf1w4j0bubWrVuXe+uG86fuW/sMNr0Wfa7ur371q/BHklheKfvqH6H0g7P0D1T6ijGgTNlXH/Ogga9+MI7+TNA7q/UO6+eff1622267WLYw84hQINV9T1+Xb99MX1c6X/q64v/eV7t/6evy+b1afenr8sst1Je+LsKG6f9PiYAysrXROxD107qbev5kw+k2DCj1TkUNNvWW8Ndffz0ELbUv/UuMftjHz3/+8/BcSP3QiqFDh4ZP267/VvLmvt5UQLlw4UJ5+eWXN/myvm38P/7jP0LQo3d0lvuVqm8qjWwl+Kr1t7/9bbntttvq7kYu976tPX/qvvpHEv3fqlWrwocS6c8Mves7lg8aSdV3yZIlwXDRokXhQ55iDShT9W3s+1+fUavm+pxovdOMFwJNCaS67zWgpK/Lr2+mr/vnHWJ5/V7S8PuRvq64v/fV+tLX5fN7NX1daX8+6H6mr4unjyOgjGctwkxa+lag0aNHh2dJ6tu6v/KVr4RngTzwwAMyefLk8LbKjh07hrdY3nDDDSEg0B+A22yzTfgrgj6/oW3bts1+vTGyankrULl8U2lkU92/9X0nTZoU7o6677775IQTTojqJ0Ql+NaC6s8hDXj0U0x//etfR+Gcqu/gwYNlhx12CD/Xa1/6XGH973oHvd69Xv8ZxOXCTtW3Ka999tlHevXqJXfddVe5SDlvAgKp7nv6unz7Zvq60vnS1xX/977GfvTS1xXv92r6utL9fKi/l+nr4miqCCjjWIdNZnHMMceED5XxfEjOLrvsEp4/ps8hq33pP8z6wTm1AWX9k+mnNN55553hLeX6jMoJEyZsMpfmvl5brM+S0+da6qfmxf4hOSn6ptLI6jxT9v3P//xPOe+88+TGG28Md/7G+ErZt6Hn8OHDw11/DR8NUU73FH317dw1NTVNsumd7XvvvXc5WevOnaJvU3D6QUS9e/cmoIxiZ8U9iRT3PX1dvn0zfV1pfOnrOpp+r8v6e19TP3Hp64rzezV9XWl+PjTcx/R1cfRSBJRxrMMms5g/f74MGTJE9LkeeidXw5febaTPwtJXw7d467OwNFiZPn16+Lo+g1Lv8NAAoLGAsvbYerelfsDCHXfc0ahIc1/Xf9A6d+4cnnV57rnnhmO8//774Tlo+nZyvTszlleKvik1sqn6alB/2mmnhTC/YVAfy97VeaTq29BQHz+hH8qlPyPmzZsXDXGKvhry6uM96r+++c1vhud76l3f/fr1k3bt2kVhnKJvY3D6AXT6YXT6b9t3v/vdKGyZRLwCKe57+rp8+2b6uvx96ev++c65xl7N/V7X3NcbOyZ93b9UmvNr7uv0dfn/fGi4h+nr4umhCCjjWYtNZlL70GH9NO9hw4aFD5TQO2T0uXhLly6V5cuXNxpQfuMb35CHH3443EGpb/mbOXNmeC6k1tcGlPocFg0yDzrooPB/H3/88XD3pN41pndBNvf1psj0w3V0ftdee20IK6+55prwQTz6gQL6wT8xvVL0ffTRR8MavvTSSyFE0xBaP/1YAx79RTmmV2q+aqt3uBxyyCEFYbp+H3Xv3j0m3vDHiylTpkgqPx/0cRKLFy+WAQMGhGfs6jMo9eeN/uzRZ1Aefvjh+Lbw529DwBg/JKd2jqntX/23bNmyZdK/f//wb7H+m6bff/pIlOeeey48SoUXAs0JpLbv9Xro6/4Z8DTXFzf39ab2Bn1dfr70dfn+3kdfl69vYz8z6OuKl1vQ1zXXsZT36wSU5fX/3LM/9NBDcv3114dPZtUHSevbtzVEGTNmjOgtyPpqeAelflqk3sGov/TrHTN6q32PHj3CJ2nXBpSzZ88Oz6nU4PLDDz8MIZeOOf/888Mxm/t6U5P++OOPQ9B56623hk/t1g/fmTFjRrhLKsZXar661tpwNXzp80PVPLZXSr4a+OqjEBp74dvynw8aROrd4BrmrF27NvzBom/fvuFOVX4+tNw3tUZW55vSz4e5c+eGD8N59dVXw7/F+kcLfZeDPttZA3deCGQVSGnf6zXR1/0zQGuuL27u603tD/q6/Hzp6/L9vY++Ll9f+rp8fenrsnYt5akjoCyPO2dFAAEEEEAAAQQQQAABBBBAAAEEEEAAAREhoGQbIIAAAggggAACCCCAAAIIIIAAAggggEDZBAgoy0bPiRFAAAEEEEAAAQQQQAABBBBAAAEEEECAgJI9gAACCCCAAAIIIIAAAggggAACCCCAAAJlEyCgLBs9J0YAAQQQQAABBBBAAAEEEEAAAQQQQAABAkr2AAIIIIAAAggggAACCCCAAAIIIIAAAgiUTYCAsmz0nLiUAn379pUzzjhDLrjgglKeNpdzrV27Vq677jr5xje+IV/+8pfrzvGPf/xDOnfuLHPnzpVDDz00l3NzUAQQQAABBBBAoJwC9HTl1OfcCCCAAAII5CdAQJmfLUeOROC+++6Tc889V2pqaqRt27aRzMo/jRUrVkjXrl3lnnvukZNPPnmTA02YMEEeffRReeyxx/wnYCQCCCCAAAIIIBChAD1dhIvClBBAAAEEECiSAAFlkSA5TLwCX/va16RPnz7hrsM8Xx9//LG0bt1aNttss4LTrF+/XrbYYouinP7zAsrly5dLt27d5Nlnn5UDDjigKOfjIAgggAACCCCAQAwC9HQxrAJzQAABBBBAIB8BAsp8XDlqJALLli2T7t27y4IFC+Swww6rm9VDDz0kU6dOleeee04233xz2W+//eTHP/5xXaj3+uuvy9ixY+V3v/udaPB40EEHydVXXy0HHnhg3TG6dOkixx13XHhb9U9+8hP561//KqtXr5aZM2fKNddcI4888oiMHj06nOPKK6+U733ve/LRRx/JpEmT5Pbbbw+1GibqXY/f+ta3NhF78skn5fLLL5dFixbJxo0bw1u5J0+eLHvssUe4e7LhS4NJnY++dI56rXkHspEsMdNAAAEEEEAAgSoQoKergkXmEhFAAAEEqlqAgLKql7/yL/7mm2+W8847T/T5jBpE6uuuu+6SYcOGyYknnihnnXWWfPGLX5THH39cDj744BA4au2+++4bgsEpU6bIlltuGcLJ559/Xp5++mnZe++9w3E0ENTAcc8995SLLrpIvvCFL8hRRx0lP/zhD0P4qcGl/ncNF7fbbrsQguo5Fy5cGMLHnj17yrx582TGjBmigemQIUPCcXUuehwNRXXu2267bTjvjjvuKKeffnoYM3To0HCOI488MozRuyVrr09D0Ycfflheeumlyl9grhABBBBAAAEEqkKAnq4qlpmLRAABBBCoYgECyipe/Gq49G9/+9sh8HvxxRfD5Wro+KUvfUn22WcfmT9/fqME119/vVx44YXywgsvhDp9vf/++yFwPP744+XWW2+tCyg/+OCD8GzLdu3a1R1r4sSJ4S7Ju+++W0455ZS6//4///M/IXj87W9/KwMHDqz77/phN/q27cWLF4f/ph9wox+E8+c//zmEng1fn/cWb62dNWuWjBw5Ut577z3ZaqutqmGZuUYEEEAAAQQQqHABejp6ugrf4lweAgggUPUCBJRVvwUqG+CEE04Id0RqOKivV155Jdy5qHdRajDY2EtDRa3TgLL+a/jw4eGt4v/7v/9bF1DqJ0nqh9XUf9UGlBpqtm/fvu5Ll1xyidx0003yt7/9bZP6n/3sZ/Kd73xH9DmVekemhopXXXWVXHzxxY3Or7mAUj/FW6/7tddekx49elT2AnN1CCCAAAIIIFAVAvR09HRVsdG5SAQQQKCKBQgoq3jxq+HS9U5F/dCa2rsl9W5KfT5jw2dS1rcYMGCAtGrVKjx/sv5r/PjxcuONN8rf//73uoDy2GOPDc+cbBhQ6tu89e7K+q9zzjlHbrnllibZV65cGc672267yW233Rbezt3Yq7mAUuet1613YPbu3bsalplrRAABBBBAAIEKF6Cno6er8C3O5SGAAAJVL0BAWfVboLIBvvnNb4a3T+uHzegryx2Uemel1mnAV//V2B2U+sxK/YCchgGlfkiO3kFZ/zVu3Ljw9mt9hmRjL33u5SeffCJbb711i+6g1LeWn3rqqfLGG2/ILrvsUtkLzNUhgAACCCCAQFUI0NPR01XFRuciEUAAgSoWIKCs4sWvhkvXD6P56U9/Wve26tpnUPbq1Ut+85vfNEpQ+wxKfW6lfsCNvvRuSH0GpQaS9Z9BaQkoa+9s1A/b0TCyqZfe4anPoNS6xp5B+eabb8quu+7a5F2W06dPDwHnu+++G+4e5YUAAggggAACCKQuQE9HT5f6Hmb+CCCAAAKfL0BAyQ6paIH//u//lkGDBom+fVrfOq2v2k/xPumkk+TMM88Mn3795JNPij5Psv6neOvbrSdPnlz3Kd7PPfecPPPMM5t8ircloNRz6/OT9BO59fmSGlJq8Kmftv2Xv/yl7u3f+inf+mE6+mE5o0aNCp8A/uyzz0rHjh3l7LPPls8++0w6dOgghxxyiHz/+98P89dj6aeR6+vkk0+WDz/8sMk7NSt6wbk4BBBAAAEEEKhIAXq6ilxWLgoBBBBAAIE6AQJKNkNFC3z88cfhbsOpU6eKPgOy9qUfJDNlypRwl+IWW2whffr0kWuvvVb233//UPL666/L2LFjRZthfdv1V7/6Vbn66qtDiFn76tKlSwg0s77FW8fpfKZNmyZz5swJn/69zTbbiN7NOWLECDnjjDPqjv3EE0/IpZdeKn/84x/DXZT6aeIalh599NGh5v7775cf/OAHsmzZsvDBOsuXLxedjx5/xx13DNeiYSYvBBBAAAEEEECgEgTo6SphFbkGBBBAAAEEmhYgoGR3VLyABo169+MjjzxS8df64IMPhqBTnz+55ZZbVvz1coEIIIAAAgggUD0C9HTVs9ZcKQIIIIBA9QkQUFbfmlfdFa9evVq6d+8u+tbpAw44oKKv/8gjjxT932WXXVbR18nFIYAAAggggED1CdDTVd+ac8UIIIAAAtUjQEBZPWtd1Vd6zz33hLdTDxw4sGId9FPD9a3dY8aMka222qpir5MLQwABBBBAAIHqFaCnq96158oRQAABBCpbgICysteXq0MAAQQQQAABBBBAAAEEEEAAAQQQQCBqAQLKqJeHySGAAAIIIIAAAggggAACCCCAAAIIIFDZAgSUlb2+XB0CCCCAAAIIIIAAAggggAACCCCAAAJRCxBQRr08TA4BBBBAAAEEEEAAAQQQQAABBBBAAIHKFiCgrOz15eoQQAABBBBAAAEEEEAAAQQQQAABBBCIWoCAMurlYXIIIIAAAggggAACCCCAAAIIIIAAAghUtgABZWWvL1eHAAIIIIAAAggggAACCCCAAAIIIIBA1AIElFEvD5NDAAEEEEAAAQQQQAABBBBAAAEEEECgsgUIKCt7fbk6BBBAAAEEEEAAAQQQQAABBBBAAAEEohYgoIx6eZgcAggggAACCCCAAAIIIIAAAggggAAClS1AQFnZ68vVIYAAAggggAACCCCAAAIIIIAAAgggELUAAWXUy8PkEEAAAQQQQAABBBBAAAEEEEAAAQQQqGwBAsrKXl+uDgEEEEAAAQQQQAABBBBAAAEEEEAAgagFCCijXh4mhwACCCCAAAIIIIAAAggggAACCCCAQGULEFBW9vpydQgggAACCCCAAAIIIIAAAggggAACCEQtQEAZ9fIwOQQQQAABBBBAAAEEEEAAAQQQQAABBCpbgICysteXq0MAAQQQQAABBBBAAAEEEEAAAQQQQCBqgf8HLdZH7TRP+H4AAAAASUVORK5CYII=\" width=\"1199.999973990701\">"
      ],
      "text/plain": [
       "<IPython.core.display.HTML object>"
      ]
     },
     "metadata": {},
     "output_type": "display_data"
    }
   ],
   "source": [
    "def make_xlabel(ix, correct):\n",
    "    if ix==correct:\n",
    "        return \"Class {}\\n(correct)\".format(ix)\n",
    "    return \"Class {}\".format(ix)\n",
    "\n",
    "figure = plt.figure(figsize=(12,4))\n",
    "plt.subplot(1, 2, 1)\n",
    "center_ixs_clean = []\n",
    "for ix, block in enumerate(class_distrs_clean.T):\n",
    "    x_ixs= np.arange(len(block)) + ix*(len(block)+2)\n",
    "    center_ixs_clean.append(np.mean(x_ixs))\n",
    "    color = '#555555'\n",
    "    if ix == nettack.label_u:\n",
    "        color = 'darkgreen'\n",
    "    plt.bar(x_ixs, block, color=color)\n",
    "\n",
    "ax=plt.gca()\n",
    "plt.ylim((-.05, 1.05))\n",
    "plt.ylabel(\"Predicted probability\")\n",
    "ax.set_xticks(center_ixs_clean)\n",
    "ax.set_xticklabels([make_xlabel(k, nettack.label_u) for k in range(_K)])\n",
    "ax.set_title(\"Predicted class probabilities for node {} on clean data\\n({} re-trainings)\".format(nettack.u, retrain_iters))\n",
    "\n",
    "fig = plt.subplot(1, 2, 2)\n",
    "center_ixs_retrain = []\n",
    "for ix, block in enumerate(class_distrs_retrain.T):\n",
    "    x_ixs= np.arange(len(block)) + ix*(len(block)+2)\n",
    "    center_ixs_retrain.append(np.mean(x_ixs))\n",
    "    color = '#555555'\n",
    "    if ix == nettack.label_u:\n",
    "        color = 'darkgreen'\n",
    "    plt.bar(x_ixs, block, color=color)\n",
    "\n",
    "\n",
    "ax=plt.gca()\n",
    "plt.ylim((-.05, 1.05))\n",
    "ax.set_xticks(center_ixs_retrain)\n",
    "ax.set_xticklabels([make_xlabel(k, nettack.label_u) for k in range(_K)])\n",
    "ax.set_title(\"Predicted class probabilities for node {} after {} perturbations\\n({} re-trainings)\".format(nettack.u, n_perturbations, retrain_iters))\n",
    "plt.tight_layout()\n",
    "plt.show()"
   ]
  }
 ],
 "metadata": {
  "kernelspec": {
   "display_name": "Python 3",
   "language": "python",
   "name": "python3"
  },
  "language_info": {
   "codemirror_mode": {
    "name": "ipython",
    "version": 3
   },
   "file_extension": ".py",
   "mimetype": "text/x-python",
   "name": "python",
   "nbconvert_exporter": "python",
   "pygments_lexer": "ipython3",
   "version": "3.7.0"
  }
 },
 "nbformat": 4,
 "nbformat_minor": 2
}
