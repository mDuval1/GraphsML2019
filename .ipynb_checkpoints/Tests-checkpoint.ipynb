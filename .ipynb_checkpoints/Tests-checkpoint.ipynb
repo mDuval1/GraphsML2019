{
 "cells": [
  {
   "cell_type": "code",
   "execution_count": 21,
   "metadata": {},
   "outputs": [
    {
     "name": "stdout",
     "output_type": "stream",
     "text": [
      "The autoreload extension is already loaded. To reload it, use:\n",
      "  %reload_ext autoreload\n"
     ]
    }
   ],
   "source": [
    "%load_ext autoreload\n",
    "%autoreload 2\n",
    "%matplotlib notebook"
   ]
  },
  {
   "cell_type": "code",
   "execution_count": 22,
   "metadata": {},
   "outputs": [],
   "source": [
    "import numpy as np\n",
    "import pandas as pd\n",
    "import matplotlib.pyplot as plt\n",
    "import networkx as nx\n",
    "import tqdm"
   ]
  },
  {
   "cell_type": "code",
   "execution_count": 23,
   "metadata": {},
   "outputs": [],
   "source": [
    "import torch\n",
    "import torch.nn as nn"
   ]
  },
  {
   "cell_type": "code",
   "execution_count": 24,
   "metadata": {},
   "outputs": [],
   "source": [
    "seed = 42\n",
    "torch.manual_seed(seed)\n",
    "torch.backends.cudnn.deterministic = True\n",
    "torch.backends.cudnn.benchmark = False\n",
    "np.random.seed(seed)"
   ]
  },
  {
   "cell_type": "code",
   "execution_count": 25,
   "metadata": {},
   "outputs": [],
   "source": [
    "from src.nettack.GCN import *\n",
    "from src.nettack.utils import *\n",
    "from src.nettack.nettack import *"
   ]
  },
  {
   "cell_type": "markdown",
   "metadata": {},
   "source": [
    "# Tests"
   ]
  },
  {
   "cell_type": "markdown",
   "metadata": {
    "heading_collapsed": true
   },
   "source": [
    "## Layers"
   ]
  },
  {
   "cell_type": "code",
   "execution_count": 26,
   "metadata": {
    "hidden": true
   },
   "outputs": [],
   "source": [
    "layer = GraphConvolution(in_features=8, out_features=5)"
   ]
  },
  {
   "cell_type": "code",
   "execution_count": 27,
   "metadata": {
    "hidden": true,
    "scrolled": true
   },
   "outputs": [],
   "source": [
    "N = 30\n",
    "Adjacency_matrix = torch.tensor((np.random.rand(N, N) > 0.7).astype(np.float32)).to_sparse()\n",
    "input = torch.rand(N, 8).to_sparse()"
   ]
  },
  {
   "cell_type": "code",
   "execution_count": 28,
   "metadata": {
    "hidden": true
   },
   "outputs": [
    {
     "data": {
      "text/plain": [
       "torch.Size([30, 5])"
      ]
     },
     "execution_count": 28,
     "metadata": {},
     "output_type": "execute_result"
    }
   ],
   "source": [
    "layer(input, Adjacency_matrix).shape"
   ]
  },
  {
   "cell_type": "markdown",
   "metadata": {
    "heading_collapsed": true
   },
   "source": [
    "## GCN"
   ]
  },
  {
   "cell_type": "code",
   "execution_count": 29,
   "metadata": {
    "hidden": true
   },
   "outputs": [],
   "source": [
    "N = 30\n",
    "C = 5\n",
    "D = 20\n",
    "Adjacency_matrix = torch.tensor((np.random.rand(N, N) > 0.7).astype(np.float32)).to_sparse()\n",
    "\n",
    "X_observed = torch.rand(N, D)\n",
    "Y_observed = torch.randint(low=0, high=C, size=(N,))\n",
    "\n",
    "H = 10"
   ]
  },
  {
   "cell_type": "code",
   "execution_count": 30,
   "metadata": {
    "hidden": true
   },
   "outputs": [],
   "source": [
    "gcn = GCN(sizes=[H, C],\n",
    "          An=Adjacency_matrix,\n",
    "          X_obs=X_observed,\n",
    "          name='test', with_relu=True, params_dict={})"
   ]
  },
  {
   "cell_type": "code",
   "execution_count": 31,
   "metadata": {
    "hidden": true
   },
   "outputs": [],
   "source": [
    "gcn_model = GCN_Model(gcn, lr=1e-3)"
   ]
  },
  {
   "cell_type": "code",
   "execution_count": 32,
   "metadata": {
    "hidden": true
   },
   "outputs": [],
   "source": [
    "node_ids = torch.tensor([1, 3, 7])\n",
    "node_labels = torch.tensor([2, 0, 3])"
   ]
  },
  {
   "cell_type": "code",
   "execution_count": 33,
   "metadata": {
    "hidden": true
   },
   "outputs": [],
   "source": [
    "train_nodes = [1, 2, 5, 6, 7, 9, 15]\n",
    "val_nodes = [17, 18, 19, 20, 22]"
   ]
  },
  {
   "cell_type": "code",
   "execution_count": 34,
   "metadata": {
    "hidden": true
   },
   "outputs": [
    {
     "data": {
      "application/vnd.jupyter.widget-view+json": {
       "model_id": "b416f9bdea604f1589b62fbf4092ad49",
       "version_major": 2,
       "version_minor": 0
      },
      "text/plain": [
       "HBox(children=(IntProgress(value=1, bar_style='info', max=1), HTML(value='')))"
      ]
     },
     "metadata": {},
     "output_type": "display_data"
    },
    {
     "name": "stdout",
     "output_type": "stream",
     "text": [
      "Iteration 0 : \n",
      "Training loss : 17.686004638671875\n",
      "Validation loss : 17.04974937438965\n",
      "Training metric : 0.43386243386243384\n",
      "Validation metric : 0.0\n",
      "Iteration 1 : \n",
      "Training loss : 16.561416625976562\n",
      "Validation loss : 15.877942085266113\n",
      "Training metric : 0.43386243386243384\n",
      "Validation metric : 0.0\n",
      "Iteration 2 : \n",
      "Training loss : 15.435795783996582\n",
      "Validation loss : 14.719581604003906\n",
      "Training metric : 0.43386243386243384\n",
      "Validation metric : 0.0\n",
      "Iteration 3 : \n",
      "Training loss : 14.317334175109863\n",
      "Validation loss : 13.57121467590332\n",
      "Training metric : 0.43386243386243384\n",
      "Validation metric : 0.0\n",
      "Iteration 4 : \n",
      "Training loss : 13.211156845092773\n",
      "Validation loss : 12.431061744689941\n",
      "Training metric : 0.43386243386243384\n",
      "Validation metric : 0.0\n",
      "Iteration 5 : \n",
      "Training loss : 12.116142272949219\n",
      "Validation loss : 11.31371021270752\n",
      "Training metric : 0.43386243386243384\n",
      "Validation metric : 0.0\n",
      "Iteration 6 : \n",
      "Training loss : 11.031316757202148\n",
      "Validation loss : 10.21229076385498\n",
      "Training metric : 0.43386243386243384\n",
      "Validation metric : 0.0\n",
      "Iteration 7 : \n",
      "Training loss : 9.966484069824219\n",
      "Validation loss : 9.135068893432617\n",
      "Training metric : 0.43386243386243384\n",
      "Validation metric : 0.0\n",
      "Iteration 8 : \n",
      "Training loss : 8.925085067749023\n",
      "Validation loss : 8.093438148498535\n",
      "Training metric : 0.43386243386243384\n",
      "Validation metric : 0.0\n",
      "Iteration 9 : \n",
      "Training loss : 7.911620140075684\n",
      "Validation loss : 7.07401180267334\n",
      "Training metric : 0.43386243386243384\n",
      "Validation metric : 0.0\n",
      "Iteration 10 : \n",
      "Training loss : 6.911800861358643\n",
      "Validation loss : 6.098413467407227\n",
      "Training metric : 0.43386243386243384\n",
      "Validation metric : 0.0\n",
      "Iteration 11 : \n",
      "Training loss : 5.9435601234436035\n",
      "Validation loss : 5.192446708679199\n",
      "Training metric : 0.43386243386243384\n",
      "Validation metric : 0.0\n",
      "Iteration 12 : \n",
      "Training loss : 5.0088629722595215\n",
      "Validation loss : 4.41172456741333\n",
      "Training metric : 0.43386243386243384\n",
      "Validation metric : 0.32500000000000007\n",
      "New best performance : 0.325\n",
      "Iteration 13 : \n",
      "Training loss : 4.164031505584717\n",
      "Validation loss : 3.798078775405884\n",
      "Training metric : 0.7523809523809524\n",
      "Validation metric : 0.6000000000000001\n",
      "New best performance : 0.600\n",
      "Iteration 14 : \n",
      "Training loss : 3.469937562942505\n",
      "Validation loss : 3.3770084381103516\n",
      "Training metric : 0.7523809523809524\n",
      "Validation metric : 0.5666666666666668\n",
      "Iteration 15 : \n",
      "Training loss : 2.9957313537597656\n",
      "Validation loss : 3.1413888931274414\n",
      "Training metric : 1.2976190476190477\n",
      "Validation metric : 0.8142857142857143\n",
      "New best performance : 0.814\n",
      "Iteration 16 : \n",
      "Training loss : 2.789658784866333\n",
      "Validation loss : 3.029423236846924\n",
      "Training metric : 0.6285714285714286\n",
      "Validation metric : 0.8142857142857143\n",
      "Iteration 17 : \n",
      "Training loss : 2.815887689590454\n",
      "Validation loss : 2.981050729751587\n",
      "Training metric : 0.6285714285714286\n",
      "Validation metric : 0.8142857142857143\n",
      "Iteration 18 : \n",
      "Training loss : 2.9464290142059326\n",
      "Validation loss : 2.950087070465088\n",
      "Training metric : 0.6285714285714286\n",
      "Validation metric : 0.85\n",
      "New best performance : 0.850\n",
      "Iteration 19 : \n",
      "Training loss : 3.0842409133911133\n",
      "Validation loss : 2.9220540523529053\n",
      "Training metric : 0.6285714285714286\n",
      "Validation metric : 0.85\n",
      "Iteration 20 : \n",
      "Training loss : 3.1919450759887695\n",
      "Validation loss : 2.886596441268921\n",
      "Training metric : 0.6285714285714286\n",
      "Validation metric : 0.85\n",
      "Iteration 21 : \n",
      "Training loss : 3.2590386867523193\n",
      "Validation loss : 2.841035842895508\n",
      "Training metric : 0.6285714285714286\n",
      "Validation metric : 0.85\n",
      "Iteration 22 : \n",
      "Training loss : 3.285048246383667\n",
      "Validation loss : 2.784950017929077\n",
      "Training metric : 0.6285714285714286\n",
      "Validation metric : 0.85\n",
      "Iteration 23 : \n",
      "Training loss : 3.271641731262207\n",
      "Validation loss : 2.7277352809906006\n",
      "Training metric : 0.6285714285714286\n",
      "Validation metric : 0.85\n",
      "Iteration 24 : \n",
      "Training loss : 3.2286629676818848\n",
      "Validation loss : 2.665618658065796\n",
      "Training metric : 0.6285714285714286\n",
      "Validation metric : 0.85\n",
      "Iteration 25 : \n",
      "Training loss : 3.155691146850586\n",
      "Validation loss : 2.597017526626587\n",
      "Training metric : 0.6285714285714286\n",
      "Validation metric : 0.85\n",
      "Iteration 26 : \n",
      "Training loss : 3.0553627014160156\n",
      "Validation loss : 2.524482488632202\n",
      "Training metric : 0.6285714285714286\n",
      "Validation metric : 0.85\n",
      "Iteration 27 : \n",
      "Training loss : 2.9319405555725098\n",
      "Validation loss : 2.4521474838256836\n",
      "Training metric : 0.6285714285714286\n",
      "Validation metric : 0.85\n",
      "Iteration 28 : \n",
      "Training loss : 2.790027379989624\n",
      "Validation loss : 2.3790838718414307\n",
      "Training metric : 0.6285714285714286\n",
      "Validation metric : 0.85\n",
      "Iteration 29 : \n",
      "Training loss : 2.6346004009246826\n",
      "Validation loss : 2.307863473892212\n",
      "Training metric : 0.6285714285714286\n",
      "Validation metric : 0.8142857142857143\n",
      "Iteration 30 : \n",
      "Training loss : 2.4711639881134033\n",
      "Validation loss : 2.2412643432617188\n",
      "Training metric : 0.6285714285714286\n",
      "Validation metric : 0.8142857142857143\n",
      "Iteration 31 : \n",
      "Training loss : 2.3069729804992676\n",
      "Validation loss : 2.1823885440826416\n",
      "Training metric : 0.6285714285714286\n",
      "Validation metric : 0.8142857142857143\n",
      "Iteration 32 : \n",
      "Training loss : 2.1520144939422607\n",
      "Validation loss : 2.134242534637451\n",
      "Training metric : 0.6285714285714286\n",
      "Validation metric : 0.8142857142857143\n",
      "Iteration 33 : \n",
      "Training loss : 2.015533685684204\n",
      "Validation loss : 2.099534273147583\n",
      "Training metric : 0.6285714285714286\n",
      "Validation metric : 0.8142857142857143\n",
      "Iteration 34 : \n",
      "Training loss : 1.9082039594650269\n",
      "Validation loss : 2.079904794692993\n",
      "Training metric : 1.0158730158730158\n",
      "Validation metric : 0.8142857142857143\n",
      "Iteration 35 : \n",
      "Training loss : 1.8371608257293701\n",
      "Validation loss : 2.0776941776275635\n",
      "Training metric : 1.0158730158730158\n",
      "Validation metric : 0.8142857142857143\n",
      "Iteration 36 : \n",
      "Training loss : 1.802155613899231\n",
      "Validation loss : 2.087266445159912\n",
      "Training metric : 1.0158730158730158\n",
      "Validation metric : 0.8142857142857143\n",
      "Iteration 37 : \n",
      "Training loss : 1.7955048084259033\n",
      "Validation loss : 2.10201358795166\n",
      "Training metric : 0.7523809523809524\n",
      "Validation metric : 0.8142857142857143\n",
      "Iteration 38 : \n",
      "Training loss : 1.8048635721206665\n",
      "Validation loss : 2.1157379150390625\n",
      "Training metric : 0.7523809523809524\n",
      "Validation metric : 0.6000000000000001\n",
      "Iteration 39 : \n",
      "Training loss : 1.8180410861968994\n",
      "Validation loss : 2.1227660179138184\n",
      "Training metric : 0.7523809523809524\n",
      "Validation metric : 0.6000000000000001\n",
      "Iteration 40 : \n",
      "Training loss : 1.8255066871643066\n",
      "Validation loss : 2.117950439453125\n",
      "Training metric : 0.7523809523809524\n",
      "Validation metric : 0.6000000000000001\n",
      "Iteration 41 : \n",
      "Training loss : 1.8205446004867554\n",
      "Validation loss : 2.099910020828247\n",
      "Training metric : 0.7523809523809524\n",
      "Validation metric : 0.6000000000000001\n",
      "Iteration 42 : \n",
      "Training loss : 1.8010646104812622\n",
      "Validation loss : 2.0683560371398926\n",
      "Training metric : 0.7523809523809524\n",
      "Validation metric : 0.6000000000000001\n",
      "Iteration 43 : \n",
      "Training loss : 1.766257405281067\n",
      "Validation loss : 2.025540590286255\n",
      "Training metric : 0.7523809523809524\n",
      "Validation metric : 0.6000000000000001\n",
      "Iteration 44 : \n",
      "Training loss : 1.719372272491455\n",
      "Validation loss : 1.9749764204025269\n",
      "Training metric : 0.7523809523809524\n",
      "Validation metric : 0.6000000000000001\n",
      "Iteration 45 : \n",
      "Training loss : 1.6650550365447998\n",
      "Validation loss : 1.9206299781799316\n",
      "Training metric : 0.7523809523809524\n",
      "Validation metric : 0.8142857142857143\n",
      "Iteration 46 : \n",
      "Training loss : 1.6079105138778687\n",
      "Validation loss : 1.8675081729888916\n",
      "Training metric : 1.0158730158730158\n",
      "Validation metric : 0.8142857142857143\n",
      "Iteration 47 : \n",
      "Training loss : 1.554542064666748\n",
      "Validation loss : 1.8214417695999146\n",
      "Training metric : 1.0158730158730158\n",
      "Validation metric : 0.8142857142857143\n",
      "Iteration 48 : \n",
      "Training loss : 1.50993812084198\n",
      "Validation loss : 1.781670331954956\n",
      "Training metric : 1.0158730158730158\n",
      "Validation metric : 0.8142857142857143\n",
      "\n",
      "converged after 18 iterations\n"
     ]
    }
   ],
   "source": [
    "gcn_model.train(split_train=train_nodes, split_val=val_nodes, Z_obs=Y_observed)"
   ]
  },
  {
   "cell_type": "markdown",
   "metadata": {
    "heading_collapsed": true
   },
   "source": [
    "## Random"
   ]
  },
  {
   "cell_type": "code",
   "execution_count": 36,
   "metadata": {
    "hidden": true
   },
   "outputs": [],
   "source": [
    "node_labels = pd.read_csv('datasets/citeseer/citeseer.node_labels', header=None, names=['id', 'label'])"
   ]
  },
  {
   "cell_type": "code",
   "execution_count": 37,
   "metadata": {
    "hidden": true
   },
   "outputs": [],
   "source": [
    "edges = pd.read_csv('datasets/citeseer/citeseer.edges', header=None, names=['e1', 'e2', 'weight'])"
   ]
  },
  {
   "cell_type": "code",
   "execution_count": 38,
   "metadata": {
    "hidden": true
   },
   "outputs": [],
   "source": [
    "G = nx.Graph()\n",
    "for _, row in node_labels.iterrows():\n",
    "    G.add_node(row.id, label=row.label)\n",
    "G.add_edges_from(edges.loc[:, ['e1', 'e2']])"
   ]
  },
  {
   "cell_type": "markdown",
   "metadata": {},
   "source": [
    "## Nettack"
   ]
  },
  {
   "cell_type": "markdown",
   "metadata": {},
   "source": [
    "### Data preprocessing"
   ]
  },
  {
   "cell_type": "code",
   "execution_count": 39,
   "metadata": {},
   "outputs": [],
   "source": [
    "_A_obs, _X_obs, _z_obs = load_npz('src/data/citeseer.npz')"
   ]
  },
  {
   "cell_type": "code",
   "execution_count": 40,
   "metadata": {},
   "outputs": [
    {
     "data": {
      "text/plain": [
       "<3312x3312 sparse matrix of type '<class 'numpy.float32'>'\n",
       "\twith 4715 stored elements in Compressed Sparse Row format>"
      ]
     },
     "execution_count": 40,
     "metadata": {},
     "output_type": "execute_result"
    }
   ],
   "source": [
    "# Adjacency matrix\n",
    "_A_obs"
   ]
  },
  {
   "cell_type": "code",
   "execution_count": 41,
   "metadata": {},
   "outputs": [
    {
     "data": {
      "text/plain": [
       "<3312x3703 sparse matrix of type '<class 'numpy.int64'>'\n",
       "\twith 105165 stored elements in Compressed Sparse Row format>"
      ]
     },
     "execution_count": 41,
     "metadata": {},
     "output_type": "execute_result"
    }
   ],
   "source": [
    "# Feature matrix\n",
    "_X_obs"
   ]
  },
  {
   "cell_type": "code",
   "execution_count": 42,
   "metadata": {},
   "outputs": [
    {
     "data": {
      "text/plain": [
       "2    701\n",
       "4    668\n",
       "1    596\n",
       "5    590\n",
       "3    508\n",
       "0    249\n",
       "dtype: int64"
      ]
     },
     "execution_count": 42,
     "metadata": {},
     "output_type": "execute_result"
    }
   ],
   "source": [
    "# Labels\n",
    "_z_obs\n",
    "pd.value_counts(_z_obs)"
   ]
  },
  {
   "cell_type": "code",
   "execution_count": 43,
   "metadata": {},
   "outputs": [],
   "source": [
    "# Normalizing Adjacency matrix\n",
    "_A_obs = _A_obs + _A_obs.T\n",
    "_A_obs[_A_obs > 1] = 1"
   ]
  },
  {
   "cell_type": "code",
   "execution_count": 44,
   "metadata": {},
   "outputs": [
    {
     "name": "stdout",
     "output_type": "stream",
     "text": [
      "Selecting 1 largest connected components\n"
     ]
    }
   ],
   "source": [
    "# For the algorithm to work, we have to consider a connected graph.\n",
    "lcc = largest_connected_components(_A_obs)"
   ]
  },
  {
   "cell_type": "code",
   "execution_count": 45,
   "metadata": {},
   "outputs": [
    {
     "name": "stdout",
     "output_type": "stream",
     "text": [
      "Largest connected component has 2110 nodes\n"
     ]
    }
   ],
   "source": [
    "print(f'Largest connected component has {len(lcc)} nodes')\n",
    "# keeping the largest connected component of the graph\n",
    "_A_obs = _A_obs[lcc][:,lcc]\n",
    "_X_obs = _X_obs[lcc].astype('float32')\n",
    "_z_obs = _z_obs[lcc]"
   ]
  },
  {
   "cell_type": "code",
   "execution_count": 46,
   "metadata": {},
   "outputs": [],
   "source": [
    "assert np.abs(_A_obs - _A_obs.T).sum() == 0, \"Input graph is not symmetric\"\n",
    "assert _A_obs.max() == 1 and len(np.unique(_A_obs[_A_obs.nonzero()].A1)) == 1, \"Graph must be unweighted\"\n",
    "assert _A_obs.sum(0).A1.min() > 0, \"Graph contains singleton nodes\""
   ]
  },
  {
   "cell_type": "code",
   "execution_count": 47,
   "metadata": {},
   "outputs": [],
   "source": [
    "_N = _A_obs.shape[0]\n",
    "_K = _z_obs.max()+1\n",
    "\n",
    "# In our pytorch implementation, labels are not one hot encoded\n",
    "# _Z_obs = np.eye(_K)[_z_obs]\n",
    "_Z_obs = _z_obs\n",
    "# Normalizing adjacency matrix\n",
    "_An = preprocess_graph(_A_obs)\n",
    "sizes = [16, _K]\n",
    "degrees = _A_obs.sum(0).A1\n",
    "\n",
    "\n",
    "np.random.seed(seed)"
   ]
  },
  {
   "cell_type": "code",
   "execution_count": 48,
   "metadata": {},
   "outputs": [],
   "source": [
    "unlabeled_share = 0.8\n",
    "val_share = 0.1\n",
    "train_share = 1 - unlabeled_share - val_share\n",
    "splits = train_val_test_split_tabular(np.arange(_N), train_size=train_share,\n",
    "                                      val_size=val_share, test_size=unlabeled_share,\n",
    "                                      stratify=_z_obs)\n",
    "split_train, split_val, split_unlabeled = splits"
   ]
  },
  {
   "cell_type": "code",
   "execution_count": 49,
   "metadata": {},
   "outputs": [
    {
     "name": "stdout",
     "output_type": "stream",
     "text": [
      "Number of training node : 210\n",
      "Number of validation nodes : 211\n",
      "Number of unlabeled (unknown) nodes : 1688\n"
     ]
    }
   ],
   "source": [
    "print(f'Number of training node : {len(split_train)}')\n",
    "print(f'Number of validation nodes : {len(split_val)}')\n",
    "print(f'Number of unlabeled (unknown) nodes : {len(split_unlabeled)}')"
   ]
  },
  {
   "cell_type": "markdown",
   "metadata": {},
   "source": [
    "### Choosing the node to attack"
   ]
  },
  {
   "cell_type": "code",
   "execution_count": 50,
   "metadata": {},
   "outputs": [],
   "source": [
    "u = 0 # node to attack\n",
    "assert u in split_unlabeled"
   ]
  },
  {
   "cell_type": "markdown",
   "metadata": {},
   "source": [
    "### Train surrogate model"
   ]
  },
  {
   "cell_type": "markdown",
   "metadata": {},
   "source": [
    "Initialization of Nettack : train on a simple model (with no ReLU) the weights of the GCN."
   ]
  },
  {
   "cell_type": "code",
   "execution_count": 51,
   "metadata": {},
   "outputs": [],
   "source": [
    "def sparse_numpy2sparse_torch(x):\n",
    "    x = x.tocoo()\n",
    "    values = x.data\n",
    "    indices = np.vstack((x.row, x.col)).astype(float)\n",
    "    i = torch.LongTensor(indices)\n",
    "    v = torch.FloatTensor(values)\n",
    "    shape = x.shape\n",
    "    return torch.sparse.FloatTensor(i, v, torch.Size(shape))"
   ]
  },
  {
   "cell_type": "code",
   "execution_count": 52,
   "metadata": {},
   "outputs": [],
   "source": [
    "An = sparse_numpy2sparse_torch(_An)\n",
    "X_obs = sparse_numpy2sparse_torch(_X_obs)"
   ]
  },
  {
   "cell_type": "code",
   "execution_count": 53,
   "metadata": {},
   "outputs": [],
   "source": [
    "surrogate_nn = GCN(sizes, An, X_obs, with_relu=False, name=\"surrogate\", gpu_id=None)"
   ]
  },
  {
   "cell_type": "code",
   "execution_count": 54,
   "metadata": {},
   "outputs": [],
   "source": [
    "surrogate_model = GCN_Model(surrogate_nn, lr=1e-2)"
   ]
  },
  {
   "cell_type": "code",
   "execution_count": 55,
   "metadata": {},
   "outputs": [],
   "source": [
    "split_train = np.array(split_train).astype(np.int64)\n",
    "split_val = np.array(split_val).astype(np.int64)"
   ]
  },
  {
   "cell_type": "code",
   "execution_count": 56,
   "metadata": {
    "scrolled": true
   },
   "outputs": [
    {
     "name": "stderr",
     "output_type": "stream",
     "text": [
      "/home/raphaelg/anaconda3/lib/python3.7/site-packages/sklearn/metrics/classification.py:1437: UndefinedMetricWarning: F-score is ill-defined and being set to 0.0 in labels with no predicted samples.\n",
      "  'precision', 'predicted', average, warn_for)\n"
     ]
    },
    {
     "name": "stdout",
     "output_type": "stream",
     "text": [
      "converged after 15 iterations\n"
     ]
    }
   ],
   "source": [
    "surrogate_model.train(split_train, split_val, torch.tensor(_Z_obs.astype(np.int64)), print_info=False)"
   ]
  },
  {
   "cell_type": "code",
   "execution_count": 57,
   "metadata": {},
   "outputs": [
    {
     "data": {
      "text/plain": [
       "0.6255924170616114"
      ]
     },
     "execution_count": 57,
     "metadata": {},
     "output_type": "execute_result"
    }
   ],
   "source": [
    "preds = surrogate_model.predictions.detach().cpu().numpy().argmax(axis=1)\n",
    "truth = _Z_obs[split_val]\n",
    "(truth == preds).mean()"
   ]
  },
  {
   "cell_type": "code",
   "execution_count": 58,
   "metadata": {},
   "outputs": [],
   "source": [
    "W1 = surrogate_model.gcn.gc1.weight\n",
    "W2 = surrogate_model.gcn.gc2.weight"
   ]
  },
  {
   "cell_type": "markdown",
   "metadata": {},
   "source": [
    "### Setup attack"
   ]
  },
  {
   "cell_type": "code",
   "execution_count": 60,
   "metadata": {
    "scrolled": true
   },
   "outputs": [],
   "source": [
    "nettack = Nettack(_A_obs, _X_obs, _z_obs, W1, W2, u, verbose=True)"
   ]
  },
  {
   "cell_type": "code",
   "execution_count": 61,
   "metadata": {},
   "outputs": [],
   "source": [
    "direct_attack = True\n",
    "n_influencers = 1 if direct_attack else 5\n",
    "n_perturbations = int(degrees[u]) # How many perturbations to perform. Default: Degree of the node\n",
    "perturb_features = True\n",
    "perturb_structure = False"
   ]
  },
  {
   "cell_type": "markdown",
   "metadata": {},
   "source": [
    "### Poison the data"
   ]
  },
  {
   "cell_type": "code",
   "execution_count": 62,
   "metadata": {},
   "outputs": [],
   "source": [
    "nettack.reset()"
   ]
  },
  {
   "cell_type": "code",
   "execution_count": 63,
   "metadata": {},
   "outputs": [
    {
     "name": "stdout",
     "output_type": "stream",
     "text": [
      "##### Starting attack #####\n",
      "##### Attack only using feature perturbations #####\n",
      "##### Attacking the node directly #####\n",
      "##### Performing 12 perturbations #####\n",
      "##### ...1/12 perturbations ... #####\n",
      "##### ...2/12 perturbations ... #####\n",
      "##### ...3/12 perturbations ... #####\n",
      "##### ...4/12 perturbations ... #####\n",
      "##### ...5/12 perturbations ... #####\n",
      "##### ...6/12 perturbations ... #####\n",
      "##### ...7/12 perturbations ... #####\n",
      "##### ...8/12 perturbations ... #####\n",
      "##### ...9/12 perturbations ... #####\n",
      "##### ...10/12 perturbations ... #####\n",
      "##### ...11/12 perturbations ... #####\n",
      "##### ...12/12 perturbations ... #####\n"
     ]
    }
   ],
   "source": [
    "nettack.attack_surrogate(n_perturbations,\n",
    "                         perturb_structure=perturb_structure,\n",
    "                         perturb_features=perturb_features,\n",
    "                         direct=direct_attack,\n",
    "                         n_influencers=n_influencers)"
   ]
  },
  {
   "cell_type": "code",
   "execution_count": 64,
   "metadata": {},
   "outputs": [
    {
     "name": "stdout",
     "output_type": "stream",
     "text": [
      "[(), (), (), (), (), (), (), (), (), (), (), ()]\n"
     ]
    }
   ],
   "source": [
    "print(nettack.structure_perturbations)"
   ]
  },
  {
   "cell_type": "code",
   "execution_count": 65,
   "metadata": {},
   "outputs": [
    {
     "name": "stdout",
     "output_type": "stream",
     "text": [
      "[(0, 565), (0, 215), (0, 2752), (0, 729), (0, 2399), (0, 3272), (0, 2191), (0, 3112), (0, 731), (0, 3268), (0, 65), (0, 984)]\n"
     ]
    }
   ],
   "source": [
    "print(nettack.feature_perturbations)"
   ]
  },
  {
   "cell_type": "markdown",
   "metadata": {},
   "source": [
    "### Train GCN without perturbations"
   ]
  },
  {
   "cell_type": "code",
   "execution_count": 66,
   "metadata": {},
   "outputs": [],
   "source": [
    "retrain_iters=5"
   ]
  },
  {
   "cell_type": "code",
   "execution_count": 68,
   "metadata": {},
   "outputs": [
    {
     "name": "stdout",
     "output_type": "stream",
     "text": [
      "... 1/5 \n"
     ]
    },
    {
     "name": "stderr",
     "output_type": "stream",
     "text": [
      "/home/raphaelg/anaconda3/lib/python3.7/site-packages/sklearn/metrics/classification.py:1437: UndefinedMetricWarning: F-score is ill-defined and being set to 0.0 in labels with no predicted samples.\n",
      "  'precision', 'predicted', average, warn_for)\n"
     ]
    },
    {
     "name": "stdout",
     "output_type": "stream",
     "text": [
      "converged after 78 iterations\n",
      "Validation accuracy : 0.687\n",
      "... 2/5 \n",
      "converged after 16 iterations\n",
      "Validation accuracy : 0.659\n",
      "... 3/5 \n",
      "converged after 63 iterations\n",
      "Validation accuracy : 0.673\n",
      "... 4/5 \n",
      "converged after 16 iterations\n",
      "Validation accuracy : 0.678\n",
      "... 5/5 \n",
      "converged after 17 iterations\n",
      "Validation accuracy : 0.659\n"
     ]
    }
   ],
   "source": [
    "classification_margins_clean = []\n",
    "class_distrs_clean = []\n",
    "\n",
    "u_nodes = torch.tensor([nettack.u])\n",
    "u_labels = torch.tensor(_Z_obs.astype(np.int64))[u_nodes]\n",
    "one_hot_encod_u = np.zeros(np.max(_Z_obs)+1)\n",
    "one_hot_encod_u[_Z_obs[nettack.u]] = 1\n",
    "\n",
    "\n",
    "for _ in range(retrain_iters):\n",
    "    print(\"... {}/{} \".format(_+1, retrain_iters))\n",
    "    gcn_before_nn = GCN(sizes, An, X_obs, with_relu=True,\n",
    "                   name=\"gcn_orig\", gpu_id=None)\n",
    "    gcn_before = GCN_Model(gcn_before_nn, lr=1e-2)\n",
    "    gcn_before.train(split_train, split_val, torch.tensor(_Z_obs.astype(np.int64)), print_info=False)\n",
    "    preds = gcn_before.predictions.detach().cpu().numpy().argmax(axis=1)\n",
    "    truth = _Z_obs[split_val]\n",
    "    print(f'Validation accuracy : {(truth == preds).mean():.3f}')\n",
    "    gcn_before._compute_loss_and_backprop(u_nodes, u_labels, False)\n",
    "    probs_before_attack = gcn_before.predictions.detach().cpu().numpy()[0]\n",
    "\n",
    "    class_distrs_clean.append(probs_before_attack)\n",
    "    best_second_class_before = (probs_before_attack - 1000*one_hot_encod_u).argmax()\n",
    "    margin_before = probs_before_attack[_z_obs[nettack.u]] - probs_before_attack[best_second_class_before]\n",
    "    classification_margins_clean.append(margin_before)\n",
    "class_distrs_clean = np.array(class_distrs_clean)"
   ]
  },
  {
   "cell_type": "markdown",
   "metadata": {},
   "source": [
    "### Train GCN with perturbations"
   ]
  },
  {
   "cell_type": "code",
   "execution_count": 69,
   "metadata": {},
   "outputs": [
    {
     "name": "stdout",
     "output_type": "stream",
     "text": [
      "... 1/5 \n",
      "converged after 39 iterations\n",
      "... 2/5 \n",
      "converged after 14 iterations\n",
      "... 3/5 \n",
      "converged after 15 iterations\n",
      "... 4/5 \n",
      "converged after 14 iterations\n",
      "... 5/5 \n",
      "converged after 16 iterations\n"
     ]
    }
   ],
   "source": [
    "classification_margins_corrupted = []\n",
    "class_distrs_retrain = []\n",
    "\n",
    "nettack_adj_torch = sparse_numpy2sparse_torch(nettack.adj_preprocessed)\n",
    "nettack_X_torch = sparse_numpy2sparse_torch(nettack.X_obs.tocsr())\n",
    "\n",
    "for _ in range(retrain_iters):\n",
    "    print(\"... {}/{} \".format(_+1, retrain_iters))\n",
    "    gcn_retrain_nn = GCN(sizes, nettack_adj_torch, nettack_X_torch, with_relu=True,\n",
    "                   name=\"gcn_retrain\", gpu_id=None)\n",
    "    gcn_retrain = GCN_Model(gcn_retrain_nn, lr=1e-2)\n",
    "\n",
    "    gcn_retrain.train(split_train, split_val, torch.tensor(_Z_obs.astype(np.int64)), print_info=False)\n",
    "    gcn_retrain._compute_loss_and_backprop(u_nodes, u_labels, False)\n",
    "    probs_after_attack = gcn_retrain.predictions.detach().cpu().numpy()[0]\n",
    "    class_distrs_retrain.append(probs_after_attack)\n",
    "    best_second_class_after = (probs_after_attack - 1000*one_hot_encod_u).argmax()\n",
    "    margin_after = probs_after_attack[_z_obs[nettack.u]] - probs_after_attack[best_second_class_after]\n",
    "    classification_margins_corrupted.append(margin_after)\n",
    "class_distrs_retrain = np.array(class_distrs_retrain)"
   ]
  },
  {
   "cell_type": "markdown",
   "metadata": {},
   "source": [
    "### Visualize results"
   ]
  },
  {
   "cell_type": "code",
   "execution_count": 70,
   "metadata": {},
   "outputs": [
    {
     "data": {
      "application/javascript": [
       "/* Put everything inside the global mpl namespace */\n",
       "window.mpl = {};\n",
       "\n",
       "\n",
       "mpl.get_websocket_type = function() {\n",
       "    if (typeof(WebSocket) !== 'undefined') {\n",
       "        return WebSocket;\n",
       "    } else if (typeof(MozWebSocket) !== 'undefined') {\n",
       "        return MozWebSocket;\n",
       "    } else {\n",
       "        alert('Your browser does not have WebSocket support. ' +\n",
       "              'Please try Chrome, Safari or Firefox ≥ 6. ' +\n",
       "              'Firefox 4 and 5 are also supported but you ' +\n",
       "              'have to enable WebSockets in about:config.');\n",
       "    };\n",
       "}\n",
       "\n",
       "mpl.figure = function(figure_id, websocket, ondownload, parent_element) {\n",
       "    this.id = figure_id;\n",
       "\n",
       "    this.ws = websocket;\n",
       "\n",
       "    this.supports_binary = (this.ws.binaryType != undefined);\n",
       "\n",
       "    if (!this.supports_binary) {\n",
       "        var warnings = document.getElementById(\"mpl-warnings\");\n",
       "        if (warnings) {\n",
       "            warnings.style.display = 'block';\n",
       "            warnings.textContent = (\n",
       "                \"This browser does not support binary websocket messages. \" +\n",
       "                    \"Performance may be slow.\");\n",
       "        }\n",
       "    }\n",
       "\n",
       "    this.imageObj = new Image();\n",
       "\n",
       "    this.context = undefined;\n",
       "    this.message = undefined;\n",
       "    this.canvas = undefined;\n",
       "    this.rubberband_canvas = undefined;\n",
       "    this.rubberband_context = undefined;\n",
       "    this.format_dropdown = undefined;\n",
       "\n",
       "    this.image_mode = 'full';\n",
       "\n",
       "    this.root = $('<div/>');\n",
       "    this._root_extra_style(this.root)\n",
       "    this.root.attr('style', 'display: inline-block');\n",
       "\n",
       "    $(parent_element).append(this.root);\n",
       "\n",
       "    this._init_header(this);\n",
       "    this._init_canvas(this);\n",
       "    this._init_toolbar(this);\n",
       "\n",
       "    var fig = this;\n",
       "\n",
       "    this.waiting = false;\n",
       "\n",
       "    this.ws.onopen =  function () {\n",
       "            fig.send_message(\"supports_binary\", {value: fig.supports_binary});\n",
       "            fig.send_message(\"send_image_mode\", {});\n",
       "            if (mpl.ratio != 1) {\n",
       "                fig.send_message(\"set_dpi_ratio\", {'dpi_ratio': mpl.ratio});\n",
       "            }\n",
       "            fig.send_message(\"refresh\", {});\n",
       "        }\n",
       "\n",
       "    this.imageObj.onload = function() {\n",
       "            if (fig.image_mode == 'full') {\n",
       "                // Full images could contain transparency (where diff images\n",
       "                // almost always do), so we need to clear the canvas so that\n",
       "                // there is no ghosting.\n",
       "                fig.context.clearRect(0, 0, fig.canvas.width, fig.canvas.height);\n",
       "            }\n",
       "            fig.context.drawImage(fig.imageObj, 0, 0);\n",
       "        };\n",
       "\n",
       "    this.imageObj.onunload = function() {\n",
       "        fig.ws.close();\n",
       "    }\n",
       "\n",
       "    this.ws.onmessage = this._make_on_message_function(this);\n",
       "\n",
       "    this.ondownload = ondownload;\n",
       "}\n",
       "\n",
       "mpl.figure.prototype._init_header = function() {\n",
       "    var titlebar = $(\n",
       "        '<div class=\"ui-dialog-titlebar ui-widget-header ui-corner-all ' +\n",
       "        'ui-helper-clearfix\"/>');\n",
       "    var titletext = $(\n",
       "        '<div class=\"ui-dialog-title\" style=\"width: 100%; ' +\n",
       "        'text-align: center; padding: 3px;\"/>');\n",
       "    titlebar.append(titletext)\n",
       "    this.root.append(titlebar);\n",
       "    this.header = titletext[0];\n",
       "}\n",
       "\n",
       "\n",
       "\n",
       "mpl.figure.prototype._canvas_extra_style = function(canvas_div) {\n",
       "\n",
       "}\n",
       "\n",
       "\n",
       "mpl.figure.prototype._root_extra_style = function(canvas_div) {\n",
       "\n",
       "}\n",
       "\n",
       "mpl.figure.prototype._init_canvas = function() {\n",
       "    var fig = this;\n",
       "\n",
       "    var canvas_div = $('<div/>');\n",
       "\n",
       "    canvas_div.attr('style', 'position: relative; clear: both; outline: 0');\n",
       "\n",
       "    function canvas_keyboard_event(event) {\n",
       "        return fig.key_event(event, event['data']);\n",
       "    }\n",
       "\n",
       "    canvas_div.keydown('key_press', canvas_keyboard_event);\n",
       "    canvas_div.keyup('key_release', canvas_keyboard_event);\n",
       "    this.canvas_div = canvas_div\n",
       "    this._canvas_extra_style(canvas_div)\n",
       "    this.root.append(canvas_div);\n",
       "\n",
       "    var canvas = $('<canvas/>');\n",
       "    canvas.addClass('mpl-canvas');\n",
       "    canvas.attr('style', \"left: 0; top: 0; z-index: 0; outline: 0\")\n",
       "\n",
       "    this.canvas = canvas[0];\n",
       "    this.context = canvas[0].getContext(\"2d\");\n",
       "\n",
       "    var backingStore = this.context.backingStorePixelRatio ||\n",
       "\tthis.context.webkitBackingStorePixelRatio ||\n",
       "\tthis.context.mozBackingStorePixelRatio ||\n",
       "\tthis.context.msBackingStorePixelRatio ||\n",
       "\tthis.context.oBackingStorePixelRatio ||\n",
       "\tthis.context.backingStorePixelRatio || 1;\n",
       "\n",
       "    mpl.ratio = (window.devicePixelRatio || 1) / backingStore;\n",
       "\n",
       "    var rubberband = $('<canvas/>');\n",
       "    rubberband.attr('style', \"position: absolute; left: 0; top: 0; z-index: 1;\")\n",
       "\n",
       "    var pass_mouse_events = true;\n",
       "\n",
       "    canvas_div.resizable({\n",
       "        start: function(event, ui) {\n",
       "            pass_mouse_events = false;\n",
       "        },\n",
       "        resize: function(event, ui) {\n",
       "            fig.request_resize(ui.size.width, ui.size.height);\n",
       "        },\n",
       "        stop: function(event, ui) {\n",
       "            pass_mouse_events = true;\n",
       "            fig.request_resize(ui.size.width, ui.size.height);\n",
       "        },\n",
       "    });\n",
       "\n",
       "    function mouse_event_fn(event) {\n",
       "        if (pass_mouse_events)\n",
       "            return fig.mouse_event(event, event['data']);\n",
       "    }\n",
       "\n",
       "    rubberband.mousedown('button_press', mouse_event_fn);\n",
       "    rubberband.mouseup('button_release', mouse_event_fn);\n",
       "    // Throttle sequential mouse events to 1 every 20ms.\n",
       "    rubberband.mousemove('motion_notify', mouse_event_fn);\n",
       "\n",
       "    rubberband.mouseenter('figure_enter', mouse_event_fn);\n",
       "    rubberband.mouseleave('figure_leave', mouse_event_fn);\n",
       "\n",
       "    canvas_div.on(\"wheel\", function (event) {\n",
       "        event = event.originalEvent;\n",
       "        event['data'] = 'scroll'\n",
       "        if (event.deltaY < 0) {\n",
       "            event.step = 1;\n",
       "        } else {\n",
       "            event.step = -1;\n",
       "        }\n",
       "        mouse_event_fn(event);\n",
       "    });\n",
       "\n",
       "    canvas_div.append(canvas);\n",
       "    canvas_div.append(rubberband);\n",
       "\n",
       "    this.rubberband = rubberband;\n",
       "    this.rubberband_canvas = rubberband[0];\n",
       "    this.rubberband_context = rubberband[0].getContext(\"2d\");\n",
       "    this.rubberband_context.strokeStyle = \"#000000\";\n",
       "\n",
       "    this._resize_canvas = function(width, height) {\n",
       "        // Keep the size of the canvas, canvas container, and rubber band\n",
       "        // canvas in synch.\n",
       "        canvas_div.css('width', width)\n",
       "        canvas_div.css('height', height)\n",
       "\n",
       "        canvas.attr('width', width * mpl.ratio);\n",
       "        canvas.attr('height', height * mpl.ratio);\n",
       "        canvas.attr('style', 'width: ' + width + 'px; height: ' + height + 'px;');\n",
       "\n",
       "        rubberband.attr('width', width);\n",
       "        rubberband.attr('height', height);\n",
       "    }\n",
       "\n",
       "    // Set the figure to an initial 600x600px, this will subsequently be updated\n",
       "    // upon first draw.\n",
       "    this._resize_canvas(600, 600);\n",
       "\n",
       "    // Disable right mouse context menu.\n",
       "    $(this.rubberband_canvas).bind(\"contextmenu\",function(e){\n",
       "        return false;\n",
       "    });\n",
       "\n",
       "    function set_focus () {\n",
       "        canvas.focus();\n",
       "        canvas_div.focus();\n",
       "    }\n",
       "\n",
       "    window.setTimeout(set_focus, 100);\n",
       "}\n",
       "\n",
       "mpl.figure.prototype._init_toolbar = function() {\n",
       "    var fig = this;\n",
       "\n",
       "    var nav_element = $('<div/>');\n",
       "    nav_element.attr('style', 'width: 100%');\n",
       "    this.root.append(nav_element);\n",
       "\n",
       "    // Define a callback function for later on.\n",
       "    function toolbar_event(event) {\n",
       "        return fig.toolbar_button_onclick(event['data']);\n",
       "    }\n",
       "    function toolbar_mouse_event(event) {\n",
       "        return fig.toolbar_button_onmouseover(event['data']);\n",
       "    }\n",
       "\n",
       "    for(var toolbar_ind in mpl.toolbar_items) {\n",
       "        var name = mpl.toolbar_items[toolbar_ind][0];\n",
       "        var tooltip = mpl.toolbar_items[toolbar_ind][1];\n",
       "        var image = mpl.toolbar_items[toolbar_ind][2];\n",
       "        var method_name = mpl.toolbar_items[toolbar_ind][3];\n",
       "\n",
       "        if (!name) {\n",
       "            // put a spacer in here.\n",
       "            continue;\n",
       "        }\n",
       "        var button = $('<button/>');\n",
       "        button.addClass('ui-button ui-widget ui-state-default ui-corner-all ' +\n",
       "                        'ui-button-icon-only');\n",
       "        button.attr('role', 'button');\n",
       "        button.attr('aria-disabled', 'false');\n",
       "        button.click(method_name, toolbar_event);\n",
       "        button.mouseover(tooltip, toolbar_mouse_event);\n",
       "\n",
       "        var icon_img = $('<span/>');\n",
       "        icon_img.addClass('ui-button-icon-primary ui-icon');\n",
       "        icon_img.addClass(image);\n",
       "        icon_img.addClass('ui-corner-all');\n",
       "\n",
       "        var tooltip_span = $('<span/>');\n",
       "        tooltip_span.addClass('ui-button-text');\n",
       "        tooltip_span.html(tooltip);\n",
       "\n",
       "        button.append(icon_img);\n",
       "        button.append(tooltip_span);\n",
       "\n",
       "        nav_element.append(button);\n",
       "    }\n",
       "\n",
       "    var fmt_picker_span = $('<span/>');\n",
       "\n",
       "    var fmt_picker = $('<select/>');\n",
       "    fmt_picker.addClass('mpl-toolbar-option ui-widget ui-widget-content');\n",
       "    fmt_picker_span.append(fmt_picker);\n",
       "    nav_element.append(fmt_picker_span);\n",
       "    this.format_dropdown = fmt_picker[0];\n",
       "\n",
       "    for (var ind in mpl.extensions) {\n",
       "        var fmt = mpl.extensions[ind];\n",
       "        var option = $(\n",
       "            '<option/>', {selected: fmt === mpl.default_extension}).html(fmt);\n",
       "        fmt_picker.append(option);\n",
       "    }\n",
       "\n",
       "    // Add hover states to the ui-buttons\n",
       "    $( \".ui-button\" ).hover(\n",
       "        function() { $(this).addClass(\"ui-state-hover\");},\n",
       "        function() { $(this).removeClass(\"ui-state-hover\");}\n",
       "    );\n",
       "\n",
       "    var status_bar = $('<span class=\"mpl-message\"/>');\n",
       "    nav_element.append(status_bar);\n",
       "    this.message = status_bar[0];\n",
       "}\n",
       "\n",
       "mpl.figure.prototype.request_resize = function(x_pixels, y_pixels) {\n",
       "    // Request matplotlib to resize the figure. Matplotlib will then trigger a resize in the client,\n",
       "    // which will in turn request a refresh of the image.\n",
       "    this.send_message('resize', {'width': x_pixels, 'height': y_pixels});\n",
       "}\n",
       "\n",
       "mpl.figure.prototype.send_message = function(type, properties) {\n",
       "    properties['type'] = type;\n",
       "    properties['figure_id'] = this.id;\n",
       "    this.ws.send(JSON.stringify(properties));\n",
       "}\n",
       "\n",
       "mpl.figure.prototype.send_draw_message = function() {\n",
       "    if (!this.waiting) {\n",
       "        this.waiting = true;\n",
       "        this.ws.send(JSON.stringify({type: \"draw\", figure_id: this.id}));\n",
       "    }\n",
       "}\n",
       "\n",
       "\n",
       "mpl.figure.prototype.handle_save = function(fig, msg) {\n",
       "    var format_dropdown = fig.format_dropdown;\n",
       "    var format = format_dropdown.options[format_dropdown.selectedIndex].value;\n",
       "    fig.ondownload(fig, format);\n",
       "}\n",
       "\n",
       "\n",
       "mpl.figure.prototype.handle_resize = function(fig, msg) {\n",
       "    var size = msg['size'];\n",
       "    if (size[0] != fig.canvas.width || size[1] != fig.canvas.height) {\n",
       "        fig._resize_canvas(size[0], size[1]);\n",
       "        fig.send_message(\"refresh\", {});\n",
       "    };\n",
       "}\n",
       "\n",
       "mpl.figure.prototype.handle_rubberband = function(fig, msg) {\n",
       "    var x0 = msg['x0'] / mpl.ratio;\n",
       "    var y0 = (fig.canvas.height - msg['y0']) / mpl.ratio;\n",
       "    var x1 = msg['x1'] / mpl.ratio;\n",
       "    var y1 = (fig.canvas.height - msg['y1']) / mpl.ratio;\n",
       "    x0 = Math.floor(x0) + 0.5;\n",
       "    y0 = Math.floor(y0) + 0.5;\n",
       "    x1 = Math.floor(x1) + 0.5;\n",
       "    y1 = Math.floor(y1) + 0.5;\n",
       "    var min_x = Math.min(x0, x1);\n",
       "    var min_y = Math.min(y0, y1);\n",
       "    var width = Math.abs(x1 - x0);\n",
       "    var height = Math.abs(y1 - y0);\n",
       "\n",
       "    fig.rubberband_context.clearRect(\n",
       "        0, 0, fig.canvas.width / mpl.ratio, fig.canvas.height / mpl.ratio);\n",
       "\n",
       "    fig.rubberband_context.strokeRect(min_x, min_y, width, height);\n",
       "}\n",
       "\n",
       "mpl.figure.prototype.handle_figure_label = function(fig, msg) {\n",
       "    // Updates the figure title.\n",
       "    fig.header.textContent = msg['label'];\n",
       "}\n",
       "\n",
       "mpl.figure.prototype.handle_cursor = function(fig, msg) {\n",
       "    var cursor = msg['cursor'];\n",
       "    switch(cursor)\n",
       "    {\n",
       "    case 0:\n",
       "        cursor = 'pointer';\n",
       "        break;\n",
       "    case 1:\n",
       "        cursor = 'default';\n",
       "        break;\n",
       "    case 2:\n",
       "        cursor = 'crosshair';\n",
       "        break;\n",
       "    case 3:\n",
       "        cursor = 'move';\n",
       "        break;\n",
       "    }\n",
       "    fig.rubberband_canvas.style.cursor = cursor;\n",
       "}\n",
       "\n",
       "mpl.figure.prototype.handle_message = function(fig, msg) {\n",
       "    fig.message.textContent = msg['message'];\n",
       "}\n",
       "\n",
       "mpl.figure.prototype.handle_draw = function(fig, msg) {\n",
       "    // Request the server to send over a new figure.\n",
       "    fig.send_draw_message();\n",
       "}\n",
       "\n",
       "mpl.figure.prototype.handle_image_mode = function(fig, msg) {\n",
       "    fig.image_mode = msg['mode'];\n",
       "}\n",
       "\n",
       "mpl.figure.prototype.updated_canvas_event = function() {\n",
       "    // Called whenever the canvas gets updated.\n",
       "    this.send_message(\"ack\", {});\n",
       "}\n",
       "\n",
       "// A function to construct a web socket function for onmessage handling.\n",
       "// Called in the figure constructor.\n",
       "mpl.figure.prototype._make_on_message_function = function(fig) {\n",
       "    return function socket_on_message(evt) {\n",
       "        if (evt.data instanceof Blob) {\n",
       "            /* FIXME: We get \"Resource interpreted as Image but\n",
       "             * transferred with MIME type text/plain:\" errors on\n",
       "             * Chrome.  But how to set the MIME type?  It doesn't seem\n",
       "             * to be part of the websocket stream */\n",
       "            evt.data.type = \"image/png\";\n",
       "\n",
       "            /* Free the memory for the previous frames */\n",
       "            if (fig.imageObj.src) {\n",
       "                (window.URL || window.webkitURL).revokeObjectURL(\n",
       "                    fig.imageObj.src);\n",
       "            }\n",
       "\n",
       "            fig.imageObj.src = (window.URL || window.webkitURL).createObjectURL(\n",
       "                evt.data);\n",
       "            fig.updated_canvas_event();\n",
       "            fig.waiting = false;\n",
       "            return;\n",
       "        }\n",
       "        else if (typeof evt.data === 'string' && evt.data.slice(0, 21) == \"data:image/png;base64\") {\n",
       "            fig.imageObj.src = evt.data;\n",
       "            fig.updated_canvas_event();\n",
       "            fig.waiting = false;\n",
       "            return;\n",
       "        }\n",
       "\n",
       "        var msg = JSON.parse(evt.data);\n",
       "        var msg_type = msg['type'];\n",
       "\n",
       "        // Call the  \"handle_{type}\" callback, which takes\n",
       "        // the figure and JSON message as its only arguments.\n",
       "        try {\n",
       "            var callback = fig[\"handle_\" + msg_type];\n",
       "        } catch (e) {\n",
       "            console.log(\"No handler for the '\" + msg_type + \"' message type: \", msg);\n",
       "            return;\n",
       "        }\n",
       "\n",
       "        if (callback) {\n",
       "            try {\n",
       "                // console.log(\"Handling '\" + msg_type + \"' message: \", msg);\n",
       "                callback(fig, msg);\n",
       "            } catch (e) {\n",
       "                console.log(\"Exception inside the 'handler_\" + msg_type + \"' callback:\", e, e.stack, msg);\n",
       "            }\n",
       "        }\n",
       "    };\n",
       "}\n",
       "\n",
       "// from http://stackoverflow.com/questions/1114465/getting-mouse-location-in-canvas\n",
       "mpl.findpos = function(e) {\n",
       "    //this section is from http://www.quirksmode.org/js/events_properties.html\n",
       "    var targ;\n",
       "    if (!e)\n",
       "        e = window.event;\n",
       "    if (e.target)\n",
       "        targ = e.target;\n",
       "    else if (e.srcElement)\n",
       "        targ = e.srcElement;\n",
       "    if (targ.nodeType == 3) // defeat Safari bug\n",
       "        targ = targ.parentNode;\n",
       "\n",
       "    // jQuery normalizes the pageX and pageY\n",
       "    // pageX,Y are the mouse positions relative to the document\n",
       "    // offset() returns the position of the element relative to the document\n",
       "    var x = e.pageX - $(targ).offset().left;\n",
       "    var y = e.pageY - $(targ).offset().top;\n",
       "\n",
       "    return {\"x\": x, \"y\": y};\n",
       "};\n",
       "\n",
       "/*\n",
       " * return a copy of an object with only non-object keys\n",
       " * we need this to avoid circular references\n",
       " * http://stackoverflow.com/a/24161582/3208463\n",
       " */\n",
       "function simpleKeys (original) {\n",
       "  return Object.keys(original).reduce(function (obj, key) {\n",
       "    if (typeof original[key] !== 'object')\n",
       "        obj[key] = original[key]\n",
       "    return obj;\n",
       "  }, {});\n",
       "}\n",
       "\n",
       "mpl.figure.prototype.mouse_event = function(event, name) {\n",
       "    var canvas_pos = mpl.findpos(event)\n",
       "\n",
       "    if (name === 'button_press')\n",
       "    {\n",
       "        this.canvas.focus();\n",
       "        this.canvas_div.focus();\n",
       "    }\n",
       "\n",
       "    var x = canvas_pos.x * mpl.ratio;\n",
       "    var y = canvas_pos.y * mpl.ratio;\n",
       "\n",
       "    this.send_message(name, {x: x, y: y, button: event.button,\n",
       "                             step: event.step,\n",
       "                             guiEvent: simpleKeys(event)});\n",
       "\n",
       "    /* This prevents the web browser from automatically changing to\n",
       "     * the text insertion cursor when the button is pressed.  We want\n",
       "     * to control all of the cursor setting manually through the\n",
       "     * 'cursor' event from matplotlib */\n",
       "    event.preventDefault();\n",
       "    return false;\n",
       "}\n",
       "\n",
       "mpl.figure.prototype._key_event_extra = function(event, name) {\n",
       "    // Handle any extra behaviour associated with a key event\n",
       "}\n",
       "\n",
       "mpl.figure.prototype.key_event = function(event, name) {\n",
       "\n",
       "    // Prevent repeat events\n",
       "    if (name == 'key_press')\n",
       "    {\n",
       "        if (event.which === this._key)\n",
       "            return;\n",
       "        else\n",
       "            this._key = event.which;\n",
       "    }\n",
       "    if (name == 'key_release')\n",
       "        this._key = null;\n",
       "\n",
       "    var value = '';\n",
       "    if (event.ctrlKey && event.which != 17)\n",
       "        value += \"ctrl+\";\n",
       "    if (event.altKey && event.which != 18)\n",
       "        value += \"alt+\";\n",
       "    if (event.shiftKey && event.which != 16)\n",
       "        value += \"shift+\";\n",
       "\n",
       "    value += 'k';\n",
       "    value += event.which.toString();\n",
       "\n",
       "    this._key_event_extra(event, name);\n",
       "\n",
       "    this.send_message(name, {key: value,\n",
       "                             guiEvent: simpleKeys(event)});\n",
       "    return false;\n",
       "}\n",
       "\n",
       "mpl.figure.prototype.toolbar_button_onclick = function(name) {\n",
       "    if (name == 'download') {\n",
       "        this.handle_save(this, null);\n",
       "    } else {\n",
       "        this.send_message(\"toolbar_button\", {name: name});\n",
       "    }\n",
       "};\n",
       "\n",
       "mpl.figure.prototype.toolbar_button_onmouseover = function(tooltip) {\n",
       "    this.message.textContent = tooltip;\n",
       "};\n",
       "mpl.toolbar_items = [[\"Home\", \"Reset original view\", \"fa fa-home icon-home\", \"home\"], [\"Back\", \"Back to previous view\", \"fa fa-arrow-left icon-arrow-left\", \"back\"], [\"Forward\", \"Forward to next view\", \"fa fa-arrow-right icon-arrow-right\", \"forward\"], [\"\", \"\", \"\", \"\"], [\"Pan\", \"Pan axes with left mouse, zoom with right\", \"fa fa-arrows icon-move\", \"pan\"], [\"Zoom\", \"Zoom to rectangle\", \"fa fa-square-o icon-check-empty\", \"zoom\"], [\"\", \"\", \"\", \"\"], [\"Download\", \"Download plot\", \"fa fa-floppy-o icon-save\", \"download\"]];\n",
       "\n",
       "mpl.extensions = [\"eps\", \"jpeg\", \"pdf\", \"png\", \"ps\", \"raw\", \"svg\", \"tif\"];\n",
       "\n",
       "mpl.default_extension = \"png\";var comm_websocket_adapter = function(comm) {\n",
       "    // Create a \"websocket\"-like object which calls the given IPython comm\n",
       "    // object with the appropriate methods. Currently this is a non binary\n",
       "    // socket, so there is still some room for performance tuning.\n",
       "    var ws = {};\n",
       "\n",
       "    ws.close = function() {\n",
       "        comm.close()\n",
       "    };\n",
       "    ws.send = function(m) {\n",
       "        //console.log('sending', m);\n",
       "        comm.send(m);\n",
       "    };\n",
       "    // Register the callback with on_msg.\n",
       "    comm.on_msg(function(msg) {\n",
       "        //console.log('receiving', msg['content']['data'], msg);\n",
       "        // Pass the mpl event to the overridden (by mpl) onmessage function.\n",
       "        ws.onmessage(msg['content']['data'])\n",
       "    });\n",
       "    return ws;\n",
       "}\n",
       "\n",
       "mpl.mpl_figure_comm = function(comm, msg) {\n",
       "    // This is the function which gets called when the mpl process\n",
       "    // starts-up an IPython Comm through the \"matplotlib\" channel.\n",
       "\n",
       "    var id = msg.content.data.id;\n",
       "    // Get hold of the div created by the display call when the Comm\n",
       "    // socket was opened in Python.\n",
       "    var element = $(\"#\" + id);\n",
       "    var ws_proxy = comm_websocket_adapter(comm)\n",
       "\n",
       "    function ondownload(figure, format) {\n",
       "        window.open(figure.imageObj.src);\n",
       "    }\n",
       "\n",
       "    var fig = new mpl.figure(id, ws_proxy,\n",
       "                           ondownload,\n",
       "                           element.get(0));\n",
       "\n",
       "    // Call onopen now - mpl needs it, as it is assuming we've passed it a real\n",
       "    // web socket which is closed, not our websocket->open comm proxy.\n",
       "    ws_proxy.onopen();\n",
       "\n",
       "    fig.parent_element = element.get(0);\n",
       "    fig.cell_info = mpl.find_output_cell(\"<div id='\" + id + \"'></div>\");\n",
       "    if (!fig.cell_info) {\n",
       "        console.error(\"Failed to find cell for figure\", id, fig);\n",
       "        return;\n",
       "    }\n",
       "\n",
       "    var output_index = fig.cell_info[2]\n",
       "    var cell = fig.cell_info[0];\n",
       "\n",
       "};\n",
       "\n",
       "mpl.figure.prototype.handle_close = function(fig, msg) {\n",
       "    var width = fig.canvas.width/mpl.ratio\n",
       "    fig.root.unbind('remove')\n",
       "\n",
       "    // Update the output cell to use the data from the current canvas.\n",
       "    fig.push_to_output();\n",
       "    var dataURL = fig.canvas.toDataURL();\n",
       "    // Re-enable the keyboard manager in IPython - without this line, in FF,\n",
       "    // the notebook keyboard shortcuts fail.\n",
       "    IPython.keyboard_manager.enable()\n",
       "    $(fig.parent_element).html('<img src=\"' + dataURL + '\" width=\"' + width + '\">');\n",
       "    fig.close_ws(fig, msg);\n",
       "}\n",
       "\n",
       "mpl.figure.prototype.close_ws = function(fig, msg){\n",
       "    fig.send_message('closing', msg);\n",
       "    // fig.ws.close()\n",
       "}\n",
       "\n",
       "mpl.figure.prototype.push_to_output = function(remove_interactive) {\n",
       "    // Turn the data on the canvas into data in the output cell.\n",
       "    var width = this.canvas.width/mpl.ratio\n",
       "    var dataURL = this.canvas.toDataURL();\n",
       "    this.cell_info[1]['text/html'] = '<img src=\"' + dataURL + '\" width=\"' + width + '\">';\n",
       "}\n",
       "\n",
       "mpl.figure.prototype.updated_canvas_event = function() {\n",
       "    // Tell IPython that the notebook contents must change.\n",
       "    IPython.notebook.set_dirty(true);\n",
       "    this.send_message(\"ack\", {});\n",
       "    var fig = this;\n",
       "    // Wait a second, then push the new image to the DOM so\n",
       "    // that it is saved nicely (might be nice to debounce this).\n",
       "    setTimeout(function () { fig.push_to_output() }, 1000);\n",
       "}\n",
       "\n",
       "mpl.figure.prototype._init_toolbar = function() {\n",
       "    var fig = this;\n",
       "\n",
       "    var nav_element = $('<div/>');\n",
       "    nav_element.attr('style', 'width: 100%');\n",
       "    this.root.append(nav_element);\n",
       "\n",
       "    // Define a callback function for later on.\n",
       "    function toolbar_event(event) {\n",
       "        return fig.toolbar_button_onclick(event['data']);\n",
       "    }\n",
       "    function toolbar_mouse_event(event) {\n",
       "        return fig.toolbar_button_onmouseover(event['data']);\n",
       "    }\n",
       "\n",
       "    for(var toolbar_ind in mpl.toolbar_items){\n",
       "        var name = mpl.toolbar_items[toolbar_ind][0];\n",
       "        var tooltip = mpl.toolbar_items[toolbar_ind][1];\n",
       "        var image = mpl.toolbar_items[toolbar_ind][2];\n",
       "        var method_name = mpl.toolbar_items[toolbar_ind][3];\n",
       "\n",
       "        if (!name) { continue; };\n",
       "\n",
       "        var button = $('<button class=\"btn btn-default\" href=\"#\" title=\"' + name + '\"><i class=\"fa ' + image + ' fa-lg\"></i></button>');\n",
       "        button.click(method_name, toolbar_event);\n",
       "        button.mouseover(tooltip, toolbar_mouse_event);\n",
       "        nav_element.append(button);\n",
       "    }\n",
       "\n",
       "    // Add the status bar.\n",
       "    var status_bar = $('<span class=\"mpl-message\" style=\"text-align:right; float: right;\"/>');\n",
       "    nav_element.append(status_bar);\n",
       "    this.message = status_bar[0];\n",
       "\n",
       "    // Add the close button to the window.\n",
       "    var buttongrp = $('<div class=\"btn-group inline pull-right\"></div>');\n",
       "    var button = $('<button class=\"btn btn-mini btn-primary\" href=\"#\" title=\"Stop Interaction\"><i class=\"fa fa-power-off icon-remove icon-large\"></i></button>');\n",
       "    button.click(function (evt) { fig.handle_close(fig, {}); } );\n",
       "    button.mouseover('Stop Interaction', toolbar_mouse_event);\n",
       "    buttongrp.append(button);\n",
       "    var titlebar = this.root.find($('.ui-dialog-titlebar'));\n",
       "    titlebar.prepend(buttongrp);\n",
       "}\n",
       "\n",
       "mpl.figure.prototype._root_extra_style = function(el){\n",
       "    var fig = this\n",
       "    el.on(\"remove\", function(){\n",
       "\tfig.close_ws(fig, {});\n",
       "    });\n",
       "}\n",
       "\n",
       "mpl.figure.prototype._canvas_extra_style = function(el){\n",
       "    // this is important to make the div 'focusable\n",
       "    el.attr('tabindex', 0)\n",
       "    // reach out to IPython and tell the keyboard manager to turn it's self\n",
       "    // off when our div gets focus\n",
       "\n",
       "    // location in version 3\n",
       "    if (IPython.notebook.keyboard_manager) {\n",
       "        IPython.notebook.keyboard_manager.register_events(el);\n",
       "    }\n",
       "    else {\n",
       "        // location in version 2\n",
       "        IPython.keyboard_manager.register_events(el);\n",
       "    }\n",
       "\n",
       "}\n",
       "\n",
       "mpl.figure.prototype._key_event_extra = function(event, name) {\n",
       "    var manager = IPython.notebook.keyboard_manager;\n",
       "    if (!manager)\n",
       "        manager = IPython.keyboard_manager;\n",
       "\n",
       "    // Check for shift+enter\n",
       "    if (event.shiftKey && event.which == 13) {\n",
       "        this.canvas_div.blur();\n",
       "        event.shiftKey = false;\n",
       "        // Send a \"J\" for go to next cell\n",
       "        event.which = 74;\n",
       "        event.keyCode = 74;\n",
       "        manager.command_mode();\n",
       "        manager.handle_keydown(event);\n",
       "    }\n",
       "}\n",
       "\n",
       "mpl.figure.prototype.handle_save = function(fig, msg) {\n",
       "    fig.ondownload(fig, null);\n",
       "}\n",
       "\n",
       "\n",
       "mpl.find_output_cell = function(html_output) {\n",
       "    // Return the cell and output element which can be found *uniquely* in the notebook.\n",
       "    // Note - this is a bit hacky, but it is done because the \"notebook_saving.Notebook\"\n",
       "    // IPython event is triggered only after the cells have been serialised, which for\n",
       "    // our purposes (turning an active figure into a static one), is too late.\n",
       "    var cells = IPython.notebook.get_cells();\n",
       "    var ncells = cells.length;\n",
       "    for (var i=0; i<ncells; i++) {\n",
       "        var cell = cells[i];\n",
       "        if (cell.cell_type === 'code'){\n",
       "            for (var j=0; j<cell.output_area.outputs.length; j++) {\n",
       "                var data = cell.output_area.outputs[j];\n",
       "                if (data.data) {\n",
       "                    // IPython >= 3 moved mimebundle to data attribute of output\n",
       "                    data = data.data;\n",
       "                }\n",
       "                if (data['text/html'] == html_output) {\n",
       "                    return [cell, data, j];\n",
       "                }\n",
       "            }\n",
       "        }\n",
       "    }\n",
       "}\n",
       "\n",
       "// Register the function which deals with the matplotlib target/channel.\n",
       "// The kernel may be null if the page has been refreshed.\n",
       "if (IPython.notebook.kernel != null) {\n",
       "    IPython.notebook.kernel.comm_manager.register_target('matplotlib', mpl.mpl_figure_comm);\n",
       "}\n"
      ],
      "text/plain": [
       "<IPython.core.display.Javascript object>"
      ]
     },
     "metadata": {},
     "output_type": "display_data"
    },
    {
     "data": {
      "text/html": [
       "<img src=\"data:image/png;base64,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\" width=\"1200\">"
      ],
      "text/plain": [
       "<IPython.core.display.HTML object>"
      ]
     },
     "metadata": {},
     "output_type": "display_data"
    }
   ],
   "source": [
    "def make_xlabel(ix, correct):\n",
    "    if ix==correct:\n",
    "        return \"Class {}\\n(correct)\".format(ix)\n",
    "    return \"Class {}\".format(ix)\n",
    "\n",
    "figure = plt.figure(figsize=(12,4))\n",
    "plt.subplot(1, 2, 1)\n",
    "center_ixs_clean = []\n",
    "for ix, block in enumerate(class_distrs_clean.T):\n",
    "    x_ixs= np.arange(len(block)) + ix*(len(block)+2)\n",
    "    center_ixs_clean.append(np.mean(x_ixs))\n",
    "    color = '#555555'\n",
    "    if ix == nettack.label_u:\n",
    "        color = 'darkgreen'\n",
    "    plt.bar(x_ixs, block, color=color)\n",
    "\n",
    "ax=plt.gca()\n",
    "plt.ylim((-.05, 1.05))\n",
    "plt.ylabel(\"Predicted probability\")\n",
    "ax.set_xticks(center_ixs_clean)\n",
    "ax.set_xticklabels([make_xlabel(k, nettack.label_u) for k in range(_K)])\n",
    "ax.set_title(\"Predicted class probabilities for node {} on clean data\\n({} re-trainings)\".format(nettack.u, retrain_iters))\n",
    "\n",
    "fig = plt.subplot(1, 2, 2)\n",
    "center_ixs_retrain = []\n",
    "for ix, block in enumerate(class_distrs_retrain.T):\n",
    "    x_ixs= np.arange(len(block)) + ix*(len(block)+2)\n",
    "    center_ixs_retrain.append(np.mean(x_ixs))\n",
    "    color = '#555555'\n",
    "    if ix == nettack.label_u:\n",
    "        color = 'darkgreen'\n",
    "    plt.bar(x_ixs, block, color=color)\n",
    "\n",
    "\n",
    "ax=plt.gca()\n",
    "plt.ylim((-.05, 1.05))\n",
    "ax.set_xticks(center_ixs_retrain)\n",
    "ax.set_xticklabels([make_xlabel(k, nettack.label_u) for k in range(_K)])\n",
    "ax.set_title(\"Predicted class probabilities for node {} after {} perturbations\\n({} re-trainings)\".format(nettack.u, n_perturbations, retrain_iters))\n",
    "plt.tight_layout()\n",
    "plt.show()"
   ]
  }
 ],
 "metadata": {
  "kernelspec": {
   "display_name": "Python 3",
   "language": "python",
   "name": "python3"
  },
  "language_info": {
   "codemirror_mode": {
    "name": "ipython",
    "version": 3
   },
   "file_extension": ".py",
   "mimetype": "text/x-python",
   "name": "python",
   "nbconvert_exporter": "python",
   "pygments_lexer": "ipython3",
   "version": "3.7.4"
  }
 },
 "nbformat": 4,
 "nbformat_minor": 2
}
